{
 "cells": [
  {
   "cell_type": "markdown",
   "metadata": {},
   "source": [
    "# Explain how it works"
   ]
  },
  {
   "cell_type": "markdown",
   "metadata": {},
   "source": [
    "- introduction to `torch` framework\n",
    "- expose `torchFasttext` specificities "
   ]
  },
  {
   "cell_type": "markdown",
   "metadata": {},
   "source": [
    "## Environment and data "
   ]
  },
  {
   "cell_type": "code",
   "execution_count": 1,
   "metadata": {},
   "outputs": [],
   "source": [
    "!pip install -r ../requirements.txt -q"
   ]
  },
  {
   "cell_type": "code",
   "execution_count": 3,
   "metadata": {},
   "outputs": [],
   "source": [
    "import os\n",
    "import sys\n",
    "import time\n",
    "import s3fs\n",
    "from typing import List, Optional, Dict\n",
    "from pathlib import Path\n",
    "from utils_describe import get_data\n",
    "\n",
    "sys.path.append(\"../\")\n",
    "from torchFastText import torchFastText\n",
    "from torchFastText.preprocess import clean_text_feature\n",
    "from torchFastText.datasets import NGramTokenizer\n",
    "sys.path.append(\"./notebooks\")\n",
    "\n",
    "import numpy as np\n",
    "# import pandas as pd\n",
    "# import pyarrow.parquet as pq\n",
    "\n",
    "# from utils import add_libelles, clean_and_tokenize_df, stratified_split_rare_labels\n",
    "\n",
    "%load_ext autoreload\n",
    "%autoreload 2"
   ]
  },
  {
   "cell_type": "code",
   "execution_count": 4,
   "metadata": {},
   "outputs": [
    {
     "name": "stderr",
     "output_type": "stream",
     "text": [
      "2025-03-14 16:21:09 - botocore.httpchecksum - Skipping checksum validation. Response did not contain one of the following algorithms: ['crc32', 'sha1', 'sha256'].\n",
      "2025-03-14 16:21:09 - botocore.httpchecksum - Skipping checksum validation. Response did not contain one of the following algorithms: ['crc32', 'sha1', 'sha256'].\n",
      "2025-03-14 16:21:09 - botocore.httpchecksum - Skipping checksum validation. Response did not contain one of the following algorithms: ['crc32', 'sha1', 'sha256'].\n",
      "2025-03-14 16:21:10 - botocore.httpchecksum - Skipping checksum validation. Response did not contain one of the following algorithms: ['crc32', 'sha1', 'sha256'].\n",
      "2025-03-14 16:21:10 - botocore.httpchecksum - Skipping checksum validation. Response did not contain one of the following algorithms: ['crc32', 'sha1', 'sha256'].\n",
      "2025-03-14 16:21:14 - botocore.httpchecksum - Skipping checksum validation. Response did not contain one of the following algorithms: ['crc32', 'sha1', 'sha256'].\n"
     ]
    },
    {
     "name": "stdout",
     "output_type": "stream",
     "text": [
      "\t*** 732 codes have been added in the database...\n",
      "\n"
     ]
    },
    {
     "name": "stderr",
     "output_type": "stream",
     "text": [
      "/home/onyxia/work/torch-fastText/notebooks/utils.py:60: FutureWarning: Setting an item of incompatible dtype is deprecated and will raise an error in a future version of pandas. Value 'nan' has dtype incompatible with float64, please explicitly cast to a compatible dtype first.\n",
      "  df.fillna(\"nan\", inplace=True)\n"
     ]
    }
   ],
   "source": [
    "X_train, X_test, y_train, y_test = get_data()"
   ]
  },
  {
   "cell_type": "code",
   "execution_count": 5,
   "metadata": {},
   "outputs": [
    {
     "name": "stdout",
     "output_type": "stream",
     "text": [
      "Features for the 3 first training obs:\n",
      "\n",
      "[[\"fabriqu d'huil graiss brut\" 23 25 7 8 0 0]\n",
      " ['siderurg' 23 25 7 8 0 0]\n",
      " [\"organis jeux hasard d'argent\" 23 25 7 8 0 0]]\n",
      "\n",
      "\n",
      "NAF codes (labels) for the 3 first training obs:\n",
      "\n",
      "[ 63 193 700]\n"
     ]
    }
   ],
   "source": [
    "print(\"Features for the 3 first training obs:\\n\")\n",
    "print(X_train[:3])\n",
    "print(\"\\n\")\n",
    "print(\"NAF codes (labels) for the 3 first training obs:\\n\")\n",
    "print(y_train[:3])"
   ]
  },
  {
   "cell_type": "markdown",
   "metadata": {},
   "source": [
    "Parameters : \n",
    "- example with a unique embedding dimension for categorical variables"
   ]
  },
  {
   "cell_type": "code",
   "execution_count": 6,
   "metadata": {},
   "outputs": [],
   "source": [
    "# Parameters for model building\n",
    "NUM_TOKENS= int(1e5) # Number of rows in the embedding matrix = size of the embedded vocabulary\n",
    "EMBED_DIM = 50 # Dimension of the embedding = number of columns in the embedding matrix\n",
    "SPARSE = False # Whether to use sparse Embedding layer for fast computation (see PyTorch documentation)\n",
    "CAT_EMBED_DIM = 10 # Dimension of the embedding for categorical features\n",
    "\n",
    "# Parameters for tokenizer\n",
    "MIN_COUNT = 3 # Minimum number of occurrences of a word in the corpus to be included in the vocabulary\n",
    "MIN_N = 2 # Minimum length of char n-grams\n",
    "MAX_N = 4 # Maximum length of char n-grams\n",
    "LEN_WORD_NGRAMS = 3 # Length of word n-grams\n",
    "\n",
    "# Parameters for training - not useful immediately\n",
    "LR = 4e-3 # Learning rate\n",
    "NUM_EPOCHS = 1\n",
    "BATCH_SIZE = 256\n",
    "PATIENCE = 3"
   ]
  },
  {
   "cell_type": "markdown",
   "metadata": {},
   "source": [
    "## Building the model"
   ]
  },
  {
   "cell_type": "markdown",
   "metadata": {},
   "source": [
    "Explore what's happen during the build step.\n",
    "Hypothesis:\n",
    "- we use the `torchFastText.build_from_tokenizer` method to build: the tokenizer must be created first.\n",
    "- we don't use json method to get parameters\n"
   ]
  },
  {
   "cell_type": "code",
   "execution_count": 7,
   "metadata": {},
   "outputs": [
    {
     "name": "stdout",
     "output_type": "stream",
     "text": [
      "NUM_CAT_VAR: 6\n",
      "CAT_VOCAB_SIZE: [24, 26, 8, 12, 3, 4]\n",
      "NUM_CLASSES: 732\n"
     ]
    }
   ],
   "source": [
    "training_text = X_train[:, 0].tolist()\n",
    "categorical_variables = X_train[:, 1:]\n",
    "\n",
    "NUM_CAT_VAR = categorical_variables.shape[1]\n",
    "CAT_VOCAB_SIZE = (np.max(categorical_variables, axis=0) + 1).astype(int).tolist()\n",
    "NUM_CLASSES = len(np.unique(y_train))\n",
    "\n",
    "print(f\"NUM_CAT_VAR: {NUM_CAT_VAR}\")\n",
    "print(f\"CAT_VOCAB_SIZE: {CAT_VOCAB_SIZE}\")\n",
    "print(f\"NUM_CLASSES: {NUM_CLASSES}\")"
   ]
  },
  {
   "cell_type": "markdown",
   "metadata": {},
   "source": [
    "### The tokenizer"
   ]
  },
  {
   "cell_type": "markdown",
   "metadata": {},
   "source": [
    "Lets describe the constructor of `NGramTokenizer` class"
   ]
  },
  {
   "cell_type": "markdown",
   "metadata": {},
   "source": [
    "```python\n",
    "tokenizer = NGramTokenizer(\n",
    "    min_n=MIN_N, \n",
    "    max_n=MAX_N, \n",
    "    num_tokens= NUM_TOKENS,\n",
    "    len_word_ngrams=LEN_WORD_NGRAMS, \n",
    "    min_count=MIN_COUNT, \n",
    "    training_text=training_text\n",
    "    )\n"
   ]
  },
  {
   "cell_type": "markdown",
   "metadata": {},
   "source": [
    "Constructor steps : \n",
    "- Checks params min_n and max_n\n",
    "- Counts the number of occurrences of each word in the all training text ==> `word_counts` \n",
    "- Creates a mapping of all words seen at leat `min_count` times in `training_text` ==> `word_id_mapping`\n",
    "- Counts the number of unique words among previous selected ==> `nwords`\n"
   ]
  },
  {
   "cell_type": "code",
   "execution_count": 8,
   "metadata": {},
   "outputs": [
    {
     "name": "stdout",
     "output_type": "stream",
     "text": [
      "word_counts: {'fabriqu': 224, \"d'huil\": 3, 'graiss': 3, 'brut': 2, 'siderurg': 1, 'organis': 27, 'jeux': 10, 'hasard': 1, \"d'argent\": 2, 'commerc': 157, 'detail': 65, \"d'appareil\": 12, 'electromenager': 5, 'magasin': 36, 'specialis': 35, \"d'isol\": 2, 'piec': 8, 'isol': 5, 'ceram': 7, 'locat': 250, 'location-bail': 10, 'machin': 23, 'equip': 19, 'agricol': 20, \"d'equip\": 30, 'commun': 19, 'radiateur': 1, 'chaudier': 2, 'chauffag': 5, 'central': 7, \"d'articl\": 40, 'sport': 9, 'cacao,': 1, 'chocolat': 2, 'produit': 150, 'confiser': 4, \"d'enregistr\": 3, 'musical': 10, 'video': 10, 'activit': 219, \"d'ordr\": 1, 'public': 18, 'securit': 10, 'frapp': 1, 'monnai': 1, 'gestion': 139, 'muse': 1, 'defens': 2, \"d'achat\": 11, 'non': 213, 'alimentair': 34, 'gaz': 4, 'industriel': 18, 'enseign': 23, 'secondair': 4, 'techniqu': 21, 'professionnel': 167, 'construct': 45, 'entretien': 36, 'tunnel': 1, 'transform': 15, 'the': 6, 'caf': 5, 'coll': 1, 'livr': 9, 'carbur': 2, 'margarin': 1, 'comestibl': 2, 'similair': 6, 'fibr': 10, 'artificiel': 2, 'synthet': 2, 'primair': 2, 'administr': 46, 'publiqu': 12, '(tutelle)': 2, 'econom': 5, 'meuner': 1, 'motocycl': 1, \"d'emballag\": 5, 'bois': 16, 'reseau': 10, 'fluid': 1, 'horloger': 2, 'fonder': 4, \"d'autr\": 72, 'metal': 15, 'ferreux': 3, 'post-secondair': 1, 'superieur': 3, 'decoupage,': 1, 'emboutissag': 1, 'cond': 1, 'assaison': 1, \"d'electricit\": 19, 'fromag': 1, 'gros': 64, '(commerc': 42, 'interentreprises)': 42, 'cafe,': 4, 'the,': 4, 'cacao': 1, 'epic': 1, 'aquacultur': 2, 'mer': 5, 'conserv': 8, 'poisson,': 1, 'crustac': 3, 'mollusqu': 3, \"d'outillag\": 1, 'portat': 1, 'moteur': 7, 'incorpor': 1, 'forestier': 3, 'depollu': 1, 'autr': 160, 'servic': 138, 'dechet': 8, 'soutien': 17, 'industr': 4, 'extract': 13, 'usag': 14, 'papi': 8, 'carton': 4, 'textil': 21, 'n.c.a.': 19, 'project': 1, 'film': 10, 'cinematograph': 3, 'geometr': 1, 'materiel': 45, 'audio': 2, \"d'ordinateurs,\": 2, \"d'unit\": 3, 'peripher': 5, 'logiciel': 26, 'camion': 3, 'chauffeur': 27, 'sante,': 2, 'formation,': 8, 'cultur': 35, 'sociaux,': 5, 'social': 31, 'chimiqu': 6, 'organ': 7, 'bas': 15, 'auxiliair': 6, 'transport': 55, 'eau': 7, 'turbines,': 1, \"l'except\": 7, \"d'avion\": 2, 'vehicul': 69, 'automobil': 28, 'ficelles,': 1, 'cord': 1, 'filet': 1, 'trait': 11, 'elimin': 2, 'danger': 4, 'distribu': 17, 'cred': 2, 'meubl': 116, 'bureau': 14, 'imprimer': 2, 'journal': 3, 'verr': 10, 'tabac': 6, 'promot': 12, 'immobilier': 20, 'legum': 8, 'telecommun': 9, 'satellit': 1, 'heberg': 22, 'handicap': 8, 'mental': 2, 'malad': 1, 'metall': 12, 'leger': 9, 'general': 38, 'surgel': 3, 'retrait': 4, 'complementair': 1, 'post': 6, 'cadr': 13, \"d'un\": 40, 'oblig': 1, 'universel': 1, 'min': 8, 'fer': 2, 'meubles,': 4, 'tapis': 2, \"d'eclairag\": 2, 'telepher': 1, 'remonte': 1, 'mecan': 8, 'semenc': 2, 'install': 20, 'electriques,': 3, 'electron': 18, 'optiqu': 6, 'forge,': 1, 'estampage,': 1, 'matricag': 1, 'metallurg': 6, 'poudr': 1, 'pomp': 1, 'compresseur': 1, 'reliur': 1, 'connex': 7, 'bateau': 3, 'plaisanc': 2, 'log': 21, \"l'extract\": 2, \"d'hydrocarbur\": 1, 'non-tisses,': 1, 'sauf': 2, 'habill': 2, 'pech': 4, 'douc': 2, 'support': 16, 'jurid': 12, 'patrimoin': 7, 'mobili': 19, 'machines-outil': 3, 'electr': 24, 'matier': 26, 'plastiqu': 14, 'edit': 20, 'plaques,': 1, 'feuilles,': 1, 'tub': 1, 'profil': 2, 'locomot': 1, 'ferroviair': 3, 'roul': 2, 'assur': 10, 'terrain': 13, 'camping': 1, 'parc': 3, 'caravan': 1, 'loisir': 12, 'jouet': 4, 'recolt': 2, 'foresti': 2, 'ligneux': 1, 'pouss': 1, \"l'etat\": 1, 'sauvag': 1, 'conduit': 8, 'outillag': 1, 'morti': 1, 'beton': 5, 'sec': 3, 'viand': 8, 'boucher': 3, 'sieg': 3, \"d'ameubl\": 2, \"d'interieur\": 7, 'combustibl': 6, 'gazeux': 3, 'four': 1, 'bruleur': 1, \"d'uranium\": 1, 'thorium': 1, 'menager': 6, 'jardin': 6, 'botan': 1, 'zoolog': 1, 'reserv': 1, 'naturel': 5, 'traval': 104, 'terrass': 14, 'grand': 5, 'mass': 1, \"d'ordin\": 3, 'routi': 8, 'reguli': 2, 'voyageur': 10, 'informat': 37, 'faconnag': 3, 'plat': 18, 'pain,': 1, 'patisser': 10, \"l'aluminium\": 1, \"d'el\": 5, 'platr': 5, 'laboratoir': 1, \"d'analys\": 1, 'medical': 9, \"d'attract\": 1, 'them': 1, 'charcuter': 1, 'sucr': 3, 'decolletag': 1, 'annex': 3, 'explos': 1, 'travail': 12, 'grain': 3, 'refractair': 1, 'amylac': 1, 'sanitair': 4, 'lignit': 1, 'color': 2, 'pigment': 1, 'reservoirs,': 1, 'citern': 1, 'conteneur': 1, \"d'aci\": 1, 'photograph': 9, 'ouvrag': 3, 'beton,': 1, 'ciment': 3, 'pre-primair': 1, 'chaussur': 6, 'trefilag': 1, 'froid': 4, 'cuir': 8, 'peau': 1, 'vi': 7, \"d'instru\": 1, 'musiqu': 1, 'fruit': 14, 'pepin': 1, 'noyau': 1, 'plomb,': 1, 'zinc': 1, \"l'etain\": 1, 'couteller': 1, \"d'al\": 7, 'animal': 13, 'compagn': 4, 'vet': 31, 'tourb': 1, 'repertoir': 1, 'fichi': 1, \"d'adress\": 1, \"d'agrum\": 1, 'centr': 4, 'collect': 9, 'banqu': 6, \"d'organ\": 3, 'bicyclet': 1, 'invalid': 1, 'intermedi': 1, 'monetair': 1, 'outil': 2, 'developp': 34, 'langag': 1, 'repar': 33, 'peint': 1, 'fluvial': 3, 'fret': 7, 'videocasset': 1, 'disqu': 1, 'extraterritorial': 1, 'pesticid': 1, 'agrochim': 1, 'vent': 264, 'automat': 3, 'hor': 18, 'magasin,': 1, 'eventair': 5, 'march': 14, 'beurr': 1, 'maritim': 4, 'coti': 2, 'moquet': 2, 'fil': 4, 'cabl': 3, 'mainten': 19, \"d'aeronef\": 2, \"d'engin\": 4, 'spatial': 3, 'domest': 6, 'briques,': 1, 'tuil': 1, 'construction,': 26, 'terr': 5, 'cuit': 1, 'rout': 1, 'autorout': 1, 'adult': 10, 'famill': 1, 'difficult': 4, 'vis': 2, 'boulon': 1, 'magnet': 2, 'multi-commerc': 1, \"d'assur\": 10, 'caiss': 6, 'recherche-developp': 3, 'biotechnolog': 1, 'cann': 1, 'menag': 8, 'tant': 18, \"qu'employeur\": 1, 'personnel': 11, 'joailler': 1, 'bijouter': 6, 'chauss': 1, 'maill': 3, 'tubes,': 1, 'tuyaux,': 1, 'creux': 2, 'accessoir': 39, 'correspond': 2, 'aci': 3, 'agenc': 19, 'recouvr': 1, 'factur': 2, 'societ': 69, \"d'inform\": 4, 'financier': 7, 'clientel': 1, 'blanchisserie-teinturer': 2, 'polit': 2, 'concept': 13, \"d'ensembl\": 1, 'assemblag': 1, 'sit': 28, 'control': 7, 'processus': 2, 'pat': 4, 'poissons,': 2, 'maroquiner': 4, 'voyag': 5, 'intermediair': 14, 'textiles,': 8, 'habillement,': 2, 'fourrures,': 1, 'articl': 18, 'raffinag': 1, 'petrol': 2, 'product': 41, 'boisson': 28, 'fermente': 1, 'distille': 3, 'elevag': 27, 'chameau': 1, 'camelid': 1, 'elabor': 3, 'nucleair': 2, \"d'ouvrag\": 10, \"d'art\": 5, 'prepar': 26, 'toxicoman': 1, \"d'install\": 18, 'voi': 20, \"d'usag\": 1, 'cuisin': 9, \"d'animal\": 2, 'viv': 4, 'caoutchouc': 3, 'vinif': 1, 'cidr': 1, 'vin': 5, 'cafeteri': 1, 'libres-servic': 1, 'etirag': 1, 'barr': 1, 'navir': 2, 'structur': 10, 'flott': 1, 'mis': 41, 'disposit': 7, 'ressourc': 10, 'humain': 8, 'syndicat': 2, 'salar': 1, \"d'horloger\": 3, \"d'irradi\": 1, 'medicale,': 2, 'electromedical': 1, 'electrotherapeut': 1, 'indifferencie': 2, 'producteur': 20, 'propr': 5, 'precieux': 1, 'volaill': 3, 'gibi': 1, 'vach': 1, 'laitier': 1, 'fibre-c': 1, 'reassur': 1, 'cereales,': 1, 'manufacture,': 1, 'betail': 1, 'sciag': 1, 'rabotag': 1, 'bois,': 4, 'impregn': 2, 'reproduct': 2, 'verre,': 1, 'compr': 4, 'inorgan': 1, 'specialise': 9, 'quincailler': 2, 'malt': 1, 'ferre': 1, 'surfac': 4, 'souterrain': 1, 'system': 19, 'patronal': 1, 'consulair': 1, 'sucre,': 1, 'laiti': 1, 'aid': 22, 'bibliothequ': 1, 'archiv': 1, 'aerien': 6, \"l'industr\": 2, \"l'habill\": 1, 'font': 1, 'exploit': 41, 'gravier': 1, 'sablieres,': 1, \"d'argil\": 1, 'kaolin': 1, 'tabl': 2, 'radiodiagnostic': 1, 'radiotherap': 1, 'pil': 1, \"d'accumul\": 1, 'fleur': 7, 'plant': 8, 'moteurs,': 1, 'gener': 3, 'metalliques,': 2, 'chain': 4, 'ressort': 1, 'messagerie,': 1, 'express': 1, 'laminag': 1, 'feuillard': 1, 'press': 1, 'san': 35, 'aeraul': 1, 'frigorif': 3, 'azot': 1, \"d'engr\": 2, 'rafraich': 1, 'accueil': 10, 'accompagn': 33, \"d'enf\": 4, \"d'aid\": 5, 'navig': 1, 'religi': 1, 'chaux': 1, 'homogeneis': 1, 'dietet': 2, 'ondul': 1, 'pomm': 1, 'rechapag': 1, 'pneumat': 3, 'aeronaut': 1, \"d'enquet\": 1, 'captage,': 1, \"d'eau\": 4, \"d'etoff\": 1, 'compos': 4, 'effervescent': 1, 'enrich': 1, 'lait': 1, 'liquid': 1, 'frais': 3, 'cart': 4, 'assemble': 1, 'urbain': 4, 'suburbain': 1, 'charpent': 3, 'placag': 1, 'panneau': 4, 'filatur': 1, 'militair': 1, 'combat': 1, 'diffus': 6, 'programm': 17, 'radio': 1, 'cartonnag': 1, 'vaisselle,': 1, 'verrer': 1, \"d'entretien\": 5, \"d'arm\": 1, 'munit': 1, 'mineral': 3, 'machines,': 2, 'industriels,': 2, 'quincaillerie,': 2, 'peintur': 17, '(400': 1, 'm2': 1, 'plus)': 1, 'robinetter': 1, 'interurbain': 2, 'parquet': 2, 'assembl': 2, 'levag': 2, 'manutent': 7, 'abras': 1, \"d'engrenag\": 1, 'transmiss': 2, 'financiers,': 5, 'retraite,': 3, 'chasse,': 1, 'piegeag': 1, 'vapeur,': 1, 'profilag': 1, 'formag': 1, 'pliag': 1, 'appret': 1, 'tannag': 1, 'teintur': 2, 'fourrur': 2, 'medicalis': 4, 'enfant': 9, 'carreau': 1, 'porcin': 1, 'portuair': 2, 'dessous': 1, 'pierr': 5, 'ornemental': 2, 'calcair': 1, 'industriel,': 3, 'gypse,': 1, 'crai': 1, \"d'ardois\": 1, 'justic': 2, 'houill': 1, 'affair': 22, 'etranger': 4, 'entreposag': 1, 'stockag': 3, 'material': 10, 'monu': 4, 'histor': 1, 'attract': 1, 'tourist': 4, 'pharmaceut': 4, 'cokefact': 1, 'financi': 7, 'feu': 1, 'secour': 1, 'carrosser': 4, 'remorqu': 2, \"d'emballage,\": 1, 'condition': 4, 'pesag': 1, 'person': 43, 'age': 5, 'sel': 1, \"l'extraction,\": 1, 'gen': 3, 'civil': 14, 'fut': 1, 'emballag': 2, 'cuisson': 1, 'boulanger': 4, 'raffine': 1, 'serrur': 1, 'ferrur': 1, 'vapeur': 1, \"d'air\": 2, 'hypermarch': 1, 'savons,': 1, 'detergent': 1, \"d'imprimer\": 2, 'peintures,': 1, 'vernis,': 2, 'encre': 1, 'mastic': 1, 'brosser': 1, 'ferm': 1, 'credit-bail': 1, '(a': 4, 'ordin': 2, 'peripheriques)': 1, 'bat': 62, 'agro-alimentair': 1, 'plac': 29, \"main-d'oeuvr\": 1, 'tierc': 1, \"d'appliqu\": 3, 'temporair': 1, 'riz': 1, 'combustibles,': 1, 'metaux,': 1, 'jus': 2, \"d'instrument\": 1, 'scientif': 2, 'revenus': 1, 'physiqu': 13, 'passager': 3, 'tropical': 1, 'subtropical': 1, 'bien': 116, 'restaur': 52, 'sall': 9, 'spectacl': 5, 'matel': 1, 'demolit': 1, 'premier': 4, 'agricoles,': 2, 'vivants,': 1, 'semi-fin': 1, 'cuivr': 1, 'superet': 1, 'combine': 1, 'li': 7, 'demantel': 1, \"d'epav\": 1, 'courtag': 9, 'valeur': 25, 'mobilier': 13, 'marchandis': 16, 'hydraul': 1, 'laitiers,': 1, 'oeufs,': 1, 'huil': 2, 'grass': 1, 'oleagin': 3, 'pret': 7, \"l'emploi\": 1, 'moul': 2, 'model': 1, 'essentiel': 1, 'photographies,': 1, 'art': 10, 'var': 2, 'revet': 13, 'sol': 13, 'mur': 6, 'salon': 17, 'coiffur': 9, 'mixte,': 2, 'achat': 40, 'tous': 192, \"l'activit\": 34, 'creation,': 18, 'developpement,': 12, \"l'entretien\": 1, 'commercialis': 16, 'plateform': 11, 'conseil': 168, \"d'accompagn\": 3, 'choix,': 1, 'parfumer': 2, 'beaut': 6, 'propriete,': 34, \"l'achat,\": 17, 'vente,': 26, \"l'exploit\": 51, \"d'autoris\": 1, 'station': 5, 'tax': 10, 'parisiens,': 1, 'assist': 23, \"d'appart\": 4, 'veux': 2, 'realis': 51, 'vid': 3, 'maison': 18, 'debroussaill': 1, 'chez': 7, 'particuli': 51, 'institut': 2, 'domicil': 79, '(prothes': 1, 'ongulair': 6, '(activit': 1, 'principale)': 1, 'soins,': 1, 'modelag': 2, 'soins)': 1, 'materiaux,': 3, 'pos': 31, 'installation,': 2, 'apres-vent': 1, 'intervent': 4, 'depannage.': 1, 'plus': 15, 'generalement,': 5, 'tout': 166, 'acquisition,': 34, 'prise,': 1, 'gestion,': 36, 'cession': 15, 'particip': 51, 'one': 1, 'man': 1, 'show': 1, 'prestat': 94, 'particuliers,': 6, 'mult': 3, 'domain': 21, 'entreprises:': 1, 'client,': 5, 'com,': 1, 'marketing,': 6, 'veille,': 1, 'resolu': 1, 'conflits,': 1, 'audit,': 1, 'formation.': 2, 'introduction:': 1, \"l'entr\": 1, 'meuble': 53, \"d'expertis\": 1, 'reglementair': 2, 'medic': 1, 'pris': 49, 'comm': 5, 'objet': 32, \"d'activit\": 7, 'commercial': 44, 'et/ou': 17, 'civiles.': 1, 'corp': 2, \"d'etat\": 1, 'administration,': 15, 'immeubl': 53, 'immobiliers,': 15, 'immo': 4, 'detent': 16, 'titr': 22, 'quel': 6, 'objet,': 4, 'commercial.': 2, 'traiteur': 9, 'domicile,': 5, 'sal': 1, 'diver': 17, \"l'acquisition,\": 58, 'etat': 6, 'futur': 4, \"d'achev\": 3, 'acheves,': 3, \"l'apport,\": 5, 'valeur,': 11, 'transformation,': 11, \"l'amen\": 3, 'maraicher': 1, \"d'arbr\": 3, 'fruitierss,': 1, 'agrumes,': 1, 'acquisit': 17, \"d'immeubles,\": 2, 'droit': 44, 'reel': 5, 'immobiliers.': 17, 'patrimoine.': 2, 'creation': 56, \"d'outil\": 1, 'ger': 3, 'finances.': 1, 'loueur': 73, 'design': 13, 'graphiqu': 10, 'numerique.': 1, 'photocopie,': 2, 'docu': 3, 'bureau.': 1, 'acte': 5, 'piercing': 2, \"l'aid\": 7, \"d'aiguill\": 1, 'steril': 1, 'uniqu': 2, 'consentante.': 1, 'bijoux': 16, 'medicale.': 1, 'lign': 54, 'high-tech,': 1, 'exclus': 2, 'neuf': 17, 'espac': 7, 'vert': 7, 'maconner': 21, 'oeuvr': 9, 'renov': 14, 'precit': 1, 'soin': 11, 'infirmi': 5, 'maitr': 2, \"d'hotel\": 1, 'even': 10, 'aupr': 23, 'chateau': 1, 'civil,': 5, 'immobili': 81, 'particulier': 1, 'cereal': 3, 'riz),': 2, 'legumin': 2, 'traducteur': 2, 'don': 5, 'cour': 38, 'anglais': 1, 'bovin': 4, 'buffl': 3, 'artist': 13, 'relev': 10, 'plomber': 8, 'coursi': 28, 'psychologu': 2, 'nettoyage,': 5, 'desinfect': 2, 'prives,': 1, 'proofessionnel': 1, \"l'heberg\": 1, 'court': 7, 'duree.': 2, 'photovolta': 15, 'mode,': 6, 'cosmet': 6, \"l'installation,\": 3, 'montag': 9, 'ains': 25, 'produits,': 4, 'rapport': 11, 'decor': 24, 'interieur': 18, 'exter': 2, 'fabrication,': 6, 'pose,': 2, 'batiment,': 6, 'not': 25, 'gardes,': 1, 'corps,': 3, 'escaliers,': 1, 'portails,': 1, 'mobilier,': 1, 'serv': 1, 'convoyag': 3, 'nettoyag': 48, 'interpret': 4, 'combin': 2, 'solut': 7, \"l'international,\": 1, 'destin': 16, 'entreprises/institu': 1, 'supranationales,': 1, 'facilit': 1, 'pratiqu': 10, 'chass': 2, 'velo': 58, 'livraison': 61, 'rep': 54, 'fond': 27, 'marbrer': 2, 'funerair': 5, 'fleurs,': 3, 'achat,': 18, 'funeraires,': 1, 'bail': 13, 'autrement,': 17, 'terrains,': 6, 'societes;': 1, 'direct': 25, 'indirect': 10, 'participation;': 1, 'anim': 18, 'groupe.': 1, 'esthet': 6, 'ni': 1, \"d'ingenier\": 2, '2g': 1, '3g': 1, '4g': 1, '5g.': 1, 'consulting,': 1, 'expertise,': 1, 'freelanc': 6, 'manier': 3, 'liberale.': 1, 'mission': 3, 'logiciels.': 1, 'actuel': 1, 'transfer': 1, 'alcoolise': 10, 'destine': 4, 'consomm': 10, 'whisky,': 1, 'cognac,': 1, 'gin,': 1, 'liqueurs,': 2, 'spiritu': 3, \"l'eau,\": 1, 'aperit': 1, \"d'alcools,\": 1, 'etc.,': 1, 'melange': 1, 'distillees,': 1, 'melang': 1, 'distilles,': 1, \"d'alcool\": 1, 'neutres.': 1, \"l'acquisit\": 22, 'vu': 6, 'bail,': 33, 'location,': 16, 'form': 9, 'sociale,': 1, 'francais': 6, 'etrangeres,': 2, 'cree': 1, 'creer,': 1, 'moyen,': 1, 'apport,': 3, 'souscription,': 6, 'action': 5, 'part': 21, 'sociales,': 6, 'fusion,': 1, 'group': 1, 'apport': 8, 'desdit': 9, 'oper': 28, 'rattachant.': 1, 'plasticien': 2, 'serrurier,': 1, 'menuiser': 10, 'vitrag': 3, 'production,': 8, 'realisation,': 4, \"l'exploitation,\": 8, 'distribution,': 3, \"l'edition,\": 4, 'entrepris': 90, 'massag': 11, 'bien-etre,': 1, 'certif': 3, 'obtenu': 1, 'lotus': 1, 'certifie': 1, 'ffmbe': 1, 'traditionnelle,': 4, 'emporter,': 7, 'conception,': 15, 'vtc': 9, 'lombricultur': 1, 'locaux.': 2, '(vtc)': 9, 'informatique,': 7, \"l'administration,\": 23, 'specialisees,': 1, 'divers': 6, 'marketing': 16, 'compren': 3, 'contenu': 2, 'visuel': 8, 'derni': 2, 'homm': 15, 'main': 13, 'pet': 13, 'bricolag': 15, 'reglemente': 10, \"d'extr\": 2, \"l'evenementiel\": 2, '(par': 2, 'exempl': 1, 'barman,': 2, 'serveur,': 1, 'etc': 1, '...)': 2, 'amazon,': 1, 'deliveroo': 1, 'uber': 7, 'eat': 7, 'coaching': 13, 'personnalis': 8, \"d'etudi\": 2, 'anne': 1, 'pass/l': 1, 'terminal': 1, 'souhait': 2, 'ensuit': 1, 'integr': 2, 'pass/las,': 1, 'suiv': 5, \"l'anne\": 1, 'veterinair': 3, 'faux': 2, 'ongles,': 1, 'rallong': 1, \"d'ongl\": 1, 'grac': 2, 'different': 7, 'nail': 1, 'distance,': 4, 'e-commerc': 9, 'applicatifs,': 1, 'internet': 27, 'ntic,': 1, 'informatiques,': 6, 'demenag': 2, 'locatair': 2, 'mobil': 3, 'fantais': 8, 'hospitalier': 2, 'professionel': 2, 'alimentaires,': 5, 'graphist': 1, '(install': 1, 'video)': 1, 'dont': 14, 'concentr': 1, \"l'essentiel\": 1, 'autour': 6, 'creat': 1, 'autoedit': 1, 'deriv': 2, 'illustr': 4, 'holding.': 3, 'exced': 2, 'conducteur': 8, 've': 3, 'plaqu': 4, 'clients,': 3, 'commandes,': 2, 'boissons,': 4, 'encaissements,': 1, 'tables,': 1, 'stock': 3, 'approvis': 1, 'faire/mult': 1, 'exterieur': 18, 'pizz': 7, 'italien': 1, \"d'epicer\": 3, 'holding': 13, 'arbor': 1, 'elagag': 1, 'abattag': 2, 'plantat': 2, 'dropshipping,': 1, 'site.': 1, '(marchand)': 1, 'tatoueur': 1, 'livreur': 23, 'apporteur': 8, \"d'affair\": 8, 'relat': 17, 'client': 8, \"d'hygien\": 1, 'desinfection,': 2, 'fournitur': 18, 'saisonniere.': 2, \"l'entrepris\": 2, 'resum': 2, 'bricolage,': 2, \"d'embel\": 1, 'rendus': 1, \"l'import-export\": 4, 'motoris': 5, \"d'occas\": 16, 'medecin': 12, 'chirurg': 2, 'orale.': 2, 'esthetique.': 2, 'dispens': 2, 'ecoles.': 1, \"d'amelior\": 2, 'moin': 4, '3.5': 3, 'ton': 3, 'kinesitherapeut': 5, '(serveur,': 1, 'etc...)': 3, 'infirmier': 6, 'format': 42, 'continu': 8, '-vent': 2, 'propriet': 17, 'exceptionnelle,': 2, 'locaux,': 3, 'appropri': 1, 'local': 15, 'edif': 1, 'constructions.': 1, 'cod': 17, 'naf': 4, '7022z': 3, 'peinture,': 9, 'renovation-': 1, 'interieur,': 3, 'exterieur,': 2, 'plomberie,': 5, 'electricite,': 3, 'menuiserie,': 3, 'platrerie,': 1, 'maconnerie,': 5, 'soupl': 2, 'dur,': 1, 'mandatair': 5, 'canin': 2, 'pension': 2, 'emport': 22, 'profess': 16, 'medecin,': 1, 'chirurgien': 1, 'orthoped': 2, 'crochet': 1, 'tissu': 2, 'expert': 2, 'judiciair': 2, 'penal': 2, 'avocat': 7, 'vign': 4, 'consulting': 3, 'professionnels,': 5, \"d'entrepris\": 3, 'graphism': 3, 'ape': 10, '6820a': 11, 'legumes,': 2, 'melons,': 2, 'racin': 2, 'tuburcul': 2, 'reeducation,': 6, \"l'appareillag\": 7, 'pedicur': 1, 'podologu': 1, 'dat': 2, 'debut': 2, '28/01/2022': 1, 'dure': 11, 'appart': 6, 'longu': 6, 'divers,': 1, 'notamment:': 1, 'mouchoir': 1, 'paquet': 1, 'reutilisables.': 1, \"l'amenagement,\": 4, \"l'administr\": 32, 'restauration/': 1, 'serveuse/runner/hotess': 1, 'administrative,': 2, 'rh,': 1, 'financieres,': 5, 'comptable,': 1, 'commerciale,': 7, 'communication,': 7, 'scolaire-': 1, 'langu': 4, 'poseur': 1, 'stor': 1, 'vendeur': 4, \"d'accessoires,\": 1, 'chat.': 1, 'delectricite.': 1, 'prospect': 4, 'identif': 1, 'prospects,': 1, 'contact,': 1, 'present': 2, 'produits/services,': 1, 'conclus': 2, 'electricit': 12, '3511z': 1, 'supervision,': 1, 'operationnel': 7, 'strategique,': 1, 'courantes,': 1, 'filial': 2, 'resident': 10, 'principal': 6, 'vitres,': 2, 'particuliers:': 1, 'reglementes,': 5, 'bi': 2, 'appliqu': 5, \"d'oeuvr\": 7, '(homm': 1, 'mains)': 1, 'special': 6, 'lacquisit': 1, 'dun': 3, 'sis': 4, 'bis': 2, 'chemin': 1, 'poirret': 1, 'beaune,': 1, 'ladministr': 1, 'lexploit': 2, 'scpi': 1, 'secretariat': 5, \"mag'compt\": 1, 'independ': 9, 'comptabilit': 1, 'professionnelles,': 1, 'associ': 4, 'ingenieur': 3, 'protool': 1, 'studio': 2, 'tonnag': 1, 'distanc': 12, 'catalogu': 7, 'exercic': 7, \"d'expert-comptable,\": 1, 'liberal': 13, 'reg': 4, \"l'ordr\": 1, 'experts-comptables.': 1, \"l'import,\": 1, \"l'export\": 4, 'gros,': 6, 'demi-gros,': 3, 'vins,': 3, 'spiritueux,': 2, 'alcool': 7, 'accessoi': 1, 'cuisines,': 5, 'place,': 5, 'livraison.': 2, \"choix,l'implement\": 1, 'erp.': 1, '(organis': 1, 'recept': 2, 'clientele)': 1, \"l'exercic\": 7, \"l'osteopath\": 1, 'therap': 3, 'altern': 1, 'dream': 1, 'stay': 1, 'concierg': 1, 'offrir': 1, 'complet': 1, 'airbnb.': 1, 'prenon': 1, 'charg': 2, 'annonces,': 1, 'co': 1, 'sages-femm': 4, 'but': 2, 'gerer.': 1, 'gestion.': 3, 'detail:': 1, 'vetements,': 7, 'foulard': 2, 'accessoires.': 4, 'revente,gest': 1, 'concierger': 5, 'strategie,': 4, 'organisation.': 1, \"l''install\": 1, \"d'energ\": 11, 'renouvel': 5, 'annexes.': 1, 'societes,': 7, 'affaires,': 1, 'financiers.': 1, 'prospection,': 1, 'recherch': 5, 'vendr': 2, 'louer,': 2, 'obtent': 1, 'mandat': 4, 'ecrit': 2, \"d'acquereur\": 1, 'preneur': 1, 'electricite;': 1, 'platre;': 1, 'petit': 19, 'maconnerie;': 1, 'rehabilit': 4, \"l'habitat.\": 1, 'platrer': 4, 'sais': 3, 'comptabl': 3, 'deb': 2, 'credo.': 1, \"c'est\": 2, 'videast': 4, 'instagram,': 1, 'tiktok,': 1, 'youtube.': 1, 'ecoconstruct': 1, 'ancien.': 1, 'rapid': 9, \"d'alcool,\": 1, 'food': 2, 'truck': 2, 'sports,': 3, 'loisirs,': 3, 'tourism': 12, 'manifest': 4, 'gest': 2, 'parfum': 5, 'toilet': 1, 'lie': 7, 'publicit': 3, 'multiservices.': 1, 'photos': 5, 'pend': 1, \"l'organis\": 9, \"d'even\": 13, 'mariag': 4, 'baptem': 1, 'architecte.': 1, 'ape/naf': 1, '7111z.': 1, 'customis': 1, 'industrielle,': 2, 'artisanale,': 1, 'lmnp': 9, 'digital': 11, 'ebooks,': 1, 'guides,': 1, 'videos,': 3, 'templat': 1, 'immobil': 3, 'internet,': 5, 'campagn': 3, 'community': 2, 'manag': 5, 'artisanal': 4, 'enfants,': 6, 'chambr': 3, \"d'enfants,\": 2, 'stand': 1, 'ephemer': 2, \"d'infirmi\": 2, 'afin': 4, \"d'y\": 1, 'edifi': 1, 'ensembl': 1, 'totalit': 1, 'fraction': 1, 'extras': 1, 'serveuse,': 1, 'plongeuse...': 1, 'architectur': 7, 'amenag': 8, 'plan': 6, '3d': 7, 'maquet': 2, 'logotyp': 1, 'web': 10, 'full-stack': 1, \"l'auto-entrepris\": 1, 'consist': 11, 'fourn': 2, 'dev': 3, 'nageur': 1, 'sauveteur': 1, '(beesan)': 1, 'chauffage.': 1, 'recreat': 5, 'agent': 28, 'filair': 1, 'composit': 3, 'floral': 1, 'carrelage,': 4, 'sanitaire,': 1, 'parquet,': 2, 'mural,': 1, 'meuble,': 3, 'eclairag': 1, \"d'objet\": 13, 'lithotherap': 2, '(pierr': 1, 'sem': 1, 'precieuses)': 1, 'activ': 2, 're-vente,': 1, \"d'art.\": 1, 'etudes,': 1, 'conseils,': 3, 'planif': 1, 'projet': 13, 'compt': 12, 'franc': 11, 'prestatair': 3, 'humaines,': 5, 'recrut': 5, 'interim': 1, 'sportiv': 5, 'sage-femm': 1, 'titulair': 1, 'laver': 2, 'lav': 1, 'sech': 3, 'ling': 5, 'qualit': 3, 'marchand': 11, 'mobilieres.': 3, 'virtuel': 1, 'livraison/coursi': 1, 'desinsectis': 2, 'deratis': 3, 'meulble': 1, 'marchandises,': 3, '3,5': 2, 'chais': 1, 'electrique,': 1, 'climatis': 5, 'courri': 4, 'dit': 4, '\"homm': 2, 'mains\"': 2, 'redacteur': 1, 'immob': 3, \"d'edit\": 2, 'sylvicultur': 3, 'inter-entreprise,': 1, 'negoci': 5, 'reglementes;': 2, \"d'habitation,\": 2, 'piscines,': 3, 'menuiserie.': 1, 'ramonag': 1, 'par': 3, 'hotelier': 3, 'cycl': 1, 'immeubles.': 1, 'voitur': 15, 'secretair': 1, 'telesecretariat': 1, 'fonction': 6, 'adhes': 4, 'volontair': 4, 'commiss': 1, \"d'honoraire,\": 1, 'demand': 3, 'candidat': 1, 'perm': 1, 'poid': 4, 'lourd': 2, 'examen': 1, 'theor': 1, 'afro': 1, 'shop': 2, 'exotiques,': 1, 'transfert': 1, \"d'argent.\": 1, 'prothes': 11, 'capil': 1, 'taxis,': 2, 'licenc': 3, 'constitu': 3, 'portefeuill': 4, 'participations,': 1, 'call': 1, 'cent': 1, 'lead': 1, 'terrestr': 4, 'parol': 2, 'apprendr': 1, \"s'exprim\": 1, 'facon': 3, 'eloquente,': 1, 'authent': 1, 'impact': 1, 'aliment': 4, 'generale,': 6, 'traiteur,': 4, 'decouper,': 1, 'rotisserie,': 1, \"d'actions,\": 3, 'etrangeres.': 1, 'fait': 2, 'cet': 7, \"qu'a\": 5, \"l'etranger,\": 3, \"d'assist\": 7, 'economique,': 1, 'societes.': 1, 'publicitair': 7, 'bien-etr': 5, 'sportif': 15, 'lunet': 1, 'analyses,': 1, 'essais': 1, 'inspect': 1, 'consult': 10, 'logist': 4, 'conseil,': 14, 'sant': 4, \"d'immeubl\": 8, 'nus': 1, 'meubles.': 2, 'astrolog': 2, 'forestieres-': 1, '150': 1, 'heur': 3, 'generalemen': 1, 'digital,': 4, 'optimis': 1, 'perform': 1, 'digitales.': 1, 'rattach': 4, \"d'etud\": 4, 'sous': 21, \"d'intermedi\": 1, \"d'apport,\": 4, 'import-export': 4, 'detail,': 4, 'pret-a-port': 2, 'accessoires,': 4, 'tissus,': 2, 'high': 1, 'tech.': 2, 'independant,': 2, 'princip': 1, 'covoyag': 1, 'tre': 2, 'simple,': 1, 'exist': 3, 'aut': 1, 'que,': 1, 'recemment,': 1, 'entre': 7, 'oner': 3, \"d'autrui\": 3, 'moyen': 14, 'total': 2, 'autoris': 3, 'ch': 1, 'territoir': 2, \"l'union\": 1, 'europeen': 1, 'etrangers,': 1, 'transport.': 1, 'mecanicien': 1, 'saisonnier': 5, 'occasionnel': 3, 'commissair': 1, 'graphique,': 2, 'chart': 1, 'logo,': 1, 'print': 1, 'web,': 3, 'illustration,': 1, 'photographie...': 1, 'redact': 9, 'comprom': 1, 'reunion': 1, 'patisserie,': 1, 'glac': 5, 'sandwich': 2, 'quich': 1, 'raval': 5, 'kinesitherap': 2, 'terroir': 1, 'importation,': 2, 'export': 5, 'dequip': 1, 'protect': 2, 'individuelle,': 1, 'medico-chirurgical': 2, 'paramedical,': 1, 'creatif': 1, \"d'apport\": 10, \"d'affaires,d'intermediaire,\": 1, 'courtage,': 1, 'commissionnement,': 1, 'management.': 1, '(mis': 1, 'immobilieres)': 1, 'soudur': 2, 'fe': 1, 'cours': 5, 'moniteur': 2, \"d'auto-ecol\": 1, \"d'origin\": 3, 'utilis': 4, \"l'energ\": 1, 'radiat': 1, 'soleil': 1, 'jouiss': 3, 'velo.': 5, 'achat-vent': 8, 'graphologu': 4, 'plomberie.': 1, 'chanti': 7, 'sous-t': 1, 'maitris': 4, \"d'oeuvres,\": 1, 'etud': 7, 'achats,': 1, 'stockage,': 3, 'expedition.': 1, 'electronique,': 1, 'menagers,': 1, 'dossi': 1, \"l'immobili\": 1, 'automobile.': 1, 'feng': 1, 'shui,': 1, 'fair': 7, 'pedicures-podologu': 4, 'developpeur': 3, 'negoc': 10, 'spas,': 1, 'saun': 1, 'similaires,': 2, 'entretien,': 6, 'pret-a-porter,': 1, 'activites,': 1, 'ope': 1, 'tricot': 1, 'individuel': 1, 'reglement': 12, 'praticien': 2, 'shiatsu,': 1, 'nac': 1, 'rev': 1, '2.1': 1, '86.99': 1, 'gros-oeuvre,': 1, 'second-oeuvr': 1, 'indirect.': 1, 'magasin.': 2, 'main,': 2, 'covering': 1, 'publicitaire,': 1, 'personnalisation,': 1, 'carrosserie,': 1, 'scenograph': 2, 'lumier': 1, 'boug': 1, 'location-vent': 1, 'formateur': 3, 'sein': 2, \"d'institut\": 1, 'loeur': 1, 'outdoor': 1, 'furnitur': 1, 'amazon': 1, 'audiovisuel,': 1, 'monteur,': 1, 'cadreur,': 1, 'producteur,': 1, 'realisateur,': 1, 'photographe.': 1, 'plusieur': 4, '(e-commerce).': 1, 'audios': 1, '(ecriture,': 1, 'enregistrement,': 1, 'montage,': 2, 'interview)': 1, 'revent': 19, 'boutiqu': 3, 'maraichag': 2, 'velo,': 1, 'entreprises,': 9, 'collectivit': 4, 'priv': 6, 'reconstruction,': 1, 'depend': 2, 'patrim': 1, 'etre': 4, 'pelous': 2, 'coach': 6, 'vie,': 2, 'parents.': 1, 'element': 5, '(portieres,': 1, 'serrures,': 1, 'apre': 2, 'collision)': 1, 'serrurer': 2, 'psychomotricien': 1, \"d'interet\": 8, 'entr': 1, 'coffe': 1, 'place.': 1, 'closing': 1, 'pepinier': 1, 'jeun': 4, 'plants.': 1, 'multipl': 1, 'greffe,': 1, 'boutur': 1, 'semi.': 1, \"l'etrang\": 5, 'cigaret': 1, 'electroniques,': 1, 'e-liquid': 1, 'gros.': 1, 'magasins,': 1, 'commercialisation,': 3, 'negoce,': 5, 'non-alimentair': 1, 'non-reglementes,': 1, 'tel': 6, 'goodies,': 1, 'decoration,': 3, 'semi-precieuses,': 1, 'pilotag': 2, 'projets,': 4, 'modif': 2, \"d'organisation,\": 2, 'strateg': 11, \"d'accomp\": 1, 'business': 1, 'develop': 1, \"d'etabl\": 1, 'vision': 2, 'traver': 1, 'nouveau': 2, 'concepts.': 1, 'sonotherap': 1, 'bol': 1, 'tibetain': 1, 'sophrologie.': 1, 'typ': 30, 'command': 2, 'blog': 1, 'restaurant,': 2, 'bar,': 5, 'brasserie.': 1, 'evenementiel,': 1, \"l'anim\": 3, 'evenement': 1, '(ap': 3, '8121z': 1, 'batiments)': 1, 'administ': 1, 'financ': 4, 'entrain': 1, 'physiques.': 1, 'expertis': 4, 'scienc': 3, 'sociales.': 1, \"d'achat,\": 11, 'detention,': 13, 'immeub': 4, 'immeubles,': 10, \"l'emprunt\": 3, 'necessair': 5, 'beb': 2, 'attach': 1, 'tetin': 1, 'port': 9, 'cle': 1, '....': 1, 'preparatoir': 5, \"d'occasion.\": 3, 'commerce.': 2, \"l'imprimer\": 1, 'interet': 1, 'participations,par': 1, 'moyens,dan': 1, 'encadr': 1, 'accompagnement/': 1, \"l'elabor\": 2, 'culturels/artist': 1, 'repassag': 3, 'vitr': 2, 'natur': 5, 'sociaux.': 1, 'poissonner': 1, ':vent': 1, 'transit': 1, 'energetique:': 1, 'isolation,': 1, 'solaires...': 1, 'psychiatr': 1, 'juridique,': 1, 'represent': 4, 'ecritur': 2, 'litterair': 2, 'tertiair': 1, \"l'objet\": 3, 'precite.': 1, 'dall': 2, 'dessin': 5, 'motif': 1, 'prealabl': 1, 'plans,': 1, 'coordin': 5, 'batiments,': 2, 'sols,': 2, 'abattage,': 2, 'debardage,': 1, 'elagage,': 3, 'chauffage,': 1, 'flocag': 1, \"l'achat\": 7, 'murs,': 1, 'oeuvre.': 1, 'largys': 1, 'inclut': 2, \"l'import\": 4, 'e-commerce,': 2, 'det': 1, 'courant,': 1, 'bio': 1, 'remis': 2, 'et,': 4, \"d'adult\": 4, 'webdesigner,': 1, \"d'identit\": 2, 'marques,': 2, 'imprim': 2, '(prints),': 1, 'semi-gros': 1, 'import/export': 1, 'analys': 2, 'crech': 1, 'reparation,': 6, \"l'entretien,\": 3, 'surveil': 1, 'humaine,': 1, 'securite,': 3, 'gardiennage,': 1, 'suret': 1, 'aeroportuaire,': 1, 'pro': 2, 'revendeur': 1, 'nouvel': 4, 'technolog': 7, 'connexion': 1, 'satellitair': 1, \"qu'en\": 1, \"d'acquisit\": 2, 'personnalit': 1, \"d'accueil\": 2, 'lor': 6, \"d'evenements.\": 1, 'soiree.': 1, 'deplac': 2, 'soire': 1, 'sonoris': 2, 'lois': 1, 'phot': 1, \"d'habillement,\": 1, 'professeur': 5, 'yog': 2, 'batis,': 6, 'propos': 3, 'offron': 1, 'larg': 2, 'select': 1, 'litteraire,': 2, 'affret': 1, 'paysag': 3, '(transit': 1, 'ecologique,': 1, 'urbanisme)': 1, '(oeuvr': 1, 'graphiques,': 1, 'cinematographiques,': 2, 'phonographiques,': 1, 'audiovisuelles)': 1, 'creative,': 1, 'captat': 1, 'telecommunication,': 1, 'optique,': 2, 'second': 5, 'oeuvre,': 2, 'photovolt': 1, 'acquerir,': 2, 'prevus': 1, '199': 1, 'undec': 1, 'b,': 1, '217': 1, 'undecies,': 1, '244': 1, 'quat': 1, 'cgi': 1, 'donnees,': 1, 'equipes,': 1, 'nu,': 1, 'homme,': 1, 'barber': 1, \"d'esthet\": 1, 'coi': 1, 'vitrer': 1, 'logiciels,': 2, \"d'\": 1, 'bubbl': 1, 'tea,': 1, 'donuts,': 1, 'muffins,': 1, 'crepes,': 3, 'confiseries,': 1, '(hor': 4, 'iv)': 1, 'ciliaire,': 1, 'biens,': 5, 'immobiliere.': 4, \"d'agent\": 3, 'inclu': 1, 'depannage,': 3, 'quantiner': 1, 'ambois': 1, '(37400),': 1, 'dud': 4, 'professionnel,': 1, 'entrepreneur': 3, 'internet;': 1, 'numer': 4, 'sec,': 1, 'teinturer': 1, 'blanchisser': 1, 'linges.': 1, 'social.': 1, 'dans': 5, 'pompom': 1, 'portail': 2, 'jouets,': 2, \"d'accessoir\": 8, 'puericultur': 1, 'utilitair': 1, 'legers.': 1, 'joint': 2, 'placo': 1, ',ratissage,': 1, 'poncage,': 1, 'denre': 3, 'secteur...': 1, 'hotessariat': 5, 'micro': 1, 'participation,': 5, \"d'action\": 5, 'constitue': 1, 'quelqu': 9, 'classe': 2, 'secteur': 7, 'mobilit': 2, 'trottinet': 1, 'gyropodes,': 1, 'reeduc': 2, 'generation,': 1, 'drones.': 2, \"d'affaires,\": 2, 'contrat': 5, 'tiers,': 2, 'intermediar': 1, 'chos': 1, 'portag': 1, 'salarial,': 1, 'energ': 6, 'renouvelables,': 2, 'compris,': 1, 'limitation,': 1, 'hottes,': 1, 'moteur,': 1, 'conduits,': 1, 'extraction..,': 1, 'cuisine,': 2, 'menuisi': 1, 'agenceur': 2, 'plein': 4, 'nue-propriete.': 1, 'contenue,': 1, 'video/photos': 1, 'dur': 2, 'appel': 2, 'ugc': 1, '(us': 1, 'generated': 1, 'content/': 1, 'con': 1, 'formes,': 4, 'promess': 2, 'gostudent': 1, 'snack': 2, 'ru': 2, 'gaud': 1, 'boult': 1, '(70190),': 1, 'entreprise,': 2, 'bazar,': 1, 'sedentair': 2, 'ambulant.': 1, 'nom': 1, \"d'e-\": 1, 'marketplac': 1, 'prendre,': 1, 'detenir,': 1, 'ceder,': 1, 'soit,': 3, 'minoritair': 1, 'majoritair': 3, 'capital': 4, '(non': 4, 'motorise)': 3, 'pilotage,': 1, 'sequenc': 2, 'baccalaureat': 1, 'profession': 1, 'box': 1, 'enigmes,': 1, 'apero,': 1, 'anniversaire,': 1, \"l'econom\": 2, 'quotidien': 1, 'repute': 1, 'sen': 3, \"l'articl\": 1, 'l311-1': 1, 'rural': 1, 'assoc': 4, 'process': 1, 'context': 1, 'international.': 1, \"n'exced\": 4, '2.00': 1, 'mains,': 2, 'batiment.': 1, 'sag': 2, 'femm': 6, 'debit': 1, 'plate-form': 1, 'caritatives.': 1, 'personne,': 1, 'menage,linge,courses,': 1, 'medecin,etc': 1, 'audiovisuel': 5, 'animatrice,': 1, 'automatisme,': 1, 'instrument': 1, 'electricite.': 1, 'amo': 1, 'ingenier': 4, \"d'ingenieur\": 1, 'independant.': 1, 'lachat,': 1, 'forme,': 3, 'dem': 2, 'daccessoir': 1, 'mod': 6, 'beaute,': 7, 'metal,': 1, 'ob': 1, 'ateli': 8, 'conception,l': 1, 'informatiques,l': 2, \"distribution,l'exploitation,l\": 1, 'tirag': 3, 'cables.': 1, 'original': 2, 'design,': 1, 'graphique.': 1, 'vehicules,': 4, 'entretiens.': 1, 'bonjour,': 2, \"j'effectu\": 2, 'chaud': 1, 'amenagemernt': 1, 'vdi': 1, 'rapide,': 6, 'empot': 1, 'renovation,': 1, 'amenagement,': 1, 'reflexologie,': 1, 'dentair': 4, 'randonne': 1, 'raid': 1, 'vtmg': 1, '(vehicul': 1, 'guidon)': 1, 'tout-terrain,': 1, 'stag': 1, \"l'accompagn\": 2, 'ingenierie,': 2, 'lmp': 1, 'carrelag': 6, 'achet': 1, '(poncage,': 1, 'peinture),': 1, 'puis': 1, 'revendr': 1, 'biens.': 1, 'para-hotelier': 1, 'couverture,': 1, 'lequel': 1, 'raccord': 1, 'sous-trait': 3, 'sondag': 3, 'e-commerce.': 1, 'france,': 1, 'propre.': 1, 'bus': 1, 'proprietair': 3, 'demarch': 3, 'travail,': 1, 'evolu': 2, 'lux': 2, 'vente.': 2, 'merchandiseur': 1, 'allait': 1, 'maison,': 1, 'permanent': 3, 'restauration,': 7, 'delivr': 1, 'foodtruck': 2, 'offrant': 1, 'menage,': 4, 'particuliers.': 4, 'terrestres,': 1, 'non.': 1, 'access': 1, 'fitness': 1, 'eligibl': 1, 'defisc': 1, 'outre-m': 1, 'biscuit': 1, \"d'objets,\": 1, 'antiquites,': 1, 'bijoux,': 4, \"d'art,\": 1, 'occas': 1, 'verandas,': 1, '(portes,': 1, 'fenetr': 2, 'volets),': 1, 'recyclag': 1, 'palettes.': 2, \"l'outil\": 1, '\"yoga\"': 1, 'sportives.': 1, 'gestalt': 1, 'therapie,': 1, 'psycho-corporel': 2, 'indirects,': 1, 'piano,': 1, \"d'accordeon\": 1, 'recteur': 1, 'correcteur': 3, 'documents,memoires,': 1, 'thes': 1, 'sous-loc': 2, 'etude,': 2, \"d'agenc\": 4, '(interieur': 1, 'exterieur)': 2, 'ser': 1, 'limitee,': 1, 'entreprises.': 4, 'traditionnel': 6, '(vent': 2, 'exerc': 3, 'dom': 2, 'tom': 2, 'karting,': 1, 'rang': 1, 'sort': 4, 'kart,': 1, 'verifi': 1, 'pression': 1, 'pneu': 1, 'niveau': 2, \"d'essence.\": 1, 'expliqu': 1, 'consignes.': 1, 'depannag': 4, \"l'exclus\": 2, \"n'exedent\": 1, 'tatouag': 3, 'percing': 1, 'colis': 4, 'expedit': 1, 'titres.': 1, 'culturel': 9, 'immobilier.': 4, 'sorbet': 1, 'facade,': 2, \"d'interieur,\": 2, 'interieur.': 1, \"d'echang\": 1, 'natu': 1, 'enregistr': 1, 'sonor': 1, 'do': 1, \"d'avocat\": 3, 'dynamis': 1, 'trio': 1, 'parent': 1, 'besoin': 3, \"d'act\": 4, 'medicaux)': 1, 'osteopath': 3, 'esprit': 1, 'danse,': 1, 'sport,': 4, 'energet': 3, 'vitrin': 1, 'investissement,': 1, 'tapis,': 1, \"l'achev\": 1, \"l'agenc\": 1, 'constructions,': 1, 'fermet': 1, 'audit': 3, 'qualite,': 2, 'hygiene,': 1, 'environ': 2, 'logicielle,': 2, 'agilite,': 1, 'cabinet': 4, 'masseur-kinesitherapeut': 1, 'traumatolog': 1, 'respiratoir': 1, 'cardio-vasculair': 1, 'ski': 1, 'meublee,': 1, '6831z)': 2, 'tresorer': 1, 'leur': 3, 'object': 1, 'mathemat': 1, 'elev': 1, 'colleg': 1, 'lyce': 1, 'manutention,': 3, '(bijoux': 1, 'fantaisies,': 2, 'sacs,': 3, 'chaussures,': 5, 'echarpes,': 2, 'maroquinerie)': 1, 'pouv': 2, 'modifi': 2, 'pharmac': 1, 'debarr': 1, 'lessivag': 1, 'enlev': 2, \"d'encombrants.\": 1, 'hotel': 1, 'terrassement.': 1, \"qu'el\": 3, 'defin': 1, 'legal': 1, 'vigueur.': 1, \"d'adultes,\": 1, 'juridiques,': 2, 'recherches,': 1, 'juridict': 1, 'promotion,': 2, 'spectacles,': 3, 'musicaux,': 1, 'theatraux,': 1, 'legaux.': 1, \"d'hot\": 1, 'bains,': 1, 'placard': 1, 'maison;': 1, 'pourr': 2, 'deven': 2, 'pr': 1, 'publication,': 1, \"l'hebergement,\": 1, '4932z': 1, 'location.': 3, 'carrossi': 1, 'peintr': 4, 'sac': 3, 'dinteret': 1, 'commerciales,': 5, 'industrielles,': 2, 'op': 1, '-gestion': 1, '(multiservices)': 1, \"d'espagnol\": 1, 'appa': 1, 'repas.': 1, 'culture,': 1, 'agricultur': 1, 'biolog': 1, 'diversifie,': 1, 'arboricultur': 1, 'elevage.': 1, 'tonnage;': 1, 'ravalement,': 2, 'thermiqu': 3, 'phonique,': 1, 'peinture.': 1, 'exterieure,': 1, 'agencement.': 1, 'signalet': 1, \"d'illustr\": 2, 'natural': 1, 'fin': 4, 'valoris': 3, \"l'environnement.\": 2, 'blanchisserie,': 1, 'reglementes.': 2, 'animation,': 1, '(lmnp)': 1, \"d'aud\": 2, 'distribut': 2, 'couvertur': 2, 'toitur': 1, 'zinguer': 2, 'desamiantag': 1, 'plaquist': 1, 'bazar': 2, 'pain': 1, 'fraich': 3, \"d'infirmier\": 2, 'remplac': 9, 'donne': 4, 'optique-lunetterie.': 1, 'solaires,': 1, 'lunettes,': 2, 'lentill': 1, 'use': 1, 'sportif,': 1, 'cavaliere,': 1, 'dressag': 1, 'cheval': 4, \"m'appartenant,\": 1, 'perso': 1, 'edition,': 1, 'papier,': 2, 'client.': 2, 'formatric': 1, 'graphisme.': 1, 'concois': 1, 'coordon': 1, \"l'esthet\": 1, 'bureau,': 2, 'constru': 2, \"d'etancheif\": 1, 'congres,': 1, 'seminaires,': 1, 'conventio': 1, 'toilettag': 1, 'animaux.': 1, 'ponctuellement.': 1, 'boiseries...': 1, 'service,': 4, 'consulting.': 1, 'numerique,': 1, 'effet': 3, 'animatrice.': 1, \"l'histoir\": 1, 'conferent': 2, 'privees,': 1, 'milieu': 2, 'scolair': 3, 'brand': 1, 'strategist': 1, 'marqu': 4, '7410z': 1, 'cession,': 4, \"l'echang\": 1, \"d'ovin\": 2, 'caprin': 2, 'mouler': 1, 'iv': 1, 'charge': 1, 'visibilit': 3, 'notoriet': 1, '...': 2, 'souscript': 2, 'rachat': 1, 'mobilieres,': 4, 'actions,': 1, 'obl': 1, 'pizzeri': 1, 'alccol': 1, 'partenair': 1, 'courti': 6, 'travaux;': 1, 'mettr': 3, '(particuli': 1, 'travaux)': 1, 'astisans.': 1, 'institutionnels,': 1, 'documentair': 1, 'postproduction,': 1, 'setting:': 1, 'vais': 1, 'infopreneur': 1, \"d'int\": 1, 'bardeau': 1, 'bitume,': 1, 'pure,': 1, 'technicien': 4, 'lumiere,': 2, 'audiovisuels,': 1, 'theatr': 2, 'patrimonial': 1, 'rapide,salon': 1, 'the,vent': 1, 'tableau': 1, 'tableautier,': 1, \"d'armoir\": 1, 'vehicules.': 1, 'tart': 1, 'flambe': 1, 'apiculture,': 1, 'ruche,': 1, \"d'essaim\": 1, 'rein': 1, \"d'erad\": 1, 'nuisibl': 1, '(principal': 1, 'punais': 1, 'lit),': 1, 'gard': 6, 'compagnie,': 1, 'garder': 1, 'balad': 2, 'masseur': 3, \"d'enseigne,\": 1, 'signaletique,': 1, 'marquag': 1, 'vehicule,': 1, 'impress': 2, 'filament.': 1, 'auss': 1, 'fdm.': 1, 'list': 2, 'utiliser:': 1, 'pla,': 1, 'videos.': 1, 'generaliste.': 1, 'renovation.': 2, 'audits,': 1, 'budgetisatio': 1, 'clients.': 2, '(ub': 1, 'eat)': 1, 'volet': 1, 'portes,': 1, 'moustiquaires.': 1, \"s'y\": 2, 'rapportant,': 2, 'brasserie,': 2, 'non,': 3, 'vin,': 1, 'fine,': 1, \"l'oenolog\": 1, 'degust': 2, 'lien': 4, 'ci-avant.': 1, 'droi': 1, 'cultures.': 1, 'agricoles.': 1, 'cordist': 1, '(traval': 1, 'hauteur)': 1, 'seul': 2, 'cot': 1, 'investisseurs,': 1, 'entit': 3, 'societe,': 5, 'proposit': 1, 'devoir': 2, 'etudi': 1, 'adultes.': 2, 'peuvent': 2, \"s'effectu\": 1, 'caracter': 6, 'productif.': 1, 'ongle': 1, 'manucur': 3, 'objet.': 1, 'tr': 1, 'paysagiste,': 1, 'blanchisserie.': 1, 'prive': 4, 'immobiliere,': 3, 'negociation,': 1, 'immobilier,': 3, 'transact': 8, 'participation.': 1, 'forag': 2, '(cartons,': 1, 'colle,': 1, 'verres,': 1, 'miroir': 1, 'accord': 1, 'travaill': 2, 'su': 1, 'information,': 1, 'bach': 1, 'location-ger': 2, \"d'epicerie,\": 1, 'charcuterie,': 2, 'hygien': 1, 'presse,': 2, 'gaz.': 1, 'snacking,': 2, 'traiteur.': 1, \"l'export,\": 1, 'cote': 2, 'mo': 1, 'decis': 1, \"d'information,\": 1, 'filiales,': 2, 'logos': 1, '(cod': 2, '68.20a)': 1, 'disc': 2, 'jockey': 2, '(prestat': 1, 'propre)': 1, 'traitanc': 1, 'confect': 5, 'feuille,': 1, 'clef,': 1, 'techn': 2, 'cas': 1, 'eche': 1, 'em': 1, 'wedding': 1, 'plann': 1, 'organisateur,': 1, 'bardag': 1, 'moral': 4, 'danalys': 1, 'dorganis': 1, 'ge': 1, 'portefeuille.': 1, 'ulterieur': 1, \"d'acquisition,\": 4, 'echange,': 1, 'autrement;': 1, 'eventuel': 4, 'exceptionnel': 2, \"l'alien\": 2, 'ceux': 1, 'devenus': 1, 'inutil': 1, 'ventes,': 1, 'echang': 1, 'societe.': 1, 'occasionnelle,': 1, \"d'entreprise.\": 1, 'susceptibl': 2, \"d'en\": 2, 'favoris': 3, 'disposition,': 1, 'commercial,': 3, 'artisanal,': 1, 'notamment,': 1, 'informatisation.': 1, 'club': 2, 'decoratio': 1, 'decoration.': 2, 'privees.': 1, 'shooting': 1, 'defil': 1, 'mode.': 1, 'evenements.': 1, 'ligne,': 4, 'chinag': 1, 'propect': 1, 'recycleries,': 1, 'ressourcer': 1, 'acteur': 1, 'educ': 3, 'ecorespons': 1, 'peut': 2, 'avoir': 1, 'nature.': 1, 'sechees.': 1, 'environnementale,': 1, 'resilient': 1, 'territo': 1, 'recuperator': 1, 'visit': 3, 'organise': 1, 'gastronomiques,': 1, \"l'univer\": 1, 'cinem': 2, 'ga': 1, 'angulair': 1, 'coiffeux': 2, 'recuper': 1, 'tri': 1, 'techniques,': 1, 'administratives,': 1, 'comptables,': 1, 'managerial': 1, 'strategiques.': 1, 'acquis': 1, 'management,': 2, 'recrutement,': 1, 'logistique,': 1, 'engin': 1, 'massage,': 2, 'epilation,': 2, 'visag': 2, 'interposee.': 1, 'lavag': 5, 'bien-etre.': 1, 'pleine-propriet': 1, 'bieres.': 1, '(toilet': 1, 'nursing': 1, 'lev': 1, 'couch': 1, '......)': 1, 'gerance,': 1, 'reduite,': 1, 'ass': 1, \"d'exploit\": 1, 'patholog': 2, 'chroniques)': 1, 'medicaux),': 1, 'men': 1, 'videaste/photograph': 1, 'photovoltaique.': 1, 'reglemente)': 1, 'paris': 3, 'import,': 2, 'cosmetiques,': 2, 'compl': 3, 'damaigr': 1, 'commissionne': 1, 'acheteurs-vendeur': 1, 'lacquisition,': 1, 'commerce,': 4, 'linstallation,': 1, 'etablissements,': 2, 'usines,': 1, 'ateliers,': 2, 'rapp': 1, \"d'optiqu\": 1, \"l'amelior\": 2, 'confort': 2, 'chauff': 1, 'occass': 1, 'fais': 1, 'jour': 2, '(maximum': 1, '5)': 1, 'allant': 2, 'septembr': 1, '2024': 1, 'decembr': 1, '2024)': 1, 'souh': 1, 'ambul': 2, 'vitrerie,': 1, 'agricole.': 1, 'macon': 2, 'finisseur': 1, \"l'aud\": 2, 'cimentag': 1, '(association,': 1, 'cooperative,': 1, 'commerciales)': 1, 'organisationnel': 1, 'externalis': 1, 'nue-propriete,': 1, 'usufruit': 1, 'civiles,': 3, 'artisanales,': 3, 'preponder': 2, 'papeter': 3, 'sinistr': 1, 'mobiliers,': 1, 'nue-propriet': 1, 'jouissance,': 1, 'cuisini': 1, \"l'organisat\": 1, 'doccasion,': 1, 'daction': 1, 'so': 1, 'transactions,': 2, 'intermediation,': 3, 'evalu': 4, 'tier': 6, 'masso-kinesitherap': 1, \"l'install\": 1, 'scen': 1, 'editeur': 2, \"l'electronique,\": 1, \"l'informatique,\": 1, \"l'internet,\": 1, 'telephon': 4, 'mobile,': 3, 'pai': 2, 'orthopt': 1, 'ded': 1, \"qu'auto-entrepreneur\": 1, 'restau': 1, 'communications,': 1, 'alimentaires.': 1, 'bocal': 1, 'pure': 1, \"d'oleagineux.\": 1, 'cf': 1, 'kbis': 1, '6201z': 1, 'commerciaux,': 2, \"d'educ\": 2, 'medi': 3, 'etabl': 4, 'diverses.': 1, 'crochetag': 1, 'couvertures,': 1, 'mitain': 1, 'laine/coton.': 1, \"d'osteopathie,\": 1, 'car': 1, 'osteos': 1, 'demolition,': 1, 'platre,': 1, 'facades,': 2, 'alienation.': 1, 'peintre,': 1, 'artistique.': 1, 'enquet': 1, 'direction,': 1, 'controle,': 2, 'participations.': 1, 'assistance.': 1, 'bougies,': 3, 'spray': 1, \"d'ambianc\": 1, 'prenatal': 1, 'effectu': 1, 'seanc': 3, 'enceint': 1, \"l'accouch\": 1, '(systemes,': 1, 'programmation,': 1, 'etc.),': 1, 'chef': 2, 'projet;': 1, 'coaching,': 3, 'professionnels.': 3, 'achat-revent': 1, 'jardinag': 4, \"d'espac\": 4, 'diplomee,': 1, 'lieux': 4, 'commercants,': 1, 'artisan': 1, 'pme-pmi,': 1, 'formalit': 1, 'costum': 1, '(dessin': 1, 'moi-meme),': 1, 'dr': 1, 'hous': 1, \"d'adhes\": 1, 'soum': 1, 'cfe': 1, '68.20a': 1, 'organisations,': 2, 'auto-ecole,': 1, \"d'enseign\": 1, 'routiere.': 1, 'rotisser': 1, 'velos': 1, 'coqu': 2, \"l'assist\": 2, 'publ': 1, 'chantier,': 1, 'chantiers,': 1, 'auto': 4, \"'even\": 1, '7420z': 1, '(servic': 1, 'personne)': 1, 'immobiliers;': 1, 'dalarm': 1, 'portabl': 1, 'saas,': 1, 'ty': 1, \"j'achet\": 2, 'dej': 1, 'confection': 1, 'neuf.': 1, 'met': 1, 'revend': 2, 'internet.': 1, 'proximit': 2, 'services,': 3, 'assistance,': 2, 'prof': 4, 'entreprises/societes.': 1, 'foi': 1, 'repas,': 1, 'pre-comptabilit': 1, \"l'obtent\": 1, 'exploitation,': 2, 'indirecte,': 1, 'evenementiel': 6, 'marechal-ferrant,': 1, 'equid': 3, 'domestiques.': 1, 'maisons,': 1, \"l'habit\": 1, 'principale,': 1, 'touristiqu': 1, 'femme.': 1, 'coreen': 1, 'souhaitent': 1, 'penetr': 1, '(pierre,': 1, 'bijoux),': 1, 'encens,': 1, 'deco,': 1, 'pendule,': 1, 'livre,': 1, 'oracle,': 1, 'tarot': 1, 'projeteur': 2, '(dropshiping)': 1, 'travel': 1, 'planner,': 1, \"d'itinerair\": 1, 'charbon': 2, 'courants,': 1, 'vrd': 2, 'estheticienne,': 1, 'etre,': 1, 'maquillage,': 1, 'extens': 2, 'cils,': 1, 'ongler': 1, 'auto-entrepeneur': 1, 'immobill': 1, 'skipp': 1, '(capitaine)': 1, 'journe': 1, '1/2': 1, 'littoral': 1, '(-': 1, 'nm': 1, 'cotes)': 1, '12': 1, 'passag': 1, 'specialise.': 1, 'qualif': 1, 'obligatoir': 1, 'schem': 1, 'pid,': 1, '2d,': 1, 'cao': 1, 'dao.': 1, 'ligne.': 1, 'appartements,villas,residence,': 1, \"d'habit\": 4, 'decoupe,': 1, 'charcuti': 1, 'carnes,': 1, 'porc,': 1, 'venaisons.': 1, 'interphone,': 1, 'antenne,': 1, 'voyage,': 1, 'seller': 1, \"d'extens\": 4, 'cil': 6, \"d'informer,\": 1, \"d'eduquer,\": 1, 'transmettr': 1, 'comment': 1, 'inform': 1, \"l'actualit\": 1, 'afri': 1, '(etudes,': 1, 'conseil)': 1, 'monitoring': 1, 'congeles,': 1, 'viande,': 1, 'surgeles,': 1, 'ailleur': 1, '(moin': 1, '400': 1, 'm2)': 1, 'bailleur': 1, 'locataire,': 1, 'sous-location,': 1, 'gardiennag': 1, 'depot': 2, 'participations;': 1, 'filiales.': 1, 'concevoir': 1, 'cre': 3, 'haut': 2, 'selection': 1, 'soigneux': 1, 'indien': 1, 'pizza,': 1, 'restauration.': 1, \"d'electricite,\": 1, 'recharg': 2, 'electriques.': 1, 'nu': 1, 'apprentissage,': 1, 'continue.': 1, 'coutr': 1, 'viticol': 1, 'alcools,': 1, 'raisin': 1, 'autres,': 1, 'vrac': 1, 'bouteille,': 1, 'conditionnement,': 2, \"d'import,\": 1, 'matieres.': 1, 'sol,': 1, \"l'apport\": 2, 'emis': 1, 'gsh.': 1, 'benefic': 1, 'boulangerie-patisserie,': 1, 'pizzeria,': 1, 'sandwicherie,': 2, 'relaxation,': 1, 'metaller': 1, 'acier,': 1, 'aluminium': 1, 'pvc.': 1, 'fantaisie,': 2, 'foir': 1, 'couturiere-cre': 1, \"d'impress\": 1, '(fdm,': 1, 'sla,': 1, 'etc.)': 2, '(plastique,': 1, 'resine,': 1, '(analys': 1, 'clientes,': 1, 'marche,': 1, 'effectuent': 1, 'plantes,': 1, 'graines,': 1, 'engrais,': 1, 'ongulaire,': 2, 'gel': 1, 'semi-permanent': 1, 'tension.': 1, 'domicile.': 1, 'maintenance,': 2, \"l'informat\": 1, 'cir': 2, 'vegetales,': 1, 'parfums,': 3, 'colorants),': 1, '(pot': 1, 'fonte,': 1, 'thermometre,': 1, 'balance,': 1, 'moules)': 1, 'services.': 1, 'realise': 1, \"m'explique,\": 1, 'ntl': 1, 'st': 2, 'savoir': 2, \"-l'activit\": 1, 'arme,': 1, 'diverses,terrassement,': 1, 'vrd...': 1, 'web/mobiles,': 1, 'ten': 1, '+3an': 1, 'dj': 1, 'contenus': 4, \"d'apprentissag\": 2, \"d'intelligent\": 2, \"l'ingenier\": 1, 'concession,': 1, 'interne,': 1, 'cartomanc': 2, 'traduct': 4, 'administratifs,': 1, 'immobilier:': 1, 'entreprises;': 1, \"d'apporteur\": 1, \"d'affaires.\": 1, 'themat': 2, 'financiere,': 3, '-ub': 1, 'east': 1, 'sophrologu': 1, 'non-medecin': 1, 'mobil-hom': 1, \"d'etr\": 1, 'brise),': 1, 'solaire,': 1, 'diagnostic': 2, 'achat/revent': 1, '(friperie)': 1, 'nature,': 2, 'echanges,': 1, 'apports,': 2, 'autrement.': 1, \"l'immeubl\": 1, 'deux': 1, 'situ': 3, 'lacroix': 1, 'ouen': 1, '(60610)': 1, '32': 1, 'pasteur': 1, 'imag': 2, 'nutrition,': 1, 'method': 1, 'psycho-emotionnel': 1, 'asiatique.': 1, 'apparten': 1, 'sandwichs,': 2, 'burgers,': 2, 'salades,': 2, 'pizzas,': 2, 'frites,': 2, 'gaufres,': 2, 'bier': 1, 'publicite,': 1, \"d'affichag\": 1, 'supports.': 1, \"l'orthopt\": 1, 'depist': 1, 'troubl': 1, 'fonctionnel': 1, 'binoculair': 1, 'motricit': 1, 'oculaire.': 1, 'specif': 2, 'ect': 1, 'youtube,': 1, 'remuner': 1, 'youtub': 1, 'collabor': 1, 'coop.': 1, 'planch': 1, 'sport/fitness/streetwear': 1, 'remorquag': 2, 'comport': 1, 'chien': 1, 'ville,': 1, 'foret': 2, 'resaur': 1, 'eport': 1, 'metropol': 1, 'lillois': 1, 'immobilieres,': 4, 'detenus': 1, 'sci': 1, 'membre.': 1, 'saisonniair': 1, 'professionnelle.': 2, \"d'alarmes,\": 1, 'videosurveillance,': 1, \"d'acces,\": 1, '(sap)': 1, 'patiss': 1, ',ustensil': 1, 'epicer': 2, ',sorbetier': 1, ',machin': 1, \"s'ag\": 1, 'papeterie,': 2, 'supports,': 1, 'enseigniste,': 1, \"d'assurance;\": 1, 'courtier,': 1, 'personnes.': 1, 'sensibilisation,': 1, 'ecosystem': 1, 'relectur': 1, 'correct': 1, 'traduction,': 1, 'revision,': 1, 'adaptation,': 1, 'post-edition,': 1, 'sous-titrag': 1, 'disciplin': 1, 'legers,': 2, 'loeg': 1, 'bic': 1, 'rsi': 1, 'tva': 3, 'semestriel': 1, 'concern': 1, \"d'elev\": 1, 'class': 1, 'terminale,': 1, 'partenariat': 1, 'regim': 3, 'trimestriel': 3, 'comercial': 1, \"d'orthoped\": 1, 'informatiques.': 2, 'startup': 1, 'contenu,': 1, 'comptabilite.': 1, \"d'elagag\": 1, 'dessouchag': 1, 'taill': 3, 'hai': 1, 'tond': 1, 'debroussaillag': 1, \"l'exercice,\": 1, 'condit': 1, 'compar': 1, 'cel': 1, 'familial,': 1, 'ac': 1, 'assurance,': 1, 'bengal': 1, 'oriental': 1, '(artisanat': 1, 'cosmetiques),': 1, ',chauffag': 1, 'sanitaire.': 1, '(shopify),': 1, '\"print': 1, 'demand\".': 1, 'web.': 2, \"l'informatique/l\": 1, 'simplif': 1, 'indirectement,': 2, 'motocultur': 1, 'deten': 1, 'groupements,': 2, 'entrepr': 1, 'chanteur': 1, 'confis': 1, 'creatric': 1, 'materiel,': 1, 'videos': 3, 'suppor': 1, 'technique,': 3, 'enregistrement.': 1, '(bnc/': 1, '6622z)': 1, 'jardinage,': 1, '(logos,': 1, 'identit': 1, 'visuelles,': 1, 'interfaces)': 1, 'convoyeur': 1, 'achemin': 1, 'point': 3, 'b.': 1, 'bucheronnag': 2, 'decoup': 1, 'demontag': 1, 'mezzanine,': 1, 'rayonnage/racks,': 1, 'neuropsychologu': 1, \"qu'intermediair\": 1, \"d'oper\": 1, 'rapproch': 1, \"d'entreprises.\": 1, \"d'entreprises,\": 1, 'telephone,': 1, 'tablettes,': 1, 'electroniques.': 1, 'granul': 1, 'paysager(': 1, 'tonte,': 1, 'irrigation...)': 1, 'maconnerie(': 1, 'terrassement,': 1, 'florales,': 1, 'cadeau': 1, 'ecur': 1, 'climatisation.': 1, 'filaires.': 1, '(san': 2, 'affect': 1, 'societe)': 1, \"d'entrepr\": 1, 'promouvoir': 1, 'cliniqu': 1, 'vertebral': 1, 'rachidien': 1, \"l'information,\": 1, 'bestial': 1, 'bovins,': 2, \"l'un\": 2, \"l'autr\": 1, 'specifie': 1, 'salons,': 1, 'festivals,': 1, 'concerts,': 1, 'expositions,': 1, 'conferences,': 1, 'animations,': 2, 'depot,': 1, \"d'amenagem\": 1, '(motorise)': 2, 'claviers,': 2, 'sour': 2, \"d'acquer\": 1, 'immeuble,': 2, 'holding,': 1, 'bien,': 1, 'copropriete.': 1, 'murau': 1, 'export,': 1, 'sous-traitance,': 1, 'alcoo': 1, 'individuelles,': 1, \"d'evalu\": 1, 'test': 1, 'psychologiques,': 1, 'post-product': 1, 'televis': 2, \"d'exercic\": 2, 'veterinaire.': 1, 'reinsert': 1, 'socioprofessionnel': 1, 'jeuness': 1, \"qu'holding;\": 1, 'animat': 1, 'voix': 1, 'off': 1, 'masseur-': 1, \"qu'infirmi\": 1, 'faibl': 1, 'fort.': 1, 'kiosqu': 1, 'automatiques),': 1, 'multi-produit': 1, 'burger,': 1, 'dessert,': 1, 'boisso': 1, 'crep': 1, 'galet': 1, '(toilettes,': 1, 'nursings,': 1, 'accompagnement,': 2, 'levers,coucher': 1, 'boulangerie-patisser': 1, 'sorbets,': 1, 'pre-press': 1, 'intern': 1, 'externe,': 1, 'redaction.': 1, 'exerce': 1, \"qu'extern\": 1, 'remunere.': 1, '(menage,': 1, 'repassage,': 1, 'trois': 2, 'ans,': 1, 'jardinage).': 1, 'frigorifique,': 1, 'electromenager,': 1, 'automatisme.': 1, 'sepultur': 1, \"d'alle\": 1, 'batiment,terr': 1, 'refect': 1, 'dorur': 1, 'perinatalit': 1, 'parentalit': 2, 'dessus': 1, 'comptoir,': 2, \"d'eng\": 1, 'retr': 1, 'rel': 3, 'colis.': 1, 'tranfert': 1, '(western': 1, 'union,': 1, 'ri': 1, 'accesssoir': 1, 'cheveux,': 1, 'magnetiseur,': 1, 'ensorcelees,': 1, 'taille,': 1, 'finissag': 1, 'ticket': 1, 'mond': 1, 'competit': 1, 'jeu': 2, 'esthetique,': 2, 'sourcing': 1, \"l'esport\": 1, '(anglais,': 1, 'espagnol,': 1, 'fle)': 1, \"d'aliment\": 1, \"d'epiceries,\": 1, 'automobile,': 1, 'tolerie,': 1, 'marbre,': 1, 'corporel': 3, \"l'entrain\": 1, 'fonctionnel,': 1, 'publicitaires,': 1, 'sportifs.': 1, 'loterie,': 1, 'grattage,': 1, 'sportifs,': 1, 'colis,': 1, 'tonnes,': 1, 'to': 1, '(saas)': 1, 'createur': 1, 'annonceurs.': 1, 'artistique,': 1, 'photographique,': 1, 'audiovisuelle.': 1, 'creative.': 1, 'cafe,hotel,restaur': 1, '(tiktok,': 1, 'instagram,...)': 1, 'artiste-': 1, '(musique)': 1, 'dautr': 1, \"d'habill\": 3, 'routier': 1, 'collectivites.': 1, 'marque,': 1, 'branding': 2, 'digitale.': 3, \"d'occasions,\": 3, \"d'occasions.\": 2, 'alcoolisees,': 1, 'types,': 1, 'emporter.': 2, \"l'echange,\": 1, \"qu'il\": 1, \".l'activit\": 1, 'risqu': 1, 'dommag': 1, 'hom': 1, 'staging': 1, 'concevoir,': 1, \"d'ingenierie.\": 1, 'competent': 1, 'psych': 1, 'pili': 1, 'entreprise.': 2, 'alarm': 1, 'videosurveil': 1, 'dissocie': 1, 'immobilier-': 1, 'achats/': 1, 're-vent': 1, 'chanvre/': 1, 'cbd': 2, 'debr': 1, 'site,': 1, 'pneumatiques,': 1, \"d'occasion,\": 2, 'vehicules;': 1, 'souscriptions,': 2, 'titres,': 2, 'interets,': 1, 'eventuellement,': 1, 'ci-dessus': 1, 'realisation.': 1, 'tach': 1, 'denerg': 2, 'dentaire.': 1, 'mast': 1, 'franchise,': 1, 'concess': 1, \"d'utilis\": 1, '(marqu': 1, 'notamment)': 1, 'invest': 1, 'encaissement': 1, 'fonds,': 1, 'fiscal': 1, 'seing': 1, 'constituent': 1, \"l'accessoir\": 1, 'liquidit': 1, 'disponibilit': 1, \"l'immatriculation,\": 1, \"l'administrat\": 1, 'monitric': 1, 'bpjeps,': 1, 'cavalier,': 1, 'palefrenier,': 1, 'soigneur': 1, 'roses,': 1, 'coquelicots,': 1, 'lotus,...': 1, 'nenuphar': 1, 'inox': 1, \"d'assistanat\": 1, 'period': 2, \"l'edif\": 2, \"l'immobilier,\": 1, 'fidelis': 1, \"l'achat-vent\": 1, 'neuv': 1, 'professionnelle,': 1, 'epices,': 2, 'aromatiques,': 2, 'medicinales,': 1, 'broyag': 1, 'proced': 1, 'qualite.': 1, 'usin': 1, 'ciment.': 1, 'denrees,': 1, 'travail.': 1, 'zac': 1, 'poudret': 1, '93320': 1, 'pavillon': 1, 'fleurist': 1, 'import-export.': 1, 'pag': 1, 'emailing,': 1, 'script': 1, 'finit': 2, 'macon,': 1, 'carreleur': 1, \"d'echange,\": 1, 'rurau': 1, 'climatisations.': 1, \"l'activite.\": 1, 'acquisition/detention/administration/restauration/construct': 1, 'immeubles,bat': 1, 'dispo': 1, 'cabaret,': 1, 'dancing,': 1, 'jeux,': 1, 'concert,': 1, 'loc': 1, 'coutur': 3, 'ameublement...),': 1, 'sacs...)': 1, \"d'orthophon\": 1, 'ministr': 1, 'tresor': 1, \"l'assemble\": 1, 'national': 2, 'congo': 1, 'republ': 1, 'democratique,': 1, \"l'amenag\": 2, 'amenagement.': 1, 'interentrepris': 1, 'fournitures,': 1, 'equipements,': 1, 'modern': 1, 'bricolages.': 1, 'entites,': 1, 'defibrill': 1, 'secourisme.': 1, 'tont': 1, 'taxi,': 1, 'conduite,': 1, 'adapt': 1, 'per': 1, '(6832b)': 1, 'modelis': 2, '3d,': 1, 'texturer,': 1, 'construir': 2, 'donne.': 1, 'moyens,': 3, 'fusions,': 1, \"d'oblig\": 1, 'dro': 1, 'rappor': 1, 'chirurgie-dentair': 1, 'bateaux,': 1, 'manifestation,': 1, 'festivites,': 1, \"d'osteopathie.\": 1, 'guitare,': 1, 'acoust': 1, 'sensibilis': 1, 'durables.': 1, 'mobiles,': 1, 'smartphones,': 1, 'tablet': 1, 'derivees.': 1, 'nutritionnel': 1, 're': 1, 'routiere,': 1, '(loueur': 2, 'professionnel)': 2, 'valmeini': 1, '(73450)': 1, 'accessoires)': 1, 'fast-food,': 1, 'snack,': 1, \"d'immatricul\": 1, '(siv)': 1, 'limit': 1, 'strict': 1, 'reconstructric': 1, 'libre-servic': 1, 'distributeur': 2, '(exceptionnelle)': 1, 'free-lanc': 1, 'designs,': 1, 'text': 2, 'ique': 1, 'batiment;': 1, 'parasitaire,': 1, 'termit': 1, 'parasit': 1, 'boi': 1, 'amenagment': 1, 'ouvertur': 1, 'aeros': 1, 'secretariat,': 1, \"l'animation,\": 2, 'administrat': 1, 'developpement.': 1, 'ii': 1, 'grutier.': 1, 'consultant,': 2, 'conseil...': 1, 'acticit': 1, '6201z:': 1, 'webmast': 1, \"l'assain\": 1, 'debouchag': 1, \"d'egouts,\": 1, 'canalis': 1, 'privat': 1, 'curag': 1, 'usee,': 1, 'vidange,': 1, 'energetiques.': 1, 'infiltrometrie.': 1, 'thermiques.': 1, 'sols.': 1, 'ventilation.': 1, 'mentale,': 1, 'cris': 1, 'aigu': 1, 'heteroagress': 1, 'suicidaire.': 1, 'education,': 1, 'comportement,': 1, 'dressage,': 1, 'garde,': 1, 'promenade,': 1, 'toilettage,': 1, 'refug': 1, 'meti': 2, \"l'animal\": 1, 'veterinaires)': 1, 'culinair': 1, 'itiner': 1, 'eolien': 1, 'import/export,': 1, 'interact': 1, 'vaissel': 1, 'bimbeloter': 1, 'luminair': 1, 'mari': 1, 'fabrication)': 1, 'psychopraticien': 1, 'analyt': 1, 'autorise': 1, 'soutien,': 1, 'psychotherap': 2, 'analytique.': 1, 'nounou': 1, 'emballages,': 1, 'terrariums,': 1, \"l'espac\": 1, 'morales.': 1, 'vetements.': 1, 'immobilier;': 1, 'eben': 1, \"d'handicap\": 1, 'isole': 1, 'auteur': 2, 'intellectuel': 2, 'appui': 1, 'organisation,': 1, 'admin': 1, '(product': 1, 'solair': 1, 'photovoltaiques)': 1, 'personal': 1, 'shopp': 1, 'evenementeil': 1, 'barbi': 1, 'baies,': 1, 'cages,': 1, 'supermarch': 2, 'jardin,': 1, 'course,': 1, 'neurologie.': 1, \"l'abattag\": 1, \"l'elagag\": 1, 'haies,': 2, \"d'arbres,\": 1, 'vegetal': 1, 'patisseries,': 2, 'bonbons,': 1, 'glaces,': 1, 'boissons.': 1, 'institutionnel': 1, 'guinguet': 1, '(vin': 1, 'bieres)': 1, 'logements)': 1, 'construits,': 1, \"l'occup\": 1, 'gratuit': 1, 'epil': 1, 'webmarketing': 2, '(canabiol)': 1, 'tisan': 1, 'infusions,': 1, 'huiles,': 1, 'cos': 1, 'minoritaire,': 1, 'convers': 1, 'autre.': 1, 'locations.': 1, 'divers.': 1, 'saisonni': 2, 'hypnotherapeut': 1, 'evenements,': 2, 'programmes,': 1, \"d'informat\": 1, 'nuag': 1, 'artificielle.': 1, 'soumis': 1, 'copyright': 1, \"d'audit,\": 1, \"d'assistance,\": 1, \"l'agro-alimentair\": 1, 'revu': 2, 'an': 1, 'born': 1, 'irve': 1, 'installations.': 1, 'dependr': 1, 'legget': 1, 'inscript': 1, 'rsac': 1, 'obligatoire.': 1, '4619b': 1, '6831z': 1, 'hommes,': 2, '(tonte,': 1, 'debroussaillage,': 1, 'broyage,': 1, 'etc),plantations,': 1, 'nettoyage.': 1, 'promenad': 1, 'barqu': 1, 'guid': 1, 'visiteur': 1, \"d'exterieur\": 1, 'topographie,': 1, 'photogrametr': 1, '(ou': 1, 'orthophotographie),': 1, 'lasergramm': 1, '2d': 1, 'reamenag': 1, 'reglementes)': 1, 'hypnos': 1, 'montres,': 1, 'choregraph': 1, '(portraits,': 1, 'paysages,': 1, 'mariages,': 1, 'etc)': 1, 'internets,': 1, 'informatique.': 1, 'bouche': 1, 'salees.': 1, 'chouchou': 1, 'verif': 1, 'quantit': 1, 'reperag': 1, 'calepinag': 1, 'referencement;': 1, 'amelior': 1, 'lig': 1, 'femmes,': 1, 'epandag': 1, 'foss': 1, 'septiqu': 1, 'desinsectisation,': 1, 'hotes,': 1, 'petit-dejeuner,': 1, 'si': 1, 'demande,': 1, 'quotidien,': 1, 'orientales,': 1, 'recettes,': 1, 'pre': 1, '(entrepris': 1, 'diverses,': 1, 'associations)': 1, 'divr': 1, 'marin': 1, 'declar': 1, 'bar-resaur': 1, 'transition.': 1, 'deratiser,': 1, 'photographiques,': 1, 'reportages,': 1, 'vue,': 1, 'portraits,': 1, 'tirages,': 1, 'creativ': 1, 'numeriques.': 1, 'parisien': 1, '(conseil,': 1, 'juridictions).': 1, 'ennobl': 1, 'caramel': 1, 'canal': 1, 'laine,': 1, 'coton,': 1, 'tiss': 1, 'juridiques.': 1, \"l'habitat\": 1, 'prair': 1, 'ovin': 1, 'eventuelle,': 1, 'horlogerie,bijouterie,joailler': 1, 'lie,': 1, 'collection,antiquites,': 1, 'bronze,objet': 1, 'communication.': 1, 'grossist': 1, 'spa,': 1, 'saunas,': 1, 'dentretien': 1, 'environment': 1, 'etrangere,': 1, 'mobiliere,': 1, 'autres.': 1, \"l'etude,\": 1, 'financement,': 1, 'renouvelable.': 1, 'location-vente,': 1, 'copropriet': 1, 'construit': 1, 'saladerie,': 1, 'bar': 1, 'pates,': 1, 'glacier,': 1, 'crepier,': 1, 'soiree,': 1, 'costumes,': 1, 'decorations,': 1, 'speciaux,': 1, 'gonflabl': 1, 'logements.': 1, \"d'articles,\": 1, 'scientifiques,': 1, 'preparation,': 1, 'diffusion,': 1, 'associes.': 1, 'esthetiques,': 1, 'paris,': 1, 'fantaisie.': 1, 'detail.': 1, 'pharmacien': 1, \"d'officin\": 1, 'acquisitions,': 1, 'litotherap': 1, 'ressent': 1, 'initial': 1, 'continue,': 2, \"l'apprentissage,\": 1, \"l'info\": 1, 'professionnel.': 1, 'multi-': 1, 'verts.': 1, 'encombr': 1, 'toxiqu': 1, 'progiciel': 1, 'connexes.': 1, 'egal': 2, 'associees,': 1, \"l'assistance,\": 1, '(labeur)': 1, 'finition,': 1, 'motos': 1, 'personnalise.': 1, 'arbitr': 1, 'football': 1, 'semi-pro': 1, 'energeticien': 1, 'abord': 1, 'enjeux': 1, 'fondament': 1, 'plaidoiries.': 1, \"d'intermediair\": 1, 'objets,': 1, 'formations.': 1, 'intellectuelle.': 1, 'ecrivain': 1, 'sujet': 1, \"d'architectur\": 1, 'ambulanci': 1, \"d'osteopath\": 1, '(therap': 1, 'manuel': 1, 'osteopathique).': 1, \"d'evenements,\": 1, 'portail,': 1, 'clotures,': 1, 'fabrication/vent': 1, 'tourn': 1, 'broch': 1, 'rotissoir': 1, 'remorque,': 1, 'destruct': 1, 'nid': 1, 'guep': 1, 'frelons.': 1, 'coques.': 1, 'informatis': 1, 'auteur-compositeur': 1, 'emplac': 1, 'acquisition,administration,exploit': 1, 'chirurgical': 2, 'parfume': 1, 'soj': 1, 'colz': 1, 'abeille,poudr': 1, 'aspir': 1, 'diffuseur': 1, 'bougeoir': 1, \"d'adolescent\": 2, 'pierres,': 1, 'vehicule.remorquag': 1, 'vehicule.tout': 1, \"l'immatricul\": 1, 'plastiques,': 1, 'dessin,': 1, 'tableaux,': 1, 'import': 2, 'stylist': 1, 'broder': 2, \"d'herb\": 1, 'clinicien': 1, 'psycholog': 2, 'adolescent': 1, 'adultes,': 1, 'guidanc': 1, 'parental': 1, \"d'amenag\": 1, 'architect': 1, \"l'usinag\": 1, 'pieces,': 1, 'micro-entrepris': 1, 'repondr': 1, 'sollicite': 1, 'halterophilie/muscul': 1, 'medicinal': 1, 'vasculair': 1, 'libre-service,': 1, 'materiels,': 1, 'detache': 2, 'lit,': 1, 'serviettes,': 1, 'aide-soign': 1, 'verts,': 1, 'terrasses,': 1, 'clotur': 1, 'fre': 1, 'lanc': 1, 'webmaster,': 1, 'internet/flyer,': 1, 'depuis': 1, 'magnetiseur': 1, 'therapeut': 1, 'energetique/sophrologu': 1, '(96.09z)': 1, \"d'epic\": 1, 'essentielles,': 1, 'manufactur': 2, 'produiit': 1, 'bieres,': 1, 'entant': 1, 'composition.': 1, 'exceptionnel,': 1, 'imm': 1, 'familial': 1, 'antiquair': 1, 'brocanteur': 1, 'aquat': 1, 'capillair': 1, 'pedicures-podologues.': 1, 'cimetier': 1, 'reik': 1, \"d'arbust\": 1, 'cinematographique,': 1, 'comptoir': 1, 'ventr': 1, 'cheveux': 1, 'coiffure.': 1, 'iad.': 1, 'multiservic': 1, 'animaux,': 1, 'acc': 1, 'consultations,': 1, 'surete,': 1, 'secourisme,': 1, 'prevent': 1, 'neufs,': 1, 'realisat': 1, 'assurance.': 1, 'immobilieres.': 1, 'defiscalisation.': 1, 'touristique:': 1, 'git': 1, 'hot': 1, 'acce': 1, 'porteur': 1, 'virtuels,': 1, 'skin': 1, 'count': 1, 'strik': 1, '(cs2).': 1, 'routage,': 1, \"l'edit\": 1, 'retouch': 1, 'projets.': 1, 'supervis': 1, 'contenti': 1, 'bon': 1, 'tissag': 1, \"d'interieur.\": 1, 'public,': 1, 'rayon,': 1, 'import-export,': 1, 'veh': 1, 'avicultur': 1, 'prospection.': 1, 'animali': 1, '(developp': 1, 'linux': 1, 'embarque,': 1, 'marches.': 1, \"d'hydrogen\": 1, '(sublimation,': 1, 'vinyle)': 1, 'foires,': 1, 'congr': 1, 'diagnostiqueur': 1, 'relax': 1, 'selon': 1, 'jour.': 1, 'notair': 1, 'bilan': 1, 'psychoeduc': 1, 'clinique,': 1, 'psychologique.': 1, 'presentiel.': 1, 'ferraill': 1, 'dangereux.': 1}\n",
      "word_id_mapping: {'fabriqu': 1, \"d'huil\": 2, 'graiss': 3, 'organis': 4, 'jeux': 5, 'commerc': 6, 'detail': 7, \"d'appareil\": 8, 'electromenager': 9, 'magasin': 10, 'specialis': 11, 'piec': 12, 'isol': 13, 'ceram': 14, 'locat': 15, 'location-bail': 16, 'machin': 17, 'equip': 18, 'agricol': 19, \"d'equip\": 20, 'commun': 21, 'chauffag': 22, 'central': 23, \"d'articl\": 24, 'sport': 25, 'produit': 26, 'confiser': 27, \"d'enregistr\": 28, 'musical': 29, 'video': 30, 'activit': 31, 'public': 32, 'securit': 33, 'gestion': 34, \"d'achat\": 35, 'non': 36, 'alimentair': 37, 'gaz': 38, 'industriel': 39, 'enseign': 40, 'secondair': 41, 'techniqu': 42, 'professionnel': 43, 'construct': 44, 'entretien': 45, 'transform': 46, 'the': 47, 'caf': 48, 'livr': 49, 'similair': 50, 'fibr': 51, 'administr': 52, 'publiqu': 53, 'econom': 54, \"d'emballag\": 55, 'bois': 56, 'reseau': 57, 'fonder': 58, \"d'autr\": 59, 'metal': 60, 'ferreux': 61, 'superieur': 62, \"d'electricit\": 63, 'gros': 64, '(commerc': 65, 'interentreprises)': 66, 'cafe,': 67, 'the,': 68, 'mer': 69, 'conserv': 70, 'crustac': 71, 'mollusqu': 72, 'moteur': 73, 'forestier': 74, 'autr': 75, 'servic': 76, 'dechet': 77, 'soutien': 78, 'industr': 79, 'extract': 80, 'usag': 81, 'papi': 82, 'carton': 83, 'textil': 84, 'n.c.a.': 85, 'film': 86, 'cinematograph': 87, 'materiel': 88, \"d'unit\": 89, 'peripher': 90, 'logiciel': 91, 'camion': 92, 'chauffeur': 93, 'formation,': 94, 'cultur': 95, 'sociaux,': 96, 'social': 97, 'chimiqu': 98, 'organ': 99, 'bas': 100, 'auxiliair': 101, 'transport': 102, 'eau': 103, \"l'except\": 104, 'vehicul': 105, 'automobil': 106, 'trait': 107, 'danger': 108, 'distribu': 109, 'meubl': 110, 'bureau': 111, 'journal': 112, 'verr': 113, 'tabac': 114, 'promot': 115, 'immobilier': 116, 'legum': 117, 'telecommun': 118, 'heberg': 119, 'handicap': 120, 'metall': 121, 'leger': 122, 'general': 123, 'surgel': 124, 'retrait': 125, 'post': 126, 'cadr': 127, \"d'un\": 128, 'min': 129, 'meubles,': 130, 'mecan': 131, 'install': 132, 'electriques,': 133, 'electron': 134, 'optiqu': 135, 'metallurg': 136, 'connex': 137, 'bateau': 138, 'log': 139, 'pech': 140, 'support': 141, 'jurid': 142, 'patrimoin': 143, 'mobili': 144, 'machines-outil': 145, 'electr': 146, 'matier': 147, 'plastiqu': 148, 'edit': 149, 'ferroviair': 150, 'assur': 151, 'terrain': 152, 'parc': 153, 'loisir': 154, 'jouet': 155, 'conduit': 156, 'beton': 157, 'sec': 158, 'viand': 159, 'boucher': 160, 'sieg': 161, \"d'interieur\": 162, 'combustibl': 163, 'gazeux': 164, 'menager': 165, 'jardin': 166, 'naturel': 167, 'traval': 168, 'terrass': 169, 'grand': 170, \"d'ordin\": 171, 'routi': 172, 'voyageur': 173, 'informat': 174, 'faconnag': 175, 'plat': 176, 'patisser': 177, \"d'el\": 178, 'platr': 179, 'medical': 180, 'sucr': 181, 'annex': 182, 'travail': 183, 'grain': 184, 'sanitair': 185, 'photograph': 186, 'ouvrag': 187, 'ciment': 188, 'chaussur': 189, 'froid': 190, 'cuir': 191, 'vi': 192, 'fruit': 193, \"d'al\": 194, 'animal': 195, 'compagn': 196, 'vet': 197, 'centr': 198, 'collect': 199, 'banqu': 200, \"d'organ\": 201, 'developp': 202, 'repar': 203, 'fluvial': 204, 'fret': 205, 'vent': 206, 'automat': 207, 'hor': 208, 'eventair': 209, 'march': 210, 'maritim': 211, 'fil': 212, 'cabl': 213, 'mainten': 214, \"d'engin\": 215, 'spatial': 216, 'domest': 217, 'construction,': 218, 'terr': 219, 'adult': 220, 'difficult': 221, \"d'assur\": 222, 'caiss': 223, 'recherche-developp': 224, 'menag': 225, 'tant': 226, 'personnel': 227, 'bijouter': 228, 'maill': 229, 'accessoir': 230, 'aci': 231, 'agenc': 232, 'societ': 233, \"d'inform\": 234, 'financier': 235, 'concept': 236, 'sit': 237, 'control': 238, 'pat': 239, 'maroquiner': 240, 'voyag': 241, 'intermediair': 242, 'textiles,': 243, 'articl': 244, 'product': 245, 'boisson': 246, 'distille': 247, 'elevag': 248, 'elabor': 249, \"d'ouvrag\": 250, \"d'art\": 251, 'prepar': 252, \"d'install\": 253, 'voi': 254, 'cuisin': 255, 'viv': 256, 'caoutchouc': 257, 'vin': 258, 'structur': 259, 'mis': 260, 'disposit': 261, 'ressourc': 262, 'humain': 263, \"d'horloger\": 264, 'producteur': 265, 'propr': 266, 'volaill': 267, 'bois,': 268, 'compr': 269, 'specialise': 270, 'surfac': 271, 'system': 272, 'aid': 273, 'aerien': 274, 'exploit': 275, 'fleur': 276, 'plant': 277, 'gener': 278, 'chain': 279, 'san': 280, 'frigorif': 281, 'accueil': 282, 'accompagn': 283, \"d'enf\": 284, \"d'aid\": 285, 'pneumat': 286, \"d'eau\": 287, 'compos': 288, 'frais': 289, 'cart': 290, 'urbain': 291, 'charpent': 292, 'panneau': 293, 'diffus': 294, 'programm': 295, \"d'entretien\": 296, 'mineral': 297, 'peintur': 298, 'manutent': 299, 'financiers,': 300, 'retraite,': 301, 'medicalis': 302, 'enfant': 303, 'pierr': 304, 'industriel,': 305, 'affair': 306, 'etranger': 307, 'stockag': 308, 'material': 309, 'monu': 310, 'tourist': 311, 'pharmaceut': 312, 'financi': 313, 'carrosser': 314, 'condition': 315, 'person': 316, 'age': 317, 'gen': 318, 'civil': 319, 'boulanger': 320, '(a': 321, 'bat': 322, 'plac': 323, \"d'appliqu\": 324, 'physiqu': 325, 'passager': 326, 'bien': 327, 'restaur': 328, 'sall': 329, 'spectacl': 330, 'premier': 331, 'li': 332, 'courtag': 333, 'valeur': 334, 'mobilier': 335, 'marchandis': 336, 'oleagin': 337, 'pret': 338, 'art': 339, 'revet': 340, 'sol': 341, 'mur': 342, 'salon': 343, 'coiffur': 344, 'achat': 345, 'tous': 346, \"l'activit\": 347, 'creation,': 348, 'developpement,': 349, 'commercialis': 350, 'plateform': 351, 'conseil': 352, \"d'accompagn\": 353, 'beaut': 354, 'propriete,': 355, \"l'achat,\": 356, 'vente,': 357, \"l'exploit\": 358, 'station': 359, 'tax': 360, 'assist': 361, \"d'appart\": 362, 'realis': 363, 'vid': 364, 'maison': 365, 'chez': 366, 'particuli': 367, 'domicil': 368, 'ongulair': 369, 'materiaux,': 370, 'pos': 371, 'intervent': 372, 'plus': 373, 'generalement,': 374, 'tout': 375, 'acquisition,': 376, 'gestion,': 377, 'cession': 378, 'particip': 379, 'prestat': 380, 'particuliers,': 381, 'mult': 382, 'domain': 383, 'client,': 384, 'marketing,': 385, 'meuble': 386, 'pris': 387, 'comm': 388, 'objet': 389, \"d'activit\": 390, 'commercial': 391, 'et/ou': 392, 'administration,': 393, 'immeubl': 394, 'immobiliers,': 395, 'immo': 396, 'detent': 397, 'titr': 398, 'quel': 399, 'objet,': 400, 'traiteur': 401, 'domicile,': 402, 'diver': 403, \"l'acquisition,\": 404, 'etat': 405, 'futur': 406, \"d'achev\": 407, 'acheves,': 408, \"l'apport,\": 409, 'valeur,': 410, 'transformation,': 411, \"l'amen\": 412, \"d'arbr\": 413, 'acquisit': 414, 'droit': 415, 'reel': 416, 'immobiliers.': 417, 'creation': 418, 'ger': 419, 'loueur': 420, 'design': 421, 'graphiqu': 422, 'docu': 423, 'acte': 424, \"l'aid\": 425, 'bijoux': 426, 'lign': 427, 'neuf': 428, 'espac': 429, 'vert': 430, 'maconner': 431, 'oeuvr': 432, 'renov': 433, 'soin': 434, 'infirmi': 435, 'even': 436, 'aupr': 437, 'civil,': 438, 'immobili': 439, 'cereal': 440, 'don': 441, 'cour': 442, 'bovin': 443, 'buffl': 444, 'artist': 445, 'relev': 446, 'plomber': 447, 'coursi': 448, 'nettoyage,': 449, 'court': 450, 'photovolta': 451, 'mode,': 452, 'cosmet': 453, \"l'installation,\": 454, 'montag': 455, 'ains': 456, 'produits,': 457, 'rapport': 458, 'decor': 459, 'interieur': 460, 'fabrication,': 461, 'batiment,': 462, 'not': 463, 'corps,': 464, 'convoyag': 465, 'nettoyag': 466, 'interpret': 467, 'solut': 468, 'destin': 469, 'pratiqu': 470, 'velo': 471, 'livraison': 472, 'rep': 473, 'fond': 474, 'funerair': 475, 'fleurs,': 476, 'achat,': 477, 'bail': 478, 'autrement,': 479, 'terrains,': 480, 'direct': 481, 'indirect': 482, 'anim': 483, 'esthet': 484, 'freelanc': 485, 'manier': 486, 'mission': 487, 'alcoolise': 488, 'destine': 489, 'consomm': 490, 'spiritu': 491, \"l'acquisit\": 492, 'vu': 493, 'bail,': 494, 'location,': 495, 'form': 496, 'francais': 497, 'apport,': 498, 'souscription,': 499, 'action': 500, 'part': 501, 'sociales,': 502, 'apport': 503, 'desdit': 504, 'oper': 505, 'menuiser': 506, 'vitrag': 507, 'production,': 508, 'realisation,': 509, \"l'exploitation,\": 510, 'distribution,': 511, \"l'edition,\": 512, 'entrepris': 513, 'massag': 514, 'certif': 515, 'traditionnelle,': 516, 'emporter,': 517, 'conception,': 518, 'vtc': 519, '(vtc)': 520, 'informatique,': 521, \"l'administration,\": 522, 'divers': 523, 'marketing': 524, 'compren': 525, 'visuel': 526, 'homm': 527, 'main': 528, 'pet': 529, 'bricolag': 530, 'reglemente': 531, 'uber': 532, 'eat': 533, 'coaching': 534, 'personnalis': 535, 'suiv': 536, 'veterinair': 537, 'different': 538, 'distance,': 539, 'e-commerc': 540, 'internet': 541, 'informatiques,': 542, 'mobil': 543, 'fantais': 544, 'alimentaires,': 545, 'dont': 546, 'autour': 547, 'illustr': 548, 'holding.': 549, 'conducteur': 550, 've': 551, 'plaqu': 552, 'clients,': 553, 'boissons,': 554, 'stock': 555, 'exterieur': 556, 'pizz': 557, \"d'epicer\": 558, 'holding': 559, 'livreur': 560, 'apporteur': 561, \"d'affair\": 562, 'relat': 563, 'client': 564, 'fournitur': 565, \"l'import-export\": 566, 'motoris': 567, \"d'occas\": 568, 'medecin': 569, 'moin': 570, '3.5': 571, 'ton': 572, 'kinesitherapeut': 573, 'etc...)': 574, 'infirmier': 575, 'format': 576, 'continu': 577, 'propriet': 578, 'locaux,': 579, 'local': 580, 'cod': 581, 'naf': 582, '7022z': 583, 'peinture,': 584, 'interieur,': 585, 'plomberie,': 586, 'electricite,': 587, 'menuiserie,': 588, 'maconnerie,': 589, 'mandatair': 590, 'emport': 591, 'profess': 592, 'avocat': 593, 'vign': 594, 'consulting': 595, 'professionnels,': 596, \"d'entrepris\": 597, 'graphism': 598, 'ape': 599, '6820a': 600, 'reeducation,': 601, \"l'appareillag\": 602, 'dure': 603, 'appart': 604, 'longu': 605, \"l'amenagement,\": 606, \"l'administr\": 607, 'financieres,': 608, 'commerciale,': 609, 'communication,': 610, 'langu': 611, 'vendeur': 612, 'prospect': 613, 'electricit': 614, 'operationnel': 615, 'resident': 616, 'principal': 617, 'reglementes,': 618, 'appliqu': 619, \"d'oeuvr\": 620, 'special': 621, 'dun': 622, 'sis': 623, 'secretariat': 624, 'independ': 625, 'associ': 626, 'ingenieur': 627, 'distanc': 628, 'catalogu': 629, 'exercic': 630, 'liberal': 631, 'reg': 632, \"l'export\": 633, 'gros,': 634, 'demi-gros,': 635, 'vins,': 636, 'alcool': 637, 'cuisines,': 638, 'place,': 639, \"l'exercic\": 640, 'therap': 641, 'sages-femm': 642, 'gestion.': 643, 'vetements,': 644, 'accessoires.': 645, 'concierger': 646, 'strategie,': 647, \"d'energ\": 648, 'renouvel': 649, 'societes,': 650, 'recherch': 651, 'mandat': 652, 'petit': 653, 'rehabilit': 654, 'platrer': 655, 'sais': 656, 'comptabl': 657, 'videast': 658, 'rapid': 659, 'sports,': 660, 'loisirs,': 661, 'tourism': 662, 'manifest': 663, 'parfum': 664, 'lie': 665, 'publicit': 666, 'photos': 667, \"l'organis\": 668, \"d'even\": 669, 'mariag': 670, 'lmnp': 671, 'digital': 672, 'videos,': 673, 'immobil': 674, 'internet,': 675, 'campagn': 676, 'manag': 677, 'artisanal': 678, 'enfants,': 679, 'chambr': 680, 'afin': 681, 'architectur': 682, 'amenag': 683, 'plan': 684, '3d': 685, 'web': 686, 'consist': 687, 'dev': 688, 'recreat': 689, 'agent': 690, 'composit': 691, 'carrelage,': 692, 'meuble,': 693, \"d'objet\": 694, 'conseils,': 695, 'projet': 696, 'compt': 697, 'franc': 698, 'prestatair': 699, 'humaines,': 700, 'recrut': 701, 'sportiv': 702, 'sech': 703, 'ling': 704, 'qualit': 705, 'marchand': 706, 'mobilieres.': 707, 'deratis': 708, 'marchandises,': 709, 'climatis': 710, 'courri': 711, 'dit': 712, 'immob': 713, 'sylvicultur': 714, 'negoci': 715, 'piscines,': 716, 'par': 717, 'hotelier': 718, 'voitur': 719, 'fonction': 720, 'adhes': 721, 'volontair': 722, 'demand': 723, 'poid': 724, 'prothes': 725, 'licenc': 726, 'constitu': 727, 'portefeuill': 728, 'terrestr': 729, 'facon': 730, 'aliment': 731, 'generale,': 732, 'traiteur,': 733, \"d'actions,\": 734, 'cet': 735, \"qu'a\": 736, \"l'etranger,\": 737, \"d'assist\": 738, 'publicitair': 739, 'bien-etr': 740, 'sportif': 741, 'consult': 742, 'logist': 743, 'conseil,': 744, 'sant': 745, \"d'immeubl\": 746, 'heur': 747, 'digital,': 748, 'rattach': 749, \"d'etud\": 750, 'sous': 751, \"d'apport,\": 752, 'import-export': 753, 'detail,': 754, 'accessoires,': 755, 'exist': 756, 'entre': 757, 'oner': 758, \"d'autrui\": 759, 'moyen': 760, 'autoris': 761, 'saisonnier': 762, 'occasionnel': 763, 'web,': 764, 'redact': 765, 'glac': 766, 'raval': 767, 'export': 768, \"d'apport\": 769, 'cours': 770, \"d'origin\": 771, 'utilis': 772, 'jouiss': 773, 'velo.': 774, 'achat-vent': 775, 'graphologu': 776, 'chanti': 777, 'maitris': 778, 'etud': 779, 'stockage,': 780, 'fair': 781, 'pedicures-podologu': 782, 'developpeur': 783, 'negoc': 784, 'entretien,': 785, 'reglement': 786, 'formateur': 787, 'plusieur': 788, 'revent': 789, 'boutiqu': 790, 'entreprises,': 791, 'collectivit': 792, 'priv': 793, 'etre': 794, 'coach': 795, 'element': 796, \"d'interet\": 797, 'jeun': 798, \"l'etrang\": 799, 'commercialisation,': 800, 'negoce,': 801, 'tel': 802, 'decoration,': 803, 'projets,': 804, 'strateg': 805, 'typ': 806, 'bar,': 807, \"l'anim\": 808, '(ap': 809, 'financ': 810, 'expertis': 811, 'scienc': 812, \"d'achat,\": 813, 'detention,': 814, 'immeub': 815, 'immeubles,': 816, \"l'emprunt\": 817, 'necessair': 818, 'port': 819, 'preparatoir': 820, \"d'occasion.\": 821, 'repassag': 822, 'natur': 823, 'represent': 824, \"l'objet\": 825, 'dessin': 826, 'coordin': 827, 'elagage,': 828, \"l'achat\": 829, \"l'import\": 830, 'et,': 831, \"d'adult\": 832, 'reparation,': 833, \"l'entretien,\": 834, 'securite,': 835, 'nouvel': 836, 'technolog': 837, 'lor': 838, 'professeur': 839, 'batis,': 840, 'propos': 841, 'paysag': 842, 'second': 843, 'crepes,': 844, '(hor': 845, 'biens,': 846, 'immobiliere.': 847, \"d'agent\": 848, 'depannage,': 849, 'dud': 850, 'entrepreneur': 851, 'numer': 852, 'dans': 853, \"d'accessoir\": 854, 'denre': 855, 'hotessariat': 856, 'participation,': 857, \"d'action\": 858, 'quelqu': 859, 'secteur': 860, 'contrat': 861, 'energ': 862, 'plein': 863, 'formes,': 864, 'soit,': 865, 'majoritair': 866, 'capital': 867, '(non': 868, 'motorise)': 869, 'sen': 870, 'assoc': 871, \"n'exced\": 872, 'femm': 873, 'audiovisuel': 874, 'ingenier': 875, 'forme,': 876, 'mod': 877, 'beaute,': 878, 'ateli': 879, 'tirag': 880, 'vehicules,': 881, 'rapide,': 882, 'dentair': 883, 'carrelag': 884, 'sous-trait': 885, 'sondag': 886, 'proprietair': 887, 'demarch': 888, 'permanent': 889, 'restauration,': 890, 'menage,': 891, 'particuliers.': 892, 'bijoux,': 893, 'correcteur': 894, \"d'agenc\": 895, 'entreprises.': 896, 'traditionnel': 897, 'exerc': 898, 'sort': 899, 'depannag': 900, 'tatouag': 901, 'colis': 902, 'culturel': 903, 'immobilier.': 904, \"d'avocat\": 905, 'besoin': 906, \"d'act\": 907, 'osteopath': 908, 'sport,': 909, 'energet': 910, 'audit': 911, 'cabinet': 912, 'leur': 913, 'manutention,': 914, 'sacs,': 915, 'chaussures,': 916, \"qu'el\": 917, 'spectacles,': 918, 'location.': 919, 'peintr': 920, 'sac': 921, 'commerciales,': 922, 'thermiqu': 923, 'fin': 924, 'valoris': 925, 'fraich': 926, 'remplac': 927, 'donne': 928, 'cheval': 929, 'service,': 930, 'effet': 931, 'scolair': 932, 'marqu': 933, 'cession,': 934, 'visibilit': 935, 'mobilieres,': 936, 'courti': 937, 'mettr': 938, 'technicien': 939, 'gard': 940, 'masseur': 941, 'non,': 942, 'lien': 943, 'entit': 944, 'societe,': 945, 'caracter': 946, 'manucur': 947, 'prive': 948, 'immobiliere,': 949, 'immobilier,': 950, 'transact': 951, 'confect': 952, 'moral': 953, \"d'acquisition,\": 954, 'eventuel': 955, 'favoris': 956, 'commercial,': 957, 'ligne,': 958, 'educ': 959, 'visit': 960, 'lavag': 961, 'paris': 962, 'compl': 963, 'commerce,': 964, 'civiles,': 965, 'artisanales,': 966, 'papeter': 967, 'intermediation,': 968, 'evalu': 969, 'tier': 970, 'telephon': 971, 'mobile,': 972, 'medi': 973, 'etabl': 974, 'bougies,': 975, 'seanc': 976, 'coaching,': 977, 'professionnels.': 978, 'jardinag': 979, \"d'espac\": 980, 'lieux': 981, 'auto': 982, 'services,': 983, 'prof': 984, 'evenementiel': 985, 'equid': 986, \"d'habit\": 987, \"d'extens\": 988, 'cil': 989, 'cre': 990, 'parfums,': 991, 'contenus': 992, 'traduct': 993, 'financiere,': 994, 'situ': 995, 'immobilieres,': 996, 'tva': 997, 'regim': 998, 'trimestriel': 999, 'taill': 1000, 'videos': 1001, 'technique,': 1002, 'point': 1003, 'rel': 1004, 'corporel': 1005, \"d'habill\": 1006, 'digitale.': 1007, \"d'occasions,\": 1008, 'coutur': 1009, 'moyens,': 1010}\n",
      "nwords: 1010\n"
     ]
    }
   ],
   "source": [
    "min_n=MIN_N\n",
    "max_n=MAX_N\n",
    "num_tokens= NUM_TOKENS\n",
    "len_word_ngrams=LEN_WORD_NGRAMS\n",
    "min_count=MIN_COUNT\n",
    "training_text=training_text\n",
    "\n",
    "if min_n < 2:\n",
    "    raise ValueError(\"`min_n` parameter must be greater than 1.\")\n",
    "if max_n > 6:\n",
    "    raise ValueError(\"`max_n` parameter must be smaller than 7.\")\n",
    "\n",
    "word_counts = {}\n",
    "for sentence in training_text:\n",
    "    for word in sentence.split(\" \"):\n",
    "        word_counts[word] = word_counts.setdefault(word, 0) + 1\n",
    "\n",
    "\n",
    "word_id_mapping = {}\n",
    "i = 1\n",
    "for word, counts in word_counts.items():\n",
    "    if word_counts[word] >= min_count:\n",
    "        word_id_mapping[word] = i\n",
    "        i += 1\n",
    "nwords = len(word_id_mapping)\n",
    "\n",
    "print(f\"word_counts: {word_counts}\")\n",
    "print(f\"word_id_mapping: {word_id_mapping}\")\n",
    "print(f\"nwords: {nwords}\")"
   ]
  },
  {
   "cell_type": "code",
   "execution_count": 9,
   "metadata": {},
   "outputs": [
    {
     "data": {
      "text/plain": [
       "<torchFastText.datasets.tokenizer.NGramTokenizer at 0x7fb35c5bf710>"
      ]
     },
     "execution_count": 9,
     "metadata": {},
     "output_type": "execute_result"
    }
   ],
   "source": [
    "tokenizer = NGramTokenizer(\n",
    "    min_n=MIN_N, \n",
    "    max_n=MAX_N, \n",
    "    num_tokens= NUM_TOKENS,\n",
    "    len_word_ngrams=LEN_WORD_NGRAMS, \n",
    "    min_count=MIN_COUNT, \n",
    "    training_text=training_text\n",
    "    )\n",
    "tokenizer"
   ]
  },
  {
   "cell_type": "markdown",
   "metadata": {},
   "source": [
    "Some internal functions : "
   ]
  },
  {
   "cell_type": "code",
   "execution_count": 10,
   "metadata": {},
   "outputs": [
    {
     "data": {
      "text/plain": [
       "['cha', 'har', 'arc', 'rcu', 'cut', 'uti', 'tie', 'ier']"
      ]
     },
     "execution_count": 10,
     "metadata": {},
     "output_type": "execute_result"
    }
   ],
   "source": [
    "tokenizer.get_ngram_list(\"charcutier\", n=3)"
   ]
  },
  {
   "cell_type": "markdown",
   "metadata": {},
   "source": [
    "`get_hash` gives a unique hash (int) to a token"
   ]
  },
  {
   "cell_type": "code",
   "execution_count": 11,
   "metadata": {},
   "outputs": [
    {
     "name": "stdout",
     "output_type": "stream",
     "text": [
      "865323743\n",
      "865323743\n",
      "3631407781\n",
      "2349978481\n"
     ]
    }
   ],
   "source": [
    "print(tokenizer.get_hash(\"uti\")) \n",
    "print(tokenizer.get_hash(\"uti\")) \n",
    "print(tokenizer.get_hash(\"data\")) \n",
    "print(tokenizer.get_hash(\"scientist\")) "
   ]
  },
  {
   "cell_type": "markdown",
   "metadata": {},
   "source": [
    "For a words ngram like \"data scientist\", `tokenizer.get_hash` give the position (=index) of this word ngram in the embedding matrix.\n",
    "\n",
    "This index is between (nwords) and (nwords + bucket - 1).\n",
    "\n",
    "This means that the indices of the embedding matrix are:\n",
    "\n",
    "- [0, nwords-1] for vocabulary words.\n",
    "- [nwords, nwords + bucket - 1] for n-grams (word or subword ngrams).\n",
    "\n",
    "**Also note that the number of rows in the embedding matrix is : nword + num_tokens** "
   ]
  },
  {
   "cell_type": "code",
   "execution_count": 12,
   "metadata": {},
   "outputs": [
    {
     "name": "stdout",
     "output_type": "stream",
     "text": [
      "100000\n"
     ]
    },
    {
     "data": {
      "text/plain": [
       "51736"
      ]
     },
     "execution_count": 12,
     "metadata": {},
     "output_type": "execute_result"
    }
   ],
   "source": [
    "hashes = (tokenizer.get_hash(\"data\"), tokenizer.get_hash(\"scientist\"))\n",
    "print(num_tokens)\n",
    "tokenizer.get_word_ngram_id(hashes=hashes, bucket=num_tokens, nwords=4000)"
   ]
  },
  {
   "cell_type": "markdown",
   "metadata": {},
   "source": [
    "`get_subword_index` : Get the index of a subword ngram in the embedding matrix"
   ]
  },
  {
   "cell_type": "code",
   "execution_count": 13,
   "metadata": {},
   "outputs": [
    {
     "data": {
      "text/plain": [
       "91599"
      ]
     },
     "execution_count": 13,
     "metadata": {},
     "output_type": "execute_result"
    }
   ],
   "source": [
    "tokenizer.get_subword_index(subword=\"cha\")"
   ]
  },
  {
   "cell_type": "markdown",
   "metadata": {},
   "source": [
    "`get_word_index`: get the indice of a word (directly from `word_id_mapping`)"
   ]
  },
  {
   "cell_type": "code",
   "execution_count": 14,
   "metadata": {},
   "outputs": [
    {
     "data": {
      "text/plain": [
       "212"
      ]
     },
     "execution_count": 14,
     "metadata": {},
     "output_type": "execute_result"
    }
   ],
   "source": [
    "tokenizer.get_word_index(word=\"fil\")"
   ]
  },
  {
   "cell_type": "markdown",
   "metadata": {},
   "source": [
    "`get_subwords`: return all subword ngrams and indices from a word.\n",
    "\n",
    "Also returns the entire word and its indice if this word is in the selected word vocabulary.\n",
    "\n",
    "Tags \"<\" and \">\" are added to the word"
   ]
  },
  {
   "cell_type": "code",
   "execution_count": 15,
   "metadata": {},
   "outputs": [
    {
     "data": {
      "text/plain": [
       "(['<m',\n",
       "  'ma',\n",
       "  'an',\n",
       "  'nu',\n",
       "  'uf',\n",
       "  'fa',\n",
       "  'ac',\n",
       "  'ct',\n",
       "  'tu',\n",
       "  'ur',\n",
       "  'ri',\n",
       "  'ie',\n",
       "  'er',\n",
       "  'r>',\n",
       "  '<ma',\n",
       "  'man',\n",
       "  'anu',\n",
       "  'nuf',\n",
       "  'ufa',\n",
       "  'fac',\n",
       "  'act',\n",
       "  'ctu',\n",
       "  'tur',\n",
       "  'uri',\n",
       "  'rie',\n",
       "  'ier',\n",
       "  'er>',\n",
       "  '<man',\n",
       "  'manu',\n",
       "  'anuf',\n",
       "  'nufa',\n",
       "  'ufac',\n",
       "  'fact',\n",
       "  'actu',\n",
       "  'ctur',\n",
       "  'turi',\n",
       "  'urie',\n",
       "  'rier',\n",
       "  'ier>'],\n",
       " [99284,\n",
       "  46573,\n",
       "  41528,\n",
       "  17694,\n",
       "  75860,\n",
       "  11098,\n",
       "  50575,\n",
       "  11908,\n",
       "  13908,\n",
       "  23480,\n",
       "  62502,\n",
       "  22885,\n",
       "  60456,\n",
       "  75363,\n",
       "  92139,\n",
       "  74561,\n",
       "  15579,\n",
       "  75696,\n",
       "  50539,\n",
       "  12899,\n",
       "  43197,\n",
       "  29719,\n",
       "  9442,\n",
       "  41039,\n",
       "  15701,\n",
       "  25861,\n",
       "  43850,\n",
       "  11495,\n",
       "  17792,\n",
       "  29487,\n",
       "  45279,\n",
       "  64640,\n",
       "  92433,\n",
       "  16268,\n",
       "  51591,\n",
       "  78317,\n",
       "  6778,\n",
       "  76085,\n",
       "  89129])"
      ]
     },
     "execution_count": 15,
     "metadata": {},
     "output_type": "execute_result"
    }
   ],
   "source": [
    "tokenizer.get_subwords(word=\"manufacturier\")"
   ]
  },
  {
   "cell_type": "markdown",
   "metadata": {},
   "source": [
    "`indices_matrix`\n",
    "\n",
    "Tokenize a sentence and returns : \n",
    "- indices: an tensor of indices\n",
    "- id_to_token: a dict of tokens: id (**/!\\ problem if 2 different tokens with the same id**)\n",
    "- all_tokens_id : a dict of id: token \n",
    "\n",
    "Adds an \"end of string\" tag: `</s>` with indice = 0.\n",
    "\n",
    "Used in `collate_fn` (`FastTextModelDataset`).\n"
   ]
  },
  {
   "cell_type": "code",
   "execution_count": 16,
   "metadata": {},
   "outputs": [
    {
     "name": "stdout",
     "output_type": "stream",
     "text": [
      "==== indices\n",
      "\n",
      "tensor([  212, 42617, 90146, 66218,  9697, 66876,  2500, 47684,  9776, 54522,\n",
      "        20955, 14860, 32503, 31074, 94742, 23504, 40099, 59243, 59500, 17757,\n",
      "        34803, 45482, 33394, 87558, 60497, 64397, 77198, 18327, 24269, 67835,\n",
      "        41689, 58166, 91361, 75674, 23980,  5464,    88, 99284, 46573, 49146,\n",
      "        72004, 60456, 62502, 22885, 94742,  9697, 92139,  8847, 53865, 49586,\n",
      "        61471, 15701, 54431, 58112, 35305, 63482,  3505,  7837, 19530, 20847,\n",
      "        49883,     0, 43953, 66823,  4663, 69627, 25154])\n",
      "\n",
      "==== indices length\n",
      "\n",
      "67\n",
      "\n",
      "==== id_to_token\n",
      "\n",
      "{212: 'fil', 42617: '<f', 90146: 'fi', 66218: 'il', 9697: 'l>', 66876: '<fi', 2500: 'il>', 47684: '<fil', 9776: 'fil>', 54522: '<c', 20955: 'ca', 14860: 'ar', 32503: 'rr', 31074: 're', 94742: 'el', 23504: 'la', 40099: 'ag', 59243: 'ge', 59500: 'e>', 17757: '<ca', 34803: 'car', 45482: 'arr', 33394: 'rre', 87558: 'rel', 60497: 'ela', 64397: 'lag', 77198: 'age', 18327: 'ge>', 24269: '<car', 67835: 'carr', 41689: 'arre', 58166: 'rrel', 91361: 'rela', 75674: 'elag', 23980: 'lage', 5464: 'age>', 88: 'materiel', 99284: '<m', 46573: 'ma', 49146: 'at', 72004: 'te', 60456: 'er', 62502: 'ri', 22885: 'ie', 92139: '<ma', 8847: 'mat', 53865: 'ate', 49586: 'ter', 61471: 'eri', 15701: 'rie', 54431: 'iel', 58112: 'el>', 35305: '<mat', 63482: 'mate', 3505: 'ater', 7837: 'teri', 19530: 'erie', 20847: 'riel', 49883: 'iel>', 0: '</s>', 43953: 'fil carrelage', 66823: 'carrelage materiel', 4663: 'materiel </s>', 69627: 'fil carrelage materiel', 25154: 'carrelage materiel </s>'}\n",
      "\n",
      "==== id_to_token length\n",
      "\n",
      "65\n",
      "\n",
      "==== all_tokens_id\n",
      "\n",
      "{'fil': 212, '<f': 42617, 'fi': 90146, 'il': 66218, 'l>': 9697, '<fi': 66876, 'il>': 2500, '<fil': 47684, 'fil>': 9776, '<c': 54522, 'ca': 20955, 'ar': 14860, 'rr': 32503, 're': 31074, 'el': 94742, 'la': 23504, 'ag': 40099, 'ge': 59243, 'e>': 59500, '<ca': 17757, 'car': 34803, 'arr': 45482, 'rre': 33394, 'rel': 87558, 'ela': 60497, 'lag': 64397, 'age': 77198, 'ge>': 18327, '<car': 24269, 'carr': 67835, 'arre': 41689, 'rrel': 58166, 'rela': 91361, 'elag': 75674, 'lage': 23980, 'age>': 5464, 'materiel': 88, '<m': 99284, 'ma': 46573, 'at': 49146, 'te': 72004, 'er': 60456, 'ri': 62502, 'ie': 22885, '<ma': 92139, 'mat': 8847, 'ate': 53865, 'ter': 49586, 'eri': 61471, 'rie': 15701, 'iel': 54431, 'el>': 58112, '<mat': 35305, 'mate': 63482, 'ater': 3505, 'teri': 7837, 'erie': 19530, 'riel': 20847, 'iel>': 49883, '</s>': 0, 'fil carrelage': 43953, 'carrelage materiel': 66823, 'materiel </s>': 4663, 'fil carrelage materiel': 69627, 'carrelage materiel </s>': 25154}\n",
      "\n",
      "==== all_tokens_id length\n",
      "\n",
      "65\n"
     ]
    }
   ],
   "source": [
    "indices, id_to_token, all_tokens_id = tokenizer.indices_matrix(\"fil carrelage materiel\")\n",
    "print(\"==== indices\\n\")\n",
    "print(indices)\n",
    "print(\"\\n==== indices length\\n\")\n",
    "print(len(indices))\n",
    "print(\"\\n==== id_to_token\\n\")\n",
    "print(id_to_token)\n",
    "print(\"\\n==== id_to_token length\\n\")\n",
    "print(len(id_to_token))\n",
    "print(\"\\n==== all_tokens_id\\n\")\n",
    "print(all_tokens_id)\n",
    "print(\"\\n==== all_tokens_id length\\n\")\n",
    "print(len(all_tokens_id))"
   ]
  },
  {
   "cell_type": "markdown",
   "metadata": {},
   "source": [
    "`tokenize` : loops indices_matrix results for a full training texte (= a list of sentences).\n",
    "\n",
    "/!\\ problem with param `text_tokens=True`: only used for explanability."
   ]
  },
  {
   "cell_type": "code",
   "execution_count": 17,
   "metadata": {},
   "outputs": [
    {
     "name": "stdout",
     "output_type": "stream",
     "text": [
      "\n",
      "tokenized_text:\n",
      "[tensor([ 9760, 15816, 43375, 82973,   212, 42617, 90146, 66218,  9697, 66876,\n",
      "         2500, 47684,  9776,     0, 24467, 15047, 58630]), tensor([32141, 27575, 27575, 47571, 81517, 38259, 98765, 95475,  9760, 15816,\n",
      "        43375, 82973,     0, 32272, 14808, 72821])]\n",
      "\n",
      "id_to_token_dicts:\n",
      "[{9760: '<a', 15816: 'a>', 43375: '<aa', 82973: 'aa>', 212: 'fil', 42617: '<f', 90146: 'fi', 66218: 'il', 9697: 'l>', 66876: '<fi', 2500: 'il>', 47684: '<fil', 9776: 'fil>', 0: '</s>', 24467: 'aa fil', 15047: 'fil </s>', 58630: 'aa fil </s>'}, {32141: '<b', 27575: 'bb', 47571: 'b>', 81517: '<bb', 38259: 'bb>', 98765: '<bbb', 95475: 'bbb>', 9760: '<a', 15816: 'a>', 43375: '<aa', 82973: 'aa>', 0: '</s>', 32272: 'bbb aa', 14808: 'aa </s>', 72821: 'bbb aa </s>'}]\n",
      "\n",
      "token_to_id_dicts:\n",
      "[{'<a': 9760, 'a>': 15816, '<aa': 43375, 'aa>': 82973, 'fil': 212, '<f': 42617, 'fi': 90146, 'il': 66218, 'l>': 9697, '<fi': 66876, 'il>': 2500, '<fil': 47684, 'fil>': 9776, '</s>': 0, 'aa fil': 24467, 'fil </s>': 15047, 'aa fil </s>': 58630}, {'<b': 32141, 'bb': 27575, 'b>': 47571, '<bb': 81517, 'bb>': 38259, '<bbb': 98765, 'bbb>': 95475, '<a': 9760, 'a>': 15816, '<aa': 43375, 'aa>': 82973, '</s>': 0, 'bbb aa': 32272, 'aa </s>': 14808, 'bbb aa </s>': 72821}]\n",
      "17\n",
      "17\n",
      "17\n"
     ]
    }
   ],
   "source": [
    "( \n",
    "    tokenized_text, \n",
    "    id_to_token_dicts, \n",
    "    token_to_id_dicts\n",
    ") = tokenizer.tokenize(\n",
    "        text=[\"aa fil\", \"bbb aa\"], \n",
    "        text_tokens=False, \n",
    "        preprocess=False\n",
    "    )\n",
    "\n",
    "print('\\ntokenized_text:')\n",
    "print(tokenized_text)\n",
    "print('\\nid_to_token_dicts:')\n",
    "print(id_to_token_dicts)\n",
    "print('\\ntoken_to_id_dicts:')\n",
    "print(token_to_id_dicts)\n",
    "\n",
    "print(len(tokenized_text[0]))\n",
    "print(len(id_to_token_dicts[0]))\n",
    "print(len(token_to_id_dicts[0]))"
   ]
  },
  {
   "cell_type": "code",
   "execution_count": 18,
   "metadata": {},
   "outputs": [],
   "source": [
    "# text = [\"aa\", \"bbb\"]\n",
    "# text_tokens=True\n",
    "# preprocess=False\n",
    "\n",
    "# tokenized_text = []\n",
    "# id_to_token_dicts = []\n",
    "# token_to_id_dicts = []\n",
    "\n",
    "# sentence = text[0]\n",
    "# all_ind, id_to_token, token_to_id = tokenizer.indices_matrix(sentence)\n",
    "# tokenized_text.append(all_ind)\n",
    "# id_to_token_dicts.append(id_to_token)\n",
    "# token_to_id_dicts.append(token_to_id)\n",
    "\n",
    "# sentence = text[1]\n",
    "# all_ind, id_to_token, token_to_id = tokenizer.indices_matrix(sentence)\n",
    "# tokenized_text.append(all_ind)\n",
    "# id_to_token_dicts.append(id_to_token)\n",
    "# token_to_id_dicts.append(token_to_id)\n",
    "\n",
    "# print(tokenized_text)\n",
    "# print(id_to_token_dicts)\n",
    "# print(token_to_id_dicts)\n",
    "# padding_index=2009603\n",
    "# end_of_string_index=0\n",
    "# i=0\n",
    "# tokenized_sentence = tokenized_text[0]\n",
    "# print(tokenized_sentence)\n",
    "# token_id = tokenized_sentence[0]\n",
    "# token_id.item()\n",
    "# id_to_token_dicts[i][token_id.item()]\n",
    "\n",
    "#  [\n",
    "#             id_to_token_dicts[i][token_id.item()]\n",
    "#             for token_id in tokenized_sentence\n",
    "#             if token_id.item() not in {padding_index}\n",
    "#         ]\n",
    "#         for i, tokenized_sentence in enumerate(tokenized_text)\n",
    "\n",
    "\n",
    "# for sentence in text:\n",
    "#     all_ind, id_to_token, token_to_id = self.indices_matrix(\n",
    "#         sentence\n",
    "#     )  # tokenize and convert to token indices\n",
    "#     tokenized_text.append(all_ind)\n",
    "#     id_to_token_dicts.append(id_to_token)\n",
    "#     token_to_id_dicts.append(token_to_id)\n",
    "\n",
    "# if text_tokens:\n",
    "#     tokenized_text_tokens = tokenized_text_in_tokens(tokenized_text, id_to_token_dicts)\n",
    "#     return tokenized_text_tokens, tokenized_text, id_to_token_dicts, token_to_id_dicts\n",
    "# else:\n",
    "#     return tokenized_text, id_to_token_dicts, token_to_id_dicts\n",
    "\n",
    "# def tokenized_text_in_tokens(\n",
    "#     tokenized_text, id_to_token_dicts, padding_index=2009603, end_of_string_index=0\n",
    "# ):\n",
    "#     return [\n",
    "#         [\n",
    "#             id_to_token_dicts[i][token_id.item()]\n",
    "#             for token_id in tokenized_sentence\n",
    "#             if token_id.item() not in {padding_index}\n",
    "#         ]\n",
    "#         for i, tokenized_sentence in enumerate(tokenized_text)\n",
    "#     ]\n",
    "# all_tokens_id = {'bonjour': 1, 'monde': 2, '!': 1}\n",
    "\n",
    "# # Inversion du dictionnaire : IDs -> tokens\n",
    "# id_to_token = {v: k for k, v in all_tokens_id.items()}\n",
    "\n",
    "# print(id_to_token)"
   ]
  },
  {
   "cell_type": "markdown",
   "metadata": {},
   "source": [
    "### Build model from tokenizer"
   ]
  },
  {
   "cell_type": "markdown",
   "metadata": {},
   "source": [
    "Question: what happens under the hood when using `torchFastText.build_from_tokenizer` ?"
   ]
  },
  {
   "cell_type": "code",
   "execution_count": 19,
   "metadata": {},
   "outputs": [
    {
     "data": {
      "text/plain": [
       "[24, 26, 8, 12, 3, 4]"
      ]
     },
     "execution_count": 19,
     "metadata": {},
     "output_type": "execute_result"
    }
   ],
   "source": [
    "EMBED_DIM\n",
    "CAT_EMBED_DIM\n",
    "SPARSE\n",
    "LR\n",
    "NUM_CLASSES\n",
    "NUM_CAT_VAR\n",
    "CAT_VOCAB_SIZE"
   ]
  },
  {
   "cell_type": "code",
   "execution_count": 20,
   "metadata": {},
   "outputs": [
    {
     "name": "stderr",
     "output_type": "stream",
     "text": [
      "2025-03-14 16:21:23 - torchFastText.model.pytorch_model - num_rows is different from the number of tokens in the tokenizer. Using provided num_rows.\n",
      "2025-03-14 16:21:23 - torchFastText.torchFastText - No scheduler parameters provided. Using default parameters (suited for ReduceLROnPlateau).\n"
     ]
    }
   ],
   "source": [
    "model = torchFastText.build_from_tokenizer(\n",
    "    tokenizer, \n",
    "    embedding_dim=EMBED_DIM, \n",
    "    categorical_embedding_dims=CAT_EMBED_DIM, \n",
    "    sparse=SPARSE, \n",
    "    lr = LR, \n",
    "    num_classes=NUM_CLASSES, \n",
    "    num_categorical_features=NUM_CAT_VAR, \n",
    "    categorical_vocabulary_sizes=CAT_VOCAB_SIZE\n",
    "    )"
   ]
  },
  {
   "cell_type": "code",
   "execution_count": 22,
   "metadata": {},
   "outputs": [
    {
     "name": "stdout",
     "output_type": "stream",
     "text": [
      "101011\n",
      "101010\n"
     ]
    }
   ],
   "source": [
    "print(model.num_rows)\n",
    "print(model.padding_idx)"
   ]
  },
  {
   "cell_type": "code",
   "execution_count": null,
   "metadata": {},
   "outputs": [],
   "source": []
  }
 ],
 "metadata": {
  "kernelspec": {
   "display_name": "base",
   "language": "python",
   "name": "python3"
  },
  "language_info": {
   "codemirror_mode": {
    "name": "ipython",
    "version": 3
   },
   "file_extension": ".py",
   "mimetype": "text/x-python",
   "name": "python",
   "nbconvert_exporter": "python",
   "pygments_lexer": "ipython3",
   "version": "3.12.7"
  }
 },
 "nbformat": 4,
 "nbformat_minor": 2
}
