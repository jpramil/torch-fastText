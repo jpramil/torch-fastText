{
 "cells": [
  {
   "cell_type": "markdown",
   "metadata": {},
   "source": [
    "# Explain how it works"
   ]
  },
  {
   "cell_type": "markdown",
   "metadata": {},
   "source": [
    "- introduction to `torch` framework\n",
    "- expose `torchFasttext` specificities "
   ]
  },
  {
   "cell_type": "markdown",
   "metadata": {},
   "source": [
    "## Environment and data "
   ]
  },
  {
   "cell_type": "code",
   "execution_count": 1,
   "metadata": {},
   "outputs": [],
   "source": [
    "!pip install -r ../requirements.txt -q"
   ]
  },
  {
   "cell_type": "code",
   "execution_count": 2,
   "metadata": {},
   "outputs": [],
   "source": [
    "import os\n",
    "import sys\n",
    "import time\n",
    "import s3fs\n",
    "from typing import List, Optional, Dict\n",
    "from pathlib import Path\n",
    "from utils_describe import get_data\n",
    "\n",
    "sys.path.append(\"../\")\n",
    "from torchFastText import torchFastText\n",
    "from torchFastText.preprocess import clean_text_feature\n",
    "from torchFastText.datasets import NGramTokenizer\n",
    "sys.path.append(\"./notebooks\")\n",
    "\n",
    "import numpy as np\n",
    "# import pandas as pd\n",
    "# import pyarrow.parquet as pq\n",
    "\n",
    "# from utils import add_libelles, clean_and_tokenize_df, stratified_split_rare_labels\n",
    "\n",
    "%load_ext autoreload\n",
    "%autoreload 2"
   ]
  },
  {
   "cell_type": "code",
   "execution_count": 3,
   "metadata": {},
   "outputs": [
    {
     "name": "stderr",
     "output_type": "stream",
     "text": [
      "2025-03-10 16:42:43 - botocore.httpchecksum - Skipping checksum validation. Response did not contain one of the following algorithms: ['crc32', 'sha1', 'sha256'].\n",
      "2025-03-10 16:42:43 - botocore.httpchecksum - Skipping checksum validation. Response did not contain one of the following algorithms: ['crc32', 'sha1', 'sha256'].\n",
      "2025-03-10 16:42:44 - botocore.httpchecksum - Skipping checksum validation. Response did not contain one of the following algorithms: ['crc32', 'sha1', 'sha256'].\n",
      "2025-03-10 16:42:45 - botocore.httpchecksum - Skipping checksum validation. Response did not contain one of the following algorithms: ['crc32', 'sha1', 'sha256'].\n",
      "2025-03-10 16:42:46 - botocore.httpchecksum - Skipping checksum validation. Response did not contain one of the following algorithms: ['crc32', 'sha1', 'sha256'].\n",
      "2025-03-10 16:42:50 - botocore.httpchecksum - Skipping checksum validation. Response did not contain one of the following algorithms: ['crc32', 'sha1', 'sha256'].\n"
     ]
    },
    {
     "name": "stdout",
     "output_type": "stream",
     "text": [
      "\t*** 732 codes have been added in the database...\n",
      "\n"
     ]
    },
    {
     "name": "stderr",
     "output_type": "stream",
     "text": [
      "/home/onyxia/work/torch-fastText/notebooks/utils.py:60: FutureWarning: Setting an item of incompatible dtype is deprecated and will raise an error in a future version of pandas. Value 'nan' has dtype incompatible with float64, please explicitly cast to a compatible dtype first.\n",
      "  df.fillna(\"nan\", inplace=True)\n"
     ]
    }
   ],
   "source": [
    "X_train, X_test, y_train, y_test = get_data()"
   ]
  },
  {
   "cell_type": "code",
   "execution_count": 4,
   "metadata": {},
   "outputs": [
    {
     "name": "stdout",
     "output_type": "stream",
     "text": [
      "Features for the 3 first training obs:\n",
      "\n",
      "[['affair etranger' 22 27 7 8 0 0]\n",
      " ['raffinag petrol' 22 27 7 8 0 0]\n",
      " [\"fabriqu d'autr equip transport n.c.a.\" 22 27 7 8 0 0]]\n",
      "\n",
      "\n",
      "NAF codes (labels) for the 3 first training obs:\n",
      "\n",
      "[643 142 285]\n"
     ]
    }
   ],
   "source": [
    "print(\"Features for the 3 first training obs:\\n\")\n",
    "print(X_train[:3])\n",
    "print(\"\\n\")\n",
    "print(\"NAF codes (labels) for the 3 first training obs:\\n\")\n",
    "print(y_train[:3])"
   ]
  },
  {
   "cell_type": "markdown",
   "metadata": {},
   "source": [
    "Parameters : \n",
    "- example with a unique embedding dimension for categorical variables"
   ]
  },
  {
   "cell_type": "code",
   "execution_count": 5,
   "metadata": {},
   "outputs": [],
   "source": [
    "# Parameters for model building\n",
    "NUM_TOKENS= int(1e5) # Number of rows in the embedding matrix = size of the embedded vocabulary\n",
    "EMBED_DIM = 50 # Dimension of the embedding = number of columns in the embedding matrix\n",
    "SPARSE = False # Whether to use sparse Embedding layer for fast computation (see PyTorch documentation)\n",
    "CAT_EMBED_DIM = 10 # Dimension of the embedding for categorical features\n",
    "\n",
    "# Parameters for tokenizer\n",
    "MIN_COUNT = 3 # Minimum number of occurrences of a word in the corpus to be included in the vocabulary\n",
    "MIN_N = 2 # Minimum length of char n-grams\n",
    "MAX_N = 4 # Maximum length of char n-grams\n",
    "LEN_WORD_NGRAMS = 3 # Length of word n-grams\n",
    "\n",
    "# Parameters for training - not useful immediately\n",
    "LR = 4e-3 # Learning rate\n",
    "NUM_EPOCHS = 1\n",
    "BATCH_SIZE = 256\n",
    "PATIENCE = 3"
   ]
  },
  {
   "cell_type": "markdown",
   "metadata": {},
   "source": [
    "## Building the model"
   ]
  },
  {
   "cell_type": "markdown",
   "metadata": {},
   "source": [
    "Explore what's happen during the build step.\n",
    "Hypothesis:\n",
    "- we use the `torchFastText.build_from_tokenizer` method to build: the tokenizer must be created first.\n",
    "- we don't use json method to get parameters\n"
   ]
  },
  {
   "cell_type": "code",
   "execution_count": 6,
   "metadata": {},
   "outputs": [
    {
     "name": "stdout",
     "output_type": "stream",
     "text": [
      "NUM_CAT_VAR: 6\n",
      "CAT_VOCAB_SIZE: [23, 28, 8, 12, 3, 4]\n",
      "NUM_CLASSES: 732\n"
     ]
    }
   ],
   "source": [
    "training_text = X_train[:, 0].tolist()\n",
    "categorical_variables = X_train[:, 1:]\n",
    "\n",
    "NUM_CAT_VAR = categorical_variables.shape[1]\n",
    "CAT_VOCAB_SIZE = (np.max(categorical_variables, axis=0) + 1).astype(int).tolist()\n",
    "NUM_CLASSES = len(np.unique(y_train))\n",
    "\n",
    "print(f\"NUM_CAT_VAR: {NUM_CAT_VAR}\")\n",
    "print(f\"CAT_VOCAB_SIZE: {CAT_VOCAB_SIZE}\")\n",
    "print(f\"NUM_CLASSES: {NUM_CLASSES}\")"
   ]
  },
  {
   "cell_type": "markdown",
   "metadata": {},
   "source": [
    "### The tokenizer"
   ]
  },
  {
   "cell_type": "markdown",
   "metadata": {},
   "source": [
    "Lets describe the constructor of `NGramTokenizer` class"
   ]
  },
  {
   "cell_type": "markdown",
   "metadata": {},
   "source": [
    "```python\n",
    "tokenizer = NGramTokenizer(\n",
    "    min_n=MIN_N, \n",
    "    max_n=MAX_N, \n",
    "    num_tokens= NUM_TOKENS,\n",
    "    len_word_ngrams=LEN_WORD_NGRAMS, \n",
    "    min_count=MIN_COUNT, \n",
    "    training_text=training_text\n",
    "    )\n"
   ]
  },
  {
   "cell_type": "markdown",
   "metadata": {},
   "source": [
    "Constructor steps : \n",
    "- Checks params min_n and max_n\n",
    "- Creates a mapping of all unique words contained in `training_text` ==> `word_id_mapping`\n",
    "- Counts the number of unique words in the all training text ==> `nwords`\n",
    "- Counts the number of occurrences of each word in the all training text ==> `word_counts` "
   ]
  },
  {
   "cell_type": "code",
   "execution_count": 7,
   "metadata": {},
   "outputs": [
    {
     "name": "stdout",
     "output_type": "stream",
     "text": [
      "word_counts: {'affair': 18, 'etranger': 4, 'raffinag': 1, 'petrol': 2, 'fabriqu': 220, \"d'autr\": 72, 'equip': 26, 'transport': 49, 'n.c.a.': 19, 'cafeteri': 1, 'autr': 149, 'libres-servic': 1, 'commerc': 149, 'gros': 57, '(commerc': 46, 'interentreprises)': 46, 'produit': 147, 'intermediair': 15, 'construct': 48, 'bateau': 4, 'plaisanc': 1, 'textil': 17, 'techniqu': 23, 'industriel': 21, 'cultur': 36, 'cann': 1, 'sucr': 2, 'machin': 25, 'specialise': 8, 'chimiqu': 6, \"d'instrument\": 1, 'scientif': 2, 'conduit': 7, 'fruit': 15, 'legum': 7, 'briques,': 1, 'tuil': 1, 'construction,': 32, 'terr': 4, 'cuit': 1, 'repar': 38, \"d'articl\": 25, \"d'horloger\": 3, 'bijouter': 5, 'inorgan': 1, 'bas': 16, 'prepar': 21, 'fibr': 11, 'filatur': 1, 'abras': 2, 'fil': 3, 'cabl': 3, 'electron': 18, 'electr': 29, 'beton': 4, 'pret': 5, \"l'emploi\": 2, 'materiel': 53, 'agricol': 14, 'distribu': 17, 'combustibl': 5, 'gazeux': 4, 'etirag': 1, 'froid': 6, 'barr': 1, 'tubes,': 1, 'tuyaux,': 1, 'profil': 2, 'creux': 2, 'accessoir': 25, 'correspond': 2, 'aci': 4, 'organis': 37, 'jeux': 11, 'hasard': 1, \"d'argent\": 1, 'activit': 209, 'centr': 11, 'physiqu': 9, 'meubles,': 4, 'tapis': 2, \"d'appareil\": 12, \"d'eclairag\": 2, 'servic': 177, 'feu': 1, 'secour': 2, \"d'ouvrag\": 8, 'fibre-c': 1, 'locat': 244, 'oper': 22, 'exploit': 36, 'forestier': 5, \"d'enquet\": 1, 'metallurg': 7, \"l'aluminium\": 1, 'mobili': 19, 'bureau': 16, 'hypermarch': 1, \"d'equip\": 27, '(a': 3, \"l'except\": 5, 'ordin': 2, 'peripheriques)': 1, \"d'electricit\": 22, 'fleur': 3, 'plant': 10, 'mineral': 3, 'non': 205, 'metall': 13, 'promot': 16, 'immobilier': 25, 'hydraul': 2, 'pneumat': 3, 'carrosser': 3, 'remorqu': 1, 'traval': 104, 'terrass': 8, 'specialis': 41, 'grand': 5, 'mass': 1, 'project': 2, 'film': 8, 'cinematograph': 2, 'fromag': 1, 'camion': 2, 'chauffeur': 24, 'fonder': 4, 'metal': 14, 'ferreux': 3, 'enseign': 22, 'primair': 2, 'geometr': 1, 'optiqu': 11, 'reseau': 15, 'telecommun': 10, 'explos': 1, 'riz': 1, 'aeraul': 1, 'frigorif': 4, 'captage,': 1, 'trait': 16, \"d'eau\": 3, 'laboratoir': 1, \"d'analys\": 2, 'medical': 8, 'extract': 13, 'min': 7, \"d'uranium\": 1, 'thorium': 1, 'auxiliair': 6, \"d'assur\": 6, 'caiss': 4, 'retrait': 4, \"d'el\": 3, 'platr': 6, 'credit-bail': 1, 'vis': 1, 'boulon': 1, 'forag': 1, 'sondag': 2, \"d'animal\": 3, 'viv': 6, 'vehicul': 82, 'militair': 1, 'combat': 1, 'industr': 8, 'eau': 6, 'tabl': 4, 'lunet': 1, 'moul': 1, 'model': 2, 'cartonnag': 1, \"d'emballag\": 4, 'papi': 10, 'detail': 62, 'jouet': 4, 'magasin': 35, 'sucre,': 1, 'chocolat': 2, 'confiser': 7, 'location-bail': 10, 'propriet': 12, 'intellectuel': 6, 'similaires,': 1, 'oeuvr': 8, 'soumis': 2, 'copyright': 1, 'meubl': 96, 'reassur': 1, 'compos': 4, 'bois': 13, 'laitiers,': 2, 'oeufs,': 1, 'huil': 3, 'matier': 25, 'grass': 1, 'comestibl': 2, 'heberg': 17, 'social': 28, 'handicap': 7, 'mental': 5, 'malad': 3, 'soutien': 16, \"l'extract\": 2, \"d'hydrocarbur\": 1, 'cond': 1, 'assaison': 1, 'textiles,': 3, 'habillement,': 1, 'fourrures,': 1, 'chaussur': 9, 'articl': 25, 'cuir': 5, \"d'install\": 15, 'robinetter': 1, \"d'huil\": 4, 'graiss': 3, 'brut': 2, 'pomp': 3, 'compresseur': 1, 'videocasset': 1, 'disqu': 1, 'video': 10, 'pharmaceut': 6, 'gestion': 150, 'muse': 1, 'tabac': 7, 'journal': 3, 'papeter': 3, 'aeronaut': 2, 'spatial': 3, 'peint': 2, 'fourrur': 2, 'complementair': 1, \"d'aid\": 10, 'navig': 1, 'product': 31, 'boisson': 31, 'fermente': 1, 'distille': 2, 'depollu': 1, 'dechet': 8, 'elimin': 2, 'danger': 4, 'aquacultur': 2, 'mer': 2, 'elevag': 20, \"d'ovin\": 1, 'caprin': 1, 'margarin': 1, 'similair': 10, 'administr': 48, 'publiqu': 9, '(tutelle)': 2, 'sante,': 1, 'formation,': 11, 'sociaux,': 7, 'securit': 15, 'enrich': 1, 'nucleair': 3, 'lignit': 1, 'profilag': 1, 'formag': 1, 'pliag': 1, 'radiateur': 1, 'chaudier': 3, 'chauffag': 12, 'central': 9, 'metalliques,': 2, 'chain': 3, 'ressort': 1, 'amylac': 1, 'semenc': 2, 'carreau': 1, 'ceram': 7, 'club': 1, 'sport': 12, 'bicyclet': 1, 'invalid': 1, 'carbur': 2, 'professionnel': 146, 'permanent': 3, 'machines-outil': 3, 'travail': 12, 'ferroviair': 3, 'fret': 7, \"d'aci\": 1, 'edit': 14, 'themat': 2, 'sieg': 6, \"d'ameubl\": 2, \"d'interieur\": 4, 'transform': 12, 'conserv': 7, 'viand': 6, 'volaill': 6, 'econom': 6, 'maroquiner': 4, 'voyag': 5, 'telepher': 1, 'remonte': 1, 'mecan': 12, 'plastiqu': 11, 'brosser': 1, 'chameau': 1, 'camelid': 1, 'command': 6, 'concept': 20, \"d'ensembl\": 2, 'assemblag': 3, 'sit': 20, 'control': 7, 'processus': 2, 'alimentair': 30, 'port': 4, 'fenetr': 1, 'orthoped': 1, 'automobil': 33, 'demenag': 3, 'menag': 8, 'tant': 16, \"qu'employeur\": 1, 'personnel': 15, 'domest': 6, 'medicalis': 3, 'adult': 11, \"d'usag\": 1, 'general': 41, 'commun': 28, 'verr': 8, 'plat': 16, 'photograph': 16, 'support': 16, 'magnet': 1, 'electromenager': 4, 'demantel': 1, \"d'epav\": 1, 'entreposag': 2, 'stockag': 4, 'leger': 8, 'cereales,': 2, 'manufacture,': 1, \"d'al\": 4, 'betail': 1, 'combustibles,': 1, 'metaux,': 2, 'appret': 1, 'tannag': 1, 'teintur': 1, 'secondair': 2, 'gaz': 4, 'naturel': 3, 'collect': 12, 'use': 1, 'gener': 3, 'vapeur,': 1, 'defens': 1, 'peintures,': 2, 'vernis,': 1, 'encre': 1, 'mastic': 1, 'syndicat': 1, 'salar': 1, 'taille,': 2, 'faconnag': 3, 'finissag': 1, 'pierr': 4, 'demolit': 3, 'rout': 3, 'autorout': 1, 'animal': 13, 'compagn': 5, \"d'engr\": 2, 'coll': 1, 'famill': 2, 'difficult': 3, 'chauss': 1, 'maill': 3, 'surgel': 3, 'tierc': 1, 'mainten': 19, 'system': 19, \"d'appliqu\": 2, 'informat': 33, 'horloger': 2, 'pain': 1, 'patisser': 8, 'fraich': 3, 'elabor': 2, 'indifferencie': 2, 'producteur': 28, 'bien': 126, 'usag': 11, 'propr': 7, 'banqu': 4, \"d'organ\": 2, 'revet': 11, 'jus': 3, 'savons,': 1, 'detergent': 1, \"d'entretien\": 4, 'evalu': 3, 'risqu': 2, 'dommag': 1, 'fluvial': 3, 'passager': 3, 'blanchisserie-teinturer': 2, 'pech': 3, 'douc': 2, 'charpent': 9, 'menuiser': 13, 'laminag': 1, 'feuillard': 1, 'sportiv': 4, 'menager': 6, 'revenus': 1, 'carton': 4, 'ondul': 1, 'font': 1, 'restaur': 51, 'placag': 1, 'panneau': 9, \"d'isol\": 2, 'piec': 9, 'isol': 3, 'locomot': 1, 'roul': 1, 'vet': 27, 'agenc': 20, 'press': 3, \"d'edit\": 2, \"d'instru\": 2, 'musiqu': 5, 'logiciel': 23, 'outil': 4, 'developp': 30, 'langag': 1, 'routi': 11, 'reguli': 2, 'voyageur': 5, \"d'ordr\": 1, 'public': 17, 'audio': 1, 'gibi': 1, 'reliur': 1, 'connex': 8, \"l'industr\": 4, \"l'habill\": 1, 'recolt': 2, 'courtag': 6, 'valeur': 20, 'mobilier': 15, 'marchandis': 20, 'boucher': 4, 'malt': 1, 'sanitair': 5, 'rafraich': 1, 'fournitur': 21, 'plomber': 10, 'cacao,': 1, 'cuivr': 1, 'decoupage,': 1, 'emboutissag': 1, 'sel': 1, 'the': 2, 'caf': 3, 'manutent': 3, 'portuair': 2, 'poissons,': 3, 'crustac': 3, 'mollusqu': 3, 'pil': 1, \"d'accumul\": 1, 'motocycl': 4, 'reservoirs,': 1, 'citern': 1, 'conteneur': 3, 'aerien': 6, 'refractair': 1, \"d'enregistr\": 3, 'musical': 8, 'assur': 9, \"d'arm\": 1, 'munit': 1, 'maritim': 5, 'coti': 2, 'fut': 1, 'emballag': 1, 'recouvr': 1, 'factur': 1, 'societ': 49, \"d'inform\": 5, 'financier': 7, 'clientel': 3, 'dessous': 1, 'polit': 4, 'quincailler': 2, 'houill': 1, 'religi': 1, 'justic': 1, 'toxicoman': 1, 'trefilag': 1, 'plaques,': 1, 'feuilles,': 1, 'tub': 1, 'multi-commerc': 1, 'patronal': 1, 'consulair': 1, 'fer': 1, 'outillag': 2, 'debr': 1, 'navir': 2, 'structur': 7, 'flott': 1, \"d'art\": 5, 'bibliothequ': 1, 'archiv': 1, 'morti': 1, 'sec': 3, 'cuisin': 12, 'ouvrag': 2, 'gen': 5, 'civil': 7, 'beurr': 1, 'premier': 2, 'agricoles,': 2, 'vivants,': 1, 'semi-fin': 2, 'poisson,': 1, 'chaux': 1, 'gravier': 1, 'sablieres,': 1, \"d'argil\": 1, 'kaolin': 1, 'reproduct': 4, 'plomb,': 1, 'zinc': 1, \"l'etain\": 1, 'pre-primair': 1, 'cred': 1, 'monu': 1, 'histor': 1, 'attract': 2, 'tourist': 6, 'voi': 19, 'ferre': 1, 'surfac': 5, 'souterrain': 1, 'diver': 32, \"d'irradi\": 1, 'medicale,': 1, 'electromedical': 1, 'electrotherapeut': 1, 'couteller': 1, 'entretien': 23, 'tunnel': 1, 'radiodiagnostic': 1, 'radiotherap': 1, 'cafe,': 3, 'the,': 6, 'cacao': 1, 'epic': 1, \"d'engrenag\": 1, 'transmiss': 1, 'organ': 8, 'extraterritorial': 1, \"d'achat\": 14, 'raffine': 1, \"l'extraction,\": 1, 'azot': 1, 'satellit': 1, 'vaisselle,': 2, 'verrer': 1, 'agro-alimentair': 1, 'forge,': 1, 'estampage,': 1, 'matricag': 1, 'poudr': 1, 'denrees,': 2, \"d'aeronef\": 1, \"d'engin\": 3, \"d'etoff\": 1, 'artificiel': 1, 'synthet': 2, 'quincaillerie,': 3, 'peintur': 21, '(400': 1, 'm2': 1, 'plus)': 1, 'glac': 2, 'sorbet': 1, \"d'ordin\": 2, 'peripher': 3, 'ornemental': 1, 'calcair': 1, 'industriel,': 3, 'gypse,': 1, 'crai': 1, \"d'ardois\": 1, 'meuner': 1, 'cokefact': 1, 'ficelles,': 1, 'cord': 1, 'filet': 1, 'verre,': 1, 'compr': 6, 'decolletag': 1, 'foresti': 2, 'ligneux': 1, 'pouss': 1, \"l'etat\": 2, 'sauvag': 1, 'vach': 1, 'laitier': 1, 'naval': 1, 'lieux': 3, 'vent': 249, 'cuisson': 1, 'boulanger': 3, 'cart': 3, 'assemble': 1, 'tourb': 1, 'caoutchouc': 3, 'reg': 3, 'publicitair': 5, 'medi': 5, 'messagerie,': 1, 'express': 1, 'beton,': 2, 'ciment': 2, 'precieux': 3, \"d'emballage,\": 1, 'condition': 4, 'pesag': 1, 'frapp': 1, 'monnai': 1, 'four': 1, 'bruleur': 1, 'aid': 20, 'epices,': 2, 'aromatiques,': 2, 'medicinal': 2, 'person': 43, 'age': 5, 'siderurg': 1, 'peau': 1, 'laiti': 1, 'porcin': 1, 'rechapag': 1, 'tissag': 1, 'lait': 1, 'liquid': 2, 'frais': 2, 'cidr': 1, 'vin': 3, 'serrur': 1, 'ferrur': 1, 'moquet': 2, 'san': 37, 'plac': 28, \"main-d'oeuvr\": 1, 'non-tisses,': 1, 'sauf': 2, 'habill': 2, 'moteurs,': 1, 'hospitalier': 1, 'essentiel': 3, 'jardin': 6, 'botan': 1, 'zoolog': 1, 'reserv': 4, 'oleagin': 3, 'pomm': 1, 'charcuter': 2, 'matel': 1, \"d'outillag\": 1, 'portat': 1, 'moteur': 5, 'incorpor': 1, 'march': 18, 'financi': 12, \"d'imprimer\": 1, 'turbines,': 1, \"d'avion\": 1, 'homogeneis': 1, 'dietet': 1, 'sciag': 1, 'rabotag': 1, 'bois,': 7, 'hor': 8, 'impregn': 2, 'livr': 7, 'decor': 16, 'fluid': 1, 'sall': 3, 'spectacl': 7, 'vi': 5, 'enfant': 6, 'pain,': 1, 'color': 1, 'pigment': 1, 'parquet': 2, 'assembl': 1, 'tapis,': 3, 'mur': 5, 'sol': 9, 'imprimer': 3, 'vinif': 1, 'grain': 3, 'pat': 3, 'pesticid': 1, 'agrochim': 1, 'ferm': 1, 'effervescent': 1, 'superet': 1, 'interurbain': 2, 'recherche-developp': 2, 'scienc': 1, 'humain': 8, 'prestat': 112, '(entrepris': 2, 'particuliers)': 2, 'preparatoir': 3, 'comptabl': 2, 'conduir': 2, 'particuli': 52, \"d'un\": 51, 'endroit': 1, 'titr': 18, 'oner': 1, 'creation': 68, 'artist': 17, 'relev': 5, 'art': 9, 'commercialis': 20, 'parapharmac': 1, 'beaut': 14, 'post': 5, 'cadr': 8, 'oblig': 2, 'universel': 2, 'immobili': 85, 'meubles.': 2, \"d'indiqu\": 1, \"d'assurances,\": 2, 'commission,': 1, 'representation,': 2, \"d'apporteur\": 3, \"d'affair\": 12, 'iard': 1, '(incendie,': 1, 'acciden': 1, 'livraison': 67, 'domicil': 95, 'metallique,': 3, 'couvertur': 11, 'bac': 1, 'acier,': 1, 'metaller': 1, 'bat': 56, 'tout': 170, 'menuiserie,': 6, 'interieur': 19, 'exterieur,': 6, 'platrerie,': 3, 'maison': 15, 'prefabriquee.': 1, 'pl': 1, 'pos': 31, 'faux': 6, 'ongle': 2, 'gel': 3, 'proced': 3, 'plusieur': 5, 'tel': 9, 'capsule,': 2, 'americaine,': 1, 'chablon': 1, 'encor': 2, 'vern': 2, 'mis': 59, 'conseil': 149, 'accompagn': 30, 'manag': 9, \"l'acquisit\": 28, \"d'immeubl\": 7, 'batis,': 4, \"d'immeubles,\": 2, \"l'administr\": 42, 'bail,': 40, 'achat,': 19, 'vente,': 27, 'reparation,': 4, 'revision,': 2, 'legers,': 1, 'poid': 5, 'lourds,': 2, 'motocycles.': 1, 'publicit': 7, 'communication,': 10, 'web,': 4, 'strateg': 9, 'referencement,': 1, 'campagn': 2, 'publicitaire.': 1, 'maitris': 12, \"d'oeuvr\": 17, 'consist': 7, 'fourn': 4, 'dit': 3, '\"intellectuelles\"': 1, 'entreprises.': 7, 'men': 1, 'action': 5, 'sensibilis': 1, 'autour': 2, 'problemat': 1, 'pollut': 1, 'marin': 2, 'lou': 6, 'technolog': 1, 'innov': 3, 'chirurgien-dent': 2, 'cybersecurit': 1, 'denerg': 2, 'photovolta': 22, \"l'enseign\": 2, 'vign': 8, 'install': 32, 'meuble': 60, 'lign': 36, 'mod': 8, 'neuf': 13, 'diffus': 3, 'programm': 12, 'radio': 1, 'tous': 201, 'contenus': 1, 'prestatair': 7, 'nettoyag': 51, 'robotique,': 1, 'commercial': 36, 'auto': 3, 'lustrage,': 1, 'renov': 26, 'phar': 1, 'element': 6, 'auto,': 1, 'divers': 7, 'vehicules,': 3, 'cle.': 1, 'production,': 3, 'realisation,': 4, 'distribution,': 4, \"l'exploitation,\": 7, \"l'import\": 4, \"l'export\": 3, 'audiovisuelles.': 2, 'achat': 50, \"d'hotellerie.\": 1, 'hoteller': 1, 'restauration.': 2, \"d'accueil.\": 1, 'internet': 18, 'lexercic': 1, 'profess': 21, 'medecin': 12, 'not': 24, 'gynecolog': 1, 'procreat': 1, 'assiste': 2, 'pma)': 1, 'boutiqu': 4, 'e-commerc': 8, 'personnalis': 8, \"d'objet,\": 1, 'fait': 1, 'main.': 1, 'them': 4, 'mariage,': 3, 'anniversaire,': 1, 'naisance,': 1, 'bapteme...': 1, \"l'activit\": 18, 'distanc': 12, 'reglementes;': 2, \"l'import-export\": 3, 'reglementes.': 4, 'urbain': 2, 'suburbain': 1, 'entrepris': 73, 'photo-video-audio': 1, 'contenu': 7, 'digital': 6, 'detent': 16, 'part': 15, \"d'action\": 4, \"d'exercic\": 4, 'liberal': 17, \"l'articl\": 1, '1er': 1, 'alin': 1, 'loi': 2, 'n90-1258': 1, '31': 1, 'decembr': 1, '1990': 1, 'hotessariat': 9, 'divers,': 1, 'vrd,': 1, 'assainissement,': 1, 'enrochement,': 1, '(engin': 1, 'publics)': 1, 'local': 12, 'chez': 5, 'vtc': 8, 'acquisition,': 30, 'administration,': 11, 'immeubl': 67, 'psychanalyst': 1, 'livreur': 35, 'rep': 62, 'velo': 60, '(non': 8, 'motorise)': 7, 'personne,': 3, 'quotidienne,': 1, \"d'assist\": 7, \"d'accompagnement.\": 1, 'platrer': 2, 'soin': 19, 'visage,': 2, 'immeubles,': 7, 'construit': 3, 'non,': 3, 'droit': 30, 'propriete,': 41, \"l'exploit\": 46, 'bai': 1, 'consulting': 5, '(conseil)': 1, \"d'expertis\": 3, 'voitur': 21, '(vtc)': 3, 'delectricit': 1, 'gard': 7, '(appele': 1, 'auss': 1, 'pet-sitting).soins,': 1, 'promenad': 1, 'compagnie.': 2, 'petit': 32, 'bricolag': 16, 'homm': 13, 'main': 19, \"l'exclus\": 2, 'reglemente': 4, 'revent': 22, \"d'occas\": 16, 'covering': 1, 'teint': 1, 'vitr': 2, 'secretariat': 8, 'agent': 23, 'courti': 6, 'reeduc': 2, \"l'appareillag\": 6, 'pedicures-podologu': 4, \"l'identit\": 2, 'visuel': 2, 'marque,': 1, 'print': 1, 'web': 15, 'services.': 3, 'relat': 16, 'client': 16, 'achat-vent': 5, '59.11b': 1, 'institutionnel': 3, 'combine': 2, 'li': 9, 'avocat': 4, 'accessoires-': 1, 'sedentair': 5, 'poissons.': 1, \"l'acquisition,\": 55, \"l'administration,\": 20, 'disposit': 14, 'gratuit': 2, 'assoc': 4, '(y': 1, 'inclus': 2, 'seul': 2, 'usufruitiers),': 1, 'loueur': 61, 'special': 10, \"l'assistance,\": 2, 'conception,': 10, 'pilotage,': 2, 'suiv': 6, 'projet': 20, 'rehabilitation,': 1, 'etc': 1, 'disciplin': 4, \"d'activit\": 6, 'loisir': 8, 'desinsectis': 2, 'destruct': 1, 'nuisibl': 1, 'friterie,': 1, 'snacking,': 1, 'sandwicher': 2, '(en': 1, 'ambulant)': 1, 'realis': 43, 'maconner': 14, 'garde-corp': 1, 'inox': 1, 'guerisseur': 2, 'sportive,': 1, 'coaching': 20, 'group': 12, 'et/ou': 15, 'personnalise,': 2, \"l'entrain\": 1, 'fonctionnel': 2, \"l'utilis\": 1, 'fitness,': 1, 'cour': 30, 'yoga.': 1, 'electricit': 18, 'bar': 6, 'brasser': 2, 'epicer': 5, 'coursi': 22, 'repas,': 4, 'cours': 2, 'ains': 17, 'colis,': 1, 'plis': 2, 'paquet': 1, 'carrosserie,': 2, 'typ': 40, 'vehicules.': 3, 'sac': 2, 'trouss': 1, 'coud': 1, 'moi-mem': 1, 'utilis': 6, 'patrons.': 1, 'cousus': 1, 'doreux': 1, 'ornemaniste,': 1, 'peintre,': 2, 'murale.': 1, 'creatric': 1, \"d'objet\": 13, 'feuill': 1, \"d'or,\": 1, 'autres.metaux.': 1, 'restaurat': 1, 'tropical': 3, 'subtropical': 2, 'cession,': 5, 'travaux,': 3, 'apporteur': 14, 'batiment.': 4, 'gestion,': 26, 'holding': 9, 'terrestr': 4, 'restaurant,': 3, 'salon': 11, 'traiteur,': 4, 'ateli': 7, 'cuisine,': 2, \"d'evenements,\": 3, 'soire': 2, 'concert,': 1, 'temporair': 4, 'plus': 14, 'ouvert': 2, 'nourritur': 2, 'fort': 2, 'faibl': 3, \"l'industrie,\": 2, 'batiment,': 7, \"d'ordinateurs,\": 1, \"d'unit\": 1, 'ennobl': 2, 'propos': 6, 'mesur': 6, 'optimis': 4, 'recherch': 12, '(seo).': 1, 'pre': 2, 'reglement': 15, \"d'appel\": 2, 'emport': 15, 'alcool': 3, \"l'occas\": 1, 'repas.': 1, 'elev': 1, 'colleg': 1, 'lycee.': 1, 'acquisit': 24, 'fantais': 6, 'expert': 1, 'judiciair': 3, 'penal': 1, \"l'achat,\": 14, \"l'entretien\": 6, \"l'amelior\": 2, 'plein': 1, 'nue-propriet': 1, 'et/': 1, 'usufruit.': 1, 'chaleur': 1, 'climatis': 5, 'cereal': 2, 'pris': 45, 'valeur,': 17, 'location,': 25, 'auteur': 3, 'independant,': 1, 'ecritur': 2, 'velo,': 2, 'gestionnair': 2, 'patrimoin': 9, 'colis': 7, 'solut': 8, 'marketplac': 1, \"d'amazon,\": 1, 'notamment:': 1, 'electroniques,': 4, 'jouets,': 3, 'vetements,': 6, 'numer': 4, 'financiere,': 3, 'compt': 12, 'tier': 5, 'energ': 15, 'verandas,': 1, 'sous': 21, 'traitance,': 1, \"d'amenag\": 3, 'carrelag': 6, \"d'achat,\": 8, \"d'apport\": 7, 'autrement,': 14, 'detention,': 10, 'immeub': 3, 'anim': 19, 'prive': 5, 'prothes': 10, 'dentaire,': 1, 'dentair': 5, 'point': 6, 'rel': 1, 'log': 24, 'organisation,': 1, 'perform': 3, 'graphism': 5, 'design.': 2, 'branding': 1, 'graphiqu': 9, '(logotype,': 1, 'chart': 1, 'graphique,': 1, 'illustration,': 2, 'mot': 1, 'depannag': 10, 'plomberie,': 10, 'sanitaire.': 1, 'menage,': 1, 'repassage,': 1, \"d'enf\": 7, 'paysag': 4, 'souhait': 4, 'fair': 4, 'laver': 5, 'traditionnelle,': 3, 'semi-assiste': 1, '(automatisee)': 1, 'terrain': 12, 'sis': 5, 'saint-lou': 1, '()': 1, 'ru': 2, 'mulhous': 1, 'sportif': 13, 'ludique.': 1, 'moyen': 10, 'convenance,': 1, 'viendr': 1, 'acquer': 1, 'edifi': 1, 'suite.': 1, 'remis': 2, 'forme,': 4, 'bowling,': 1, 'badminton,': 1, 'squash,': 1, 'padel,': 1, 'futsal,': 1, 'mini-golf': 1, 'las': 2, 'game.': 1, '(evenementiel': 1, 'seminaires).': 1, 'generalement,': 3, 'commerce,': 3, 'financieres,': 2, 'civiles,': 4, 'pouv': 4, 'rattach': 6, 'direct': 34, 'indirect': 9, 'objet': 21, 'selectionne,': 1, 'mix': 1, 'platines,': 1, 'mixag': 1, 'appliqu': 7, 'effets,': 1, 'scratch': 1, 'adapt': 1, 'set': 1, 'selon': 1, 'reaction': 1, 'public.': 1, 'vais': 1, 'don': 1, 'langu': 2, 'franc': 17, 'suedois': 1, 'particuliers.': 6, 'lmnp': 19, 'e-commerce,': 2, 'depouillement,': 1, 'plan': 4, 'cinem': 2, 'portail': 1, 'transact': 10, 'fond': 19, 'commerce;': 1, 'immobiliere,': 4, 'geranc': 3, 'depannages,': 1, 'montag': 11, 'informatiques.': 1, 'logiciels.': 1, 'coiffeux': 1, 'ongulair': 7, 'tatouag': 1, 'mecenat,': 1, 'rse': 2, 'aupr': 25, 'sant': 10, 'reglemente,': 2, 'import': 8, 'export,': 2, 'roulant,': 1, 've': 1, 'coach': 8, 'vu': 9, '(servic': 2, 'rapide),': 1, \"d'occasion,\": 3, 'remorquage,': 1, 'station': 3, 'lavage,': 2, 'biscuit': 2, 'reeducation,': 5, 'chirurgien': 3, 'dentist': 3, 'conseil,': 18, \"l'expertise,\": 1, \"l'aud\": 3, \"l'assist\": 3, 'operationnel': 2, 'apport': 10, 'question': 1, 'gest': 1, \"l'exercic\": 11, 'medecin,': 2, 'chirurg': 1, 'reconstructric': 1, 'esthetique.': 1, 'magnetiseur': 2, 'freelanc': 5, 'prestation,': 1, 'proposit': 2, 'classe': 4, 'ailleur': 4, 'bureautique.': 1, 'bijoux': 14, 'fantaisie,': 1, 'mode,': 3, 'interieure,': 2, \"d'etud\": 7, 'transit': 2, 'ecolog': 2, 'artistiques:': 1, 'esquisses,': 1, 'croquis,': 1, 'dessin,': 2, 'pastel': 1, 'sculptur': 3, 'argile.': 1, 'souscription,': 6, 'particip': 40, 'majoritair': 1, 'minoritair': 1, 'co': 3, \"d'architect\": 2, \"d'urbaniste,\": 2, 'fonction': 10, 'maitr': 3, 'mission': 6, 'rapport': 10, \"l'\": 4, 'yog': 3, 'immobiliers,': 16, 'dont': 7, 'pourr': 5, 'deven': 5, 'proprietair': 5, 'ulterieurement,': 2, 'echange,': 3, \"d'expert-compt\": 1, 'chasse,': 1, 'piegeag': 1, 'annex': 2, 'raval': 3, 'facad': 1, 'pel': 1, 'materiel.': 1, 'daffaire.': 1, 'lmnp-locat': 1, 'annuel': 1, '6820a-': 1, 'franchis': 2, 'tva': 5, 'commerce)': 1, 'pizz': 3, 'marchand': 6, 'neuv': 1, 'doccasion,': 2, 'etat': 4, 'futur': 5, \"d'achev\": 4, 'acheves,': 4, 'apport,': 5, 'transformation,': 13, 'amenagement,': 3, 'admin': 2, 'btp': 1, 'culturel': 6, '(gestion': 1, 'culturelle)': 1, 'diffusion,': 1, 'publics.': 2, 'chirurgical': 1, 'electricien': 1, 'remplac': 8, 'prises,': 1, 'interrupteur': 1, 'tableau': 6, 'differentiel': 1, 'disjoncteur': 1, 'verif': 3, \"l'apport,\": 5, 'exceptionnellem': 1, 'colloc': 1, 'loue': 1, '(conseils,': 1, 'logist': 4, '...)': 3, 'adhes': 6, 'volontair': 6, 'rapide,': 5, 'place,': 5, 'emporter,': 8, 'livraison.': 2, 'aucun': 1, \"d'alcool.\": 1, 'paiement,': 2, 'export': 6, 'reglementes,': 5, \"l'ensembl\": 5, 'utilisateurs,': 1, 'snacking': 2, 'dure': 17, 'deux': 2, 'mois': 1, 'cod': 13, 'ape': 14, '6820': 2, 'remorquag': 1, 'indirecte,': 2, 'destin': 14, 'situe': 4, 'dom-com,': 2, 'hypnotherap': 1, 'construction...': 1, 'plateform': 3, \"d'even\": 14, 'tiers.': 2, 'vin.': 1, 'immobiliers.': 17, 'second': 2, 'compren': 2, 'different': 10, 'corp': 8, \"d'etat\": 3, 'electricite,': 4, 'peinture)': 2, 'principal': 7, 'co-working': 1, 'chambr': 4, \"d'hot\": 2, 'resident': 4, 'jeun': 3, 'actif': 1, 'courbevoie,': 1, 'notamm': 2, 'fauteuil': 1, 'canapes,': 1, 'styl': 1, 'contemporains.': 1, 'mobil': 3, \"n'exced\": 2, '2.00': 1, 'heur': 3, 'qualif': 3, 'obligatoir': 2, \"d'appels,\": 1, 'mail,': 1, 'demarch': 2, 'administrative,': 2, 'planning': 2, 'clients.': 1, 'assurance.': 2, 'etud': 9, 'particulier.': 1, 'audit': 4, \"s'y\": 6, 'rapportant.': 1, \"l'animation,\": 1, 'direction,': 1, 'coordin': 2, 'filial': 3, 'sandwicherie,': 1, 'rapide.': 3, 'catalogu': 4, 'convoi': 1, 'b.': 2, 'creation,': 9, 'prise,': 1, 'affer': 1, 'usin': 1, 'decoupe,': 2, 'pliage,': 1, 'soudage,': 1, 'pose,': 3, 'pare-bris': 2, 'vitrag': 2, 'moteur.': 2, 'lavag': 4, 'detailing': 1, 'automobile,': 3, 'polissag': 1, 'lustrag': 1, 'imag': 1, 'marqu': 4, 'marketing,': 4, 'strategique,': 2, '(concept': 1, 'etc.)': 2, 'civiqu': 1, 'capital': 5, 'societes,': 6, 'exercic': 6, 'actionnair': 1, 'associe.': 1, 'delivr': 1, 'prof': 5, 'societe,': 5, 'mandat': 2, 'social.': 1, 'biens,': 3, 'lotisseur': 1, 'immeubles.': 2, 'immobilier.': 2, 'assist': 19, 'conformit': 1, 'automat': 7, 'protect': 5, 'donne': 2, 'infirmi': 10, 'sages-femm': 2, 'plaqu': 4, \"d'externalis\": 1, \"j'ai\": 2, 'sign': 1, 'sociaux.': 2, 'moniteur': 2, 'skateboard,': 1, 'seanc': 4, \"d'initi\": 1, 'perfection': 1, 'demonstr': 1, 'sk': 1, \"d'angl\": 1, 'spagnol': 1, 'marketing': 11, 'secteur': 11, 'renouvel': 3, 'bi': 3, 'participations,': 6, 'industrielle,': 2, 'commerciales,': 4, 'immobilieres.': 2, \"l'amenagement,\": 5, 'vente..': 1, 'professionnel.': 5, 'oeuvre,': 2, 'generale,': 6, 'carrelage,': 3, 'isolation,': 2, '...': 2, 'social,': 2, \"l'etranger,\": 5, 'quelqu': 4, 'form': 10, 'soit,': 2, 'espac': 1, 'verts,': 1, 'tonte,': 1, 'desherbage,': 1, 'massif': 1, 'amenage,': 1, 'ramassag': 1, 'feuilles.': 1, 'achat/revente,fabr': 1, 'cosmetiques,savon': 1, 'derives.': 1, 'lexploit': 3, '(proced': 1, 'autres)': 2, 'appart': 4, 'meuble.': 1, 'modif': 1, 'existant,': 1, 'sourc': 1, 'disponibl': 1, 'licenc': 1, 'libr': 1, 'sci': 2, 'pizzas,': 2, 'boissons,': 2, 'consomm': 13, 'revente,': 1, 'appartenant.': 1, 'escap': 1, 'gam': 1, 'murd': 1, 'party': 1, \"l'aid\": 3, 'manuel': 2, '3511z': 1, 'detache': 2, 'vapeur': 1, \"d'air\": 2, 'redact': 7, \"d'interview\": 1, 'but': 4, 'inform': 1, 'particuliers,': 4, 'connexes.': 2, 'guid': 3, 'touristique.': 1, 'plaquiste,': 1, 'cloison': 1, 'seches,': 1, 'plafonds,': 2, 'sag': 1, 'femm': 1, 'lacquisition,': 5, 'ladministr': 4, 'pr': 1, 'convoyag': 3, 'cre': 3, 'domain': 42, \"l'informat\": 3, 'develop': 1, 'doublag': 1, 'cloison,': 1, 'plafond,': 1, 'peinture,': 6, 'mur,': 1, 'agencement,': 2, 'maconnerie,': 6, \"l'achat\": 7, \"vente,l'import\": 1, 'bureaut': 1, 'informatique.l': 2, 'informatique,': 4, 'format': 41, 'continu': 7, \"d'adult\": 2, 'psycholog': 5, 'patient': 1, 'sein': 1, 'sorel': 1, 'car': 1, 'villas,': 1, 'bateaux,': 1, 'bureaux,': 1, 'fin': 10, 'chanti': 6, 'etc..': 2, 'praticien': 4, 'shiat': 1, 'su': 1, 'architectur': 2, 'design,': 5, '2d': 2, '3d,': 1, \"d'image,\": 1, 'developpement,': 9, 'negoc': 6, 'produits,': 5, 'marchandises,': 3, 'objets,': 1, 'finis,': 1, 'doudous': 1, 'genre,': 1, 'enfants,': 2, 'domicile,': 5, 'adultes,': 1, 'upcycling': 1, 'batiments.': 5, 'git': 5, 'amenag': 7, 'elagag': 2, 'terrasse,': 1, 'pergola,': 1, 'cloture,': 1, 'consei': 1, 'traduct': 7, 'fleurs,': 2, 'plantes,': 2, 'graines,': 1, 'engrais,': 1, 'aliment': 6, 'cashback': 1, 'market': 1, 'selection': 1, 'aspect': 1, '\"developp': 1, 'durable\"': 1, 'commerciales.': 1, 'community': 4, 'manager,': 1, \"j'aid\": 1, 'ger': 3, 'leur': 7, 'entit': 4, \"d'origin\": 1, 'captat': 1, 'theatre,': 1, 'audiovisuel': 4, 'placoplatr': 1, 'terrassi': 1, 'plasticien': 2, 'photos,': 1, 'therapeut': 5, 'analyt': 2, 'energet': 8, 'holist': 1, 'individuel': 8, 'cabinet.': 2, \"l'organisation,\": 3, 'evenements,': 1, 'vivants.': 1, 'achat-vente-pos': 1, 'clotur': 2, 'natur': 5, 'pergol': 1, 'exterieur': 12, ',vent': 1, 'leg': 4, '(tourism': 1, 'utilitair': 1, 'moin': 2, '3,5': 2, 'ton': 2, 'perm': 2, '),': 1, 'effet': 2, 'cameraman.': 1, 'realisateur.': 1, 'photographe.': 1, 'labo': 1, 'photo.': 1, \"l'installation,\": 4, 'raccord': 3, 'solair': 3, 'thermique,': 1, 'puis': 1, 'bail': 10, 'batis.': 2, 'drh': 1, 'temp': 2, 'partag': 1, 'demand': 1, 'collectivit': 3, 'cuisini': 2, \"l'organis\": 7, 'even': 8, 'publics,': 2, 'priv': 9, 'associatifs,': 1, 'fetes,': 2, 'soirees,': 2, 'seminaires,': 1, 'conf': 1, 'livraison,': 1, 'chargement,': 1, 'decharg': 1, 'france.': 2, '8559a': 1, \"d'enseign\": 2, 'professeur': 4, 'piano)': 1, \"d'ecol\": 1, 'musique,': 1, 'longu': 10, 'taill': 3, 'vegetaux,': 1, 'attrapag': 1, \"d'animaux.\": 1, 'nettoyage,': 3, 'parc': 8, 'sous-loc': 1, 'standard': 1, 'telephon': 5, 'taxis,': 1, 'membr': 1, 'biotechnolog': 2, 'exclus': 7, 'maximum': 1, 'autorise.': 1, 'gestion.': 3, 'dispens': 2, 'presentiel,': 1, 'dist': 3, 'facon': 2, 'assurances,': 1, 'entreprises,': 11, 'associations,': 1, 'indirectement.': 1, 'acte': 3, 'invest': 1, 'caracter': 6, 'professionnel,': 4, 'autre,': 1, 'que,': 1, 'notamment,': 2, 'location-ger': 1, 'etablissements,': 1, 'industrie,': 1, 'associations.': 1, 'tourism': 6, 'court': 8, \"d'accueil\": 3, 'design': 10, '(creation': 2, 'logos/identit': 1, 'visuelles,': 1, 'motion': 4, 'affich': 1, 'etc...)': 3, 'velo.': 4, \"d'extr\": 2, '(serveur,': 1, 'barman,': 1, 'professionnels.': 5, 'traitanc': 4, \"l'edit\": 4, 'serveur': 2, 'essm': 1, '(etabl': 1, 'medico-sociaux)': 1, 'organismes,': 1, \"l'evalu\": 1, 'qualit': 3, '(et': 1, 'recreat': 3, '9329z': 1, 'virtuel': 2, 'souvenir': 1, 'lien': 4, 'jeux,': 3, 'alcoolise': 4, 'osteopath': 2, 'proximit': 1, 'coiffur': 11, 'culinair': 1, 'pratiqu': 5, 'commerciale,': 3, 'immeuble,': 5, 'dud': 5, 'impress': 3, 'directric': 1, 'artistique,': 2, 'realisatrice,': 1, 'photographe,': 1, 'retoucheuse,': 1, 'videaste,': 1, 'monteuse.': 1, 'audiovisuel.': 2, 'graphisme,': 1, 'identit': 3, 'visuel.': 1, \"l'etranger.\": 3, 'conducteur': 2, 'demande,': 1, 'tra': 1, 'chaussures,': 1, 'manufactur': 4, '(equip': 1, 'personne,d': 1, 'maison,bijoux': 1, 'fantaisie...)': 1, 'createur': 1, 'detachees,': 1, 'mecanique,': 1, 'terrains,': 4, 'appartements,': 2, 'darn': 1, \"l'etrang\": 5, 'cafes,': 2, 'restaurants,': 2, 'hotels,': 2, 'comm': 6, 'particulier': 1, \"l'hoteller\": 2, 'rattachant.': 2, 'rapid': 11, 'brassag': 1, 'bieres.': 1, 'hauteur': 2, 'foire,': 1, 'marche,': 1, 'peints,': 1, 'moquettes,': 1, 'sols,': 1, 'murs,': 1, 'accessoires,': 4, 'vitrer': 3, 'correct': 1, \"l'en\": 2, 'fr': 1, \"l'es,\": 1, \"l'e\": 1, 'fr.': 1, 'interpret': 4, 'traducteur': 1, \"d'etat.\": 4, 'foires,': 1, 'congr': 2, 'chiens,': 1, 'rac': 1, 'canin': 1, 'infirmier': 6, 'installation,': 4, 'depannage,': 1, 'renovation,': 7, 'service,': 4, 'sanitaire,': 3, 'commercialisation,': 6, 'nom': 1, 'mandants,': 1, \"d'agent\": 4, 'sen': 3, 'occasionnelle,': 1, 'natat': 1, 'thes,': 1, 'tisan': 1, 'e-commerce.': 1, \"d'entrepris\": 4, 'concierger': 6, 'jardinerie,': 1, 'outillage,': 2, 'fleuriste,': 1, 'horticulture,': 1, 'motoculture,': 1, 'animalerie,': 1, 'pro': 1, 'desdit': 5, 'jurid': 8, \"l'entreprise.\": 1, \"d'hygiene,\": 1, 'reparation.': 1, 'dentretien': 1, 'energeticienne,': 1, 'magnetis': 2, 'scpi': 1, 'valoris': 1, 'sou': 1, \"l'edition,\": 1, 'tiers,': 3, \"d'annuair\": 1, \"d'annonc\": 1, 'exploitatio': 1, 'productrice,': 1, 'videograph': 1, 'monteux': 1, 'clip': 1, 'documentair': 1, 'artistiques.': 1, 'enquet': 2, 'securite.': 1, \"j'install\": 1, 'blind': 1, 'voitures.': 1, 'egal': 1, 'consult': 13, 'blinde.': 1, '3d': 2, \"d'actions,\": 1, 'francais': 5, 'quel': 5, 'indirectement,': 4, \"qu'a\": 4, 'ge': 2, 'luminaires,': 1, 'led,': 1, 'connectee.': 1, \"l'electricit\": 2, 'plombier,': 1, 'serrurier,': 1, 'electricien,': 1, 'chauffagiste,': 1, \"d'affaire.\": 1, 'bouch': 3, 'decoup': 1, 'ba': 1, 'lie': 7, 'surveil': 1, 'gardiennag': 3, 'sst,': 1, 'incend': 2, 'ssiap': 1, 'vdi': 6, '7022z': 2, 'fort/': 1, 'domestique,': 2, 'tertiaire,': 1, 'industriel.': 2, 'colon': 1, 'mont': 3, \"l'art,\": 1, 'associe': 3, 'dj': 2, 'contient': 1, 'sonoris': 2, 'lumier': 2, 'pend': 2, 'exposit': 1, 'uber': 9, 'eat': 9, 'delivroo': 2, 'hotel': 2, 'jul': 1, \"d'abord\": 1, 'floral': 2, 'passionnee,': 1, 'complet': 1, 'activite': 1, 'vitrin': 1, 'meti': 4, 'psychomotricien': 1, 'sandwiches,': 1, 'sale': 2, 'sucree,': 1, '(select': 1, 'terroir),': 1, \"d'optiqu\": 2, 'to': 4, 'c----': 1, \"l'heberg\": 1, 'rural': 2, 'professionel': 2, 'sujet': 1, \"d'evenementiel,\": 1, 'plate-form': 2, 'deliveroo': 4, 'broc': 3, 'vid': 3, 'greni': 2, 'deuxiem': 2, 'letud': 1, 'etou': 1, 'lexecu': 1, 'civil,': 2, 'demolition,': 3, 'ren': 1, 'naturopath': 1, 'consulting,': 2, 'ingenier': 4, 'evenementiel,': 4, 'importation,': 1, 'entrepot': 1, 'beaute-manucure-epilation-bar': 1, 'cils-': 1, 'etre': 9, 'zen-': 1, 'zen': 1, 'haut': 3, 'niveau.': 1, 'profession': 1, 'modelage/massag': 1, 'infograph': 1, 'montessor': 1, '12': 1, 'an': 2, \"qu'auto-entrepreneur\": 1, 'collabor': 1, \"qu'osteopathe,\": 1, 'concentr': 1, 'prevention,': 2, 'diagnostic': 4, 'troubl': 1, 'multiservic': 2, 'personne.': 2, 'projet,': 1, 'client,': 2, 'kpi,': 1, 'reporting': 1, 'mensuel,': 1, 'brand': 1, 'content,': 1, 'content': 1, 'management,': 2, 'oeuvre.': 1, 'holding,': 6, \"l'integr\": 1, 'erp': 1, 'ressourc': 5, 'planning).': 1, \"l'optimis\": 1, 'processu': 1, 'charpente,': 3, 'ouverture,': 1, 'habillag': 1, 'pvc': 1, 'aluminium': 1, 'velux,': 1, 'gouttier': 1, \"'animal\": 1, 'conciergerie,': 1, 'visit': 1, 'period': 2, 'genr': 1, 'plomberie.': 1, \"d'infirmier\": 2, \"d'echange,\": 2, 'besoin': 3, 'facades,': 2, 'enduiseur': 1, 'industrielles,': 2, 'autres,': 1, 'etrangeres,': 1, 'cree': 1, 'studio': 4, 'saisonnier': 8, 'long': 2, \"l'annee.\": 2, 'mignardis': 1, 'sucre': 1, 'biscuits,': 2, 'gateaux,': 1, 'meringues,': 1, 'seches.': 1, 'contrat': 2, 'bar-restaurant,': 1, 'deb': 4, '(licenc': 2, 'iv),': 1, 'brasserie,': 1, 'location-gerance.': 1, 'distance,': 2, 'vendr': 3, \"d'arbr\": 3, \"d'arbust\": 2, 'coqu': 2, 'capillaires,': 1, 'esthetiques.': 3, 'vente:': 1, 'barmaid,': 1, 'serveuse,': 1, 'vendeux': 1, 'videos': 3, 'bijoux,': 4, 'maroquinerie,': 1, \"d'hygien\": 1, 'regl': 1, 'commercial.': 3, 'parentalite/': 1, 'parental': 1, 'photobooth,': 1, 'born': 3, 'photos': 4, 'patrimonial': 1, 'morales.': 1, 'refrigerees.': 1, 'ambulanci': 4, 'quotidien': 1, 'agees,': 1, 'handicapees,': 1, 'inclu': 4, \"d'hygienes,\": 1, 'definit': 2, 'groupe,': 1, \"l'anim\": 2, 'transfert': 2, 'intra-u': 1, 'ver': 2, \"l'ital\": 1, 'vendu': 1, 'italien.': 1, \"d'apport,\": 5, \"l'amenag\": 2, 'locatio': 1, 'dalles,': 1, 'reglementat': 1, 'pet': 7, 'jardinag': 4, 'ladministration,': 2, 'mobile,': 1, \"d'api,\": 1, 'kinesitherap': 1, \"l'apport\": 1, \"d'affaires,\": 4, \"l'accompagnement,\": 1, 'conseiller': 1, 'sejour': 6, 'camping,': 1, 'caravaning.': 1, 'psychopraticien': 1, 'interet': 3, \"d'assurances.\": 1, 'soft': 1, 'paris': 4, 'reunion': 2, 'lacquisit': 2, 'echang': 2, 'dim': 1, 'resin': 4, 'sol,': 2, 'exterieurs.': 1, 'secretair': 1, 'independ': 5, \"d'audit,\": 1, \"d'expertise,\": 1, 'ecrivain': 1, 'illustr': 2, 'original': 2, 'lunetter': 1, 'detail,': 4, 'lentill': 1, 'audioprothes': 1, 'nettoi': 1, 'tapisser': 1, 'renouvelable,': 1, 'thermiqu': 4, 'electrique,': 1, \"d'hotes,\": 1, \"d'appart\": 2, '(san': 4, 'alcoolises)': 1, 'medium,': 1, 'voyance,': 1, 'cartomanc': 2, 'objet,': 1, 'bancair': 1, 'innovants,': 1, 'num': 1, 'pension': 2, 'cheval': 7, 'pur': 1, 'visiteur': 1, \"d''entrepris\": 1, 'clients(essentiel': 1, 'videaste.': 1, \"j'offr\": 1, \"d'entreprise.\": 2, 'cadrage,': 1, 'fabrication,': 4, 'artisans,': 1, 'services,': 8, 'compatibl': 1, 'rapportent': 1, 'celui-ci.': 1, 'decoration,': 5, 'lampes,': 1, 'local,': 1, \"d'evenement,\": 2, 'baptem': 1, 'anniversair': 1, 'etc...': 1, \"l'evenementiel\": 1, 'pieg': 1, 'decapag': 2, \"d'ascenseur\": 1, 'rendez-vous': 1, 'telephoniques,': 1, 'disc': 3, 'jockey': 2, 'solid': 1, \"d'expertise-compt\": 1, 'inoxydable,': 1, 'laiton': 1, \"d'ouvrage,\": 4, 'residentiel': 1, \"d'interieur,\": 1, 'certifi': 1, 'exist': 2, 'connexes,': 1, 'traditionnel': 6, 'visuelle,': 1, 'evenementiel': 5, 'crm': 1, 'application,': 1, \"d'evenements.\": 2, 'evenementiel.': 1, 'dans': 3, 'commercial,': 3, 'artisanal,': 2, 'ouet': 1, 'habitation,': 1, '6820a': 7, 'operations,': 1, 'compte,': 2, 'boug': 8, 'utilit': 1, 'caracteris': 1, 'volont': 1, \"d'apporter,\": 1, 'traver': 1, 'activite,': 1, 'si': 2, 'high-tech,': 1, 'comm.det.prod.': 1, 'mag.specialis': 1, 'naf': 1, 'multi-services,': 1, \"d'interieurs.\": 1, 'demontag': 1, 'palissad': 1, 'telecomun': 1, 'filaire.': 1, 'fais': 1, 'appel': 1, 'nouvelles.': 1, 'disc-jockey': 2, 'electromenag': 2, \"d'architectur\": 2, 'agees.': 2, \"l'exterieur\": 1, 'do': 1, 'ergotherap': 1, 'finit': 2, 'mobilieres,': 3, 'artisanal': 11, 'marches.': 1, 'esthetiques,': 1, 'cosmetiques,': 1, 'additionnel,': 1, 'stands,': 1, 'influenc': 1, 'medecins,': 1, 'nouvel': 1, 'motorise,': 1, 'routier,': 1, 'strategie,': 1, 'assechement,': 1, 'cuvelage,': 1, 'ventilation,': 1, 'etancheite,': 2, 'expertis': 5, 'chauffage,': 3, 'maison,': 6, 'check-in,': 1, 'check-out.': 1, 'modeles.': 1, 'ling': 4, 'decorations,': 1, 'bazar,': 3, 'serrurer': 2, 'suit': 2, 'toit': 1, \"l'energ\": 3, '(panneau': 1, 'solaires)': 1, 'pre-press': 1, 'chaudronni': 1, 'metalli': 1, 'soudeur': 1, 'automobile.': 1, 'recuper': 1, 'tri': 1, \"d'entrepr\": 1, 'filaires,': 1, 'cablag': 2, 'reseaux,': 1, \"l'echang\": 1, 'lus': 1, 'prestations,': 1, 'capacit': 1, 'ressent': 1, 'remettr': 1, 'circul': 1, 'humain.': 1, 'chef': 2, 'enduit': 2, 'soupl': 2, 'dur': 1, 'fournisseur/gross': 1, 'internet.': 1, 'parfumes.': 1, 'spectr': 1, 'masseur': 5, 'kin': 1, 'tax': 5, 'paramedical': 1, 'nutrition,': 2, 'vie,': 1, 'couple,': 1, 'parentalite,': 1, 'scolaire,': 1, 'mediat': 3, \"d'habitation,\": 2, \"l'acquis\": 2, 'couverture,': 2, 'bardage,': 1, 'desamiantag': 1, 'photovoltaiques,': 1, 'afferent': 1, 'perl': 1, 'capilair': 1, '33-24-16-17': 1, 'recrutement.': 1, \"d'immeuble(s)\": 1, 'locatif,': 1, 'tpis': 1, 'mettr': 3, 'mad': 1, 'in': 1, \"l'afrique/import\": 1, 'africain': 2, 'joint': 1, 'sophrologu': 2, 'cabinet': 6, \"d'agrum\": 1, 'food': 3, 'truck,': 1, 'crepes,': 3, 'tartines,': 1, 'burgers,': 2, 'falafels,': 1, 'frites,': 3, 'samoussas,': 1, 'boi': 1, 'stor': 1, 'femmes,': 1, 'boulangerie,': 4, 'patisserie,': 4, 'viennoiserie,': 2, 'glaces,': 2, 'sucrerie,': 1, 'confiserie,': 2, 'chocolaterie,': 1, 'epicerie,': 1, 'alimentaire,': 3, '/sall': 1, 'bain': 1, 'flocag': 1, \"l'ess\": 1, 'ecol': 3, 'financiers,': 2, 'retraite,': 2, 'pre-presse.': 1, 'activites.': 1, 'retouch': 3, 'photographique.': 1, 'gros,': 3, 'demi-gros': 3, \"d'habillement,\": 1, 'bonneter': 1, 'mercerie,': 1, 'occas': 2, 'tou': 1, 'vdi-vent': 1, '(societ': 1, 'onikha)': 1, 'dron': 3, 'fourntur': 1, 'effectu': 3, 'generale.': 1, 'entretien,': 2, 'cycl': 3, 'motocycles,': 1, \"d'achat-vent\": 1, 'distill': 2, 'ambulant,': 1, 'deplac': 3, 'parfum': 3, 'cession': 9, 'renouvelables.': 1, 'specif': 2, 'professionnelle,': 2, \"d'hotel\": 1, 'precision,': 1, 'ensembl': 1, 'def': 1, 'affaires,': 3, 'soudur': 2, 'chaudronner': 1, 'accompagnement,': 3, 'etude,': 1, 'nouveau': 1, 'pharmaceutique,': 1, 'cosmetique,': 2, 'compl': 1, 'bien-': 1, 'veterinair': 3, 'jockey,': 1, 'inferieur': 1, '9kwc': 1, 'conseil,assistance,audit,expertis': 1, 'organisations,': 2, 'qualite,securit': 1, 'environ': 1, 'mariages,': 1, 'nature,': 3, 'tent': 1, \"d'evenemen\": 1, 'semi-gros': 1, 'detail.': 1, '(cod': 1, '6820a)': 1, 'option': 2, 'bic': 1, 'reel': 3, 'simplif': 3, 'trimestriel': 2, 'immobilier,': 3, 'analyses,': 1, 'essais': 1, 'inspect': 1, 'commerce.': 1, 'plombier-chauffag': 1, 'jouiss': 1, 'alienation,': 1, 'bricolage,': 1, 'nettoyage.': 1, 'eco-respons': 1, 'sepultures.': 1, 'vetements.': 1, 'pilot': 2, 'photo/video': 1, '(ub': 1, 'just': 1, 'etc..)': 1, 'convoyeur': 3, 'coordination,': 2, \"d'aventures,\": 1, 'circuit': 2, \"d'ateli\": 2, 'rse,': 1, 'plateau': 1, 'juridiques,': 3, \"d'avocat\": 2, \"d'habit\": 5, 'valeu': 1, '(6820a)': 2, 'danseux': 1, 'directeur': 1, '(sondag': 1, \"d'opinions)\": 1, 'biolog': 1, 'vegetal': 2, 'constitu': 2, 'denre': 1, 'sur': 1, 'business': 2, 'teleprospection,': 1, 'satisfaction,': 1, 'rv': 1, 'ambul': 5, 'externalis': 1, 'paie,': 1, \"l'image,\": 1, 'coaching,': 2, 'representation.': 1, \"d'evaluations,\": 1, \"d'etudes,\": 1, 'conseils,': 1, 'operationnelle,': 1, 'veil': 1, 'navires,': 1, \"d'etabl\": 3, \"d'heberg\": 1, 'depend': 1, 'modalit': 1, '(accueil': 1, \"l'usag\": 1, 'sechag': 1, 'martial': 2, 'public,': 2, 'club,': 1, 'associ': 4, 'aeogommag': 1, \"d'\": 4, 'doux': 1, 'pression': 1, \"l'energie,\": 1, 'dat': 4, 'supermarche.': 1, 'accessoire,': 1, 'parfumees,': 2, 'parfumes,': 1, 'cir': 1, 'soj': 1, 'masseux': 2, 'electriques,': 1, 'parfumer': 3, 'eligibl': 1, 'exerc': 3, 'dom': 2, 'tom': 1, 'immob': 1, 'micro-creche,': 1, 'coutur': 1, 'retouche,': 1, 'tissu,': 1, 'autres.': 1, 'demande.': 1, 'custom': 1, 'motoris': 3, \"l'encadr\": 2, 'randonne': 1, 'motocycle,': 1, 'pieces,': 1, \"d'accessoir\": 6, 'adapte': 1, 'patholog': 1, 'chroniqu': 2, 'preventions,': 1, 'valid': 1, \"l'hotellerie,\": 1, 'restauration,': 6, \"l'evenementiel,\": 1, \"d'entretien,\": 3, 'technicien': 2, '(nettoyage)': 1, 'locaux.': 1, 'class': 2, 'peintr': 3, \"l'ingenier\": 2, 'beaute,': 2, 'epilation,': 1, 'minceur,': 1, 'corps,': 2, 'manucure,': 2, 'mandatair': 6, \"d'intermediair\": 4, 'independant:interven': 1, '(prepar': 2, 'parag': 1, '.)': 1, '8551z': 1, \"l'econom\": 1, 'circulair': 1, 'solidair': 1, 'oriental': 1, 'biscuiter': 1, 'toil': 1, 'bois.': 1, 'acryl': 1, 'vitrail.': 1, '(pinceaux,': 1, 'couteaux,,': 1, 'epong': 1, 'imme': 1, 'menageres,': 1, 'machines,': 2, 'industriels,': 2, 'musicale,': 1, 'proposon': 1, 'mariag': 2, 'non-batis,': 1, 'administrat': 1, \"d'abat-jour\": 1, 'cousu': 1, 'contrecoll': 1, 'enduit,': 1, 'collecte/debarr': 1, 'contenus,': 1, 'videos,': 2, 'cosmetic': 1, 'parfumerie,': 2, 'cosmet': 6, 'voyage,': 1, 'seller': 1, 'types,': 1, \"d'interet\": 3, 'soc': 3, 'perinatalit': 1, 'rythm': 1, 'cardiaq': 1, 'soum': 4, 'nus': 2, 'ongulaire,': 2, 'extens': 1, 'cils,': 2, 'tress': 1, 'portefeuill': 2, 'titres,': 2, '(ceramique,': 1, 'sculpture,': 1, 'educ': 2, 'garder': 1, 'periscolaires,visit': 1, \"d'auxiliair\": 1, 'rendus': 1, 'moyens.': 1, 'financ': 4, 'dun': 2, 'conducteurs.': 1, 'lex': 1, 'eolien': 1, 'couverture.': 1, 'sourcing': 1, 'divers.': 2, 'commerciale.': 3, 'spectacle,': 1, 'precis': 1, 'dj.': 1, 'depot': 1, 'alimentaires.': 3, '114': 1, 'situ': 3, '48': 1, 'bd': 1, 'anglais': 1, '44100': 1, 'nantes.': 1, 'reglementees.': 1, \"d'affichet\": 1, 'illustre': 1, '(linogravure,': 1, 'numerique,': 1, 'pot': 2, 'pla': 1, 'im': 1, '(hom': 1, 'organising)': 1, 'domicile)': 2, 'chalet': 1, '\"lucyvon\"': 1, '332': 1, 'chemin': 2, '74230': 1, 'manigod': 1, 'etabl': 3, 'gastronom': 1, 'traditionnelle.': 1, 'multimedia,': 1, 'jour': 1, 'montage,': 1, 'macon': 1, 'funerair': 1, 'gratuite,': 1, \"n'excedent\": 1, '3.5': 1, '(professionnel': 2, \"l'install\": 4, 'emporter.': 2, 'traiteur': 6, 'vendeur': 5, 'nuit': 1, 'prendr': 1, 'dependantes,': 1, \"qu'ingenieur\": 1, '(domain': 1, \"l'informatique)\": 1, 'clients,': 1, 'implement': 1, 'bureaux/administr': 1, 'pedicur': 2, 'podologu': 2, 'ad': 1, '4391b': 1, 'kinesitherapeut': 7, 'nu': 1, 'meublee,': 1, 'vacanc': 1, 'libre-servic': 1, 'foir': 2, 'terrestres.': 1, 'accueil': 4, \"j'aim\": 1, 'offrir': 1, 'ameliorent': 1, \"l'apparent\": 1, 'pren': 1, 'cheveux': 2, 'para-hotelier': 1, '(nettoyag': 1, 'regulier,': 1, 'maison....)': 1, 'lot': 3, '(locat': 1, 'professionnelle)': 1, 'inoxyd': 2, \"d'ingenier\": 1, 'animatrice;': 1, 'societes;': 1, 'livraisond': 1, 'concern': 6, 'loisirs.': 1, 'photo': 1, 'festival': 1, 'portrait': 1, \"d'artist\": 4, 'passag': 1, 'eats,': 1, 'deliveroo,': 1, 'hettch': 1, 'vtc)': 1, 'dessin': 2, 'projeteur': 1, 'magasin,': 1, 'eventair': 5, 'energie,': 1, 'solaires,': 1, 'b,': 1, 'tram': 1, 'poncag': 1, 'digitales.': 2, 'referenc': 2, 'peinture-': 1, 'facade.': 1, '62.01z': 1, 'webmast': 1, 'nautiqu': 1, 'nautique.': 1, 'peinture;': 1, 'plafonds;': 1, 'peints;': 1, '/revent': 1, 'cadeau': 2, 'bibelot': 1, 'clien': 1, 'regim': 2, '/entretien': 1, 'domicile/': 1, '(hor': 3, 'reglementee)/jardinage/montag': 1, 'mobilier/pet': 1, 'ehpad': 1, 'frigor': 1, 'expert,': 1, 'consultant,': 2, 'inspecteur': 1, 'maritime;': 1, 'offshor': 1, 'professionnelle.': 2, 'material': 5, \"d'habill\": 3, 'graphologu': 1, 'artisanaux,': 1, 'debit': 1, 'degust': 2, 'place.': 1, \"d'oeuvre,\": 3, '(realis': 1, 'conception),': 1, 'test,': 1, 'qualite,': 2, '(prestat': 2, 'bur': 1, 'conferenci': 1, '(main': 1, 'tracteur': 1, 'recolte)': 1, 'chaudronne': 1, 'tuyauter': 1, 'recrut': 1, 'refrigere,': 1, \"d'efficacit\": 1, 'energetique,': 1, 'froid,': 1, 'pilotag': 1, 'post-product': 1, 'audiovisuel,': 1, 'emploi': 1, 'extra': 1, '(traiteur,': 1, 'collectivite,': 1, 'traditionnel,': 1, 'gastronomique)': 1, 'bijouterie,': 1, 'joaillerie,': 1, 'orfevrer': 1, 'mixt': 1, 'electroniques.': 1, 'conception.': 1, 'edition,': 1, 'web.': 1, 'travaux.': 2, 'altern': 2, 'multi-servic': 2, 'medico-chirurgical': 1, 'zinguer': 4, 'django': 1, '(python)': 1, \"d'experience/\": 1, 'vue.j': 1, '10': 1, \"d'experient\": 1, 'learning,': 1, 'ia': 1, 'pilates,': 1, 'loisirs,': 1, 'sportif.': 1, 'rassembl': 1, '(djs,': 1, 'musiciens)': 1, 'performeur': 1, 'milieu': 1, 'electronique.': 2, 'medias,': 1, 'marques,': 2, \"d'affaires.\": 2, 'psychologu': 2, 'clinicien': 1, 'psychotherap': 2, 'comportemental': 1, 'cognit': 1, '\"act\"': 1, 'analyst': 1, 'handicape': 1, 'soign': 2, '(definit': 1, 'vendeurs...)': 1, 'dj,': 1, 'privee,': 1, 'discothequ': 1, 'foi': 2, 'copywriting,': 1, 'prospection,': 1, 'mails,': 1, 'sequenc': 1, 'e-mails,': 1, 'newsletters.': 1, 'etudes,': 1, 'metres,': 1, 'pourvu': 2, 'modifient': 2, \"d'imposit\": 1, 'paillet': 1, \"l'exercice,\": 1, 'exclusif,': 1, 'gestalt': 2, 'recois': 1, 'deontolog': 1, 'psycho-therap': 1, 'base': 1, 'esthet': 2, 'portag': 1, 'financiere.': 1, 'analys': 2, 'technique;': 1, 'dpe': 1, 'import-export': 2, 'general,': 1, 'fournitures.': 1, 'pedagog': 4, 'ludiqu': 2, 'organism': 1, 'reflexolog': 1, 'touch': 1, 'pied': 2, 'hypnose:': 1, 'voyages,': 1, 'transactions,': 1, 'intermediation,': 1, \"d'import\": 1, \"d'export\": 1, 'electromenagers,': 1, 'voitures,': 1, 'droguerie,': 1, 'hygien': 1, 'textile,': 1, 'papeterie,': 1, 'sport,': 3, 'luminair': 1, 'electricites,': 1, 'etc.': 2, 'marchandises.': 3, 'climatisation.': 1, 'tarot': 1, 'fleurist': 1, 'gateau': 2, 'et,': 1, 'particulierement,': 1, 'non-': 1, '(lmnp)': 1, \"d'egouttoir\": 1, 'casserol': 1, 'poeles,': 1, 'monitric': 1, 'ceux': 1, 'rattachant,': 1, \"d'investissement,\": 1, \"d'intervention,\": 1, 'domicile.': 3, 'pret-a-porter.': 1, 'personne)': 1, 'raffinee,': 1, \"l'exceptio\": 1, 'gaz,': 1, \"l'objet.\": 1, \"d'adolescent\": 1, 'informaticien': 1, \"d'avocat.\": 1, 'abatage,': 1, 'altitud': 1, 'delicat': 1, \"d'arbres;\": 1, 'forestiers;': 1, 'abattage;': 1, 'debardage;': 1, 'forestiere;': 1, 'sil': 1, 'corporel': 2, 'visuelles.': 1, 'graphismes,': 1, 'indien': 1, 'antiquites,': 2, \"d'occasionpour\": 1, 'personnes,': 2, 'courses,': 2, 'plis,': 1, \"d'album\": 1, \"d'accompagn\": 1, '(bilan': 1, 'motivation,': 1, 'bilan': 2, 'competences,': 2, \"d'orientation)\": 1, 'familial': 1, 'propros': 1, 'besoin.': 1, 'tont': 2, 'pelouse.': 1, 'ligne,': 2, 'spectacles,': 1, 'sceniqu': 1, 'snack,': 3, 'restaurapid': 1, 'confect': 3, \"d'embel\": 1, 'automobiles.': 1, 'equin': 1, 'dressag': 1, 'cavali': 1, 'equestr': 1, 'muraux,': 1, 'flottant.': 1, 'actions,': 2, 'val': 1, '(interieur,': 1, 'sieges,': 1, 'ecommerc': 1, 'desinfection,': 1, 'desinsectisation,': 1, 'deratis': 1, \"d'energie,\": 1, 'faire,': 1, 'lanc': 1, 'uber.': 1, \"l'appliqu\": 1, 'parten': 1, 'promouvoir': 2, 'acqu': 1, 'chauffeur,': 1, 'condit': 1, 'fixe': 1, \"l'avanc\": 1, 'entre': 5, '(livraison': 1, 'location.': 1, 'forain': 1, 'maneg': 1, 'tir': 1, 'loter': 1, 'canard': 1, \"d'adresse/automat\": 1, 'cascad': 1, 'noel': 2, 'sapin': 1, 'noel,': 1, \"d'hypnotherapeute,\": 1, 'trading': 2, \"d'invest\": 1, 'forex,': 1, 'cryptomonnaies,': 1, 'premieres,': 2, '(vent': 1, 'correspondance)': 1, 'moral': 3, 'activ': 1, 'egard': 1, 'administratifs,': 2, 'comptables,': 1, 'confection': 1, 'crochet': 1, '(decoration,': 1, 'accessoires)': 1, 'entreprise,': 1, 'bancaire,': 1, 'revu': 1, 'quelconqu': 3, 'materiels,': 1, 'plus.': 1, '29bis': 1, '29ter,': 1, 'tribail': 1, '33610': 1, 'cest': 1, 'massag': 3, 'bien-etr': 3, 'courri': 2, 'rh': 1, 'diagnostic,': 1, 'animation,': 1, 'visage,massage,epilation,extens': 1, 'cils.': 2, 'liege,': 1, 'vanner': 1, 'sparter': 1, 'pays.': 1, 'alcoolisees),': 1, 'vise': 1, '4941a': 1, 'lexploitation,': 2, 'abstrait': 1, \"d'antiquit\": 1, 'ancien': 1, 'camion,': 1, 'alcoolisees,': 4, 'vend': 1, \"l'effig\": 1, 'marque.': 1, 'apre': 2, 'fermetur': 1, 'avant': 1, '22': 1, 'salade,': 1, 'pair': 1, 'fi': 1, 'repertoir': 1, 'fichi': 1, \"d'adress\": 1, 'salon,': 1, 'loyer': 1, 'envoye': 1, 'referent': 1, 'solides,': 1, 'mult': 2, 'publique,': 1, \"l'activ\": 1, 'toilette,': 1, 'nursing,': 1, 'lever': 1, 'coucher': 1, '....)': 1, 'femmes.': 1, 'riz),': 1, 'legumin': 2, 'dentrepris': 1, 'ecoles,': 1, 'universit': 1, 'formations.': 2, \"l'entrepris\": 2, 'digital,': 1, \"d'organis\": 1, '(petit': 1, ',petit': 1, 'voituri': 1, 'scenaris': 1, \"j'accompagn\": 1, 'video,': 3, '(videos': 1, \"d'agrumes,\": 1, 'sub-tropicaux,': 1, 'lachat,': 1, 'courtage,': 2, 'gerance,': 2, 'statist': 1, 'excel': 1, '(trading).': 1, 'permet': 1, 'decel': 1, 'financiers.': 1, '(airbnb).': 1, 'acteur': 2, 'homeshoring': 1, 'conciergerie/': 1, 'terrassements,': 1, 'assainissements,': 1, \"d'attract\": 1, 'cet': 4, 'coordinatrice,productric': 1, 'tournag': 1, '(cinema,': 1, 'radio,': 1, 'television...)': 1, 'veux': 1, 'travaill': 2, 'vondr': 1, 'bovin': 2, 'buffl': 2, 'contr': 1, 'attaqu': 1, \"l'espionnag\": 1, 'object': 2, 'reglementees\"': 1, 'dialogu': 1, 'guer': 1, 'appais': 1, 'blessur': 1, 'emotionnel': 1, 'coup': 1, 'boost': 1, 'sponsoring': 1, 'niveau': 1, 'tournois': 1, 'championnat': 1, 'humaine,': 1, 'marketing.': 1, 'limit': 1, \"d'esoter\": 1, 'spirituel': 1, 'cartomancie.': 1, 'dessus': 1, 'bar,': 1, 'tabac,': 1, 'bimbeloterie,': 1, 'bonbons,': 1, 'contribu': 1, 'realisat': 1, 'tourisme,': 1, 'negoce,': 1, 'vap': 1, '(cigaret': 1, 'e-liquid,': 1, 'e-pipes,': 1, 'accessoires).': 1, 'liberale.': 2, 'logos': 1, 'affret': 2, 'btp,': 2, 'autrem': 1, 'ingenierie,': 1, 'petrolieres,': 1, 'gazieres,': 1, 'petrochim': 1, '(system': 1, 'electriques)': 1, 'pub': 1, 'litteraire,': 1, 'band': 1, 'dessine,': 1, 'theatr': 1, \"l'immobili\": 3, 'equitable,': 1, 'tenu': 1, 'prives,': 1, 'naissance,': 1, 'demarchag': 1, 'be': 1, 'professionnels,': 2, 'saisonniere,': 1, 'maconnerie.': 2, \"d'illustr\": 2, '(sur': 1, 'papier)': 1, 'cross': 1, 'architectural': 2, 'japon': 1, 'organisent': 1, 'voyages.': 1, \"d'acquisition,\": 2, 'transport,': 2, 'sous-affretement,': 1, 'exploitation,': 2, 'offre': 1, 'afin': 2, 'renforc': 2, \"d'anim\": 2, 'fet': 1, 'faveur': 1, 'familles.': 1, 'micro-entrepris': 1, 'dropshipping,': 1, 'encadr': 1, 'evolu': 1, 'camping': 1, 'caravan': 1, \"d'etudi\": 2, 'concour': 1, \"l'examen\": 1, 'national': 1, '(ecn).': 1, 'paramedicaux,': 1, 'decoration.': 3, 'galer': 2, 'prevue.': 1, 'blog': 1, 'prop': 1, 'firm': 1, 'asiat': 2, 'chaud': 3, 'froids.': 1, 'lecon': 1, 'piano': 2, 'classiqu': 1, 'debut': 1, 'direct,': 1, 'drop-shipping,': 1, 'lingerie,': 1, 'collants,': 1, 'pret-a-port': 1, 'intervenant/enseign': 1, 'negociation,': 1, 'leadership': 1, 'superieur,': 1, 'one-to-on': 1, 'co-interven': 1, 'plag': 1, 'propuls': 1, \"l'ameubl\": 1, \"l'etabl\": 3, 'docu': 4, 'developpeur': 1, 'blesse': 1, 'sanitaires.': 1, 'administratif.': 1, 'livraison)': 1, 'clossing,': 1, 'menuisi': 1, ',pos': 1, ',meubl': 1, 'bain,': 1, 'parquet,': 1, 'gro': 1, 'moto': 2, 'confiserie.': 1, 'surelev': 1, 'souscript': 3, 'immeuble(s),': 1, 'exceptionnel': 3, \"l'alien\": 2, 'gel,': 1, 'rallong': 2, 'ongle,': 1, 'x,': 1, 'sem': 1, 'permanent,': 1, 'depose,': 1, 'vaisselles.': 1, 'ceramique,': 1, 'consultant/': 1, 'formateur': 2, 'entretient': 1, '(menag': 1, 'saisonniere)': 1, '(loueur': 1, 'professionelle)': 1, '1900.': 1, 'conventions,': 2, 'seminair': 1, '(longu': 1, 'duree)': 1, \"l'agencement,\": 1, \"d'orient\": 1, 'collegiens,': 1, 'lyceen': 1, 'etudiants,': 1, \"l'inventair\": 1, 'terrestres,': 1, 'aichouritvis': 1, 'changement.': 1, 'entrepr': 2, \"d'enfants.\": 1, 'crep': 2, 'galet': 1, 'agrand': 1, \"d'architecte,\": 1, 'complete,': 1, 'ciliaire.': 1, 'france,': 1, '(7eme),': 1, '80': 1, 'urgenc': 1, 'renovation.': 1, 'participation,': 1, 'sociales,': 2, 'constitue': 1, 'poteries.': 1, 'general.': 1, 'monteur': 1, 'videast': 2, 'magasins.': 1, 'meublees,': 1, 'lesquel': 1, 'debitent': 1, 'granitas,': 1, 'gauffres,': 1, 'localis': 1, 'automatique,': 1, 'pressing,': 1, 'retoucherie,': 1, 'repassag': 2, 'capillair': 1, '(monat)': 1, 'informatiques,': 2, 'logiciels/applications.': 1, 'achat/revent': 1, 'informatique.': 1, 'fo': 1, 'serv': 3, 'contemporain': 1, 'chocolater': 2, 'promotion,': 1, 'soph': 1, 'verger;': 1, \"l'imag\": 1, 'verg': 1, 'bracelet': 1, 'main,': 1, 'coutures,': 1, 'webdesign': 2, '(ux.ui)': 1, '(particulier,': 1, 'entreprise).': 1, 'jouissance,': 1, 'conclus': 1, 'baux': 1, 'ruraux,': 1, 'agricole,': 1, \"d'autoguidage,\": 1, \"d'echec\": 1, 'intermedi': 2, 'conferent': 1, 'developper,': 1, 'concevoir,': 1, 'manier': 1, 'autonome.': 1, 'respon': 1, 'secretariat,': 1, 'photocopie,': 2, 'telecom': 1, 'telesurveillance,': 1, 'videosurveillance,': 1, \"d'acces,\": 1, 'portiqu': 1, 'anti-vol,': 1, 'detect': 1, \"d'incendie,\": 1, 'securite,': 2, 'proptech': 1, 'represent': 1, \"l'objet\": 2, 'livrais': 1, 'repat': 1, 'inchange': 1, '77': 1, 'albert': 1, 'thom': 1, '69003': 1, 'lyon,': 1, 'graphist': 1, 'print,': 1, 'portabl': 1, 'monetair': 1, 'grossist': 2, 'poissonner': 1, 'mer.': 1, 'domiciel': 1, 'viennoiseries,': 1, 'salon)': 1, 'donnees,': 1, 'cyb': 1, 'debarr': 1, 'cave.': 1, 'metaux.': 1, 'barbi': 1, 'manutentionnair': 1, 'competions/': 1, 'outdoor': 1, 'friper': 1, 'synthes': 1, 'cloisons,': 1, 'sanitaires,': 1, 'temoin,': 1, 'pal': 1, 'immobiliers;': 1, \"l'emprunt\": 1, 'necessaires.': 1, 'tricot': 2, 'charpenti': 1, 'ouvri': 1, 'bonbon': 1, 'techniques,': 2, \"d'executio\": 1, 'lntermedi': 1, 'parfumerie.': 1, 'domaine.': 2, 'toursim': 1, 'plexiglass': 1, 'visuels,': 1, 'types.': 1, 'parcours,': 1, 'tresors,': 1, 'enigmes,': 1, 'festivites,': 1, 'seminaires.': 1, 'superieur': 2, 'publicite,': 2, 'conception-redaction,': 1, '(remis': 1, 'pert': 1, 'poids,': 1, 'tonif': 1, 'musculaire,': 1, 'bien-etre,': 1, 'stretching,': 1, 'nutrit': 2, 'equid': 1, 'manufactures.': 1, 'regard': 1, \"d'illustration,\": 1, 'materialise': 1, 'dematerialise': 1, '(espaces,': 1, 'mobiles...)': 1, 'integ': 1, 'strategie.': 2, 'immobilieres,': 2, 'po': 2, 'ligne.': 1, 'internet,': 2, 'seo.': 1, \"d'etiopath\": 1, 'integr': 2, 'systemes,': 1, 'seo,': 1, 'technique.': 1, 'mentione': 1, 'ci-av': 1, 'puericulture,': 1, 'intracommunautair': 1, 'pepin': 2, 'noyau': 2, 'culture,': 1, 'recolte,': 1, \"d'epandage,\": 1, 'traitement...)': 1, 'cout': 1, 'groupements,': 1, 'connexe.': 1, 'prevent': 2, 'domestiques,': 1, 'amenagements,': 1, \"d'objets,\": 1, 'competit': 1, 'menuser': 1, 'peinture-platrer': 1, \"l'intermedi\": 1, 'laccompl': 1, 'va': 1, 'insert': 1, 'formatrice.': 1, 'mosaiques.': 1, '59.20z': 1, 'polycultur': 1, 'plantat': 2, \"d'electomenager,\": 1, 'vetement,': 1, \"d'outillage)\": 1, 'estheticienne.': 1, '9602b': 1, 'beaute.': 2, '31/08/2025.': 1, 'qvct': 1, 'offic': 1, 'pharmacie,': 1, 'appareil': 1, 'medicaux,': 1, 'orthopedie,': 1, 'homeopatie,': 1, 'audioprothese,': 1, 'veterinaires.': 1, ',secretariat': 1, 'administratif,': 1, 'specificit': 1, 'sepultur': 1, 'ravalement.': 1, 'bars/restaurants/concert': 1, 'pieds.': 1, 'gamm': 1, '(direct': 1, 'sous-traitant),': 1, 'peintre-cre': 1, 'multi-techn': 1, '(aquarelle,acryl': 1, 'toiles,': 1, 'papiers,cartons,': 1, 'gravur': 1, 'papiers,': 1, 'voiture,': 1, 'lourd,': 1, 'finop': 1, '(financ': 1, 'operation):': 1, 'traitement,': 1, 'cloud': 1, 'veterinaire.': 1, 'appui': 1, \"d''achat\": 1, 'estimations..': 1, 'imager': 1, \"d'accompagnement,\": 1, \"d'aud\": 1, 'reglementair': 1, 'norm': 1, 'physiques,': 1, 'bailleur': 1, 'levag': 1, 'agree)': 1, 'cordonner': 1, 'cle': 1, 'minut': 1, 'sylvicultur': 1, '(transport': 1, 'personnes),': 1, 'voiture.': 1, \"d'outil\": 1, 'transposit': 1, \"d'audit\": 2, 'oral': 1, '(moin': 2, '400': 1, 'm2)': 1, 'materiaux,': 1, 'ferrailles,': 1, 'cartons,': 1, 'pvc,': 1, 'verre...;': 1, 'stockage,': 1, \"d'interim\": 1, 'ordonnancement,': 1, 'planification,': 1, 'chantiers,': 1, 'eventuellement,': 1, 'terrains.': 1, 'investissements,': 1, 'placements.': 1, 'specialisees,': 1, 'technique,': 1, \"l'environ\": 1, 'therap': 1, 'enfants.': 1, 'bijouterie.': 1, 'modelis': 1, \"d'impress\": 1, '(par': 1, 'tiers)': 1, 'radio.': 1, 'esthetiques;': 1, 'technologie.': 1, 'artisanal)': 1, 'champignon': 1, 'truffes.': 1, 'interact': 2, 'chauffeur.': 2, 'elec': 1, 'dobjets,': 1, 'sculptures,': 1, 'fleurs.': 2, 'tp': 1, 'scenographie.': 1, 'charbon': 1, 'humaines,': 1, 'logiciels,': 2, \"d'ongl\": 1, 'semi-permanent': 1, 'mains/pieds,': 1, 'chablons,': 1, 'manucur': 1, 'nail': 1, 'gestio': 1, 'selarl': 1, 'boudriot': 1, '89': 1, 'monceau': 1, '75008': 1, 'acheteur': 2, 'revendeur': 1, '...,': 1, 'telec': 1, 'trouv': 2, 'adaptees,': 1, 'negoci': 1, 'prix': 1, '(tous': 1, 'boissons)': 1, 'utilitaires,': 1, 'motos,': 1, 'tricycles,': 1, 'conservation,': 1, \"qu'en\": 1, 'cuisines,': 2, 'sandwichs,': 2, 'salades,': 1, 'gaufres,': 1, 'biscott': 1, 'fruits,': 1, 'frais,': 2, '(fruit': 1, 'secs,': 1, 'confiture,': 1, 'miel,': 1, 'fromage...).': 1, 'jus,': 1, 'smoothie,..': 1, 'epicerie:': 1, 'scolair': 1, 'carrier': 1, '(optimis': 1, 'ventes,': 1, 'marges,': 1, 'identif': 1, 'nou': 1, 'architecturaux.': 1, \"d'oeuvre.\": 1, 'tertiaire.': 1, 'btp.': 1, 'promotionnel': 1, 'affil': 1, 'percevoir': 1, 'generees.': 1, 'individuelles.': 1, 'central,': 1, 'masseur-': 1, 'accessoires.': 2, 'charge': 1, 'paysager,': 1, 'tran': 1, \"d'atelier,\": 1, 'patisseries,': 1, 'pist': 1, 'galop': 1, 'debourrag': 1, 'box': 1, 'truck': 2, 'hamburger,': 1, 'boulangerie-patisser': 1, 'camgirl': 1, 'anne': 2, 'pass/l': 1, 'terminal': 1, 'ensuit': 1, 'pass/las,': 1, 'orthophon': 2, 'diplome': 1, 'ouvertur': 2, \"d'orthophon\": 1, 'liberal.': 1, 'reglementee,': 1, 'conventionne': 1, 'cpam': 1, 'acolyt': 1, 'logo': 1, \"d'espac\": 1, 'irve': 1, 'audit,': 1, 'cinematographique,': 1, 'televisuels,': 1, 'recherche,': 1, 'selection,': 1, 'present': 1, 'pa': 1, 'brushet': 1, 'pates.': 1, 'annonceurs.': 1, 'origami.': 1, 'epoxy': 1, \"d'aminc\": 1, '(broder': 1, 'broder': 1, 'machine,': 1, 'flocage...)': 1, '76': 1, 'avenu': 1, 'edouard': 1, 'millaud': 1, 'crapon': 1, '(69290),': 1, 'imprimerie,': 1, 'offset,': 1, 'photogravure,': 1, 'typographie,': 1, 'duplication,': 1, 'dimpress': 1, \"l'amen\": 1, 'soutien,': 1, 'com': 1, 'toilet': 1, 'monat': 1, 'thermoplast': 1, 'elastomeres;': 1, 'accompagne': 1, 'parahotelieres.': 1, 'relooking,': 1, 'recyclag': 1, 'numerique.': 1, 'apprendr': 1, 'leur(s)': 1, 'ordinateur(s).': 1, 'or': 1, 'collier,': 1, 'bracelet,': 1, 'bague,': 1, 'boucl': 1, \"d'oreil\": 1, '(saas)': 1, 'commerces,': 1, 'maisons,': 2, 'legumes,': 1, 'melons,': 1, 'racin': 1, 'tubercul': 1, 'convent': 1, \"l'even\": 1, 'occasionnel': 1, 'journee,': 1, 'semaine,etc..': 1, 'recueil': 1, 'poes': 1, 'autoedition,': 1, 'illustrations.': 1, 'sst': 1, 'psc1': 1, 'enregistrement,': 1, 'mixage,': 1, 'mastering,': 1, 'artistique.': 1, 'immobiliere.': 1, 'liviraison': 1, 'pelouse,': 1, 'arbust': 1, 'haies,': 1, '(2d': 1, '3d),': 1, \"l'etude,\": 1, \"d'opt\": 1, 'entrain': 1, 'sangliers,': 1, 'chass': 1, 'chasse.': 1, 'refection,': 1, \"d'extinct\": 1, \"d'incend\": 1, 'boisson).': 1, 'bilans,': 1, \"d'outils,\": 1, 'seances,': 1, 'placement,': 1, 'societes.': 2, \"l'entretien,\": 1, 'demoussag': 1, 'batiments,': 1, 'projection,': 1, 'marchandise,': 1, \"d'encadr\": 1, 'lor': 1, 'small': 1, 'group,': 1, 'fourniture,': 1, 'chaleur,': 1, 'climat': 1, 'chauffage.': 1, \"n'\": 1, 'exced': 1, ',conducteur': 1, 'tissus': 1, 'exceptionnelle,': 1, 'promess': 1, 'immeubles;': 1, 'foulard': 1, 'moyens,': 2, 'productif.': 1, 'plaisance,': 1, 'pilote.': 1, 'croisieres,': 1, 'recept': 1, 'electriques.': 1, 'accueillir,': 1, 'heberger,': 1, 'aider,': 1, 'securiser,': 1, 'eduquer,': 1, 'observ': 1, 'orient': 1, 'adolescent': 1, 'interven': 1, 'remplacement,': 1, 'automobiles,': 1, 'brum': 1, 'senteur': 1, 'marcus': 1, 'spurway': 1, 'administratives,': 1, 'facilitation,': 1, 'lobject': 1, 'fusion,': 1, '(labeur)': 1, 'preparation,': 1, 'apprentissage)': 1, 'proprete,': 1, 'sous-trait': 1, \"d'alcool\": 1, 'creper': 1, 'snack': 1, 'pizzeri': 1, 'glaci': 1, '4em': 1, 'categorie)': 1, \"l'informatique.\": 2, '15': 1, 'fle': 1, 'stag': 1, \"l'attent\": 1, 'articles+accessoir': 1, 'puericultur': 2, 'maison:': 1, 'gigot': 1, 'carnet': 1, 'cartabl': 1, 'coton': 1, 'menuiseries,': 1, \"d'execution,\": 1, \"l'ordonnancement,\": 1, 'peche.': 1, 'immediat': 2, 'terme,': 1, 'formalit': 1, 'terasse,': 1, 'facade,': 1, 'locaux,': 1, 'reglementation)': 1, 'mark': 1, 'achat-revent': 3, \"d'etancheif\": 1, \"d'extens\": 2, 'cil': 2, '4321a': 1, 'sites,': 1, 'paysagistes,': 1, 'jardinages,': 1, 'fruitiers,': 1, 'palissag': 1, 'vendang': 1, \"l'innov\": 1, 'import,': 1, 'simpl': 1, 'reservations,': 1, 'guides,': 1, 'billeteries,': 1, \"d'objet;\": 1, 'textile:': 1, 'personnalise.': 1, 'signalet': 1, 'rou': 1, \"d'electrotechn\": 1, 'apprentissage,': 1, 'continue,': 1, 'vae,': 1, 'supermarche,': 1, 'produis': 1, 'construction-renov': 1, 'futu': 1, 'patisserie.': 1, 'plats,': 1, 'maintien': 1, 'prair': 1, \"d'herb\": 1, '(enrubannag': 1, 'foin)': 1, '(ap': 1, '8121z': 1, 'acivit': 1, \"l'i\": 1, 'autrement.': 1, 'eventuel': 1, 'devenus': 1, 'inutil': 1, 'ci-dessus': 1, 'defini,': 1, 'societe.': 1, 'non-alimentair': 1, 'image,': 1, 'publiques,': 1, 'secourisme,': 1, \"l'incendie.\": 1, 'tirag': 1, 'photographie.': 1, 'exotique,': 1, 'alcool,': 1, 'reparations)': 1, 'mobiliers,': 1, 'biens.': 1, 'drainag': 1, 'lymphat': 1, 'lymphomodelag': 1, 'auriculotherap': 1, 'cupping': 1, 'ventous': 1, 'exerce': 1, 'coloc': 1, 'interim': 1, 'specialit': 1, 'mma': 1, 'italienne,': 1, 'food-truck': 1, 'perspect': 1, 'post-secondair': 1, 'bier': 1, 'paysagers,': 1, 'jardins,': 1, 'personnes.': 1, 'patrimoine.': 1, '150': 1, 'ans)': 1, '0210z': 1, 'non-professionnel': 1, 'duree.': 1, 'latino-americains.': 1, \"d'aliment\": 3, 'boisson.': 1, 'culturels.': 1, 'pedicure,': 1, 'pieds,': 1, 'exed': 1, 'logo,': 1, 'page,': 1, 'photo,': 1, 'travau': 1, 'quas': 1, 'propres,': 1, 'integral': 1, 'nature.': 1, '(6202a)': 1, 'platform': 1, 'micro': 1, 'entreprenneur': 1, 'liter': 1, 'ameubl': 1, 'linger': 1, \"l'etud\": 1, 'semi-submersible,': 1, \"d'explor\": 1, 'edif': 1, 'fine,': 1, 'animation.': 1, 'menagers,': 1, 'ans,': 1, 'hoteli': 1, 'hotessar': 1, 'consommation,': 1, 'indust': 1, 'marches,': 1, 'confectionne.': 1, 'donc': 1, 'regul': 1, 'dirig': 1, 'favoris': 1, 'facilit': 1, 'intelligent': 1, 'multi-commerces,': 1, 'predomin': 1, 'agroalimentaire.': 1, \"d'occasion.\": 1, 'par': 1, 'bris': 1, \"d'acquisitions,\": 1, 'totalit': 1, 'fraction': 1, \"d'achevement,\": 1, 'lotissements,': 1, 'copropriet': 1, 'subdivis': 1, 'total': 1, 'partiel': 1, 'detenus': 1, 'delegue': 1, 'associes,': 1, 'vdi:': 1, 'etre.': 1, 'educatif,': 1, 'enver': 1, 'situat': 1, 'lmnp,': 1, 'champ': 1, 'gardiennage,': 1, \"d'informat\": 1, 'collec': 1, 'sportives,': 1, 'etre,': 1, '(coaching': 1, 'sportif,': 1, 'yoga,': 1, 'boxe)': 1, 'bonjour,': 1, 'debossel': 1, 'episod': 1, 'grel': 1, ';coup': 1, 'caddie,': 1, 'incivilit': 1, '(ordinateurs,': 1, 'mobiles,': 1, 'quip': 1, 'vevtillation,': 1, 'transitaire;': 1, \"d'autrui\": 1, \"l'exportation,\": 1, 'neufs,': 1, 'mobilier,': 1, 'method': 1, \"l'ecol\": 1, 'human': 1}\n",
      "word_id_mapping: {'affair': 1, 'etranger': 2, 'fabriqu': 3, \"d'autr\": 4, 'equip': 5, 'transport': 6, 'n.c.a.': 7, 'autr': 8, 'commerc': 9, 'gros': 10, '(commerc': 11, 'interentreprises)': 12, 'produit': 13, 'intermediair': 14, 'construct': 15, 'bateau': 16, 'textil': 17, 'techniqu': 18, 'industriel': 19, 'cultur': 20, 'machin': 21, 'specialise': 22, 'chimiqu': 23, 'conduit': 24, 'fruit': 25, 'legum': 26, 'construction,': 27, 'terr': 28, 'repar': 29, \"d'articl\": 30, \"d'horloger\": 31, 'bijouter': 32, 'bas': 33, 'prepar': 34, 'fibr': 35, 'fil': 36, 'cabl': 37, 'electron': 38, 'electr': 39, 'beton': 40, 'pret': 41, 'materiel': 42, 'agricol': 43, 'distribu': 44, 'combustibl': 45, 'gazeux': 46, 'froid': 47, 'accessoir': 48, 'aci': 49, 'organis': 50, 'jeux': 51, 'activit': 52, 'centr': 53, 'physiqu': 54, 'meubles,': 55, \"d'appareil\": 56, 'servic': 57, \"d'ouvrag\": 58, 'locat': 59, 'oper': 60, 'exploit': 61, 'forestier': 62, 'metallurg': 63, 'mobili': 64, 'bureau': 65, \"d'equip\": 66, '(a': 67, \"l'except\": 68, \"d'electricit\": 69, 'fleur': 70, 'plant': 71, 'mineral': 72, 'non': 73, 'metall': 74, 'promot': 75, 'immobilier': 76, 'pneumat': 77, 'carrosser': 78, 'traval': 79, 'terrass': 80, 'specialis': 81, 'grand': 82, 'film': 83, 'chauffeur': 84, 'fonder': 85, 'metal': 86, 'ferreux': 87, 'enseign': 88, 'optiqu': 89, 'reseau': 90, 'telecommun': 91, 'frigorif': 92, 'trait': 93, \"d'eau\": 94, 'medical': 95, 'extract': 96, 'min': 97, 'auxiliair': 98, \"d'assur\": 99, 'caiss': 100, 'retrait': 101, \"d'el\": 102, 'platr': 103, \"d'animal\": 104, 'viv': 105, 'vehicul': 106, 'industr': 107, 'eau': 108, 'tabl': 109, \"d'emballag\": 110, 'papi': 111, 'detail': 112, 'jouet': 113, 'magasin': 114, 'confiser': 115, 'location-bail': 116, 'propriet': 117, 'intellectuel': 118, 'oeuvr': 119, 'meubl': 120, 'compos': 121, 'bois': 122, 'huil': 123, 'matier': 124, 'heberg': 125, 'social': 126, 'handicap': 127, 'mental': 128, 'malad': 129, 'soutien': 130, 'textiles,': 131, 'chaussur': 132, 'articl': 133, 'cuir': 134, \"d'install\": 135, \"d'huil\": 136, 'graiss': 137, 'pomp': 138, 'video': 139, 'pharmaceut': 140, 'gestion': 141, 'tabac': 142, 'journal': 143, 'papeter': 144, 'spatial': 145, \"d'aid\": 146, 'product': 147, 'boisson': 148, 'dechet': 149, 'danger': 150, 'elevag': 151, 'similair': 152, 'administr': 153, 'publiqu': 154, 'formation,': 155, 'sociaux,': 156, 'securit': 157, 'nucleair': 158, 'chaudier': 159, 'chauffag': 160, 'central': 161, 'chain': 162, 'ceram': 163, 'sport': 164, 'professionnel': 165, 'permanent': 166, 'machines-outil': 167, 'travail': 168, 'ferroviair': 169, 'fret': 170, 'edit': 171, 'sieg': 172, \"d'interieur\": 173, 'transform': 174, 'conserv': 175, 'viand': 176, 'volaill': 177, 'econom': 178, 'maroquiner': 179, 'voyag': 180, 'mecan': 181, 'plastiqu': 182, 'command': 183, 'concept': 184, 'assemblag': 185, 'sit': 186, 'control': 187, 'alimentair': 188, 'port': 189, 'automobil': 190, 'demenag': 191, 'menag': 192, 'tant': 193, 'personnel': 194, 'domest': 195, 'medicalis': 196, 'adult': 197, 'general': 198, 'commun': 199, 'verr': 200, 'plat': 201, 'photograph': 202, 'support': 203, 'electromenager': 204, 'stockag': 205, 'leger': 206, \"d'al\": 207, 'gaz': 208, 'naturel': 209, 'collect': 210, 'gener': 211, 'faconnag': 212, 'pierr': 213, 'demolit': 214, 'rout': 215, 'animal': 216, 'compagn': 217, 'difficult': 218, 'maill': 219, 'surgel': 220, 'mainten': 221, 'system': 222, 'informat': 223, 'patisser': 224, 'fraich': 225, 'producteur': 226, 'bien': 227, 'usag': 228, 'propr': 229, 'banqu': 230, 'revet': 231, 'jus': 232, \"d'entretien\": 233, 'evalu': 234, 'fluvial': 235, 'passager': 236, 'pech': 237, 'charpent': 238, 'menuiser': 239, 'sportiv': 240, 'menager': 241, 'carton': 242, 'restaur': 243, 'panneau': 244, 'piec': 245, 'isol': 246, 'vet': 247, 'agenc': 248, 'press': 249, 'musiqu': 250, 'logiciel': 251, 'outil': 252, 'developp': 253, 'routi': 254, 'voyageur': 255, 'public': 256, 'connex': 257, \"l'industr\": 258, 'courtag': 259, 'valeur': 260, 'mobilier': 261, 'marchandis': 262, 'boucher': 263, 'sanitair': 264, 'fournitur': 265, 'plomber': 266, 'caf': 267, 'manutent': 268, 'poissons,': 269, 'crustac': 270, 'mollusqu': 271, 'motocycl': 272, 'conteneur': 273, 'aerien': 274, \"d'enregistr\": 275, 'musical': 276, 'assur': 277, 'maritim': 278, 'societ': 279, \"d'inform\": 280, 'financier': 281, 'clientel': 282, 'polit': 283, 'structur': 284, \"d'art\": 285, 'sec': 286, 'cuisin': 287, 'gen': 288, 'civil': 289, 'reproduct': 290, 'tourist': 291, 'voi': 292, 'surfac': 293, 'diver': 294, 'entretien': 295, 'cafe,': 296, 'the,': 297, 'organ': 298, \"d'achat\": 299, \"d'engin\": 300, 'quincaillerie,': 301, 'peintur': 302, 'peripher': 303, 'industriel,': 304, 'compr': 305, 'lieux': 306, 'vent': 307, 'boulanger': 308, 'cart': 309, 'caoutchouc': 310, 'reg': 311, 'publicitair': 312, 'medi': 313, 'precieux': 314, 'condition': 315, 'aid': 316, 'person': 317, 'age': 318, 'vin': 319, 'san': 320, 'plac': 321, 'essentiel': 322, 'jardin': 323, 'reserv': 324, 'oleagin': 325, 'moteur': 326, 'march': 327, 'financi': 328, 'bois,': 329, 'hor': 330, 'livr': 331, 'decor': 332, 'sall': 333, 'spectacl': 334, 'vi': 335, 'enfant': 336, 'tapis,': 337, 'mur': 338, 'sol': 339, 'imprimer': 340, 'grain': 341, 'pat': 342, 'humain': 343, 'prestat': 344, 'preparatoir': 345, 'particuli': 346, \"d'un\": 347, 'titr': 348, 'creation': 349, 'artist': 350, 'relev': 351, 'art': 352, 'commercialis': 353, 'beaut': 354, 'post': 355, 'cadr': 356, 'immobili': 357, \"d'apporteur\": 358, \"d'affair\": 359, 'livraison': 360, 'domicil': 361, 'metallique,': 362, 'couvertur': 363, 'bat': 364, 'tout': 365, 'menuiserie,': 366, 'interieur': 367, 'exterieur,': 368, 'platrerie,': 369, 'maison': 370, 'pos': 371, 'faux': 372, 'gel': 373, 'proced': 374, 'plusieur': 375, 'tel': 376, 'mis': 377, 'conseil': 378, 'accompagn': 379, 'manag': 380, \"l'acquisit\": 381, \"d'immeubl\": 382, 'batis,': 383, \"l'administr\": 384, 'bail,': 385, 'achat,': 386, 'vente,': 387, 'reparation,': 388, 'poid': 389, 'publicit': 390, 'communication,': 391, 'web,': 392, 'strateg': 393, 'maitris': 394, \"d'oeuvr\": 395, 'consist': 396, 'fourn': 397, 'dit': 398, 'entreprises.': 399, 'action': 400, 'lou': 401, 'innov': 402, 'photovolta': 403, 'vign': 404, 'install': 405, 'meuble': 406, 'lign': 407, 'mod': 408, 'neuf': 409, 'diffus': 410, 'programm': 411, 'tous': 412, 'prestatair': 413, 'nettoyag': 414, 'commercial': 415, 'auto': 416, 'renov': 417, 'element': 418, 'divers': 419, 'vehicules,': 420, 'production,': 421, 'realisation,': 422, 'distribution,': 423, \"l'exploitation,\": 424, \"l'import\": 425, \"l'export\": 426, 'achat': 427, 'internet': 428, 'profess': 429, 'medecin': 430, 'not': 431, 'boutiqu': 432, 'e-commerc': 433, 'personnalis': 434, 'them': 435, 'mariage,': 436, \"l'activit\": 437, 'distanc': 438, \"l'import-export\": 439, 'reglementes.': 440, 'entrepris': 441, 'contenu': 442, 'digital': 443, 'detent': 444, 'part': 445, \"d'action\": 446, \"d'exercic\": 447, 'liberal': 448, 'hotessariat': 449, 'local': 450, 'chez': 451, 'vtc': 452, 'acquisition,': 453, 'administration,': 454, 'immeubl': 455, 'livreur': 456, 'rep': 457, 'velo': 458, '(non': 459, 'motorise)': 460, 'personne,': 461, \"d'assist\": 462, 'soin': 463, 'immeubles,': 464, 'construit': 465, 'non,': 466, 'droit': 467, 'propriete,': 468, \"l'exploit\": 469, 'consulting': 470, \"d'expertis\": 471, 'voitur': 472, '(vtc)': 473, 'gard': 474, 'petit': 475, 'bricolag': 476, 'homm': 477, 'main': 478, 'reglemente': 479, 'revent': 480, \"d'occas\": 481, 'secretariat': 482, 'agent': 483, 'courti': 484, \"l'appareillag\": 485, 'pedicures-podologu': 486, 'web': 487, 'services.': 488, 'relat': 489, 'client': 490, 'achat-vent': 491, 'institutionnel': 492, 'li': 493, 'avocat': 494, 'sedentair': 495, \"l'acquisition,\": 496, \"l'administration,\": 497, 'disposit': 498, 'assoc': 499, 'loueur': 500, 'special': 501, 'conception,': 502, 'suiv': 503, 'projet': 504, 'disciplin': 505, \"d'activit\": 506, 'loisir': 507, 'realis': 508, 'maconner': 509, 'coaching': 510, 'group': 511, 'et/ou': 512, 'cour': 513, 'electricit': 514, 'bar': 515, 'epicer': 516, 'coursi': 517, 'repas,': 518, 'ains': 519, 'typ': 520, 'vehicules.': 521, 'utilis': 522, \"d'objet\": 523, 'tropical': 524, 'cession,': 525, 'travaux,': 526, 'apporteur': 527, 'batiment.': 528, 'gestion,': 529, 'holding': 530, 'terrestr': 531, 'restaurant,': 532, 'salon': 533, 'traiteur,': 534, 'ateli': 535, \"d'evenements,\": 536, 'temporair': 537, 'plus': 538, 'faibl': 539, 'batiment,': 540, 'propos': 541, 'mesur': 542, 'optimis': 543, 'recherch': 544, 'reglement': 545, 'emport': 546, 'alcool': 547, 'acquisit': 548, 'fantais': 549, 'judiciair': 550, \"l'achat,\": 551, \"l'entretien\": 552, 'climatis': 553, 'pris': 554, 'valeur,': 555, 'location,': 556, 'auteur': 557, 'patrimoin': 558, 'colis': 559, 'solut': 560, 'electroniques,': 561, 'jouets,': 562, 'vetements,': 563, 'numer': 564, 'financiere,': 565, 'compt': 566, 'tier': 567, 'energ': 568, 'sous': 569, \"d'amenag\": 570, 'carrelag': 571, \"d'achat,\": 572, \"d'apport\": 573, 'autrement,': 574, 'detention,': 575, 'immeub': 576, 'anim': 577, 'prive': 578, 'prothes': 579, 'dentair': 580, 'point': 581, 'log': 582, 'perform': 583, 'graphism': 584, 'graphiqu': 585, 'depannag': 586, 'plomberie,': 587, \"d'enf\": 588, 'paysag': 589, 'souhait': 590, 'fair': 591, 'laver': 592, 'traditionnelle,': 593, 'terrain': 594, 'sis': 595, 'sportif': 596, 'moyen': 597, 'forme,': 598, 'generalement,': 599, 'commerce,': 600, 'civiles,': 601, 'pouv': 602, 'rattach': 603, 'direct': 604, 'indirect': 605, 'objet': 606, 'appliqu': 607, 'franc': 608, 'particuliers.': 609, 'lmnp': 610, 'plan': 611, 'transact': 612, 'fond': 613, 'immobiliere,': 614, 'geranc': 615, 'montag': 616, 'ongulair': 617, 'aupr': 618, 'sant': 619, 'import': 620, 'coach': 621, 'vu': 622, \"d'occasion,\": 623, 'station': 624, 'reeducation,': 625, 'chirurgien': 626, 'dentist': 627, 'conseil,': 628, \"l'aud\": 629, \"l'assist\": 630, 'apport': 631, \"l'exercic\": 632, 'freelanc': 633, 'classe': 634, 'ailleur': 635, 'bijoux': 636, 'mode,': 637, \"d'etud\": 638, 'sculptur': 639, 'souscription,': 640, 'particip': 641, 'co': 642, 'fonction': 643, 'maitr': 644, 'mission': 645, 'rapport': 646, \"l'\": 647, 'yog': 648, 'immobiliers,': 649, 'dont': 650, 'pourr': 651, 'deven': 652, 'proprietair': 653, 'echange,': 654, 'raval': 655, 'tva': 656, 'pizz': 657, 'marchand': 658, 'etat': 659, 'futur': 660, \"d'achev\": 661, 'acheves,': 662, 'apport,': 663, 'transformation,': 664, 'amenagement,': 665, 'culturel': 666, 'remplac': 667, 'tableau': 668, 'verif': 669, \"l'apport,\": 670, 'logist': 671, '...)': 672, 'adhes': 673, 'volontair': 674, 'rapide,': 675, 'place,': 676, 'emporter,': 677, 'export': 678, 'reglementes,': 679, \"l'ensembl\": 680, 'dure': 681, 'cod': 682, 'ape': 683, 'destin': 684, 'situe': 685, 'plateform': 686, \"d'even\": 687, 'immobiliers.': 688, 'different': 689, 'corp': 690, \"d'etat\": 691, 'electricite,': 692, 'principal': 693, 'chambr': 694, 'resident': 695, 'jeun': 696, 'mobil': 697, 'heur': 698, 'qualif': 699, 'etud': 700, 'audit': 701, \"s'y\": 702, 'filial': 703, 'rapide.': 704, 'catalogu': 705, 'creation,': 706, 'pose,': 707, 'lavag': 708, 'automobile,': 709, 'marqu': 710, 'marketing,': 711, 'capital': 712, 'societes,': 713, 'exercic': 714, 'prof': 715, 'societe,': 716, 'biens,': 717, 'assist': 718, 'automat': 719, 'protect': 720, 'infirmi': 721, 'plaqu': 722, 'seanc': 723, 'marketing': 724, 'secteur': 725, 'renouvel': 726, 'bi': 727, 'participations,': 728, 'commerciales,': 729, \"l'amenagement,\": 730, 'professionnel.': 731, 'generale,': 732, 'carrelage,': 733, \"l'etranger,\": 734, 'quelqu': 735, 'form': 736, 'lexploit': 737, 'appart': 738, 'consomm': 739, \"l'aid\": 740, 'redact': 741, 'but': 742, 'particuliers,': 743, 'guid': 744, 'lacquisition,': 745, 'ladministr': 746, 'convoyag': 747, 'cre': 748, 'domain': 749, \"l'informat\": 750, 'peinture,': 751, 'maconnerie,': 752, \"l'achat\": 753, 'informatique,': 754, 'format': 755, 'continu': 756, 'psycholog': 757, 'fin': 758, 'chanti': 759, 'praticien': 760, 'design,': 761, 'developpement,': 762, 'negoc': 763, 'produits,': 764, 'marchandises,': 765, 'domicile,': 766, 'batiments.': 767, 'git': 768, 'amenag': 769, 'traduct': 770, 'aliment': 771, 'community': 772, 'ger': 773, 'leur': 774, 'entit': 775, 'audiovisuel': 776, 'therapeut': 777, 'energet': 778, 'individuel': 779, \"l'organisation,\": 780, 'natur': 781, 'exterieur': 782, 'leg': 783, \"l'installation,\": 784, 'raccord': 785, 'solair': 786, 'bail': 787, 'collectivit': 788, \"l'organis\": 789, 'even': 790, 'priv': 791, 'professeur': 792, 'longu': 793, 'taill': 794, 'nettoyage,': 795, 'parc': 796, 'telephon': 797, 'exclus': 798, 'gestion.': 799, 'dist': 800, 'entreprises,': 801, 'acte': 802, 'caracter': 803, 'professionnel,': 804, 'tourism': 805, 'court': 806, \"d'accueil\": 807, 'design': 808, 'motion': 809, 'etc...)': 810, 'velo.': 811, 'professionnels.': 812, 'traitanc': 813, \"l'edit\": 814, 'qualit': 815, 'recreat': 816, 'lien': 817, 'jeux,': 818, 'alcoolise': 819, 'coiffur': 820, 'pratiqu': 821, 'commerciale,': 822, 'immeuble,': 823, 'dud': 824, 'impress': 825, 'identit': 826, \"l'etranger.\": 827, 'manufactur': 828, 'terrains,': 829, \"l'etrang\": 830, 'comm': 831, 'rapid': 832, 'accessoires,': 833, 'vitrer': 834, 'interpret': 835, \"d'etat.\": 836, 'infirmier': 837, 'installation,': 838, 'renovation,': 839, 'service,': 840, 'sanitaire,': 841, 'commercialisation,': 842, \"d'agent\": 843, 'sen': 844, \"d'entrepris\": 845, 'concierger': 846, 'desdit': 847, 'jurid': 848, 'tiers,': 849, 'consult': 850, 'francais': 851, 'quel': 852, 'indirectement,': 853, \"qu'a\": 854, 'bouch': 855, 'lie': 856, 'gardiennag': 857, 'vdi': 858, 'mont': 859, 'associe': 860, 'uber': 861, 'eat': 862, 'meti': 863, 'to': 864, 'deliveroo': 865, 'broc': 866, 'vid': 867, 'demolition,': 868, 'ingenier': 869, 'evenementiel,': 870, 'etre': 871, 'haut': 872, 'diagnostic': 873, 'holding,': 874, 'ressourc': 875, 'charpente,': 876, 'besoin': 877, 'studio': 878, 'saisonnier': 879, 'deb': 880, 'vendr': 881, \"d'arbr\": 882, 'esthetiques.': 883, 'videos': 884, 'bijoux,': 885, 'commercial.': 886, 'born': 887, 'photos': 888, 'ambulanci': 889, 'inclu': 890, \"d'apport,\": 891, 'pet': 892, 'jardinag': 893, \"d'affaires,\": 894, 'sejour': 895, 'interet': 896, 'paris': 897, 'resin': 898, 'independ': 899, 'detail,': 900, 'thermiqu': 901, '(san': 902, 'cheval': 903, 'fabrication,': 904, 'services,': 905, 'decoration,': 906, 'disc': 907, \"d'ouvrage,\": 908, 'traditionnel': 909, 'evenementiel': 910, 'dans': 911, 'commercial,': 912, '6820a': 913, 'boug': 914, 'mobilieres,': 915, 'artisanal': 916, 'expertis': 917, 'chauffage,': 918, 'maison,': 919, 'ling': 920, 'bazar,': 921, \"l'energ\": 922, 'masseur': 923, 'tax': 924, 'mediat': 925, 'mettr': 926, 'cabinet': 927, 'food': 928, 'crepes,': 929, 'frites,': 930, 'boulangerie,': 931, 'patisserie,': 932, 'alimentaire,': 933, 'ecol': 934, 'retouch': 935, 'gros,': 936, 'demi-gros': 937, 'dron': 938, 'effectu': 939, 'cycl': 940, 'deplac': 941, 'parfum': 942, 'cession': 943, 'affaires,': 944, 'accompagnement,': 945, 'veterinair': 946, 'nature,': 947, 'reel': 948, 'simplif': 949, 'immobilier,': 950, 'convoyeur': 951, 'juridiques,': 952, \"d'habit\": 953, 'ambul': 954, \"d'etabl\": 955, 'associ': 956, \"d'\": 957, 'dat': 958, 'parfumer': 959, 'exerc': 960, 'motoris': 961, \"d'accessoir\": 962, 'restauration,': 963, \"d'entretien,\": 964, 'peintr': 965, 'mandatair': 966, \"d'intermediair\": 967, 'cosmet': 968, \"d'interet\": 969, 'soc': 970, 'soum': 971, 'financ': 972, 'commerciale.': 973, 'alimentaires.': 974, 'situ': 975, 'etabl': 976, \"l'install\": 977, 'traiteur': 978, 'vendeur': 979, 'kinesitherapeut': 980, 'accueil': 981, 'lot': 982, 'concern': 983, \"d'artist\": 984, 'eventair': 985, '(hor': 986, 'material': 987, \"d'habill\": 988, \"d'oeuvre,\": 989, 'zinguer': 990, 'pedagog': 991, 'sport,': 992, 'marchandises.': 993, 'domicile.': 994, 'snack,': 995, 'confect': 996, 'entre': 997, 'moral': 998, 'quelconqu': 999, 'massag': 1000, 'bien-etr': 1001, 'alcoolisees,': 1002, 'video,': 1003, 'cet': 1004, \"l'immobili\": 1005, 'decoration.': 1006, 'chaud': 1007, \"l'etabl\": 1008, 'docu': 1009, 'souscript': 1010, 'exceptionnel': 1011, 'serv': 1012, 'achat-revent': 1013, \"d'aliment\": 1014}\n",
      "nwords: 1014\n"
     ]
    }
   ],
   "source": [
    "min_n=MIN_N\n",
    "max_n=MAX_N\n",
    "num_tokens= NUM_TOKENS\n",
    "len_word_ngrams=LEN_WORD_NGRAMS\n",
    "min_count=MIN_COUNT\n",
    "training_text=training_text\n",
    "\n",
    "if min_n < 2:\n",
    "    raise ValueError(\"`min_n` parameter must be greater than 1.\")\n",
    "if max_n > 6:\n",
    "    raise ValueError(\"`max_n` parameter must be smaller than 7.\")\n",
    "\n",
    "word_counts = {}\n",
    "for sentence in training_text:\n",
    "    for word in sentence.split(\" \"):\n",
    "        word_counts[word] = word_counts.setdefault(word, 0) + 1\n",
    "\n",
    "\n",
    "word_id_mapping = {}\n",
    "i = 1\n",
    "for word, counts in word_counts.items():\n",
    "    if word_counts[word] >= min_count:\n",
    "        word_id_mapping[word] = i\n",
    "        i += 1\n",
    "nwords = len(word_id_mapping)\n",
    "\n",
    "print(f\"word_counts: {word_counts}\")\n",
    "print(f\"word_id_mapping: {word_id_mapping}\")\n",
    "print(f\"nwords: {nwords}\")"
   ]
  },
  {
   "cell_type": "code",
   "execution_count": 8,
   "metadata": {},
   "outputs": [
    {
     "data": {
      "text/plain": [
       "<torchFastText.datasets.tokenizer.NGramTokenizer at 0x7fbd09f815b0>"
      ]
     },
     "execution_count": 8,
     "metadata": {},
     "output_type": "execute_result"
    }
   ],
   "source": [
    "tokenizer = NGramTokenizer(\n",
    "    min_n=MIN_N, \n",
    "    max_n=MAX_N, \n",
    "    num_tokens= NUM_TOKENS,\n",
    "    len_word_ngrams=LEN_WORD_NGRAMS, \n",
    "    min_count=MIN_COUNT, \n",
    "    training_text=training_text\n",
    "    )\n",
    "tokenizer"
   ]
  },
  {
   "cell_type": "markdown",
   "metadata": {},
   "source": [
    "Some internal functions : "
   ]
  },
  {
   "cell_type": "code",
   "execution_count": 9,
   "metadata": {},
   "outputs": [
    {
     "data": {
      "text/plain": [
       "['cha', 'har', 'arc', 'rcu', 'cut', 'uti', 'tie', 'ier']"
      ]
     },
     "execution_count": 9,
     "metadata": {},
     "output_type": "execute_result"
    }
   ],
   "source": [
    "tokenizer.get_ngram_list(\"charcutier\", n=3)"
   ]
  },
  {
   "cell_type": "markdown",
   "metadata": {},
   "source": [
    "`get_hash` gives a unique hash (int) to a token"
   ]
  },
  {
   "cell_type": "code",
   "execution_count": 10,
   "metadata": {},
   "outputs": [
    {
     "name": "stdout",
     "output_type": "stream",
     "text": [
      "865323743\n",
      "865323743\n",
      "3631407781\n",
      "2349978481\n"
     ]
    }
   ],
   "source": [
    "print(tokenizer.get_hash(\"uti\")) \n",
    "print(tokenizer.get_hash(\"uti\")) \n",
    "print(tokenizer.get_hash(\"data\")) \n",
    "print(tokenizer.get_hash(\"scientist\")) "
   ]
  },
  {
   "cell_type": "markdown",
   "metadata": {},
   "source": [
    "For a words ngram like \"data scientist\", `tokenizer.get_hash` give the position (=index) of this word ngram in the embedding matrix.\n",
    "\n",
    "This index is between (nwords) and (nwords + bucket - 1).\n",
    "\n",
    "This means that the indices of the embedding matrix are:\n",
    "\n",
    "- [0, nwords-1] for vocabulary words.\n",
    "- [nwords, nwords + bucket - 1] for n-grams (word or subword ngrams).\n",
    "\n",
    "**Also note that the number of rows in the embedding matrix is : nword + num_tokens** "
   ]
  },
  {
   "cell_type": "code",
   "execution_count": 11,
   "metadata": {},
   "outputs": [
    {
     "data": {
      "text/plain": [
       "51736"
      ]
     },
     "execution_count": 11,
     "metadata": {},
     "output_type": "execute_result"
    }
   ],
   "source": [
    "hashes = (tokenizer.get_hash(\"data\"), tokenizer.get_hash(\"scientist\"))\n",
    "tokenizer.get_word_ngram_id(hashes=hashes, bucket=num_tokens, nwords=4000)"
   ]
  },
  {
   "cell_type": "markdown",
   "metadata": {},
   "source": [
    "`get_subword_index` : Get the index of a subword ngram in the embedding matrix"
   ]
  },
  {
   "cell_type": "code",
   "execution_count": null,
   "metadata": {},
   "outputs": [
    {
     "data": {
      "text/plain": [
       "73450"
      ]
     },
     "execution_count": 22,
     "metadata": {},
     "output_type": "execute_result"
    }
   ],
   "source": [
    "tokenizer.get_subword_index(subword=\"cha\")"
   ]
  },
  {
   "cell_type": "markdown",
   "metadata": {},
   "source": [
    "`get_word_index`: get the indice of a word (directly from `word_id_mapping`)"
   ]
  },
  {
   "cell_type": "code",
   "execution_count": 23,
   "metadata": {},
   "outputs": [
    {
     "data": {
      "text/plain": [
       "36"
      ]
     },
     "execution_count": 23,
     "metadata": {},
     "output_type": "execute_result"
    }
   ],
   "source": [
    "tokenizer.get_word_index(word=\"fil\")"
   ]
  },
  {
   "cell_type": "markdown",
   "metadata": {},
   "source": [
    "`get_subwords`: return all subword ngrams and indices from a word.\n",
    "\n",
    "In all cases, also returns the entire word and its indice.\n",
    "\n",
    "Tags \"<\" and \">\" are added to the word"
   ]
  },
  {
   "cell_type": "code",
   "execution_count": 24,
   "metadata": {},
   "outputs": [
    {
     "data": {
      "text/plain": [
       "(['<f', 'fi', 'il', 'l>', '<fi', 'fil', 'il>', '<fil', 'fil>'],\n",
       " [42621, 90150, 66222, 9701, 66880, 73450, 2504, 47688, 9780])"
      ]
     },
     "execution_count": 24,
     "metadata": {},
     "output_type": "execute_result"
    }
   ],
   "source": [
    "tokenizer.get_subwords(word=\"fil\")"
   ]
  },
  {
   "cell_type": "markdown",
   "metadata": {},
   "source": [
    "`indices_matrix`\n",
    "\n",
    "Tokenize a sentence and returns : \n",
    "- an tensor of indices\n",
    "\n",
    "Adds and \"end of string\" tag: `</s>` with indice = 0.\n",
    "\n",
    "Used in `collate_fn` (`FastTextModelDataset`).\n"
   ]
  },
  {
   "cell_type": "code",
   "execution_count": 29,
   "metadata": {},
   "outputs": [
    {
     "name": "stdout",
     "output_type": "stream",
     "text": [
      "==== indices\n",
      "\n",
      "tensor([42621, 90150, 66222,  9701, 66880, 73450,  2504, 47688,  9780, 54526,\n",
      "        20959, 14864, 32507, 31078, 94746, 23508, 40103, 59247, 59504, 17761,\n",
      "        34807, 45486, 33398, 87562, 60501, 64401, 77202, 18331, 24273, 67839,\n",
      "        41693, 58170, 91365, 75678, 23984,  5468,    42, 99288, 46577, 49150,\n",
      "        72008, 60460, 62506, 22889, 94746,  9701, 92143,  8851, 53869, 49590,\n",
      "        61475, 15705, 54435, 58116, 35309, 63486,  3509,  7841, 19534, 20851,\n",
      "        49887,     0, 43957, 66827,  4667, 69631, 25158])\n",
      "\n",
      "==== indices length\n",
      "\n",
      "67\n",
      "\n",
      "==== id_to_token\n",
      "\n",
      "{42621: '<f', 90150: 'fi', 66222: 'il', 9701: 'l>', 66880: '<fi', 73450: 'fil', 2504: 'il>', 47688: '<fil', 9780: 'fil>', 54526: '<c', 20959: 'ca', 14864: 'ar', 32507: 'rr', 31078: 're', 94746: 'el', 23508: 'la', 40103: 'ag', 59247: 'ge', 59504: 'e>', 17761: '<ca', 34807: 'car', 45486: 'arr', 33398: 'rre', 87562: 'rel', 60501: 'ela', 64401: 'lag', 77202: 'age', 18331: 'ge>', 24273: '<car', 67839: 'carr', 41693: 'arre', 58170: 'rrel', 91365: 'rela', 75678: 'elag', 23984: 'lage', 5468: 'age>', 42: 'materiel', 99288: '<m', 46577: 'ma', 49150: 'at', 72008: 'te', 60460: 'er', 62506: 'ri', 22889: 'ie', 92143: '<ma', 8851: 'mat', 53869: 'ate', 49590: 'ter', 61475: 'eri', 15705: 'rie', 54435: 'iel', 58116: 'el>', 35309: '<mat', 63486: 'mate', 3509: 'ater', 7841: 'teri', 19534: 'erie', 20851: 'riel', 49887: 'iel>', 0: '</s>', 43957: 'fil carrelage', 66827: 'carrelage materiel', 4667: 'materiel </s>', 69631: 'fil carrelage materiel', 25158: 'carrelage materiel </s>'}\n",
      "\n",
      "==== id_to_token length\n",
      "\n",
      "65\n",
      "\n",
      "==== all_tokens_id\n",
      "\n",
      "{'<f': 42621, 'fi': 90150, 'il': 66222, 'l>': 9701, '<fi': 66880, 'fil': 73450, 'il>': 2504, '<fil': 47688, 'fil>': 9780, '<c': 54526, 'ca': 20959, 'ar': 14864, 'rr': 32507, 're': 31078, 'el': 94746, 'la': 23508, 'ag': 40103, 'ge': 59247, 'e>': 59504, '<ca': 17761, 'car': 34807, 'arr': 45486, 'rre': 33398, 'rel': 87562, 'ela': 60501, 'lag': 64401, 'age': 77202, 'ge>': 18331, '<car': 24273, 'carr': 67839, 'arre': 41693, 'rrel': 58170, 'rela': 91365, 'elag': 75678, 'lage': 23984, 'age>': 5468, 'materiel': 42, '<m': 99288, 'ma': 46577, 'at': 49150, 'te': 72008, 'er': 60460, 'ri': 62506, 'ie': 22889, '<ma': 92143, 'mat': 8851, 'ate': 53869, 'ter': 49590, 'eri': 61475, 'rie': 15705, 'iel': 54435, 'el>': 58116, '<mat': 35309, 'mate': 63486, 'ater': 3509, 'teri': 7841, 'erie': 19534, 'riel': 20851, 'iel>': 49887, '</s>': 0, 'fil carrelage': 43957, 'carrelage materiel': 66827, 'materiel </s>': 4667, 'fil carrelage materiel': 69631, 'carrelage materiel </s>': 25158}\n",
      "\n",
      "==== all_tokens_id length\n",
      "\n",
      "65\n"
     ]
    }
   ],
   "source": [
    "indices, id_to_token, all_tokens_id = tokenizer.indices_matrix(\"fil carrelage materiel\")\n",
    "print(\"==== indices\\n\")\n",
    "print(indices)\n",
    "print(\"\\n==== indices length\\n\")\n",
    "print(len(indices))\n",
    "print(\"\\n==== id_to_token\\n\")\n",
    "print(id_to_token)\n",
    "print(\"\\n==== id_to_token length\\n\")\n",
    "print(len(id_to_token))\n",
    "print(\"\\n==== all_tokens_id\\n\")\n",
    "print(all_tokens_id)\n",
    "print(\"\\n==== all_tokens_id length\\n\")\n",
    "print(len(all_tokens_id))"
   ]
  },
  {
   "cell_type": "code",
   "execution_count": 27,
   "metadata": {},
   "outputs": [
    {
     "data": {
      "text/plain": [
       "(['<f', 'fi', 'il', 'l>', '<fi', 'fil', 'il>', '<fil', 'fil>'],\n",
       " [42621, 90150, 66222, 9701, 66880, 73450, 2504, 47688, 9780])"
      ]
     },
     "execution_count": 27,
     "metadata": {},
     "output_type": "execute_result"
    }
   ],
   "source": [
    "tokenizer.get_word_index(\"fil\")\n",
    "tokenizer.get_subwords(\"fil\")"
   ]
  },
  {
   "cell_type": "code",
   "execution_count": 28,
   "metadata": {},
   "outputs": [
    {
     "name": "stdout",
     "output_type": "stream",
     "text": [
      "tokenized_text_tokens:\n",
      "[['<a', 'aa', 'a>', '<aa', 'aa>', '<aa>', '<f', 'fi', 'il', 'l>', '<fi', 'fil', 'il>', '<fil', 'fil>', '</s>', 'aa fil', 'fil </s>', 'aa fil </s>'], ['<b', 'bb', 'bb', 'b>', '<bb', 'bbb', 'bb>', '<bbb', 'bbb>', '<a', 'aa', 'a>', '<aa', 'aa>', '<aa>', '</s>', 'bbb aa', 'aa </s>', 'bbb aa </s>']]\n",
      "\n",
      "tokenized_text:\n",
      "[tensor([ 9764, 95341, 15820, 43379, 82977, 54511, 42621, 90150, 66222,  9701,\n",
      "        66880, 73450,  2504, 47688,  9780,     0, 24471, 15051, 58634]), tensor([32145, 27579, 27579, 47575, 81521, 53499, 38263, 98769, 95479,  9764,\n",
      "        95341, 15820, 43379, 82977, 54511,     0, 32276, 14812, 72825])]\n",
      "\n",
      "id_to_token_dicts:\n",
      "[{9764: '<a', 95341: 'aa', 15820: 'a>', 43379: '<aa', 82977: 'aa>', 54511: '<aa>', 42621: '<f', 90150: 'fi', 66222: 'il', 9701: 'l>', 66880: '<fi', 73450: 'fil', 2504: 'il>', 47688: '<fil', 9780: 'fil>', 0: '</s>', 24471: 'aa fil', 15051: 'fil </s>', 58634: 'aa fil </s>'}, {32145: '<b', 27579: 'bb', 47575: 'b>', 81521: '<bb', 53499: 'bbb', 38263: 'bb>', 98769: '<bbb', 95479: 'bbb>', 9764: '<a', 95341: 'aa', 15820: 'a>', 43379: '<aa', 82977: 'aa>', 54511: '<aa>', 0: '</s>', 32276: 'bbb aa', 14812: 'aa </s>', 72825: 'bbb aa </s>'}]\n",
      "\n",
      "token_to_id_dicts:\n",
      "[{'<a': 9764, 'aa': 95341, 'a>': 15820, '<aa': 43379, 'aa>': 82977, '<aa>': 54511, '<f': 42621, 'fi': 90150, 'il': 66222, 'l>': 9701, '<fi': 66880, 'fil': 73450, 'il>': 2504, '<fil': 47688, 'fil>': 9780, '</s>': 0, 'aa fil': 24471, 'fil </s>': 15051, 'aa fil </s>': 58634}, {'<b': 32145, 'bb': 27579, 'b>': 47575, '<bb': 81521, 'bbb': 53499, 'bb>': 38263, '<bbb': 98769, 'bbb>': 95479, '<a': 9764, 'aa': 95341, 'a>': 15820, '<aa': 43379, 'aa>': 82977, '<aa>': 54511, '</s>': 0, 'bbb aa': 32276, 'aa </s>': 14812, 'bbb aa </s>': 72825}]\n",
      "19\n",
      "19\n",
      "19\n",
      "19\n"
     ]
    }
   ],
   "source": [
    "tokenized_text_tokens, tokenized_text, id_to_token_dicts, token_to_id_dicts = tokenizer.tokenize(text=[\"aa fil\", \"bbb aa\"], text_tokens=True, preprocess=False)\n",
    "print('tokenized_text_tokens:')\n",
    "print(tokenized_text_tokens)\n",
    "print('\\ntokenized_text:')\n",
    "print(tokenized_text)\n",
    "print('\\nid_to_token_dicts:')\n",
    "print(id_to_token_dicts)\n",
    "print('\\ntoken_to_id_dicts:')\n",
    "print(token_to_id_dicts)\n",
    "\n",
    "print(len(tokenized_text_tokens[0]))\n",
    "print(len(tokenized_text[0]))\n",
    "print(len(id_to_token_dicts[0]))\n",
    "print(len(token_to_id_dicts[0]))"
   ]
  },
  {
   "cell_type": "code",
   "execution_count": 18,
   "metadata": {},
   "outputs": [],
   "source": [
    "text = [\"aa\", \"bbb\"]\n",
    "text_tokens=True\n",
    "preprocess=False\n",
    "\n",
    "tokenized_text = []\n",
    "id_to_token_dicts = []\n",
    "token_to_id_dicts = []\n",
    "\n",
    "sentence = text[0]\n",
    "all_ind, id_to_token, token_to_id = tokenizer.indices_matrix(sentence)\n",
    "tokenized_text.append(all_ind)\n",
    "id_to_token_dicts.append(id_to_token)\n",
    "token_to_id_dicts.append(token_to_id)\n",
    "\n",
    "sentence = text[1]\n",
    "all_ind, id_to_token, token_to_id = tokenizer.indices_matrix(sentence)\n",
    "tokenized_text.append(all_ind)\n",
    "id_to_token_dicts.append(id_to_token)\n",
    "token_to_id_dicts.append(token_to_id)\n"
   ]
  },
  {
   "cell_type": "code",
   "execution_count": 19,
   "metadata": {},
   "outputs": [
    {
     "name": "stdout",
     "output_type": "stream",
     "text": [
      "[tensor([ 9764, 95341, 15820, 43379, 82977, 54511,     0, 14812]), tensor([32145, 27579, 27579, 47575, 81521, 53499, 38263, 98769, 95479,     0,\n",
      "        33430])]\n",
      "[{9764: '<a', 95341: 'aa', 15820: 'a>', 43379: '<aa', 82977: 'aa>', 54511: '<aa>', 0: '</s>', 14812: 'aa </s>'}, {32145: '<b', 27579: 'bb', 47575: 'b>', 81521: '<bb', 53499: 'bbb', 38263: 'bb>', 98769: '<bbb', 95479: 'bbb>', 0: '</s>', 33430: 'bbb </s>'}]\n",
      "[{'<a': 9764, 'aa': 95341, 'a>': 15820, '<aa': 43379, 'aa>': 82977, '<aa>': 54511, '</s>': 0, 'aa </s>': 14812}, {'<b': 32145, 'bb': 27579, 'b>': 47575, '<bb': 81521, 'bbb': 53499, 'bb>': 38263, '<bbb': 98769, 'bbb>': 95479, '</s>': 0, 'bbb </s>': 33430}]\n"
     ]
    }
   ],
   "source": [
    "print(tokenized_text)\n",
    "print(id_to_token_dicts)\n",
    "print(token_to_id_dicts)"
   ]
  },
  {
   "cell_type": "code",
   "execution_count": 20,
   "metadata": {},
   "outputs": [
    {
     "name": "stdout",
     "output_type": "stream",
     "text": [
      "tensor([ 9764, 95341, 15820, 43379, 82977, 54511,     0, 14812])\n"
     ]
    },
    {
     "data": {
      "text/plain": [
       "'<a'"
      ]
     },
     "execution_count": 20,
     "metadata": {},
     "output_type": "execute_result"
    }
   ],
   "source": [
    "padding_index=2009603\n",
    "end_of_string_index=0\n",
    "i=0\n",
    "tokenized_sentence = tokenized_text[0]\n",
    "print(tokenized_sentence)\n",
    "token_id = tokenized_sentence[0]\n",
    "token_id.item()\n",
    "id_to_token_dicts[i][token_id.item()]"
   ]
  },
  {
   "cell_type": "code",
   "execution_count": 21,
   "metadata": {},
   "outputs": [
    {
     "ename": "IndentationError",
     "evalue": "unexpected indent (1763970530.py, line 6)",
     "output_type": "error",
     "traceback": [
      "\u001b[0;36m  Cell \u001b[0;32mIn[21], line 6\u001b[0;36m\u001b[0m\n\u001b[0;31m    for i, tokenized_sentence in enumerate(tokenized_text)\u001b[0m\n\u001b[0m    ^\u001b[0m\n\u001b[0;31mIndentationError\u001b[0m\u001b[0;31m:\u001b[0m unexpected indent\n"
     ]
    }
   ],
   "source": [
    "\n",
    " [\n",
    "            id_to_token_dicts[i][token_id.item()]\n",
    "            for token_id in tokenized_sentence\n",
    "            if token_id.item() not in {padding_index}\n",
    "        ]\n",
    "        for i, tokenized_sentence in enumerate(tokenized_text)\n"
   ]
  },
  {
   "cell_type": "code",
   "execution_count": null,
   "metadata": {},
   "outputs": [],
   "source": [
    "\n",
    "for sentence in text:\n",
    "    all_ind, id_to_token, token_to_id = self.indices_matrix(\n",
    "        sentence\n",
    "    )  # tokenize and convert to token indices\n",
    "    tokenized_text.append(all_ind)\n",
    "    id_to_token_dicts.append(id_to_token)\n",
    "    token_to_id_dicts.append(token_to_id)\n",
    "\n",
    "if text_tokens:\n",
    "    tokenized_text_tokens = tokenized_text_in_tokens(tokenized_text, id_to_token_dicts)\n",
    "    return tokenized_text_tokens, tokenized_text, id_to_token_dicts, token_to_id_dicts\n",
    "else:\n",
    "    return tokenized_text, id_to_token_dicts, token_to_id_dicts"
   ]
  },
  {
   "cell_type": "code",
   "execution_count": null,
   "metadata": {},
   "outputs": [],
   "source": [
    "\n",
    "def tokenized_text_in_tokens(\n",
    "    tokenized_text, id_to_token_dicts, padding_index=2009603, end_of_string_index=0\n",
    "):\n",
    "    return [\n",
    "        [\n",
    "            id_to_token_dicts[i][token_id.item()]\n",
    "            for token_id in tokenized_sentence\n",
    "            if token_id.item() not in {padding_index}\n",
    "        ]\n",
    "        for i, tokenized_sentence in enumerate(tokenized_text)\n",
    "    ]"
   ]
  },
  {
   "cell_type": "code",
   "execution_count": null,
   "metadata": {},
   "outputs": [],
   "source": [
    "all_tokens_id = {'bonjour': 1, 'monde': 2, '!': 1}\n",
    "\n",
    "# Inversion du dictionnaire : IDs -> tokens\n",
    "id_to_token = {v: k for k, v in all_tokens_id.items()}\n",
    "\n",
    "print(id_to_token)"
   ]
  }
 ],
 "metadata": {
  "kernelspec": {
   "display_name": "base",
   "language": "python",
   "name": "python3"
  },
  "language_info": {
   "codemirror_mode": {
    "name": "ipython",
    "version": 3
   },
   "file_extension": ".py",
   "mimetype": "text/x-python",
   "name": "python",
   "nbconvert_exporter": "python",
   "pygments_lexer": "ipython3",
   "version": "3.12.7"
  }
 },
 "nbformat": 4,
 "nbformat_minor": 2
}
