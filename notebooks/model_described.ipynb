{
 "cells": [
  {
   "cell_type": "markdown",
   "metadata": {},
   "source": [
    "# Explain how it works"
   ]
  },
  {
   "cell_type": "markdown",
   "metadata": {},
   "source": [
    "- introduction to `torch` framework\n",
    "- expose `torchFasttext` specificities "
   ]
  },
  {
   "cell_type": "markdown",
   "metadata": {},
   "source": [
    "## Environment and data "
   ]
  },
  {
   "cell_type": "code",
   "execution_count": 1,
   "metadata": {},
   "outputs": [],
   "source": [
    "!pip install -r ../requirements.txt -q"
   ]
  },
  {
   "cell_type": "code",
   "execution_count": 2,
   "metadata": {},
   "outputs": [],
   "source": [
    "import os\n",
    "import sys\n",
    "import time\n",
    "import s3fs\n",
    "from typing import List, Optional, Dict\n",
    "from pathlib import Path\n",
    "from utils_describe import get_data\n",
    "\n",
    "sys.path.append(\"../\")\n",
    "from torchFastText import torchFastText\n",
    "from torchFastText.preprocess import clean_text_feature\n",
    "from torchFastText.datasets import NGramTokenizer\n",
    "sys.path.append(\"./notebooks\")\n",
    "\n",
    "import numpy as np\n",
    "# import pandas as pd\n",
    "# import pyarrow.parquet as pq\n",
    "\n",
    "# from utils import add_libelles, clean_and_tokenize_df, stratified_split_rare_labels\n",
    "\n",
    "%load_ext autoreload\n",
    "%autoreload 2"
   ]
  },
  {
   "cell_type": "code",
   "execution_count": 3,
   "metadata": {},
   "outputs": [
    {
     "name": "stderr",
     "output_type": "stream",
     "text": [
      "2025-03-14 08:48:14 - botocore.httpchecksum - Skipping checksum validation. Response did not contain one of the following algorithms: ['crc32', 'sha1', 'sha256'].\n",
      "2025-03-14 08:48:14 - botocore.httpchecksum - Skipping checksum validation. Response did not contain one of the following algorithms: ['crc32', 'sha1', 'sha256'].\n",
      "2025-03-14 08:48:14 - botocore.httpchecksum - Skipping checksum validation. Response did not contain one of the following algorithms: ['crc32', 'sha1', 'sha256'].\n",
      "2025-03-14 08:48:14 - botocore.httpchecksum - Skipping checksum validation. Response did not contain one of the following algorithms: ['crc32', 'sha1', 'sha256'].\n",
      "2025-03-14 08:48:15 - botocore.httpchecksum - Skipping checksum validation. Response did not contain one of the following algorithms: ['crc32', 'sha1', 'sha256'].\n",
      "2025-03-14 08:48:17 - botocore.httpchecksum - Skipping checksum validation. Response did not contain one of the following algorithms: ['crc32', 'sha1', 'sha256'].\n"
     ]
    },
    {
     "name": "stdout",
     "output_type": "stream",
     "text": [
      "\t*** 732 codes have been added in the database...\n",
      "\n"
     ]
    },
    {
     "name": "stderr",
     "output_type": "stream",
     "text": [
      "/home/onyxia/work/torch-fastText/notebooks/utils.py:60: FutureWarning: Setting an item of incompatible dtype is deprecated and will raise an error in a future version of pandas. Value 'nan' has dtype incompatible with float64, please explicitly cast to a compatible dtype first.\n",
      "  df.fillna(\"nan\", inplace=True)\n"
     ]
    }
   ],
   "source": [
    "X_train, X_test, y_train, y_test = get_data()"
   ]
  },
  {
   "cell_type": "code",
   "execution_count": 4,
   "metadata": {},
   "outputs": [
    {
     "name": "stdout",
     "output_type": "stream",
     "text": [
      "Features for the 3 first training obs:\n",
      "\n",
      "[[\"fabriqu d'emballag matier plastiqu\" 21 22 7 7 0 0]\n",
      " ['activit organis polit' 21 22 7 7 0 0]\n",
      " [\"fabriqu moteur turbines, l'except d'avion vehicul\" 21 22 7 7 0 0]]\n",
      "\n",
      "\n",
      "NAF codes (labels) for the 3 first training obs:\n",
      "\n",
      "[165 711 251]\n"
     ]
    }
   ],
   "source": [
    "print(\"Features for the 3 first training obs:\\n\")\n",
    "print(X_train[:3])\n",
    "print(\"\\n\")\n",
    "print(\"NAF codes (labels) for the 3 first training obs:\\n\")\n",
    "print(y_train[:3])"
   ]
  },
  {
   "cell_type": "markdown",
   "metadata": {},
   "source": [
    "Parameters : \n",
    "- example with a unique embedding dimension for categorical variables"
   ]
  },
  {
   "cell_type": "code",
   "execution_count": 5,
   "metadata": {},
   "outputs": [],
   "source": [
    "# Parameters for model building\n",
    "NUM_TOKENS= int(1e5) # Number of rows in the embedding matrix = size of the embedded vocabulary\n",
    "EMBED_DIM = 50 # Dimension of the embedding = number of columns in the embedding matrix\n",
    "SPARSE = False # Whether to use sparse Embedding layer for fast computation (see PyTorch documentation)\n",
    "CAT_EMBED_DIM = 10 # Dimension of the embedding for categorical features\n",
    "\n",
    "# Parameters for tokenizer\n",
    "MIN_COUNT = 3 # Minimum number of occurrences of a word in the corpus to be included in the vocabulary\n",
    "MIN_N = 2 # Minimum length of char n-grams\n",
    "MAX_N = 4 # Maximum length of char n-grams\n",
    "LEN_WORD_NGRAMS = 3 # Length of word n-grams\n",
    "\n",
    "# Parameters for training - not useful immediately\n",
    "LR = 4e-3 # Learning rate\n",
    "NUM_EPOCHS = 1\n",
    "BATCH_SIZE = 256\n",
    "PATIENCE = 3"
   ]
  },
  {
   "cell_type": "markdown",
   "metadata": {},
   "source": [
    "## Building the model"
   ]
  },
  {
   "cell_type": "markdown",
   "metadata": {},
   "source": [
    "Explore what's happen during the build step.\n",
    "Hypothesis:\n",
    "- we use the `torchFastText.build_from_tokenizer` method to build: the tokenizer must be created first.\n",
    "- we don't use json method to get parameters\n"
   ]
  },
  {
   "cell_type": "code",
   "execution_count": 6,
   "metadata": {},
   "outputs": [
    {
     "name": "stdout",
     "output_type": "stream",
     "text": [
      "NUM_CAT_VAR: 6\n",
      "CAT_VOCAB_SIZE: [22, 23, 8, 12, 3, 4]\n",
      "NUM_CLASSES: 732\n"
     ]
    }
   ],
   "source": [
    "training_text = X_train[:, 0].tolist()\n",
    "categorical_variables = X_train[:, 1:]\n",
    "\n",
    "NUM_CAT_VAR = categorical_variables.shape[1]\n",
    "CAT_VOCAB_SIZE = (np.max(categorical_variables, axis=0) + 1).astype(int).tolist()\n",
    "NUM_CLASSES = len(np.unique(y_train))\n",
    "\n",
    "print(f\"NUM_CAT_VAR: {NUM_CAT_VAR}\")\n",
    "print(f\"CAT_VOCAB_SIZE: {CAT_VOCAB_SIZE}\")\n",
    "print(f\"NUM_CLASSES: {NUM_CLASSES}\")"
   ]
  },
  {
   "cell_type": "markdown",
   "metadata": {},
   "source": [
    "### The tokenizer"
   ]
  },
  {
   "cell_type": "markdown",
   "metadata": {},
   "source": [
    "Lets describe the constructor of `NGramTokenizer` class"
   ]
  },
  {
   "cell_type": "markdown",
   "metadata": {},
   "source": [
    "```python\n",
    "tokenizer = NGramTokenizer(\n",
    "    min_n=MIN_N, \n",
    "    max_n=MAX_N, \n",
    "    num_tokens= NUM_TOKENS,\n",
    "    len_word_ngrams=LEN_WORD_NGRAMS, \n",
    "    min_count=MIN_COUNT, \n",
    "    training_text=training_text\n",
    "    )\n"
   ]
  },
  {
   "cell_type": "markdown",
   "metadata": {},
   "source": [
    "Constructor steps : \n",
    "- Checks params min_n and max_n\n",
    "- Counts the number of occurrences of each word in the all training text ==> `word_counts` \n",
    "- Creates a mapping of all words seen at leat `min_count` times in `training_text` ==> `word_id_mapping`\n",
    "- Counts the number of unique words among previous selected ==> `nwords`\n"
   ]
  },
  {
   "cell_type": "code",
   "execution_count": 7,
   "metadata": {},
   "outputs": [
    {
     "name": "stdout",
     "output_type": "stream",
     "text": [
      "word_counts: {'fabriqu': 223, \"d'emballag\": 5, 'matier': 22, 'plastiqu': 12, 'activit': 206, 'organis': 33, 'polit': 4, 'moteur': 3, 'turbines,': 1, \"l'except\": 9, \"d'avion\": 2, 'vehicul': 72, 'commerc': 150, 'detail': 55, 'tapis,': 1, 'moquet': 2, 'revet': 11, 'mur': 5, 'sol': 11, 'magasin': 27, 'specialis': 39, \"d'articl\": 33, 'chauss': 1, 'maill': 3, 'meuner': 1, 'ennobl': 1, 'textil': 11, 'manutent': 4, 'portuair': 2, 'servic': 149, 'funerair': 2, 'extract': 13, 'pierr': 4, 'ornemental': 2, 'construction,': 32, 'calcair': 1, 'industriel,': 1, 'gypse,': 1, 'crai': 1, \"d'ardois\": 1, 'blanchisserie-teinturer': 2, 'gros': 62, '(commerc': 47, 'interentreprises)': 47, 'produit': 160, 'chimiqu': 6, \"d'autr\": 68, 'equip': 25, 'transport': 58, 'n.c.a.': 21, 'couteller': 1, 'trefilag': 1, 'froid': 4, 'articl': 20, 'robinetter': 1, 'fibr': 10, 'verr': 8, 'construct': 43, 'navir': 2, 'structur': 11, 'flott': 1, 'tissag': 1, 'trait': 17, 'elimin': 2, 'dechet': 8, 'danger': 4, 'refractair': 1, \"d'appareil\": 10, \"d'eclairag\": 2, 'electr': 28, 'pil': 1, \"d'accumul\": 1, 'caoutchouc': 3, 'synthet': 2, 'locomot': 1, 'materiel': 40, 'ferroviair': 3, 'roul': 1, 'locat': 257, 'location-bail': 10, 'machin': 25, 'transform': 21, 'the': 3, 'caf': 1, 'autr': 149, 'distribu': 19, 'cred': 2, 'gestion': 134, 'bibliothequ': 1, 'archiv': 1, \"d'install\": 17, 'informat': 33, 'pech': 5, 'mer': 2, 'menager': 9, 'non': 211, 'lignit': 1, 'techniqu': 23, 'industriel': 24, 'product': 48, 'metal': 14, 'precieux': 2, 'rechapag': 1, 'pneumat': 3, 'courtag': 10, 'valeur': 20, 'mobilier': 11, 'marchandis': 17, 'bois': 20, 'surgel': 2, 'horloger': 1, 'glac': 2, 'sorbet': 1, 'ceram': 8, 'fond': 18, 'plac': 19, 'entit': 4, 'financier': 9, 'similair': 6, 'etud': 6, 'march': 16, 'sondag': 2, \"d'huil\": 3, 'essentiel': 3, 'automobil': 23, 'auxiliair': 5, 'terrestr': 2, 'sanitair': 8, 'eau': 9, 'cabl': 2, 'optiqu': 8, 'metallurg': 7, 'impregn': 2, 'moteurs,': 1, 'gener': 2, 'papi': 10, 'travail': 10, 'grain': 4, 'levag': 2, 'fluvial': 3, 'fret': 6, 'combustibl': 5, 'gazeux': 3, 'elevag': 22, 'chameau': 1, 'camelid': 1, 'intermediair': 15, 'combustibles,': 1, 'metaux,': 2, 'mineral': 4, 'fourrur': 2, 'demenag': 4, 'chaussur': 9, 'vin': 4, 'effervescent': 1, \"d'ouvrag\": 6, \"d'art\": 8, 'taille,': 1, 'faconnag': 3, 'finissag': 1, 'concept': 17, \"d'ensembl\": 2, 'assemblag': 3, 'sit': 24, \"d'equip\": 34, 'control': 6, 'processus': 1, 'heberg': 18, 'medicalis': 3, 'person': 35, 'age': 4, 'interurbain': 1, 'voyageur': 8, 'brosser': 1, 'edit': 13, 'video': 15, 'demantel': 1, \"d'epav\": 1, 'bien': 141, 'domest': 7, 'graiss': 3, 'raffine': 1, \"d'usag\": 1, 'general': 51, 'ferreux': 3, 'jeux': 7, 'jouet': 4, 'laitiers,': 2, 'oeufs,': 1, 'huil': 2, 'grass': 1, 'comestibl': 2, 'boisson': 24, 'fermente': 1, 'distille': 2, 'parquet': 2, 'assembl': 1, 'carton': 4, 'electromenager': 4, 'religi': 1, \"d'al\": 5, 'homogeneis': 1, 'dietet': 1, 'cultur': 36, \"d'agrum\": 1, 'ouvrag': 3, 'beton,': 2, 'ciment': 2, 'platr': 3, 'inorgan': 1, 'bas': 15, 'compos': 2, 'electron': 17, 'cokefact': 1, 'entretien': 40, 'repar': 40, 'fonder': 4, \"d'aci\": 2, 'parfumer': 3, 'beaut': 11, 'fleur': 6, 'plant': 7, 'mobili': 20, 'bureau': 14, 'min': 4, \"d'uranium\": 1, 'thorium': 1, 'vet': 22, 'lie': 11, 'system': 29, 'securit': 14, 'decoupage,': 1, 'emboutissag': 1, 'tubes,': 1, 'tuyaux,': 1, 'profil': 2, 'creux': 2, 'accessoir': 33, 'correspond': 1, 'aci': 3, 'social': 28, 'pharmaceut': 6, 'collect': 9, 'viand': 6, 'placag': 1, 'panneau': 7, 'non-tisses,': 1, 'sauf': 3, 'habill': 2, 'jardin': 4, 'botan': 1, 'zoolog': 1, 'reserv': 3, 'naturel': 7, 'carbur': 2, 'adult': 5, 'handicap': 9, 'machines-outil': 4, 'logiciel': 28, 'reseau': 24, 'plaques,': 1, 'feuilles,': 1, 'tub': 1, 'houill': 1, 'exploit': 32, 'gravier': 1, 'sablieres,': 1, \"d'argil\": 1, 'kaolin': 1, 'pat': 4, 'reg': 1, 'publicitair': 7, 'medi': 4, 'enfant': 15, 'difficult': 3, 'color': 2, 'pigment': 1, 'serrur': 1, 'ferrur': 1, 'laiti': 1, 'four': 1, 'bruleur': 1, 'condition': 5, 'toxicoman': 1, 'central': 12, \"d'achat\": 11, 'alimentair': 37, 'promot': 8, 'immobilier': 18, 'bat': 56, 'accueil': 9, 'accompagn': 24, 'san': 39, \"d'adult\": 5, 'multi-commerc': 1, 'ficelles,': 1, 'cord': 1, 'filet': 1, 'charbon': 2, 'agenc': 19, 'recouvr': 1, 'factur': 5, 'societ': 47, \"d'inform\": 6, 'clientel': 2, 'rafraich': 1, 'grand': 7, 'justic': 1, 'banqu': 7, 'leger': 8, 'public': 18, 'telepher': 1, 'remonte': 1, 'mecan': 14, 'appret': 1, 'tannag': 1, 'cuir': 6, 'prepar': 24, 'teintur': 1, 'aquacultur': 2, 'douc': 3, 'entreposag': 2, 'stockag': 5, 'frigorif': 4, 'fil': 3, 'metalliques,': 2, 'chain': 4, 'ressort': 1, 'industr': 5, 'frapp': 1, 'monnai': 1, \"l'extraction,\": 1, 'gen': 5, 'civil': 8, 'bicyclet': 1, 'invalid': 1, 'commun': 26, 'pain': 2, 'patisser': 9, 'fraich': 2, 'vapeur': 1, \"d'air\": 1, \"d'etoff\": 1, 'diffus': 5, 'programm': 11, 'radio': 2, 'artificiel': 6, 'soutien': 22, 'mis': 59, 'disposit': 11, 'ressourc': 4, 'humain': 10, 'plat': 17, 'revenus': 1, 'mental': 1, 'malad': 2, 'cafeteri': 1, 'libres-servic': 1, 'voyag': 4, 'administr': 48, 'publiqu': 9, 'tabac': 6, 'famill': 4, 'photograph': 20, 'porcin': 1, 'depollu': 1, 'conserv': 7, 'pomm': 1, 'terr': 4, 'geometr': 1, 'recolt': 2, 'foresti': 2, 'ligneux': 1, 'pouss': 1, \"l'etat\": 2, 'sauvag': 1, \"d'irradi\": 1, 'medicale,': 1, 'electromedical': 1, 'electrotherapeut': 1, 'repertoir': 1, 'fichi': 1, \"d'adress\": 1, 'caiss': 4, 'retrait': 5, 'reassur': 2, 'brut': 2, 'complementair': 3, 'combine': 1, 'li': 5, 'amylac': 1, 'muse': 2, 'professionnel': 148, \"d'ordr\": 2, 'fruit': 18, 'legum': 5, 'mainten': 17, \"d'aeronef\": 1, \"d'engin\": 3, 'spatial': 4, 'cartonnag': 1, \"d'edit\": 1, 'cidr': 1, 'feu': 1, 'secour': 3, \"d'horloger\": 3, 'bijouter': 5, 'organ': 9, 'maritim': 4, 'hydraul': 2, 'coti': 2, 'animal': 16, 'compagn': 5, 'telecommun': 6, 'traval': 91, 'voi': 22, 'bateau': 1, 'plaisanc': 1, 'oleagin': 3, 'film': 10, 'cinematograph': 3, \"d'electricit\": 14, 'cafe,': 3, 'the,': 6, 'cacao': 1, 'epic': 2, 'cacao,': 1, 'chocolat': 2, 'confiser': 5, 'install': 24, 'chaudronne': 1, 'tuyauter': 2, 'project': 2, \"l'extract\": 2, \"d'hydrocarbur\": 1, 'conduit': 10, 'ondul': 1, 'gaz': 6, \"d'ordin\": 3, 'peripher': 4, 'support': 11, 'magnet': 2, 'command': 2, 'passager': 3, 'hypermarch': 1, 'siderurg': 1, 'lait': 2, 'liquid': 1, 'frais': 4, 'outillag': 1, 'charpent': 6, 'menuiser': 10, 'press': 1, 'fut': 1, 'emballag': 2, 'metall': 10, 'camion': 3, 'chauffeur': 23, 'azot': 1, \"d'engr\": 2, 'dessous': 1, 'videocasset': 1, 'disqu': 1, 'quincaillerie,': 2, 'peintur': 22, 'surfac': 4, '(400': 1, 'm2': 1, 'plus)': 1, 'use': 1, 'boucher': 4, 'carreau': 1, 'assur': 13, 'specialise': 12, 'specif': 1, 'montag': 15, 'post': 4, 'cadr': 17, \"d'un\": 46, 'oblig': 1, 'universel': 1, 'affair': 16, 'etranger': 3, 'cereales,': 1, 'manufacture,': 1, 'semenc': 3, 'betail': 1, 'raffinag': 1, 'petrol': 2, 'sel': 1, 'outil': 3, 'developp': 32, 'langag': 1, 'enseign': 19, 'primair': 3, 'hospitalier': 1, 'tunnel': 1, 'meubles,': 4, 'menag': 12, 'quincailler': 3, 'indifferencie': 2, 'tant': 15, 'producteur': 24, 'usag': 20, 'propr': 6, 'pomp': 3, 'compresseur': 1, \"d'imprimer\": 1, 'matel': 1, 'satellit': 1, 'cond': 1, 'assaison': 1, 'aerien': 4, 'urbain': 2, 'suburbain': 1, '(a': 6, 'ordin': 2, 'peripheriques)': 1, 'routi': 14, 'vaisselle,': 3, 'verrer': 1, \"d'entretien\": 3, 'superet': 1, \"d'ordinateurs,\": 1, 'terrain': 8, 'camping': 1, 'parc': 5, 'caravan': 1, 'loisir': 11, 'riz': 1, 'laminag': 1, 'feuillard': 1, 'moul': 1, 'model': 4, 'tapis': 5, 'centr': 4, \"d'organ\": 2, 'forestier': 4, 'maroquiner': 4, 'reliur': 1, 'connex': 4, 'hasard': 1, \"d'argent\": 1, 'cann': 1, 'sucr': 3, 'vapeur,': 1, 'chaudier': 3, 'chauffag': 7, 'aid': 19, 'radiodiagnostic': 1, 'radiotherap': 1, \"l'industr\": 3, 'agro-alimentair': 1, 'fournitur': 13, 'diver': 27, 'reservoirs,': 1, 'citern': 1, 'conteneur': 1, \"l'habill\": 1, 'elabor': 3, 'nucleair': 3, 'morti': 1, 'beton': 5, 'sec': 4, 'briques,': 1, 'tuil': 1, 'cuit': 1, 'credit-bail': 1, 'defens': 1, 'volaill': 5, 'agricol': 10, 'jurid': 7, 'patrimoin': 6, 'fibre-c': 1, 'beurr': 1, \"main-d'oeuvr\": 1, 'meubl': 93, 'financi': 9, 'patronal': 1, 'consulair': 1, 'gibi': 1, 'explos': 1, 'etirag': 1, 'barr': 1, 'motocycl': 2, 'vi': 14, \"l'aluminium\": 1, \"d'aid\": 8, 'navig': 1, 'chaux': 1, 'monu': 1, 'histor': 1, 'attract': 2, 'tourist': 7, 'peint': 2, 'evalu': 2, 'risqu': 4, 'dommag': 1, 'fer': 2, '(tutelle)': 2, 'sante,': 2, 'formation,': 6, 'sociaux,': 7, 'naval': 1, 'alcool': 3, 'pret': 7, \"l'emploi\": 1, 'econom': 3, 'malt': 1, 'militair': 1, 'combat': 1, 'coll': 3, \"qu'employeur\": 1, 'personnel': 15, 'radiateur': 1, 'imprimer': 1, 'journal': 3, 'ferre': 1, 'souterrain': 1, 'peintures,': 3, 'vernis,': 2, 'encre': 1, 'mastic': 1, 'annex': 4, 'intermedi': 2, 'monetair': 1, 'decolletag': 1, 'fluid': 1, \"d'el\": 4, 'profilag': 1, 'formag': 1, 'pliag': 1, 'enrich': 1, 'rout': 1, 'autorout': 1, 'peau': 1, 'laboratoir': 4, \"d'analys\": 2, 'medical': 5, 'joailler': 1, 'messagerie,': 1, 'express': 1, 'tourb': 1, 'ferm': 2, \"d'outillag\": 1, 'portat': 1, 'incorpor': 1, 'pre-primair': 1, 'lunet': 1, 'cuivr': 1, 'abras': 1, \"d'emballage,\": 1, 'pesag': 1, 'secondair': 3, 'textiles,': 5, 'habillement,': 1, 'fourrures,': 1, 'audio': 1, 'chasse,': 1, 'piegeag': 1, 'financiers,': 2, 'hor': 14, 'retraite,': 5, \"d'assur\": 4, 'captage,': 1, \"d'eau\": 4, 'jus': 2, \"d'isol\": 2, 'piec': 14, 'isol': 8, 'poisson,': 1, 'crustac': 3, 'mollusqu': 3, 'filatur': 1, \"d'engrenag\": 1, 'transmiss': 1, 'post-secondair': 1, 'superieur': 2, 'cuisin': 6, 'themat': 1, 'sall': 8, 'spectacl': 6, 'verre,': 2, 'compr': 12, 'bier': 1, 'reguli': 1, 'terrass': 8, 'mass': 1, 'cuisson': 1, 'boulanger': 2, 'port': 10, 'fenetr': 2, 'physiqu': 11, 'font': 1, \"d'enf\": 4, 'sucre,': 1, \"d'instrument\": 1, 'scientif': 2, \"d'arm\": 1, 'munit': 1, 'material': 4, 'sieg': 7, \"d'ameubl\": 2, \"d'interieur\": 7, 'reproduct': 3, \"d'enregistr\": 2, 'tabl': 3, 'margarin': 1, 'pesticid': 1, 'agrochim': 1, 'extraterritorial': 1, 'forge,': 1, 'estampage,': 1, 'matricag': 1, 'poudr': 1, 'plomb,': 2, 'zinc': 1, \"l'etain\": 1, 'design': 11, 'tous': 168, 'couture,': 1, 'retouches,': 1, 'accessoires,': 3, 'vent': 266, 'vetements,': 8, 'espac': 5, 'livr': 11, 'carrelage,': 5, 'amenag': 11, 'jardins.': 2, 'distance,': 5, 'e-commerc': 11, \"l'acquisition,\": 53, \"l'administration,\": 18, 'immeubl': 49, 'immobiliers,': 16, 'sciag': 2, 'lign': 37, 'bijoux': 12, 'auss': 2, 'proposit': 6, 'marketing': 17, 'digital': 11, 'entreprises.': 10, 'electronic': 1, 'prestat': 99, \"d'esthet\": 1, 'dont': 12, 'not': 26, 'maquillag': 5, 'permanent,': 2, 'ains': 26, 'blanch': 2, 'dentair': 6, 'soin': 16, \"d'epil\": 1, 'tel': 12, 'tei': 1, 'co-ordin': 1, 'logist': 5, 'coach': 4, 'cour': 39, 'particuli': 54, 'sport,': 4, 'coaching': 11, 'sportif': 1, 'agent': 30, 'commercial': 38, 'immobili': 91, 'livreur': 23, 'rep': 74, 'domicil': 101, 'velo': 68, '(non': 10, 'motorise)': 9, 'meuble': 64, 'installation,': 4, 'service,': 6, 'depannag': 6, 'thermodynam': 1, 'saisonni': 3, 'court': 5, 'dure': 9, 'objet,': 3, 'franc': 14, \"qu'a\": 4, \"l'etrang\": 7, \"l'acquisit\": 34, 'particip': 45, 'tout': 134, 'industrielles,': 3, 'commerciales,': 5, 'rh': 2, 'dirig': 2, 'consulting': 7, 'livraison': 84, 'colis': 3, 'realis': 39, 'typ': 20, 'vehicules,': 2, 'pos': 23, 'detachees,': 1, 'pneus': 2, \"d'accesso\": 1, 'remis': 4, 'etat': 11, 'nettoyag': 43, 'professionnels.': 2, 'mandatair': 5, \"d'intermediair\": 2, 'oper': 25, 'deb': 4, 'tabac,': 2, 'fumeurs,': 1, 'loto,': 1, 'pmu.': 1, 'hotessariat': 7, 'passag': 1, 'lmp': 4, 'compt': 6, '01/01/2023': 1, 'reel': 3, 'simplif': 2, \"qu'independ\": 1, 'numero': 1, 'ss': 1, '152027512021236': 1, 'formateur': 4, 'incend': 2, 'intervent': 2, 'conseil,': 6, 'format': 30, 'entreprise,': 4, 'aupr': 14, 'collectivit': 3, 'avocat': 1, 'loueur': 56, 'velo.': 8, 'tax': 4, 'achat-vent': 7, 'reglement': 17, 'internet': 20, 'ambulances,': 2, 'mortuaires,': 1, 'chambr': 6, 'scolair': 4, 'elev': 1, 'colleg': 1, 'lyce': 1, 'besoin': 4, 'et/ou': 16, \"d'approfond\": 1, 'mathematiques.': 1, 'entre': 6, '6em': 1, 'fonction': 8, 'adhes': 7, 'volontair': 7, 'disc': 2, 'jockey': 2, '(prestat': 1, 'propre)': 1, 'creation,': 10, 'fabrication,': 7, 'seller': 2, 'conseil': 141, 'entrepris': 81, 'securite,': 1, 'condit': 3, 'qhse': 1, 'achat,': 15, 'vinification,': 1, 'commercialis': 17, 'entreprises,': 12, 'chauffeur,': 3, 'community': 5, 'management,': 2, 'redact': 7, 'web': 16, 'remplac': 7, 'infirmi': 8, 'liberal': 18, 'creation': 72, ',port': 1, 'cle,accessoir': 1, '(utilis': 1, 'cabochon': 1, 'perl': 1, 'naturelles,support': 1, 'inoxydable,cuir,bois)': 1, 'societe,': 8, 'moyens,': 5, 'cree': 3, 'cre': 8, 'supports,': 1, '(sol': 1, 'murs),': 1, 'carrelag': 6, 'faience.': 1, 'chanti': 2, 'generale.': 3, 'recreat': 3, 'automat': 5, 'domain': 27, 'restaur': 44, 'non,': 4, \"d'ha\": 1, 'acquisition,': 29, 'bail,': 24, 'form': 22, 'tierc': 1, \"d'appliqu\": 7, 'vis': 2, 'boulon': 2, 'etabl': 2, '(tout': 1, 'matieres)': 1, '(mathemat': 1, 'scienc': 7, 'physiques)': 1, 'medico-chirurgical': 1, 'ozmoz': 1, 'combin': 4, 'rapidite,': 1, 'flexibilit': 1, 'respect': 2, \"l'environnement.\": 1, 'util': 1, 'machines,': 3, 'administratif,': 1, 'facturation,': 1, 'devis,': 2, 'suiv': 7, 'clientele,': 2, 'relanc': 2, 'impaye,': 1, 'pris': 48, 'rdv,': 1, 'courrier,': 1, 'deplac': 6, 'profession': 1, 'indivis': 2, 'recuper': 3, 'revent': 30, 'acceuil': 1, \"l'exercic\": 10, 'profess': 13, \"d'infirmier.\": 2, \"d'ovin\": 3, 'caprin': 3, \"l'activit\": 17, 'distanc': 16, 'reglementes;': 3, \"l'import-export\": 3, 'reglementes.': 3, 'gestion,': 33, 'cession,': 3, 'echang': 4, 'immobiliers.': 20, 'achat': 59, 'vehicules.': 2, 'interieur': 16, 'acquisit': 19, 'droit': 30, 'batis,': 3, 'local': 15, 'lanceur': 1, 'ball': 1, 'ten': 2, 'adherent': 1, 'club': 2, 'tennis.': 1, 'decor': 20, 'informatiques,': 3, 'professionnelle,': 2, 'initial': 1, 'continu': 4, \"d'immeubl\": 10, 'achats,': 4, 'multimedi': 2, '(smartphone,': 1, 'tablette,': 1, 'pc,': 1, 'console,': 1, 'tv,': 2, 'hifi)': 1, 'pratiqu': 7, 'psycholog': 1, 'psychotherap': 2, 'intellectuel': 5, \"d'objet\": 22, 'uniqu': 4, 'personnalis': 9, 'garag': 1, 'mecanicien': 1, 'afin': 2, \"d'effectu\": 1, 'diagnost': 1, 'vidan': 1, 'fair': 3, 'imprim': 1, 'revendr': 1, 'tissus': 3, 'petit': 28, 'bricolag': 15, 'reglemente': 8, 'types,': 1, 'fort': 2, 'faible,': 3, 'domot': 3, '6820a': 9, \"d'habit\": 7, 'resident': 3, 'principale.': 1, 'soum': 1, 'tva': 5, 'comptabl': 4, 'saisonnier': 4, 'appart': 7, 'sejour': 1, 'situ': 2, 'rez': 1, 'chausse': 1, 'habit': 3, 'principal': 13, 'longu': 7, 'televis': 2, \"l'organis\": 3, \"d'even\": 6, 'rencontr': 1, 'professionnelles,': 2, 'salon': 18, 'communication.': 1, 'infirmier': 6, 'pepin': 2, 'noyau': 2, 'freelanc': 6, 'multiservic': 2, 'collectives.': 1, 'avantag': 1, 'prothes': 9, 'ongulaire,': 2, 'ongles,': 1, 'capsules,': 1, 'utilis': 7, 'gel': 2, 'extens': 4, \"d'ongles,\": 1, 'vern': 1, 'sem': 3, 'immobilli': 1, 'administration,': 12, 'organisation,': 3, 'comptabilite,': 1, 'offic': 1, 'manag': 7, 'viv': 5, \"d'etudi\": 1, 'post-product': 1, 'cinematographiques,': 1, 'ingenierie,': 4, 'audit': 3, \"d'amelior\": 2, 'perform': 3, 'energet': 4, 'environnemental': 1, 'artist': 13, 'evenementiel': 9, 'adultes.': 2, 'preparation,': 2, 'decoration,': 8, 'coordin': 1, 'even': 16, 'bot': 1, 'discord': 1, 'webs.': 1, 'chef': 3, 'direct': 33, 'place,': 4, 'table,': 2, 'auteur': 3, 'regional': 2, 'consult': 15, 'strateg': 11, 'cinem': 2, 'daffair': 2, 'facult': 1, 'daccept': 1, 'mandat': 2, 'relat': 15, 'dautrui,': 1, 'mettr': 2, 'rapport': 8, 'acheteur': 2, 'facadi': 2, 'depuis': 1, '10': 1, 'an': 3, 'experient': 1, 'motiv': 1, 'assist': 14, 'independ': 12, 'societes,': 10, 'associations,': 1, 'createur': 5, \"d'entrepris\": 7, \"d'occas\": 20, 'professeur': 5, 'dans': 2, 'suspens': 2, 'coursi': 24, '(livraison': 2, 'domicile)': 3, 'acte': 4, '(toilettes,': 1, 'nursing,': 2, 'levers,': 1, 'couchers,': 1, 'repas)': 1, 'contenu': 9, '(streamer)': 1, 'plateform': 8, 'www.twitch.fr.': 1, 'consist': 9, 'anim': 15, 'emiss': 1, 'direct,': 1, 'pend': 1, 'laquel': 1, \"m'ad\": 1, 'charpente,': 3, 'couvertur': 7, 'zinguer': 5, 'internet.': 7, 'effectu': 2, 'tournag': 1, 'audiovisuel': 5, \"l'object\": 1, 'avant': 2, 'marque,': 1, 'entreprise...': 1, \"l'immobili\": 1, 'dj,': 1, 'ambianc': 1, 'sonor': 2, 'morceau': 1, 'playlist': 1, 'joues,': 1, 'adapt': 1, 'client': 9, 'lieu': 3, 'developpement,': 10, 'exploitation,': 4, 'financ': 3, 'photovolta': 19, \"d'energ\": 5, 'administrative,': 5, 'relectur': 1, 'documents,': 1, 'modif': 1, 'docu': 6, \"d'accessoir\": 13, 'mod': 3, 'porter,': 1, 'fantais': 5, 'exerc': 2, 'dom': 2, 'com': 2, 'futur': 9, \"d'achev\": 8, 'acheves,': 8, \"l'apport,\": 9, 'propriete,': 39, 'valeur,': 21, 'transformation,': 18, \"l'amen\": 5, 'apport': 8, \"l'etranger,\": 2, 'foi': 2, \"d'impermeabilis\": 1, \"d'etancheite,\": 1, 'toitures-terrasses,': 1, 'enterres,': 1, 'facad': 4, 'deshumidif': 1, 'propriet': 18, \"l'administr\": 33, \"d'exploit\": 1, 'marchandises,': 4, 'conducteur': 6, 'destin': 13, \"l'aid\": 6, 'transpport': 1, 'publicsd': 1, 'preofessionnel': 1, 'rapid': 9, 'emport': 24, 'livraisons.': 2, 'epicer': 5, 'fine,': 1, 'legumes,': 7, 'aliment': 8, 'seches,': 1, '(pret-a-port': 1, 'mesure,': 3, 'impress': 5, 'broder': 2, 'personnalisees...).': 1, 'objet': 23, \"d'appel\": 1, 'titr': 13, 'civil,': 2, 'quelqu': 6, 'endroit': 1, \"qu'il\": 1, 'trouvent.': 1, 'prepare': 1, 'uber': 6, 'eat': 7, 'deliveroo': 3, 'etc': 6, 'professionnels,': 6, 'videos': 3, 'develop': 1, 'appliqu': 8, 'portuaire,': 1, 'commandes,': 1, 'prospection,': 2, 'demarchage,': 1, 'location,': 14, 'analyse,': 1, 'donnees,': 3, 'informatique,': 10, 'cart': 6, 'geograph': 1, 'infograph': 2, 'numer': 5, 'technico-commercial': 1, 'affaires,': 2, 'import': 7, 'export': 6, 'stock': 2, 'sous': 23, 'vid': 1, 'concierger': 8, 'capital': 5, 'societes;': 1, 'groupe;': 2, \"d'anim\": 2, \"d'ateli\": 5, 'sensibilis': 2, 'climat.': 1, 'medecin': 16, 'special': 8, 'formes,': 2, 'particulier,': 1, 'distributeur': 2, 'libre-service,': 1, 'seanc': 3, \"d'osteopath\": 2, \"l'exploit\": 41, 'indirecte,': 4, \"l'animation,\": 2, 'controle,': 2, \"d'interet\": 5, 'vendeur': 4, \"l'anim\": 4, 'ambulanci': 1, 'recherche-developp': 4, 'biotechnolog': 1, 'secteur': 11, 'cadeaux,': 1, 'souvenir': 1, 'assimil': 1, 'parental,': 1, 'ateli': 6, \"d'eveil\": 1, 'parent-enfant,': 1, 'mediat': 2, '/activit': 1, 'realise': 2, 'epices,': 1, 'aromatiques,': 1, 'medicinal': 1, 'marqu': 3, 'ligne.': 4, 'mobilit': 2, 'ambul': 7, 'alcoolise': 8, 'supermarche.': 1, 'professionnelle.': 1, 'sport': 7, 'electricien': 2, \"d'accompagn\": 4, 'individuel': 5, 'mentorat': 1, 'montage,': 1, 'circuit': 2, \"d'espac\": 5, 'therap': 5, 'bioreson': 1, 'multidimensionnel': 1, \"d'equid\": 1, 'transport.': 1, 'mariage,': 5, 'anniversaire,': 2, 'bapteme,': 3, 'communion,': 1, 'composit': 2, 'floral': 2, ',negoc': 1, 'autmobil': 1, 'divers': 7, 'foire-march': 1, 'recyclag': 1, 'palet': 1, 'bois,': 7, 'plastique,': 1, 'bull': 1, 'cartons.': 1, 'manutention,': 1, 'recherch': 2, 'naturelles.': 1, 'mannequinnat,': 1, 'scenographie/': 1, 'metrage,': 1, 'culturel': 8, 'telesecretariat': 1, 'peinture,': 10, 'raval': 2, 'vtc,': 3, ',construct': 1, ',a': 1, 'dhabit': 1, ',professionnel,': 1, 'industriel,mis': 1, 'valeu': 1, '(lmnp)': 3, 'maconner': 18, 'oeuvr': 6, 'batiment,': 5, 'platrerie,': 2, 'parquet,': 2, 'thermiqu': 4, 'acoust': 1, 'musicale,': 1, 'mixag': 2, 'mastering': 2, 'ligne,': 4, 'voix': 2, 'studio': 3, \"d'enregistrement,\": 2, 'moyen': 20, 'francais': 4, 'etrangeres,': 3, 'creer,': 1, 'harissa,': 1, 'tartinables,': 1, 'poulp': 1, 'seche,': 1, 'boutargue,': 1, 'crevet': 1, 'terrassement,': 4, 'demolit': 5, 'electricite,': 4, 'cablag': 1, 'telephonique,': 1, 'optique,': 2, 'surveillance,': 3, 'e-commerce,': 3, 'justici': 1, 'avocats,': 1, 'maison': 9, 'menagers,': 1, 'jardinage,': 2, 'pet': 14, 'bricolage,': 3, \"d'esth\": 1, 'velo,': 2, \"d'etud\": 7, 'conception,': 12, 'mobiliers,': 2, \"l'ameubl\": 1, 'professionel': 5, 'sous-trait': 4, \"l'eau\": 1, \"l'assemblag\": 1, 'reflexolog': 1, 'plantaire,': 1, 'palmaire,': 1, 'facial': 1, 'cranien': 1, 'nourritur': 5, 'cereal': 5, 'riz),': 3, 'legumin': 3, 'alcoolis': 1, 'emporter,': 7, 'the.': 2, 'participation,': 4, 'souscription,': 4, 'apport,': 6, 'fusion,': 1, 'juridiqu': 2, 'batiments,tous': 1, 'maconnerie,isolation,electricite,chauffage,sanitaire,couverture,etc.': 1, 'directement/par': 1, 'reparation,': 2, \"l'entretien\": 6, 'legers,': 1, 'lourds,': 1, 'site,': 1, 'exterieures,': 1, 'cuisine,': 6, 'dressing,': 3, 'meuble,': 1, 'clo': 1, 'pourr': 3, 'deven': 3, 'recrutement,': 1, 'solut': 5, \"l'arc\": 1, 'lmnp': 16, 'log': 21, 'franchis': 1, 'gestion.': 6, \"d'oeuvr\": 12, 'musical': 6, 'et,': 2, 'plus': 10, 'generalement,': 1, 'immeubles,': 4, 'batis.': 2, 'eventu': 1, 'artisanat,': 1, 'alimentaires,': 4, 'souvenirs,': 1, \"l'ortho-prothese.\": 1, 'pai': 3, '(miobsp).': 1, 'disco': 1, 'mobil': 6, 'deten': 1, 'so': 4, 'good,': 1, '899': 1, '216': 1, '030': 1, 'rc': 1, 'paris': 1, 'rempl': 1, \"l'articl\": 3, '199': 1, 'terdecies-0': 1, 'c,': 1, 'plan': 6, 'plancher': 1, 'caves,': 1, 'peinture.': 1, 'conseilller': 1, 'etre': 4, 'beautysan': 1, 'sages-femm': 3, '(infirmier': 1, 'avancee)': 1, 'electroniques,': 4, 'films,': 1, 'decal': 1, 'spectacles.': 1, 'non-alimentair': 3, 'manufactur': 3, \"l'intermedi\": 1, \"d'achat,\": 9, 'vente,': 20, 'transact': 8, 'achat-revent': 2, 'assujet': 1, 'identif': 1, 'france.': 2, 'negoc': 7, \"d'import-export\": 1, 'vitrer': 3, '(realisation,': 1, 'tournage,': 1, 'montage)': 1, 'particuliers,': 5, 'associ': 3, 'facade,': 2, 'interieure,': 2, 'poel': 1, 'granules,': 1, 'chaleur': 1, 'climatis': 6, 'desinfection,': 3, 'desinsectisation,': 3, 'deratis': 2, 'sandwicher': 2, 'depot,': 1, 'voitures,': 1, 'voitur': 15, 'renov': 22, 'exterieur': 7, \"l'extens\": 1, 'cil': 6, 'soi': 1, 'naturel.': 1, 'but': 3, \"d'allong\": 1, 'sophrolog': 2, 'brev': 1, 'base': 1, 'approch': 1, 'psychocorporelle.': 1, 'permet': 5, 'mieux': 1, 'ger': 4, 'douleur': 1, 'emot': 1, 'quot': 1, 'apporteur': 4, \"d'affair\": 4, 'cosmet': 4, 'monitric': 1, \"d'equit\": 1, 'photographies,': 2, 'graphiques,': 1, 'photographiques,': 1, 'plastiques,': 1, 'audio-visuelles,': 1, 'freelance...': 1, 'contrat': 3, 'prestatair': 2, 'renovation,': 6, 'plomber': 8, 'loeur': 1, 'peintr': 5, 'opticien': 1, 'lunetti': 1, 'courti': 6, 'autrement,': 14, 'cloison': 2, 'box': 1, 'rang': 2, 'tailles,': 1, 'securises,': 1, 'libre-servic': 1, 'acce': 1, 'rangement,': 1, 'archivag': 2, 'professionnels;': 1, 'articles,': 1, 'dit': 6, 'self': 2, 'homebox': 1, 'proced': 6, 'emballage,': 1, 'archivage,': 1, '(san': 2, 'chauffeur),': 1, 'recept': 2, 'communication,': 5, 'graphisme,': 3, 'pao': 1, 'paiement,': 1, 'assurance,': 1, 'inform': 1, 'negoci': 3, 'prets.': 1, 'ven': 3, 'agglomeration.': 1, 'fitness,': 1, 'musculation,': 1, 'forme,': 2, \"l'enseign\": 1, 'sportiv': 7, 'lois': 1, 'fin': 5, 'inforat': 1, \"l'informat\": 1, 'familiale,': 1, 'bar': 3, 'licenc': 1, '4,': 1, ',vent': 1, 'locaux,': 2, \"d'habill\": 2, 'eventair': 4, 'interven': 1, '(maison': 1, 'hopitaux...)': 1, 'regim': 2, \"d'imposit\": 1, 'notoriet': 1, \"l'imag\": 1, \"d'artiste.\": 1, 'salons,': 2, 'defiles,': 1, 'foires,': 1, 'radiop': 1, \"d'apport\": 6, 'detention,': 9, 'immeub': 3, 'artisan': 2, 'platrer': 2, 'prive': 4, 'boutiqu': 4, 'pecheur': 1, 'sapin': 2, 'exercic': 5, 'chirurgien-dentiste.': 2, 'secretair': 4, 'independant,': 2, 'telesecretair': 1, 'orthophon': 2, 'micro-entrepreneur,': 1, 'asso': 1, 'demi-gros': 2, 'tapissi': 1, 'remplacante,': 1, 'dispens': 2, 'biscuits,': 1, 'biscott': 1, '(battage,': 1, 'arrachag': 1, 'hotels,': 1, 'restaurants,': 1, 'brasser': 1, 'apre': 4, 'restauration,': 10, 'cadres,': 2, 'verres,': 1, 'gobelets,': 2, 'trouss': 1, '...': 3, 'cricut.': 1, 'traditionnel': 6, 'mobilier,': 4, 'bijoux,': 3, 'sculptur': 1, 'restaurant,': 4, 'pizzeria,': 1, 'glacier,': 1, 'brasserie,': 3, 'evenementiel,': 1, 'decoration.': 3, 'technologie,': 1, 'design.': 1, 'finit': 4, 'rapide,': 4, 'chaud': 2, 'catalogu': 6, 'pedagog': 4, 'recrut': 2, \"d'organis\": 1, 'conferences.': 1, 'friandis': 1, 'cheval': 6, 'domicile,': 7, 'maison,': 5, 'repassag': 1, 'institutionnel': 3, 'traiteur,': 8, 'cuisines,': 3, 'ambulant,': 2, 'alcoolisees),': 1, \"d'optiqu\": 4, 'physiotherap': 1, 'domicile.': 5, 'coiffur': 10, 'electricqu': 1, 'agricoles.': 2, 'vinif': 1, 'masseur-kinesitherapeut': 2, 'modelage/massag': 1, 'pneus,': 1, 'tourism': 11, 'uniquement.': 1, \"d'apport,\": 6, \"d'echange,\": 1, 'vtc': 6, 'mignardis': 1, 'sucre': 1, 'salees.': 1, 'ongulair': 5, 'jardin,': 3, 'paysag': 2, 'similaires,': 1, 'soumis': 2, 'copyright': 1, 'abonnement,': 1, 'indirectement,': 2, 'prof': 2, 'comm': 2, 'pr': 1, 'mission': 3, \"d'architecture,\": 2, 'maitris': 7, 'sac': 3, 'oleagineuses.': 1, \"qu'on\": 1, 'confie,': 1, 'don': 5, 'crochet': 3, 'confection': 1, 'redig': 1, 'courri': 5, ',....': 1, 'dachat': 1, 'dapport,': 2, 'credit-bail,': 2, 'lamenagement,': 1, 'ladm': 1, 'desinsectis': 2, 'destruct': 1, 'nuisibl': 1, 'faux': 1, 'ongle': 3, 'lettr': 2, 'therapeut': 1, 'personnes,': 3, 'formatric': 3, 'organisations.': 1, 'ateliers.': 1, '(graphisme,': 1, 'design,': 4, 'illustration)': 1, 'preparatoir': 2, 'shooting': 1, 'photos': 1, 'grossess': 1, 'specialise,': 2, 'import-export,': 2, 'dossiers/litiges.': 1, 'internet,': 4, 'optimis': 3, 'text': 2, 'referenc': 1, '(seo).': 1, 'dois': 1, 'savoir': 3, 'attir': 1, \"l'attent\": 1, 'lec': 1, 'coiffeur': 1, 'homm': 13, 'revente,': 3, 'significative,': 1, \"d'ameublement,\": 1, 'canapes,': 1, 'matelas,': 1, 'textiles.': 1, 'cession': 10, 'retouch': 5, 'confect': 2, 'coaching,': 5, 'professionnel.': 3, 'ecol': 2, 'anniversair': 1, 'tonnag': 1, 'depend': 3, \"d'act\": 2, 'medicaux)': 2, 'demolition,': 3, \"d'excavation,\": 1, 'nivellement,': 2, 'to': 3, '3d': 5, 'interieur/': 1, 'jardinag': 5, 'piscin': 2, 'haut': 1, 'pression': 1, 'clotu': 1, 'vign': 3, 'traduct': 5, 'interpretariat.': 1, 'pvc': 3, 'souhait': 2, 'serv': 1, 'decoup': 1, \"d'album\": 1, 'coutur': 5, 'graphologu': 1, 'commerce,': 2, \"l'achat,\": 4, \"l'import\": 3, \"l'exportation,\": 1, 'indirect': 8, '(en': 2, 'qualit': 2, 'commissionnair': 2, 'mandataire)': 1, 'electricit': 21, 'plombi': 1, 'monteur': 1, 'thermostat': 1, 'connect': 1, 'idel': 1, 'traiteur': 10, 'oner': 1, \"d'autrui\": 1, 'motoris': 2, 'poid': 2, 'total': 1, 'charg': 2, 'rot': 1, 'manier': 2, 'ambulante.': 2, 'vdi': 6, 'statut': 2, 'revendeur': 1, 'photographe,': 1, 'marketing,': 5, 'ux/ui': 1, 'web,': 6, 'strategie,': 4, 'scenograph': 1, 'part': 11, 'esthet': 5, 'librair': 2, 'negoce,': 3, 'anciens,': 2, 'manuscrits,': 1, 'lettres,': 1, 'autographes,': 1, 'cartes,': 1, 'gravures.': 1, 'contact,': 1, \"d'occasion.\": 2, 'lien': 1, 'cliniques.': 1, 'graphiqu': 3, 'print': 2, 'digitale,': 3, 'choix': 1, 'projet': 9, 'deploi': 2, 'dexploit': 1, '(filair': 1, 'filaires),': 1, 'telecommunications,': 1, 'culinaire,': 1, 'services.': 2, 'defin': 5, 'deux': 2, 'premi': 1, 'alin': 1, 'l.422-1': 1, 'cod': 9, 'demonst': 1, 'ephemer': 1, 'detail,': 3, \"d'occult\": 1, 'charcuter': 2, 'jeun': 1, 'exced': 2, '(vtc)': 6, 'extern': 4, '(reseau': 1, 'sociaux...)': 1, 'traffic': 1, 'contenus': 8, 'adultes,': 1, \"l'affiliation.\": 1, 'auditeur': 1, '(bureau': 1, 'energetique)': 1, 'livriason': 1, 'leger,': 1, \"d'echang\": 3, 'souscript': 6, \"d'instru\": 4, 'negociables,': 1, 'mobilieres,': 4, 'titres,': 6, 'capitalisation,': 1, 'interets,': 1, 'immobilier,': 4, 'proprietaire,': 2, \"d'acquisition,\": 3, 'echange,': 1, 'conform': 1, 'desdit': 5, \"l'alien\": 2, 'devenus': 1, 'inutil': 1, 'quelconqu': 2, 'pouv': 3, 'rattach': 2, \"l'objet\": 3, 'ci-dessus': 1, 'defini.': 1, 'detent': 13, \"d'action\": 2, 'societe.': 1, 'reeducation,': 5, \"l'appareillag\": 6, 'pedicures-podologu': 5, 'sedentair': 1, '(food-truck)': 1, 'dj': 3, 'transposit': 1, 'langu': 3, 'sourc': 2, 'ver': 3, 'cibl': 1, 'veil': 1, 'source.': 1, 'boulangerie,': 3, 'viennoiserie,': 1, 'nappes,': 1, 'houss': 1, 'chaises,': 1, 'ded': 1, \"l'evenementiel\": 2, 'plein': 4, 'nue-propriete,': 2, \"l'usufruit,\": 1, 'gratuit': 3, 'associes,': 2, 'reparat': 1, 'van': 1, '(vehicul': 1, 'loisirs)': 1, 'general,': 1, 'compren': 4, 'vu': 13, 'lies,': 1, 'plaqu': 2, 'platre,': 1, 'interieur,decoration,': 1, 'nettoyage,': 4, 'murs,': 5, 'pla': 1, 'different': 11, 'plates-form': 1, 'micro': 3, 'entrepreneur.': 1, 'tropical': 3, 'subtropical': 3, 'gemmotheraph': 1, \"d'heberg\": 3, 'duree,': 1, '3gimmo': 1, 'humaines.': 1, 'rh.': 1, 'salaries.': 1, 'humberger': 1, 'panin': 1, \"l'edition,\": 1, 'etancheit': 1, 'sinistr': 1, 'nue-propriete.': 1, 'osteopath': 4, 'estheticien': 2, 'administratifs,': 1, 'comptables,': 1, 'humaines,': 2, 'boulang': 1, 'patisserie,': 1, 'sandwicherie,': 2, 'immobilieres,': 4, 'torcy': 1, '(77200)': 1, '38': 1, 'avenu': 2, 'lacquisition,': 1, 'ladministr': 2, 'immobiliers,-': 1, 'lemprunt': 1, 'fon': 1, 'magnetiseur': 1, 'vegetaux,': 1, 'regionaux,': 2, 'jardin,produit': 1, 'maconnerie,d': 1, \"d'hydrofug\": 1, 'toitures,': 1, 'entraineur': 1, 'chez': 4, 'construction.': 1, 'ingenieur': 5, 'sportif.': 1, 'encadr': 1, \"d'activit\": 6, 'cyclistes.': 1, 'publics.': 1, 'dietetique.': 1, 'vendr': 2, 'second': 2, 'main': 15, 'mesur': 2, 'analys': 2, 'tourn': 1, 'prevent': 2, 'fiabilisation,': 1, 'poulet': 1, 'grilles,': 1, 'grillad': 1, 'fleurs,': 1, 'plantes,': 2, 'graines,': 1, 'engrais,': 1, 'trottinet': 2, 'neuf': 8, 'traitanc': 3, 'demenagements,': 1, 'manutention.': 1, 'gravur': 2, 'tableau': 3, 'miroir,': 1, 'tabouret': 1, 'naturopath': 2, 'vtt': 1, 'ludiqu': 1, 'decis': 1, 'orient': 2, 'assemble': 1, 'prevoi': 1, 'artisanal': 9, 'mer,': 1, 'informatique.': 3, 'informatiques.': 1, 'infrastructur': 3, 'automobile.': 2, 'marchand': 13, 'biens,': 5, 'immobiliere,': 4, 'lotisseur,': 1, 'particulier': 2, 'internets,': 1, 'premier': 4, 'agroalimentaires,': 1, 'divers.': 1, 'term': 1, 'lorsqu': 1, 'proprietair': 2, \"l'utilis\": 2, 'lui-meme.': 1, \"d'aliment\": 7, 'mult': 2, 'services,': 6, 'depot': 2, 'pain,': 2, 'presse,': 3, 'biens.': 2, 'concern': 4, 'culinair': 1, 'masseur': 5, 'kin': 1, 'sociaux.': 2, 'ensemble.': 1, 'telephonie,': 1, 'publicitaires,': 3, \"d'information,\": 1, 'co': 1, 'osteopathe,': 1, '1er': 2, 'intention,': 1, 'manuel': 7, 'mobilis': 1, 'corporel': 3, \"d'optique,\": 1, 'lunetter': 1, '2d/3d': 1, 'courrants,': 1, 'pluviales,eau': 1, 'usees)': 1, 'quelconque,': 1, 'commerciales.': 1, 'dud': 5, 'dinform': 1, 'stickers,': 1, 'naf': 1, '7022z': 1, 'geranc': 5, 'mail': 2, 'telephone.': 1, 'photo': 2, 'marketing.': 1, 'tissus,': 1, 'calcul': 1, 'structure,': 1, '2d/3d.': 1, '(interieur': 1, 'vitres)': 1, 'stag': 1, 'routiere.': 1, 'amenagement,': 5, 'devient': 1, 'exceptionnel': 2, 'sociale.': 1, 'quotidien': 2, 'loisirs.': 1, 'permanent': 5, 'moniteur': 3, 'char': 1, 'voil': 1, ',petit': 1, 'convoyeur,': 1, 'voiturier,': 1, 'repas.': 1, 'participations,': 7, 'indirectes,': 4, 'titres.': 1, 'main,': 1, 'achat-': 1, 'nature,': 1, 'bail': 7, 'autrement.': 3, 'poissons,': 2, 'brocanteur': 1, 'semi-gros': 1, 'reglementes,': 4, 'import/export': 1, 'point': 3, 'pharmac': 1, 'parapharmac': 1, '(co': 1, 'oaklif': 1, 'holding.': 1, 'feminin': 1, 'cours': 2, 'masso-kinesitherap': 1, '(cod': 1, 'ape': 7, '80.30z': 1, '\"activit': 1, 'd\\'enquete\".)': 1, '(data)': 1, 'para-hotelier': 2, 'disciplin': 3, 'jolly': 1, 'vegan': 1, \"d'ingredient\": 1, \"d'origin\": 2, 'vegetal': 2, '(patisseries,': 1, 'met': 2, 'sales)': 1, 'envelopp': 1, '62.02a': 2, '(convoyage)': 1, 'capillaires.': 1, 'institut': 3, 'beaute,': 3, '(visag': 1, 'corps)': 1, 'period': 3, 'lege.': 1, 'analyses,': 1, 'essais': 1, 'inspect': 1, '(ap': 2, '8121z': 2, 'ensembl': 2, '2986': 1, 'bordeau': 1, '33127': 1, 'saint': 2, 'jean': 1, \"d'illac,\": 1, 'interet': 2, 'droits,': 1, 'galer': 1, \"d'art,\": 1, '(tableaux,': 2, 'lithographes,': 1, 'dessins,': 1, 'sculptures)': 1, \"d'entrepreneur\": 1, 'inscrit': 1, 'registr': 1, 'commerciaux,': 2, 'notam': 1, 'ponctuel': 1, 'compl': 2, 'salarie': 1, '80%': 1, 'sein': 2, 'chu': 1, 'clermont-ferrand.': 1, \"l'inde,\": 1, 'list': 1, 'tabliers,': 1, 'gant': 1, 'maniq': 1, \"d'evasion,\": 1, 'ludiques,': 1, 'las': 1, 'game,': 1, 'escap': 1, \"d'hyp\": 1, 'realit': 1, 'lavag': 2, 'photographie,': 2, 'videos,': 1, 'illustr': 3, 'rou': 1, 'genr': 2, 'velos': 4, 'trottinettes,': 1, 'gyropode,': 1, 'hoverboard': 1, 'gyrorou': 1, 'electrique.': 3, 'publicit': 2, 'visuel': 3, \"d'energie.\": 1, 'immeuble,': 3, 'reparations.': 1, 'apprentissag': 1, 'musique,': 1, 'piano,': 1, 'choral': 1, 'architectural': 1, \"l'industrie.\": 1, '(realis': 1, \"n'exced\": 1, '3,5': 1, 'ton': 1, 'concerts.': 1, 'tournees.': 1, \"d'interim\": 1, 'gros,': 3, 'demi-gros,': 1, 'import-export': 2, 'agroalimentair': 3, 'corp': 6, \"d'etat\": 5, 'plomberie,': 4, 'priv': 2, 'assainissement,': 1, 'sols,': 1, 'routes,': 1, 'vrd': 1, 'voituri': 1, 'collabor': 4, 'choregraph': 1, 'mannequin': 1, 'resin': 1, 'epoxy,': 1, 'cycl': 1, 'biolog': 1, 'caracter': 3, 'constitu': 1, 'plusieur': 4, 'etap': 1, 'necessair': 1, 'deroul': 1, 'cycle.': 1, 'propos': 5, 'vente.': 1, 'travaill': 2, 'fournisseur': 2, 'petsitt': 1, 'gard': 4, \"d'animal\": 4, 'chien': 3, 'chat': 2, 'nac': 1, 'proprietaires,': 1, 'balades,': 1, 'nourrissag': 1, 'compagnie,': 1, 'secretariat': 2, 'quel': 6, 'parts,': 1, 'action': 4, 'moral': 2, 'immatricule': 1, '(gestion': 1, 'generale,pris': 1, \"d'appels,pour\": 1, 'paramedicaux,entrepris': 1, 'particuliers)': 1, \"d'hot\": 2, 'disquair': 1, 'gites,': 1, 'seminaire,': 1, 'boissons,': 4, 'loc': 1, 'chauffage,': 2, 'consiel': 1, 'situat': 2, \"d'achats-revent\": 1, 'vinted': 1, 'e-commerce.': 2, 'cosmetiques,': 1, 'lot': 1, 'grossiste.': 1, 'conferences/conseil/cour': 1, 'mathematiques,': 1, 'piano.': 1, 'consomm': 6, 'animale,': 1, 'deblayage,': 1, 'remblayage,': 1, 'deroch': 1, 'creus': 1, \"l'amenag\": 3, 'terrains,': 3, 'developpeur': 2, 'bar,': 3, 'sportive,': 1, 'personal': 1, 'trainer,': 1, 'cyclism': 1, 'graphiste,': 2, \"d'identit\": 1, 'element': 4, 'graphiques;': 1, 'illustration;': 1, '1)': 1, 'principale:': 1, '(cuisinier-traiteur': 1, 'evenementiel)': 1, 'plate-form': 1, 'production,': 5, 'redactric': 1, 'immobilieres.': 1, 'convoyag': 4, 'ni': 2, 'sant': 4, 'classe': 3, 'ailleur': 3, 'enregistr': 2, \"d'artist\": 1, 'musique.': 1, 'holding,': 4, 'group': 5, '(ub': 1, 'eat,': 1, 'stuart,': 1, 'deliveroo,': 1, 'just': 1, 'eat)': 1, 'moquette,': 1, 'canape,': 1, 'entretien,': 1, 'bureaux,': 1, '(lmp)': 1, 'monsieur': 1, 'madam': 1, 'blanchard': 1, 'exercent': 1, 'devenu': 1, 'declare': 1, 'simplifie.': 1, 'conviendr': 1, \"l'affili\": 1, 'urssaf.': 1, 'siren': 1, '812148831': 1, '922248059.': 1, 'dat': 4, 'analyst': 2, 'collecte,': 2, 'nettoie,': 1, 'interpret': 5, 'donne': 1, 'fourn': 1, 'insight': 1, 'exploitables.': 1, 'pyt': 1, 'hotel': 1, \"d'audioprothes\": 1, 'journaux,': 1, 'revu': 3, 'papeterie,': 1, 'carterie,': 1, 'bimbeloter': 1, 'patrimoniaux.': 1, \"d'electricien\": 1, \"l'\": 1, \"l'export\": 2, 'relev': 1, 'art': 6, \"l'achat\": 8, 'fruits,': 2, \"l'achat/revent\": 1, \"l'import/export\": 1, 'transformes.': 1, '(electricien)': 1, 'alcoolisees,': 3, 'aperit': 1, 'electriques,': 1, 'formations.': 1, 'prives.': 1, 'studios': 1, 'publicite.': 1, 'supervis': 2, 'technique,': 4, 'pe': 1, 'necessite,': 1, 'etc..': 1, 'financieres,': 3, \"d'entreprises,\": 2, 'manuels,': 1, 'bricolages,': 1, \"d'interieur,\": 5, \"d'entretien.\": 1, 'climatisation,': 2, 'ventilation,': 1, 'papeter': 3, 'jouissance,': 1, 'immeubles.': 1, 'operations,': 1, \"d'enseign\": 2, 'graphist': 2, 'sculpteur': 1, 'jouiss': 2, 'propret': 1, 'courant.': 1, \"qu'agent\": 2, \"d'entretien,\": 2, \"j'utilis\": 1, 'externalis': 1, 'comit': 1, '(cse)': 1, 'soin.': 1, 'detache': 3, '(peintures,': 1, 'sol,': 1, 'meubles...)': 1, 'societes.': 3, 'tresorer': 2, \"d'attract\": 1, 'them': 3, 'veterinair': 3, 'savon': 1, \"d'enquetes,\": 1, 'etude,': 2, 'recherche,': 2, 'investig': 1, 'veux': 1, 'roman': 1, 'taxis.': 1, 'pedagogique.': 1, 'praticien': 3, 'bilan': 4, 'competent': 1, 'rabotag': 1, 'imm': 1, 'tissu.': 1, 'ancien': 1, 'modern': 1, 'contemporaines.': 1, 'trans': 1, 'transports...': 1, 'viticoles,': 1, \"d'elevage,\": 1, 'tracteur': 1, 'sal': 1, 'and': 1, 'salesforce,': 1, '(salesforce)': 1, 'dossi': 3, 'vins,': 1, 'alcools,': 1, 'raisin': 1, 'autres,': 1, 'vrac': 1, 'bouteille,': 1, 'conditionnement,': 1, \"d'import,\": 2, 'matieres.': 1, \"d'arbr\": 2, \"d'arbust\": 2, 'coqu': 3, 'japon': 1, 'couvreur': 1, 'zingueur': 1, '(moin': 2, '400': 1, 'm2)': 1, 'vetements.': 2, 'proposon': 1, 'etudiant(e)': 1, 'francais(es)': 1, 'etudi': 4, 'etats-un': 1, \"l'universite.\": 1, 'demarch': 1, 'trouv': 2, 'leur': 4, 'prochain': 1, 'vach': 2, 'laitier': 2, \"l'architectur\": 1, \"l'edit\": 2, 'medias,': 1, \"d'affaires,\": 2, \"l'aminc\": 1, 'medical,': 1, 'cryolipolyse,': 1, 'corps,': 1, 'bien-etr': 4, 'auteur,': 3, 'realisateur,': 1, 'monteur,': 1, 'expertis': 4, 'vision': 1, 'messag': 1, 'percu': 1, '/amenag': 1, 'vert': 1, 'taill': 2, 'haie,': 1, 'tontes.': 1, 'clotur': 2, 'rigid': 1, 'rigides.': 1, 'holding': 3, 'filial': 3, 'sous-filial': 1, 'off': 1, 'part,': 1, 'kinesitherapeut': 7, '15/07': 1, '08/09': 1, 'puis': 1, 'titulair': 1, 'cabinet': 1, 'laveur': 1, 'vitr': 1, 'festif': 2, 'plaquist': 3, 'batiments)': 1, 'eco': 1, 'respons': 1, \"d'informations,\": 1, 'bureautique,': 1, 'tri': 2, 'documents.': 1, 'tatouag': 1, 'energ': 9, 'transaction,': 1, 'location.': 1, 'diplome': 1, 'architecture,': 1, 'dessin': 7, 'projeteuse,': 2, \"d'urban\": 2, \"d'execution,\": 1, 'chantier.': 1, '3511z': 1, 'gestionnair': 1, 'tatoueur': 1, '(6820a).': 1, \"l'install\": 1, 'sous-traitance,': 1, 'bain,': 1, 'dressing': 2, 'interieurs,': 1, 'lieux': 3, 'travaux,': 3, 'courant,': 1, \"d'interieur.\": 1, 'simpl': 1, 'audiovisuel,': 1, 'original': 4, 'ceux-c': 1, 'festival': 1, 'leg': 1, 'graphism': 2, 'intellectuelles.': 1, 'global': 1, 'energetique.': 1, 'mem': 2, 'courtage,': 1, 'commercial,': 1, 'generale,': 7, 'superette.': 1, 'denrees,': 1, 'meti': 1, 'plaquiste,': 1, \"d'amenagement:l\": 1, 'doublage,...': 1, 'france,': 1, \"l'entrepris\": 1, 'itiner': 1, \"l'espac\": 1, 'publics,': 1, 'foir': 4, 'autres),': 1, 'marches,': 1, 'connexes.': 1, 'domicili': 1, 'massag': 5, 'maquillage,': 2, 'object': 1, 'batiments.': 2, 'sacs.': 1, 'couverture,': 3, 'conferences,': 1, 'audiovisuelles,': 1, 'livrison': 1, 'clint': 1, 'carrosser': 2, 'mecanique,': 1, 'occas': 1, 'neuf,': 1, 'accidente,': 1, 'carburant,': 1, 'gateau': 1, 'artisanale,': 1, 'monter,': 1, 'tartes,': 1, 'gateau,': 1, 'mariag': 2, 'occasion.': 1, 'houblons,': 1, 'champignons,': 1, 'micro-pouss': 1, 'aromat': 1, 'industrielle,': 1, 'reseau,': 1, 'automatisme,': 1, 'alarme,': 1, 'born': 1, 'rec': 2, 'vetement,': 1, 'congr': 1, 'groupements,': 1, \"qu'en\": 2, 'litterair': 1, \"d'ecritur\": 1, \"d'application,\": 1, \"d'assist\": 4, 'audiovisuelle:': 1, 'synchronis': 1, 'sous-titr': 1, 'doublag': 1, 'audiovisuel.': 1, 'sous-titrag': 1, 'sourd': 1, 'dentaire,': 1, 'distribution,': 2, \"d'energie,\": 1, 'convoyeur': 1, 'promouvoir': 2, 'musiqu': 4, 'propriete,l': 1, \"gestion,l'administration,l\": 1, \"location,l'exploit\": 1, 'batis,d': 1, 'melons,': 2, 'racin': 2, 'tubercul': 2, 'aeraul': 1, 'sis': 2, 'ru': 3, 'cigogn': 1, '67000': 1, 'strasbourg,': 1, 'patrimonial': 2, 'immobilier.': 2, 'balad': 1, 'commente': 1, 'plag': 1, 'malo': 1, 'parl': 1, 'phenomen': 1, 'marees.': 1, 'electromenager,': 2, 'largement,': 1, 'amenagement.': 1, 'monetisation,': 1, 'entrepreneur': 1, 'monetis': 1, 'audienc': 1, 'portent': 1, 'atteint': 1, 'collectionner,': 1, 'figurin': 2, 'deriv': 3, '(societ': 1, 'jolimoi)': 1, 'exist': 1, 'nouvelles,': 3, '6201': 2, 'neuropsychologiques.': 1, 'mobiles,': 2, 'logiciels.': 1, 'periode.': 1, \"d'et\": 2, 'pilot': 1, 'largag': 1, 'parachut': 1, 'quand': 1, 'saison': 1, 'management.': 2, \"l'exclus\": 1, 'verandas.': 1, 'interieures.': 1, 'comportemental': 2, 'felin': 2, '(analys': 1, 'comport': 1, 'resoudr': 1, 'probleme)': 1, '(nourrissag': 1, 'portail': 1, 'portefeuill': 7, 'cote': 1, 'crep': 1, 'fait': 2, 'gaufre,': 1, 'glaces,': 2, 'granitas,': 1, 'sandwich,': 2, 'hamburger,': 1, 'salades,': 1, 'bonbons...': 1, 'nutrit': 1, 'africain': 1, 'emporter.': 1, 'mafe,': 1, 'yassa,': 1, 'tiepe,': 1, 'soup': 1, 'kandi': 1, 'psychologu': 4, \"d'entreprise,\": 2, 'educ': 1, 'loisir,': 1, 'clip': 2, 'savants.': 1, 'semi-permanent,': 1, 'regard': 1, '(extens': 1, 'cils,': 3, 'lachat,': 2, 'stockage,': 2, 'letat': 1, 'lagriculture,': 1, 'indust': 1, \"l'installation,\": 1, 'solaires.': 1, 'churros,': 1, 'gaufres,': 1, 'crepes,': 1, 'snacking': 1, 'serrurer': 3, 'consultant,': 1, 'fleuristerie,': 1, 'bougies,': 3, 'fondants,': 1, 'parfume': 1, 'apais': 1, '(boug': 1, ',encens,': 1, 'plaids,': 1, 'masqu': 1, 'visage,': 2, 'cocooning': 1, \"qu'ingenieur\": 1, 'technolog': 2, \"l'inform\": 1, \"d'agent\": 3, 'loi': 1, 'n.': 1, '70-9': 1, 'janvi': 1, '1970': 1, 'liege,': 1, 'vanner': 1, 'sparter': 1, 'marques,': 1, 'graphique,': 2, 'su': 2, 'pierres,': 1, 'cristaux,': 1, 'esoteriques,': 1, 'esoteriques.': 1, 'peintures.': 1, 'composite.': 1, 'bassins.': 1, \"d'eau,\": 1, 'locaux.': 1, 'curage,': 1, 'nettoyage.': 2, 'relax': 1, 'intern': 4, 'redacteur': 1, 'insolit': 1, 'tiny': 1, 'house,': 1, 'ain': 1, 'contenus,': 1, \"d'avocat\": 1, 'loi.': 1, 'charge': 1, 'influenc': 1, 'campagn': 3, 'vais': 1, 'donc': 1, 'apports,': 1, 'souscriptions,': 1, 'deuil': 1, 'bi': 3, 'mediumnite.': 1, 'protect': 1, 'sociale,': 1, 'prevoyance,': 1, 'mutuelle,': 1, 'git': 2, 'plomberie,chauffage,instal.': 1, 'thermiques,d': 1, 'climat': 2, \"d'isolation;energ\": 1, 'renouvel': 2, \"l'assist\": 3, 'operationnel': 3, 'danseux': 1, 'collectivites,': 1, 'coutellerie,': 1, 'orfevrerie,': 1, \"d'ustensiles,\": 1, 'plonge': 2, 'subaquat': 2, \"s'y\": 2, 'supermarch': 2, '(achats-revente)': 1, 'comptable,': 2, \"l'automobil\": 2, 'boug': 2, 'ligne)': 1, 'auto-edit': 1, 'cosmetique,': 2, \"l'etu\": 1, '(seminaires,': 1, 'receptions,': 1, '...)': 2, 'decontamin': 1, 'exterieurs,': 1, 'deratisation,': 2, 'desinfection.': 1, 'independant.': 2, 'destine': 2, 'actif': 1, 'publiques.': 1, 'physiques,': 1, 'rehauss': 3, \"d'acquisit\": 1, 'etancheite,': 1, 'maconnerie,': 7, 'plomberie.': 1, 'valoris': 2, 'technicien': 2, 'n2-n3': 1, \"d'alien\": 1, 'da': 2, 'litteratur': 2, 'japonais': 1, 'detenu': 1, 'telecom': 1, 'lunetterie,': 1, 'objet:': 1, 'osteopathie,': 1, 'pratique,': 1, 'interrogatoir': 1, 'palpat': 1, 'patient': 1, 'forage,': 1, 'sondage,': 1, 'carottage,': 1, 'arbor': 1, 'elagueur-grimpeur': 1, 'preparatoires,': 2, 'lourd': 1, '(marchandises)': 1, 'feutr': 1, 'indelebil': 1, 'acryl': 1, '(panneau': 1, 'plexiglass,': 1, 'sous-loc': 2, 'notamment,': 1, 'disposition,': 2, 'chirurgien': 2, 'dentist': 1, 'manucur': 2, \"d'hebreu\": 1, 'sejour,': 1, 'couche,': 1, 'salon..': 1, 'ex:': 1, 'tables,': 1, 'buffets..': 1, 'lustrag': 1, 'auto': 1, 'pme': 1, 'audio-visuels.': 1, 'soit,': 2, \"d'evenement,\": 1, 'planif': 2, 'terminal': 1, 'cuisson,': 1, 'bazar,': 3, 'execu': 2, 'entretient': 1, 'vert,': 1, 'chirurg': 2, 'orthoped': 2, 'traumatolog': 1, 'epil': 1, 'visag': 1, \"l'hoteller\": 2, 'offrant': 1, 'gest': 1, 'actions,': 2, 'sociales,': 2, 'voyage,': 1, 'ayurved': 1, 'ski': 2, 'nautiqu': 1, 'wakebaord': 1, '150h)': 1, \"d'etabl\": 1, 'para-hoteli': 1, \"d'alcool.\": 1, 'televent': 1, 'visit': 6, 'vill': 2, 'palm': 1, 'majorque.': 1, 'possibilit': 1, 'pied': 1, 'electriques.': 1, 'rat': 1, 'sech': 1, 'support,': 1, 'decoratif,': 1, \"d'accessoires.\": 1, 'terre,': 1, 'informatiques;': 2, 'autonom': 1, 'pneu': 1, 'aeronaut': 2, 'presentiel': 2, 'dev': 1, \"d'hypnos\": 1, 'transpersonnelle,': 1, 'dur': 1, 'heures.': 1, 'actuel': 1, 'visio.': 1, 'numerique.': 1, 'surgeles,': 1, 'frais,': 1, 'particu': 1, 'yog': 2, 'eleveur': 1, \"d'invest\": 1, \"d'orient\": 1, \"d'orientation,\": 1, 'metiers,': 1, \"d'activite,\": 1, '(sit': 1, 'sociaux)': 1, 'beautes,': 1, 'abonnement.': 1, 'kholl': 1, 'class': 1, 'preparatoire,': 1, \"d'occasion,\": 3, \"d'automobile,loc\": 1, 'flux': 1, 'procedur': 1, '(conseil': 1, 'gestion)': 1, \"l'amenagement,\": 3, \"l'administrat\": 1, 'confitur': 2, 'biscuit': 1, '70.22z': 1, 'dirigeants,': 1, 'e-learning,': 1, 'resolu': 1, 'sensibles,': 1, 'ingenier': 5, \"d'expert-compt\": 1, 'inscript': 1, \"l'ordr\": 1, 'experts-comptables.': 1, 'el': 1, 'teleprospecteur': 1, \"d'occass\": 1, \"l'occup\": 1, 'finance,': 1, 'droit,': 1, 'projets,': 1, 'gag': 1, 'manifest': 2, 'autour': 1, 'alu': 2, 'flamenco': 1, 'cordonner': 1, 'debit': 1, 'telephon': 4, 'humanitair': 2, 'organison': 1, '(trouss': 1, 'toilette,': 2, 'douche,': 1, 'eponge,': 1, 'coton,': 1, 'serviette,': 1, 'etc...)': 3, 'alimentaires.': 3, 'bain': 2, 'textile,': 1, 'dron': 1, '(lamp': 1, 'etr': 1, 'natur': 2, \"d'adolescent\": 1, 'jeux-videos,': 1, '(steam,': 1, 'games...)': 1, 'bien-etre,': 1, 'californien,': 1, 'suedois,': 1, 'ayurvedique,': 1, 'lift': 1, 'japonais,': 1, 'hawaien,': 1, 'sportif,': 1, 'etir': 1, 'passifs,': 1, 'sur-mesur': 1, 'coaching.': 1, 'facilit': 3, 'reunion': 1, 'entreprise.': 1, 'communication/marketing/publicit': 1, 'redactionnels.': 1, 'creations,': 1, 'fantaisies.': 1, 'informaticien': 1, 'auto-entrepris': 1, 'pouvoir': 1, 'interieur,': 3, 'prostitution,': 1, 'pornograph': 1, '(photos,': 1, 'videos),': 1, \"d'abon\": 1, \"l'a\": 2, \"d'administr\": 1, 'commercialisation,': 1, 'mural,': 1, 'const': 1, 'conseils,': 2, \"d'accessoire,\": 1, 'beb': 1, 'enfants.': 1, 'fais': 1, 'coudre,': 1, 'gardiennage,': 2, 'surveil': 4, \"l'octroi\": 1, 'garant': 1, 'etablissements,': 1, 'restauration.': 2, \"d'illustr\": 2, 'personnalise': 2, \"l'aquarel\": 1, 'environ': 1, 'traditionnelle,': 2, 'livraison,': 2, 'comptoir': 1, \"l'intermediair\": 2, 'coiffure,': 3, 'coiffure..': 1, 'letrang': 1, 'dessus': 1, \"d'escalad\": 1, '(creation': 2, \"d'itineraires:\": 1, 'ouvertur': 1, 'blocs)': 1, 'serie,': 1, 'industriel.': 1, 'cinematographiques,d': 1, 'court/long': 1, 'metrages,': 1, 'musicaux,film': 1, \"d'entreprises...\": 1, \"d'electricite,\": 2, 'techniques,': 2, 'radiofrequences.': 1, 'rel': 1, 'taximetr': 1, 'demand': 3, 'assistance,': 1, 'accompagnement,': 1, \"l'accompagn\": 2, 'serviet': 1, 'hygien': 1, 'climatique,': 1, 'renouvelable,': 2, 'tonnage,': 1, 'routier,': 1, 'materiaux,': 1, 'compositeur,': 1, 'mao': 1, 'meublee.': 1, 'inclu': 2, 'fixe': 1, \"l'av\": 1, 'issus': 1, 'remorqu': 1, 'conservation,': 1, 'susceptibl': 1, \"d'etr\": 1, 'conclus': 1, 'toitur': 3, 'objets,': 1, 'genre,': 1, 'e-book': 1, 'finance.': 1, 'amazon,': 1, 'chanteuse,': 1, 'musicien': 1, 'complet': 1, 'telecommunication.': 1, 'bovin': 5, 'buffl': 2, 'dioramas,': 1, 'figurines)': 1, 'fait-main': 1, 'polymer': 1, \"l'echang\": 1, 'bic': 2, 'stand': 1, \"d'exposition,\": 1, \"oz'ateli\": 1, 'artistique.': 1, 'pse,': 1, 'sst': 1, 'psc1': 1, 'gq': 1, 'igp': 1, 'syndic': 1, 'coproprietes,': 1, 'commerces,': 1, \"s'ag\": 1, 'betterav': 1, 'deleplanqu': 1, 'agriculteur': 1, 'seine-et-marn': 1, 'neufs,': 1, 'proximit': 1, 'minoritair': 1, 'majoritaires,': 1, 'inclus': 1, 'integral': 1, '/petit': 1, \"d'osteopathie.\": 1, \"l'adminsitration,\": 1, 'immobiliers;': 1, 'pri': 1, 'nouvel': 1, 'technologies,': 1, 'intelligent': 3, 'fromag': 1, 'gros-oeuvre,': 1, 'faux-plafond,': 1, 'isolation,': 1, 'menuiserie,': 3, 'serrurerie,': 1, 'finition,': 1, 'climatisation.': 1, 'chant': 1, 'modelag': 1, 'monde,': 1, 'relaxant,': 1, 'lacher-pris': 1, 'chambres,': 1, 'immo': 1, '(consomm': 1, 'place)': 1, 'ossatur': 1, 'dassurance.': 1, 'raid': 1, \"d'enquet\": 1, 'guide-conferencier:': 1, 'visiteur': 1, 'lor': 3, 'guidees,': 1, 'etrangere.': 1, 'epicerie,': 1, 'poisson': 1, 'tambour': 1, 'copywritting': 1, 'perruque.': 1, \"d'amenag\": 3, 'fonciers,': 1, 'jur': 1, '(younique)': 1, '(6820a)': 1, 'apparten': 1, 'nu': 3, 'cuivres.': 1, 'instrument': 1, 'partition.': 1, 'chauffeurs,': 1, 'leadership': 1, 'boulangerie-patisser': 1, 'livraison.': 1, 'definit': 1, \"d'etancheif\": 1, \"l'audiovisuel,\": 1, \"l'electromenager,\": 1, 'liter': 1, 'lou': 1, 'conclu,': 1, 'consent': 1, 'baux': 1, \"d'architectur\": 2, '6831z': 1, '(repar': 1, 'qualification)': 1, 'allon': 1, 'nail': 1, 'capsul': 1, 'vendu': 1, 'pads.pour': 1, 'artisanaux,': 1, 'ferraill': 2, 'barman': 1, 'photovoltaiques,': 1, 'chaleur,': 1, 'rt': 1, 'mecatron': 1, 'mecanique.': 1, 'manufacturier': 1, 'business': 1, 'development': 1, 'associe': 2, 'distanciel': 1, 'neurologu': 1, 'chocolat,': 1, 'comptoir,': 1, 'ser': 1, \"d'influenc\": 1, 'axe': 1, 'tach': 1, 'administratives.': 1, 'webmastering,': 1, 'digital...': 1, 'residentiel': 2, 'commande,prest': 1, \"d'etat,prest\": 1, 'exterieur,': 3, 'morales,': 1, 'postal': 1, 'papier,': 1, 'cartonne,': 1, 'var': 1, 'decoupe.': 1, 'maitr': 3, \"d'hotel\": 1, 'esoter': 1, '(pierr': 1, 'precieuses,': 1, 'encens,': 1, 'tarots,': 1, 'pendules,': 1, 'tisanes,': 1, 'sylvicultur': 1, 'degust': 1, \"d'initi\": 1, 'test': 1, 'permeabilit': 1, \"l'air\": 1, '(envelopp': 1, 'aerauliques),': 1, 'attest': 1, 'rt,': 1, 'diagnostic': 2, 'parfum': 1, 'burg': 1, 'tacos': 1, 'pizz': 4, \"l'appliqu\": 1, 'isotherm': 1, \"d'alcool,\": 1, 'rotisserie,': 1, \"d'automat\": 1, 'renfort': 1, 'forc': 1, 'participations;': 1, 'sen': 3, 'intellectuelle.': 1, 'peintre.': 1, 'choeur': 1, 'voiture,': 1, 'canap': 1, 'exceptionnelle,': 1, 'admin': 1, 'seul': 1, 'entrepr': 1, \"d'haute-fidelit\": 1, 'focal': 1, 'naim': 1, 'mond': 1, 'yachting': 1, 'hotess': 1, \"d'accueil\": 1, 'personalis': 1, 'sublimation,': 1, '(mugs,': 1, 't-shirt,': 1, 'telephone,': 1, 'ect': 1, '(dat': 1, 'scientist,': 1, 'systemes,': 1, 'logiciels,': 2, 'programmation,': 1, 'immediat': 1, \"d'agenc\": 3, 'commerce.': 1, \"d'expertises.\": 1, \"d'alcool\": 2, 'marche.': 1, 'reportag': 1, 'photographique,': 1, \"d'evenement.\": 1, 'secourisme,': 1, 'ramassag': 1, 'vocat': 1, 'videast': 1, 'portrait': 1, \"d'exercic\": 1, '(sel)': 1, 'veterinaires,': 1, 'filair': 1, 'construit': 1, 'verts,': 1, 'debrouillage,': 1, 'desherbag': 1, 'assoc': 2, 'bibelots,': 1, 'linge,': 1, \"l'artisanat.\": 1, 'head': 1, 'spa,': 1, 'camping-car': 1, 'reglementees.': 2, \"d'infirmi\": 1, 'reeduc': 2, 'do': 3, 'raccord': 3, 'solair': 1, 'telecoms.': 1, 'fusion': 1, 'location-': 1, 'etablissements;': 1, 'prise,': 1, 'brevet': 1, 'activites.': 1, 'dan': 1, 'disc-jockey': 1, 'controleur': 1, 'rest': 1, 'fourni.': 1, 'marques.': 1, 'decontamination,': 1, 'debarrassag': 1, \"d'encombr\": 1, 'evacu': 1, 'dechets,': 1, 'rev': 1, 'fiscal,': 1, 'psychiatr': 1, 'pre': 1, '(exempl': 1, 'uber-eat)': 1, \"d'apprentissag\": 1, 'ecrit': 1, 'ecoles.': 1, '\"servic': 1, 'lever,': 1, 'coucher,': 1, 'repas...)\"': 1, 'routier': 1, 'immobiliere.': 1, 'ramonag': 1, \"d'individus\": 1, \"d'excurs\": 1, 'espagnol,': 1, 'anglais': 2, 'emplac': 1, 'commerciales:': 1, 'fidelis': 2, 'chirurgical': 1, 'sublim': 1, 'manuelles,': 1, 'snack': 1, 'repute': 1, 'l.': 1, '311-1': 1, 'rural': 1, 'comblement,': 1, 'drainage,': 1, 'cimentag': 1, 'dallage,': 1, 'juridiques,': 1, 'redaction,': 1, 'monitorat': 1, 'preceptorat': 1, 'recour': 1, \"d'associ\": 1, 'detentric': 1, 'saucissons,': 1, 'charcuterie,': 2, 'soire': 1, 'exemple:': 1, 'chais': 1, 'arche': 1, 'photomaton': 1, 'convers': 1, 'carte,': 1, 'velos,': 2, 'maquet': 2, 'web.': 2, 'logos': 1, 'chart': 1, 'graphiques.': 1, 'denre': 2, 'agro-alimentaire,': 1, 'agricole:': 1, 'abattage,': 1, 'elagage,': 1, 'hai': 1, 'neuv': 1, \"d'outil\": 1, 'gestion).': 1, 'restreint,': 1, 'cigaret': 1, '(courriers,': 1, 'colis,': 1, 'repas,': 1, 'prospectus': 1, 'mobiles.': 1, 'concevoir': 1, '2d': 1, 'bio': 1, 'vello': 1, 'hom': 1, 'staging': 1, 'conciergerie.': 1, 'alimentaire.': 2, 'forag': 1, 'food': 1, 'truck': 1, 'sourcil': 2, 'menuisi': 1, 'poseur': 2, 'agenceur': 1, 'escalier,': 1, 'boutique,': 1, 'garage,': 1, 'habillag': 1, 'drap': 1, 'sitt': 1, 'maroquinerie,': 1, 'entier': 1, 'cousu': 1, 'selli': 1, 'audiovisuelle.': 1, 'chaussures,': 1, 'porter.': 1, \"d'informatique,\": 1, \"j'enseign\": 1, 'superieure.': 1, 'cou': 1, 'barberie,': 1, 'produits,': 1, 'materiels,': 1, 'ecrivain': 1, 'canin': 1, 'canins.': 1, 'rdv': 1, \"l'animal\": 1, 'comprendre,': 1, 'resoudre,': 1, \"l'harmonie.\": 1, 'redon': 1, 'restrict': 1, 'mouv': 1, 'autoguerison': 1, '(rep': 1, 'chauffeur.': 1, 'dhotellerie,': 1, '(sur': 1, 'emporter),': 1, 'lacquisitio': 1, 'delectricit': 1, 'tutorat,': 1, 'anne': 1, 'universitair': 1, 'cours,': 1, 'qcm,': 1, 'correction,': 1, 'presenc': 1, 'adapte': 1, 'padel,': 1, 'ubert': 1, 'multi-servic': 1, 'primo': 1, 'acced': 1, 'epanouissement,': 1, 'competences,': 1, 'stress.': 1, 'formations,': 1, 'ateliers,': 1, 'competences.': 1, 'dachat,': 1, 'quen': 1, 'lo': 1, 'maraicheres,': 1, 'vivrier': 1, 'rumin': 1, \"l'ingenierie,\": 1, 'prod': 1, 'etc.': 3, 'assemblage,': 1, 'peux': 1, 'e-sport': 1, 'assurances,': 1, '(cobsp),': 1, 'cheff': 1, 'cuisini': 1, 'mobilieres.': 1, 'edition,': 3, 'etudiants,': 1, 'piscine,': 1, 'piscines,': 1, 'spa': 1, 'saun': 1, \"d'arro\": 1, 'financier;': 1, 'sonoris': 1, 'de:': 1, 'braseros,': 1, 'barbecues,': 1, 'terrasse,': 1, 'rocket': 1, 'stov': 1, 'inox.': 1, 'soudur': 1, 'services/prest': 1, 'celui-c': 1, 'proven': 1, '(etats-unis,': 1, 'royaume-uni,': 1, 'japon,': 1, 'tunisie)': 1, 'commande.': 1, 'savons,': 1, 'detergent': 1, 'vues,': 1, 'promenad': 1, 'animaux.': 1, 'magasin,': 1, 'pilotag': 2, '(maison,': 1, 'enfant,': 1, 'vetement)': 1, 'photobooth/born': 1, '(comm': 1, 'hau': 1, 'commercial.': 1, 'necessit': 1, 'qualif': 2, 'amiante,': 1, 'ami': 1, \"d'oeuvre,\": 1, 'architectur': 4, 'demande.': 1, 'medecin,': 1, 'cel': 1, 'stomatologu': 1, 'maxillo-facial,': 1, \"l'apprentissag\": 1, \"d'intelligent\": 1, 'secs,': 1, 'fabrication)': 1, \"l'execu\": 1, 'mentorat,': 1, \"d'habitation,\": 1, 'professionnel,': 1, 'indus': 1, 'droi': 1, 'parents/enfants,': 1, 'enfance,': 1, 'cohes': 1, 'equipes,': 2, 'affret': 1, '5320z': 1, 'diplom': 1, 'laverie,': 1, 'pressing,': 1, 'blanchisser': 1, 'brut,': 1, 'copeaux,': 1, 'pel': 1, \"d'amenagement.\": 1, 'international': 1, 'creatif': 1, 'randonne': 1, 'jet': 1, 'encadre': 1, 'moniteurs,': 1, 'nautiques,': 1, 'scooters,': 1, 'nego': 1, 'non.': 1, 'annuel': 1, 'trimetriel': 1, 'acquis': 1, 'mr': 1, 'perret': 1, 'laurent': 1, 'mme': 1, 'sandrin': 1, 'certifie': 1, 'rncp': 1, 'femm': 1, 'entrepren': 1, 'manager': 1, 'photocopie,': 1, \"d'appart\": 1, 'motos,': 1, 'detachees.': 1, 'cybersecurit': 1, 'publicitaires.': 1, 'operateur/pilot': 1, 'rov': 1, '(robot': 1, 'marins)': 1, 'milieu': 1, 'maintenance,': 1, 'supraconducteur': 1, 'multi-usages,': 1, 'capteur': 1, 'quantiqu': 1, 'specialises,': 1, 'inferieur': 1, '150': 1, 'heur': 1, 'letranger,': 1, 'lexploit': 1, 'platerie,': 1, 'scolaire,': 1, 'maison.': 2, 'administrat': 1, 'patholog': 1, '8810a': 1, 'quotidien,': 1, 'dermographe,': 1, 'detenus': 1, 'propriete.': 1, 'tend': 1, 'ci-dessus,': 1, 'menage,': 1, 'repassages,': 1, 'dessin,': 1, 'modelis': 1, '3d,': 1, 'brevet,...': 1, '(produit': 1, 'transport)': 1, 'possession,': 1, 'alien': 1, 'eventuel': 1, 'litteraire.': 1, \"j'ai\": 1, ',electricites,': 1, 'carreleur': 1, 'readapt': 1, 'fonctionnel': 1, \"d'habitat\": 1, 'ape:': 1, '95.23z': 1, 'cuir,': 1, 'cles.': 1, 'aquatiques,': 1, 'paludarium/terrarium': 1, 'egal': 1, '(exceptionnelle),': 1, 'immobil': 1, 'eduqu': 1, 'reeduqu': 1, 'chiots.': 1, 'television,': 1, 'hi-fi,': 1, 'mains,': 1, 'forain': 1, 'maneg': 1, 'tir': 1, 'loter': 1, 'canard': 1, \"d'adresse/automat\": 1, 'cascad': 1, 'noel': 1, 'assit': 1, 'diverses.': 1, 'obtenu': 1, '16/01/2024': 1, 'electrique,': 1, \"d'instruct\": 1, 'orientales,': 1, 'kebab,': 1, 'specialit': 1, 'couscous': 1, 'oriental': 1, \"l'econom\": 1, 'jouets,': 1, 'livres,': 1, 'fresques...)': 1, 'rachat': 1, 'videograph': 1, \"d'illust\": 1, 'mariages,': 1, 'fiancailles,': 1, 'evennementiel,': 1, 'maconnerie.': 1, 'fondations,': 1, 'cloisons,': 1, 'plafond': 1, 'enduits.': 1, \"d'habitation.\": 1, 'cong': 1, 'proprietaires.': 1, 'ci-apr': 1, 'apporte': 1, 'ventil': 1, 'hoteller': 1, 'mixage,': 1, 'audio,': 1, 'intrumental': 1, 'premieres.': 1, 'digital.': 2, 'batiments,': 1, 'particuliers.': 2, 'rsi': 1, 'semestriel': 1, 'types.': 1, 'garde-corps,': 1, 'bardag': 1, 'reglemente.': 2, \"d'aff\": 1, 'decodag': 1, 'psychosomat': 1, '(therap': 1, 'douce)': 1, 'facadier,': 1, '(portfolio,': 1, 'candidature,': 1, 'motivation,': 1, \"d'intention),\": 1, \"d'envoi\": 1, \"d'\": 1, 'science.': 1, \"d'ouvrage.\": 1, 'groupe,': 1, '(assist': 1, 'direction)': 1, 'jeunesse,': 1, 'main.': 1, 'industriels,': 1, 'pavage,': 1, 'arme,': 1, 'coffrag': 1, 'debr': 1, 'renouvelables.': 1, \"d'hygien\": 1, 'exclus': 1, 'services-location-': 1, 'immobiliers-': 1, 'nus': 1, 'commerciaux/': 1, 'professionnel/': 1, 'logements/': 1, 'envoi': 1, 'transmettr': 1, 'salar': 2, 'scan': 1, 'pension': 1, 'patur': 1, 'abris': 1, 'chantiers,': 1, 'fournisseurs,': 1, 'inchange': 1, \"d'angl\": 1, 'danse.': 1, 'jouets,cuisin': 1, 'maison,bricolag': 1, 'jardin.': 1, \"l'usufruit\": 1, 'smartphones,': 1, 'natation,': 1, \"d'aqua-sport\": 1, 'sous-marin': 1, 'niveaux.': 1, 'dieteticien': 1, 'peut': 1, 'accompl': 1, 'cet': 1, \"l'in\": 1, \"l'ia,\": 1, 'devops,': 1, 'vis,': 1, 'fixat': 1, \"l'import-export,\": 1, 'parfumerie,': 1, 'temporair': 1, 'situe': 1, 'letelli': 1, 'deauvill': 1, '14800': 1, 'familial': 2, \"l'intelligent\": 1, '(ia)': 1, 'livrer.': 1, 'appel': 1, 'entrant': 1, 'sort': 1, 'cabin': 1, 'manufactures,': 1, 'triper': 2, 'jeux,': 1, 'compte.': 1, \"l'espace,\": 1, \"l'agenc\": 1, 'exterieur.': 2, 'epilation,soin': 1, 'manucure,': 3, 'pedicure,': 2, 'teintures,modelages,': 1, 'custom': 1, 'car': 1, '(repons': 1, 'commentair': 1, 'canal': 1, 'communication)': 1, '(cam': 1, 'enfants,': 1, 'animaux,': 1, 'maisons...)': 1, '(e-commerce).': 1, 'fdj,': 1, 'bimbeloterie,': 1, 'fumeur': 1, 'equid': 1, 'achat,exploitation,renov': 1, 'locative,loc': 1, 'sous-location.': 1, 'ameublement,': 1, \"l'entreposag\": 1, 'frigorifique,': 1, 'suit': 1, 'professio': 1, 'tier': 1, 'specifiquement.': 1, 'combinaison': 1, 'chevaline,': 1, 'geniqu': 1, 'cellulaires,': 1, 'prioritair': 1, 'neuromusculair': 1, 'syndicat': 1, 'produis': 1, 'dinstall': 1, 'dassemblag': 1, 'nouveau': 1, 'prototyp': 1, 'sais': 1, 'bord': 1, 'pizzeri': 1, 'evenementielles.': 1, 'saisonnieres,': 1, 'touristiques,': 1, 'meublees,': 1, 'vitrines.': 1, 'privee,': 1, 'conciergerie,': 1, 'culturelles,': 1, \"d'evenements.\": 1, \"l'energ\": 1, \"d'immeubles.\": 1, 'usufruit,': 1, 'esthetiques,': 1, \"d'institut\": 1, 'onglerie,': 1, 'epilation,': 1, 'domotique,': 1, 'sap': 1, 'autoedit': 1, 'manuscr': 1, 'fatum': 1, 'tondeuses,': 1, 'debroussailleuses.': 1, 'art-therap': 1, 'danse-therap': 1, 'etablissement,': 1, 'clien': 1, '(deliveroo)': 1, 'communaut': 1, 'virtuel': 1, \"d'extens\": 2, \"d'ongle,\": 1, 'vernis.': 1, 'gel,': 1, 'lamp': 1, 'uv,': 1, 'biscuiter': 1, 'snacking,': 1, 'sales,': 1, 'mutuel': 1, 'poitiers,': 1, 'retro,': 1, 'hi-tech,': 1, 'ling': 1, \"d'aud\": 1, 'commerciale,': 1, 'attach': 1, 'retouche,': 1, 'interim': 1, 'senteur': 1, 'bougie,': 1, 'spray,': 1, 'diffuseur': 1, 'voiture.': 1, 'yoga,': 1, 'pilates,': 1, '(desinfect': 1, ',desinfect': 1, ',deratis': 1, 'particulier.': 1, 'echel': 1, '1/9': 1, '1/': 1, 'specialisees,': 1, 'commissair': 1, \"d'exposit\": 1, 'toilet': 1, 'cosmetique.': 1, 'capillaire.': 1, 'decorative.': 1, 'acquisitions,': 1, 'ope': 1, \"-l'acquisition,\": 1, 'emis': 1, 'plomberie:installation,': 1, 'depannage,': 1, 'exposit': 1, 'typographie,': 1, 'illustration,': 1, 'infographie,': 1, \"d'espaces,\": 1, 'conseil/servic': 1, 'entreprises/associ': 1, 'renover,': 1, 'concernes,': 1, 'salon,': 1, 'evenement,': 1, 'manutens': 1, 'economique,': 1, 'gouvern': 1, 'jin': 1, 'shin': 1, 'shiatsu': 1, 'domestique,': 1, 'tertiair': 1, 'ind': 1, 'int': 1, 'ext': 1, 'desamiantag': 1, 'minibus,': 1, 'parquets,': 1, 'clients.': 1, 'aucun': 1, 'barbier,': 1, 'mixt': 1, 'gardiennag': 1, 'villeurbann': 1, '(69100)': 1, '13': 1, 'bienvenues,': 1, 'placoplatr': 1, 'depos': 1, 'donneur': 1}\n",
      "word_id_mapping: {'fabriqu': 1, \"d'emballag\": 2, 'matier': 3, 'plastiqu': 4, 'activit': 5, 'organis': 6, 'polit': 7, 'moteur': 8, \"l'except\": 9, 'vehicul': 10, 'commerc': 11, 'detail': 12, 'revet': 13, 'mur': 14, 'sol': 15, 'magasin': 16, 'specialis': 17, \"d'articl\": 18, 'maill': 19, 'textil': 20, 'manutent': 21, 'servic': 22, 'extract': 23, 'pierr': 24, 'construction,': 25, 'gros': 26, '(commerc': 27, 'interentreprises)': 28, 'produit': 29, 'chimiqu': 30, \"d'autr\": 31, 'equip': 32, 'transport': 33, 'n.c.a.': 34, 'froid': 35, 'articl': 36, 'fibr': 37, 'verr': 38, 'construct': 39, 'structur': 40, 'trait': 41, 'dechet': 42, 'danger': 43, \"d'appareil\": 44, 'electr': 45, 'caoutchouc': 46, 'materiel': 47, 'ferroviair': 48, 'locat': 49, 'location-bail': 50, 'machin': 51, 'transform': 52, 'the': 53, 'autr': 54, 'distribu': 55, 'gestion': 56, \"d'install\": 57, 'informat': 58, 'pech': 59, 'menager': 60, 'non': 61, 'techniqu': 62, 'industriel': 63, 'product': 64, 'metal': 65, 'pneumat': 66, 'courtag': 67, 'valeur': 68, 'mobilier': 69, 'marchandis': 70, 'bois': 71, 'ceram': 72, 'fond': 73, 'plac': 74, 'entit': 75, 'financier': 76, 'similair': 77, 'etud': 78, 'march': 79, \"d'huil\": 80, 'essentiel': 81, 'automobil': 82, 'auxiliair': 83, 'sanitair': 84, 'eau': 85, 'optiqu': 86, 'metallurg': 87, 'papi': 88, 'travail': 89, 'grain': 90, 'fluvial': 91, 'fret': 92, 'combustibl': 93, 'gazeux': 94, 'elevag': 95, 'intermediair': 96, 'mineral': 97, 'demenag': 98, 'chaussur': 99, 'vin': 100, \"d'ouvrag\": 101, \"d'art\": 102, 'faconnag': 103, 'concept': 104, 'assemblag': 105, 'sit': 106, \"d'equip\": 107, 'control': 108, 'heberg': 109, 'medicalis': 110, 'person': 111, 'age': 112, 'voyageur': 113, 'edit': 114, 'video': 115, 'bien': 116, 'domest': 117, 'graiss': 118, 'general': 119, 'ferreux': 120, 'jeux': 121, 'jouet': 122, 'boisson': 123, 'carton': 124, 'electromenager': 125, \"d'al\": 126, 'cultur': 127, 'ouvrag': 128, 'platr': 129, 'bas': 130, 'electron': 131, 'entretien': 132, 'repar': 133, 'fonder': 134, 'parfumer': 135, 'beaut': 136, 'fleur': 137, 'plant': 138, 'mobili': 139, 'bureau': 140, 'min': 141, 'vet': 142, 'lie': 143, 'system': 144, 'securit': 145, 'accessoir': 146, 'aci': 147, 'social': 148, 'pharmaceut': 149, 'collect': 150, 'viand': 151, 'panneau': 152, 'sauf': 153, 'jardin': 154, 'reserv': 155, 'naturel': 156, 'adult': 157, 'handicap': 158, 'machines-outil': 159, 'logiciel': 160, 'reseau': 161, 'exploit': 162, 'pat': 163, 'publicitair': 164, 'medi': 165, 'enfant': 166, 'difficult': 167, 'condition': 168, 'central': 169, \"d'achat\": 170, 'alimentair': 171, 'promot': 172, 'immobilier': 173, 'bat': 174, 'accueil': 175, 'accompagn': 176, 'san': 177, \"d'adult\": 178, 'agenc': 179, 'factur': 180, 'societ': 181, \"d'inform\": 182, 'grand': 183, 'banqu': 184, 'leger': 185, 'public': 186, 'mecan': 187, 'cuir': 188, 'prepar': 189, 'douc': 190, 'stockag': 191, 'frigorif': 192, 'fil': 193, 'chain': 194, 'industr': 195, 'gen': 196, 'civil': 197, 'commun': 198, 'patisser': 199, 'diffus': 200, 'programm': 201, 'artificiel': 202, 'soutien': 203, 'mis': 204, 'disposit': 205, 'ressourc': 206, 'humain': 207, 'plat': 208, 'voyag': 209, 'administr': 210, 'publiqu': 211, 'tabac': 212, 'famill': 213, 'photograph': 214, 'conserv': 215, 'terr': 216, 'caiss': 217, 'retrait': 218, 'complementair': 219, 'li': 220, 'professionnel': 221, 'fruit': 222, 'legum': 223, 'mainten': 224, \"d'engin\": 225, 'spatial': 226, 'secour': 227, \"d'horloger\": 228, 'bijouter': 229, 'organ': 230, 'maritim': 231, 'animal': 232, 'compagn': 233, 'telecommun': 234, 'traval': 235, 'voi': 236, 'oleagin': 237, 'film': 238, 'cinematograph': 239, \"d'electricit\": 240, 'cafe,': 241, 'the,': 242, 'confiser': 243, 'install': 244, 'conduit': 245, 'gaz': 246, \"d'ordin\": 247, 'peripher': 248, 'support': 249, 'passager': 250, 'frais': 251, 'charpent': 252, 'menuiser': 253, 'metall': 254, 'camion': 255, 'chauffeur': 256, 'peintur': 257, 'surfac': 258, 'boucher': 259, 'assur': 260, 'specialise': 261, 'montag': 262, 'post': 263, 'cadr': 264, \"d'un\": 265, 'affair': 266, 'etranger': 267, 'semenc': 268, 'outil': 269, 'developp': 270, 'enseign': 271, 'primair': 272, 'meubles,': 273, 'menag': 274, 'quincailler': 275, 'tant': 276, 'producteur': 277, 'usag': 278, 'propr': 279, 'pomp': 280, 'aerien': 281, '(a': 282, 'routi': 283, 'vaisselle,': 284, \"d'entretien\": 285, 'terrain': 286, 'parc': 287, 'loisir': 288, 'model': 289, 'tapis': 290, 'centr': 291, 'forestier': 292, 'maroquiner': 293, 'connex': 294, 'sucr': 295, 'chaudier': 296, 'chauffag': 297, 'aid': 298, \"l'industr\": 299, 'fournitur': 300, 'diver': 301, 'elabor': 302, 'nucleair': 303, 'beton': 304, 'sec': 305, 'volaill': 306, 'agricol': 307, 'jurid': 308, 'patrimoin': 309, 'meubl': 310, 'financi': 311, 'vi': 312, \"d'aid\": 313, 'tourist': 314, 'risqu': 315, 'formation,': 316, 'sociaux,': 317, 'alcool': 318, 'pret': 319, 'econom': 320, 'coll': 321, 'personnel': 322, 'journal': 323, 'peintures,': 324, 'annex': 325, \"d'el\": 326, 'laboratoir': 327, 'medical': 328, 'secondair': 329, 'textiles,': 330, 'hor': 331, 'retraite,': 332, \"d'assur\": 333, \"d'eau\": 334, 'piec': 335, 'isol': 336, 'crustac': 337, 'mollusqu': 338, 'cuisin': 339, 'sall': 340, 'spectacl': 341, 'compr': 342, 'terrass': 343, 'port': 344, 'physiqu': 345, \"d'enf\": 346, 'material': 347, 'sieg': 348, \"d'interieur\": 349, 'reproduct': 350, 'tabl': 351, 'design': 352, 'tous': 353, 'accessoires,': 354, 'vent': 355, 'vetements,': 356, 'espac': 357, 'livr': 358, 'carrelage,': 359, 'amenag': 360, 'distance,': 361, 'e-commerc': 362, \"l'acquisition,\": 363, \"l'administration,\": 364, 'immeubl': 365, 'immobiliers,': 366, 'lign': 367, 'bijoux': 368, 'proposit': 369, 'marketing': 370, 'digital': 371, 'entreprises.': 372, 'prestat': 373, 'dont': 374, 'not': 375, 'maquillag': 376, 'ains': 377, 'dentair': 378, 'soin': 379, 'tel': 380, 'logist': 381, 'coach': 382, 'cour': 383, 'particuli': 384, 'sport,': 385, 'coaching': 386, 'agent': 387, 'commercial': 388, 'immobili': 389, 'livreur': 390, 'rep': 391, 'domicil': 392, 'velo': 393, '(non': 394, 'motorise)': 395, 'meuble': 396, 'installation,': 397, 'service,': 398, 'depannag': 399, 'saisonni': 400, 'court': 401, 'dure': 402, 'objet,': 403, 'franc': 404, \"qu'a\": 405, \"l'etrang\": 406, \"l'acquisit\": 407, 'particip': 408, 'tout': 409, 'industrielles,': 410, 'commerciales,': 411, 'consulting': 412, 'livraison': 413, 'colis': 414, 'realis': 415, 'typ': 416, 'pos': 417, 'remis': 418, 'etat': 419, 'nettoyag': 420, 'mandatair': 421, 'oper': 422, 'deb': 423, 'hotessariat': 424, 'lmp': 425, 'compt': 426, 'reel': 427, 'formateur': 428, 'conseil,': 429, 'format': 430, 'entreprise,': 431, 'aupr': 432, 'collectivit': 433, 'loueur': 434, 'velo.': 435, 'tax': 436, 'achat-vent': 437, 'reglement': 438, 'internet': 439, 'chambr': 440, 'scolair': 441, 'besoin': 442, 'et/ou': 443, 'entre': 444, 'fonction': 445, 'adhes': 446, 'volontair': 447, 'creation,': 448, 'fabrication,': 449, 'conseil': 450, 'entrepris': 451, 'condit': 452, 'achat,': 453, 'commercialis': 454, 'entreprises,': 455, 'chauffeur,': 456, 'community': 457, 'redact': 458, 'web': 459, 'remplac': 460, 'infirmi': 461, 'liberal': 462, 'creation': 463, 'societe,': 464, 'moyens,': 465, 'cree': 466, 'cre': 467, 'carrelag': 468, 'generale.': 469, 'recreat': 470, 'automat': 471, 'domain': 472, 'restaur': 473, 'non,': 474, 'acquisition,': 475, 'bail,': 476, 'form': 477, \"d'appliqu\": 478, 'scienc': 479, 'combin': 480, 'machines,': 481, 'suiv': 482, 'pris': 483, 'deplac': 484, 'recuper': 485, 'revent': 486, \"l'exercic\": 487, 'profess': 488, \"d'ovin\": 489, 'caprin': 490, \"l'activit\": 491, 'distanc': 492, 'reglementes;': 493, \"l'import-export\": 494, 'reglementes.': 495, 'gestion,': 496, 'cession,': 497, 'echang': 498, 'immobiliers.': 499, 'achat': 500, 'interieur': 501, 'acquisit': 502, 'droit': 503, 'batis,': 504, 'local': 505, 'decor': 506, 'informatiques,': 507, 'continu': 508, \"d'immeubl\": 509, 'achats,': 510, 'pratiqu': 511, 'intellectuel': 512, \"d'objet\": 513, 'uniqu': 514, 'personnalis': 515, 'fair': 516, 'tissus': 517, 'petit': 518, 'bricolag': 519, 'reglemente': 520, 'faible,': 521, 'domot': 522, '6820a': 523, \"d'habit\": 524, 'resident': 525, 'tva': 526, 'comptabl': 527, 'saisonnier': 528, 'appart': 529, 'habit': 530, 'principal': 531, 'longu': 532, \"l'organis\": 533, \"d'even\": 534, 'salon': 535, 'infirmier': 536, 'freelanc': 537, 'prothes': 538, 'utilis': 539, 'extens': 540, 'sem': 541, 'administration,': 542, 'organisation,': 543, 'manag': 544, 'viv': 545, 'ingenierie,': 546, 'audit': 547, 'perform': 548, 'energet': 549, 'artist': 550, 'evenementiel': 551, 'decoration,': 552, 'even': 553, 'chef': 554, 'direct': 555, 'place,': 556, 'auteur': 557, 'consult': 558, 'strateg': 559, 'relat': 560, 'rapport': 561, 'an': 562, 'assist': 563, 'independ': 564, 'societes,': 565, 'createur': 566, \"d'entrepris\": 567, \"d'occas\": 568, 'professeur': 569, 'coursi': 570, 'domicile)': 571, 'acte': 572, 'contenu': 573, 'plateform': 574, 'consist': 575, 'anim': 576, 'charpente,': 577, 'couvertur': 578, 'zinguer': 579, 'internet.': 580, 'audiovisuel': 581, 'client': 582, 'lieu': 583, 'developpement,': 584, 'exploitation,': 585, 'financ': 586, 'photovolta': 587, \"d'energ\": 588, 'administrative,': 589, 'docu': 590, \"d'accessoir\": 591, 'mod': 592, 'fantais': 593, 'futur': 594, \"d'achev\": 595, 'acheves,': 596, \"l'apport,\": 597, 'propriete,': 598, 'valeur,': 599, 'transformation,': 600, \"l'amen\": 601, 'apport': 602, 'facad': 603, 'propriet': 604, \"l'administr\": 605, 'marchandises,': 606, 'conducteur': 607, 'destin': 608, \"l'aid\": 609, 'rapid': 610, 'emport': 611, 'epicer': 612, 'legumes,': 613, 'aliment': 614, 'mesure,': 615, 'impress': 616, 'objet': 617, 'titr': 618, 'quelqu': 619, 'uber': 620, 'eat': 621, 'deliveroo': 622, 'etc': 623, 'professionnels,': 624, 'videos': 625, 'appliqu': 626, 'location,': 627, 'donnees,': 628, 'informatique,': 629, 'cart': 630, 'numer': 631, 'import': 632, 'export': 633, 'sous': 634, 'concierger': 635, 'capital': 636, \"d'ateli\": 637, 'medecin': 638, 'special': 639, 'seanc': 640, \"l'exploit\": 641, 'indirecte,': 642, \"d'interet\": 643, 'vendeur': 644, \"l'anim\": 645, 'recherche-developp': 646, 'secteur': 647, 'ateli': 648, 'marqu': 649, 'ligne.': 650, 'ambul': 651, 'alcoolise': 652, 'sport': 653, \"d'accompagn\": 654, 'individuel': 655, \"d'espac\": 656, 'therap': 657, 'mariage,': 658, 'bapteme,': 659, 'divers': 660, 'bois,': 661, 'culturel': 662, 'peinture,': 663, 'vtc,': 664, '(lmnp)': 665, 'maconner': 666, 'oeuvr': 667, 'batiment,': 668, 'thermiqu': 669, 'ligne,': 670, 'studio': 671, 'moyen': 672, 'francais': 673, 'etrangeres,': 674, 'terrassement,': 675, 'demolit': 676, 'electricite,': 677, 'surveillance,': 678, 'e-commerce,': 679, 'maison': 680, 'pet': 681, 'bricolage,': 682, \"d'etud\": 683, 'conception,': 684, 'professionel': 685, 'sous-trait': 686, 'nourritur': 687, 'cereal': 688, 'riz),': 689, 'legumin': 690, 'emporter,': 691, 'participation,': 692, 'souscription,': 693, 'apport,': 694, \"l'entretien\": 695, 'cuisine,': 696, 'dressing,': 697, 'pourr': 698, 'deven': 699, 'solut': 700, 'lmnp': 701, 'log': 702, 'gestion.': 703, \"d'oeuvr\": 704, 'musical': 705, 'plus': 706, 'immeubles,': 707, 'alimentaires,': 708, 'pai': 709, 'mobil': 710, 'so': 711, \"l'articl\": 712, 'plan': 713, 'etre': 714, 'sages-femm': 715, 'electroniques,': 716, 'non-alimentair': 717, 'manufactur': 718, \"d'achat,\": 719, 'vente,': 720, 'transact': 721, 'negoc': 722, 'vitrer': 723, 'particuliers,': 724, 'associ': 725, 'climatis': 726, 'desinfection,': 727, 'desinsectisation,': 728, 'voitur': 729, 'renov': 730, 'exterieur': 731, 'cil': 732, 'but': 733, 'permet': 734, 'ger': 735, 'apporteur': 736, \"d'affair\": 737, 'cosmet': 738, 'contrat': 739, 'renovation,': 740, 'plomber': 741, 'peintr': 742, 'courti': 743, 'autrement,': 744, 'dit': 745, 'proced': 746, 'communication,': 747, 'graphisme,': 748, 'negoci': 749, 'ven': 750, 'sportiv': 751, 'fin': 752, 'bar': 753, 'eventair': 754, \"d'apport\": 755, 'detention,': 756, 'immeub': 757, 'prive': 758, 'boutiqu': 759, 'exercic': 760, 'secretair': 761, 'apre': 762, 'restauration,': 763, '...': 764, 'traditionnel': 765, 'mobilier,': 766, 'bijoux,': 767, 'restaurant,': 768, 'brasserie,': 769, 'decoration.': 770, 'finit': 771, 'rapide,': 772, 'catalogu': 773, 'pedagog': 774, 'cheval': 775, 'domicile,': 776, 'maison,': 777, 'institutionnel': 778, 'traiteur,': 779, 'cuisines,': 780, \"d'optiqu\": 781, 'domicile.': 782, 'coiffur': 783, 'tourism': 784, \"d'apport,\": 785, 'vtc': 786, 'ongulair': 787, 'jardin,': 788, 'mission': 789, 'maitris': 790, 'sac': 791, 'don': 792, 'crochet': 793, 'courri': 794, 'ongle': 795, 'personnes,': 796, 'formatric': 797, 'design,': 798, 'internet,': 799, 'optimis': 800, 'savoir': 801, 'homm': 802, 'revente,': 803, 'cession': 804, 'retouch': 805, 'coaching,': 806, 'professionnel.': 807, 'depend': 808, 'demolition,': 809, 'to': 810, '3d': 811, 'jardinag': 812, 'vign': 813, 'traduct': 814, 'pvc': 815, 'coutur': 816, \"l'achat,\": 817, \"l'import\": 818, 'indirect': 819, 'electricit': 820, 'traiteur': 821, 'vdi': 822, 'marketing,': 823, 'web,': 824, 'strategie,': 825, 'part': 826, 'esthet': 827, 'negoce,': 828, 'graphiqu': 829, 'digitale,': 830, 'projet': 831, 'defin': 832, 'cod': 833, 'detail,': 834, '(vtc)': 835, 'extern': 836, 'contenus': 837, \"d'echang\": 838, 'souscript': 839, \"d'instru\": 840, 'mobilieres,': 841, 'titres,': 842, 'immobilier,': 843, \"d'acquisition,\": 844, 'desdit': 845, 'pouv': 846, \"l'objet\": 847, 'detent': 848, 'reeducation,': 849, \"l'appareillag\": 850, 'pedicures-podologu': 851, 'dj': 852, 'langu': 853, 'ver': 854, 'boulangerie,': 855, 'plein': 856, 'gratuit': 857, 'compren': 858, 'vu': 859, 'nettoyage,': 860, 'murs,': 861, 'different': 862, 'micro': 863, 'tropical': 864, 'subtropical': 865, \"d'heberg\": 866, 'osteopath': 867, 'immobilieres,': 868, 'chez': 869, 'ingenieur': 870, \"d'activit\": 871, 'main': 872, 'neuf': 873, 'traitanc': 874, 'tableau': 875, 'artisanal': 876, 'informatique.': 877, 'infrastructur': 878, 'marchand': 879, 'biens,': 880, 'immobiliere,': 881, 'premier': 882, \"d'aliment\": 883, 'services,': 884, 'presse,': 885, 'concern': 886, 'masseur': 887, 'publicitaires,': 888, 'manuel': 889, 'corporel': 890, 'dud': 891, 'geranc': 892, 'amenagement,': 893, 'permanent': 894, 'moniteur': 895, 'participations,': 896, 'indirectes,': 897, 'bail': 898, 'autrement.': 899, 'reglementes,': 900, 'point': 901, 'ape': 902, 'disciplin': 903, 'institut': 904, 'beaute,': 905, 'period': 906, 'illustr': 907, 'velos': 908, 'electrique.': 909, 'visuel': 910, 'immeuble,': 911, 'gros,': 912, 'agroalimentair': 913, 'corp': 914, \"d'etat\": 915, 'plomberie,': 916, 'collabor': 917, 'caracter': 918, 'plusieur': 919, 'propos': 920, 'gard': 921, \"d'animal\": 922, 'chien': 923, 'quel': 924, 'action': 925, 'boissons,': 926, 'consomm': 927, \"l'amenag\": 928, 'terrains,': 929, 'bar,': 930, 'element': 931, 'production,': 932, 'convoyag': 933, 'sant': 934, 'classe': 935, 'ailleur': 936, 'holding,': 937, 'group': 938, 'dat': 939, 'interpret': 940, 'revu': 941, 'art': 942, \"l'achat\": 943, 'alcoolisees,': 944, 'technique,': 945, 'financieres,': 946, \"d'interieur,\": 947, 'papeter': 948, 'detache': 949, 'societes.': 950, 'them': 951, 'veterinair': 952, 'praticien': 953, 'bilan': 954, 'dossi': 955, 'coqu': 956, 'etudi': 957, 'leur': 958, 'bien-etr': 959, 'auteur,': 960, 'expertis': 961, 'holding': 962, 'filial': 963, 'kinesitherapeut': 964, 'plaquist': 965, 'energ': 966, 'dessin': 967, 'lieux': 968, 'travaux,': 969, 'original': 970, 'generale,': 971, 'foir': 972, 'massag': 973, 'couverture,': 974, \"d'assist\": 975, 'musiqu': 976, 'ru': 977, 'deriv': 978, 'nouvelles,': 979, 'portefeuill': 980, 'psychologu': 981, 'cils,': 982, 'serrurer': 983, 'bougies,': 984, \"d'agent\": 985, 'intern': 986, 'campagn': 987, 'bi': 988, \"l'assist\": 989, 'operationnel': 990, 'rehauss': 991, 'maconnerie,': 992, 'bazar,': 993, 'visit': 994, \"d'occasion,\": 995, \"l'amenagement,\": 996, 'ingenier': 997, 'telephon': 998, 'etc...)': 999, 'alimentaires.': 1000, 'facilit': 1001, 'interieur,': 1002, 'surveil': 1003, 'coiffure,': 1004, 'demand': 1005, 'toitur': 1006, 'bovin': 1007, 'intelligent': 1008, 'menuiserie,': 1009, 'lor': 1010, \"d'amenag\": 1011, 'nu': 1012, 'exterieur,': 1013, 'maitr': 1014, 'pizz': 1015, 'sen': 1016, \"d'agenc\": 1017, 'do': 1018, 'raccord': 1019, 'etc.': 1020, 'edition,': 1021, 'architectur': 1022, 'manucure,': 1023}\n",
      "nwords: 1023\n"
     ]
    }
   ],
   "source": [
    "min_n=MIN_N\n",
    "max_n=MAX_N\n",
    "num_tokens= NUM_TOKENS\n",
    "len_word_ngrams=LEN_WORD_NGRAMS\n",
    "min_count=MIN_COUNT\n",
    "training_text=training_text\n",
    "\n",
    "if min_n < 2:\n",
    "    raise ValueError(\"`min_n` parameter must be greater than 1.\")\n",
    "if max_n > 6:\n",
    "    raise ValueError(\"`max_n` parameter must be smaller than 7.\")\n",
    "\n",
    "word_counts = {}\n",
    "for sentence in training_text:\n",
    "    for word in sentence.split(\" \"):\n",
    "        word_counts[word] = word_counts.setdefault(word, 0) + 1\n",
    "\n",
    "\n",
    "word_id_mapping = {}\n",
    "i = 1\n",
    "for word, counts in word_counts.items():\n",
    "    if word_counts[word] >= min_count:\n",
    "        word_id_mapping[word] = i\n",
    "        i += 1\n",
    "nwords = len(word_id_mapping)\n",
    "\n",
    "print(f\"word_counts: {word_counts}\")\n",
    "print(f\"word_id_mapping: {word_id_mapping}\")\n",
    "print(f\"nwords: {nwords}\")"
   ]
  },
  {
   "cell_type": "code",
   "execution_count": 8,
   "metadata": {},
   "outputs": [
    {
     "data": {
      "text/plain": [
       "<torchFastText.datasets.tokenizer.NGramTokenizer at 0x7fb6cb422210>"
      ]
     },
     "execution_count": 8,
     "metadata": {},
     "output_type": "execute_result"
    }
   ],
   "source": [
    "tokenizer = NGramTokenizer(\n",
    "    min_n=MIN_N, \n",
    "    max_n=MAX_N, \n",
    "    num_tokens= NUM_TOKENS,\n",
    "    len_word_ngrams=LEN_WORD_NGRAMS, \n",
    "    min_count=MIN_COUNT, \n",
    "    training_text=training_text\n",
    "    )\n",
    "tokenizer"
   ]
  },
  {
   "cell_type": "markdown",
   "metadata": {},
   "source": [
    "Some internal functions : "
   ]
  },
  {
   "cell_type": "code",
   "execution_count": 9,
   "metadata": {},
   "outputs": [
    {
     "data": {
      "text/plain": [
       "['cha', 'har', 'arc', 'rcu', 'cut', 'uti', 'tie', 'ier']"
      ]
     },
     "execution_count": 9,
     "metadata": {},
     "output_type": "execute_result"
    }
   ],
   "source": [
    "tokenizer.get_ngram_list(\"charcutier\", n=3)"
   ]
  },
  {
   "cell_type": "markdown",
   "metadata": {},
   "source": [
    "`get_hash` gives a unique hash (int) to a token"
   ]
  },
  {
   "cell_type": "code",
   "execution_count": 10,
   "metadata": {},
   "outputs": [
    {
     "name": "stdout",
     "output_type": "stream",
     "text": [
      "865323743\n",
      "865323743\n",
      "3631407781\n",
      "2349978481\n"
     ]
    }
   ],
   "source": [
    "print(tokenizer.get_hash(\"uti\")) \n",
    "print(tokenizer.get_hash(\"uti\")) \n",
    "print(tokenizer.get_hash(\"data\")) \n",
    "print(tokenizer.get_hash(\"scientist\")) "
   ]
  },
  {
   "cell_type": "markdown",
   "metadata": {},
   "source": [
    "For a words ngram like \"data scientist\", `tokenizer.get_hash` give the position (=index) of this word ngram in the embedding matrix.\n",
    "\n",
    "This index is between (nwords) and (nwords + bucket - 1).\n",
    "\n",
    "This means that the indices of the embedding matrix are:\n",
    "\n",
    "- [0, nwords-1] for vocabulary words.\n",
    "- [nwords, nwords + bucket - 1] for n-grams (word or subword ngrams).\n",
    "\n",
    "**Also note that the number of rows in the embedding matrix is : nword + num_tokens** "
   ]
  },
  {
   "cell_type": "code",
   "execution_count": 12,
   "metadata": {},
   "outputs": [
    {
     "name": "stdout",
     "output_type": "stream",
     "text": [
      "100000\n"
     ]
    },
    {
     "data": {
      "text/plain": [
       "51736"
      ]
     },
     "execution_count": 12,
     "metadata": {},
     "output_type": "execute_result"
    }
   ],
   "source": [
    "hashes = (tokenizer.get_hash(\"data\"), tokenizer.get_hash(\"scientist\"))\n",
    "print(num_tokens)\n",
    "tokenizer.get_word_ngram_id(hashes=hashes, bucket=num_tokens, nwords=4000)"
   ]
  },
  {
   "cell_type": "markdown",
   "metadata": {},
   "source": [
    "`get_subword_index` : Get the index of a subword ngram in the embedding matrix"
   ]
  },
  {
   "cell_type": "code",
   "execution_count": 13,
   "metadata": {},
   "outputs": [
    {
     "data": {
      "text/plain": [
       "91612"
      ]
     },
     "execution_count": 13,
     "metadata": {},
     "output_type": "execute_result"
    }
   ],
   "source": [
    "tokenizer.get_subword_index(subword=\"cha\")"
   ]
  },
  {
   "cell_type": "markdown",
   "metadata": {},
   "source": [
    "`get_word_index`: get the indice of a word (directly from `word_id_mapping`)"
   ]
  },
  {
   "cell_type": "code",
   "execution_count": 14,
   "metadata": {},
   "outputs": [
    {
     "data": {
      "text/plain": [
       "193"
      ]
     },
     "execution_count": 14,
     "metadata": {},
     "output_type": "execute_result"
    }
   ],
   "source": [
    "tokenizer.get_word_index(word=\"fil\")"
   ]
  },
  {
   "cell_type": "markdown",
   "metadata": {},
   "source": [
    "`get_subwords`: return all subword ngrams and indices from a word.\n",
    "\n",
    "Also returns the entire word and its indice if this word is in the selected word vocabulary.\n",
    "\n",
    "Tags \"<\" and \">\" are added to the word"
   ]
  },
  {
   "cell_type": "code",
   "execution_count": 15,
   "metadata": {},
   "outputs": [
    {
     "data": {
      "text/plain": [
       "(['<m',\n",
       "  'ma',\n",
       "  'an',\n",
       "  'nu',\n",
       "  'uf',\n",
       "  'fa',\n",
       "  'ac',\n",
       "  'ct',\n",
       "  'tu',\n",
       "  'ur',\n",
       "  'ri',\n",
       "  'ie',\n",
       "  'er',\n",
       "  'r>',\n",
       "  '<ma',\n",
       "  'man',\n",
       "  'anu',\n",
       "  'nuf',\n",
       "  'ufa',\n",
       "  'fac',\n",
       "  'act',\n",
       "  'ctu',\n",
       "  'tur',\n",
       "  'uri',\n",
       "  'rie',\n",
       "  'ier',\n",
       "  'er>',\n",
       "  '<man',\n",
       "  'manu',\n",
       "  'anuf',\n",
       "  'nufa',\n",
       "  'ufac',\n",
       "  'fact',\n",
       "  'actu',\n",
       "  'ctur',\n",
       "  'turi',\n",
       "  'urie',\n",
       "  'rier',\n",
       "  'ier>'],\n",
       " [99297,\n",
       "  46586,\n",
       "  41541,\n",
       "  17707,\n",
       "  75873,\n",
       "  11111,\n",
       "  50588,\n",
       "  11921,\n",
       "  13921,\n",
       "  23493,\n",
       "  62515,\n",
       "  22898,\n",
       "  60469,\n",
       "  75376,\n",
       "  92152,\n",
       "  74574,\n",
       "  15592,\n",
       "  75709,\n",
       "  50552,\n",
       "  12912,\n",
       "  43210,\n",
       "  29732,\n",
       "  9455,\n",
       "  41052,\n",
       "  15714,\n",
       "  25874,\n",
       "  43863,\n",
       "  11508,\n",
       "  17805,\n",
       "  29500,\n",
       "  45292,\n",
       "  64653,\n",
       "  92446,\n",
       "  16281,\n",
       "  51604,\n",
       "  78330,\n",
       "  6791,\n",
       "  76098,\n",
       "  89142])"
      ]
     },
     "execution_count": 15,
     "metadata": {},
     "output_type": "execute_result"
    }
   ],
   "source": [
    "tokenizer.get_subwords(word=\"manufacturier\")"
   ]
  },
  {
   "cell_type": "markdown",
   "metadata": {},
   "source": [
    "`indices_matrix`\n",
    "\n",
    "Tokenize a sentence and returns : \n",
    "- indices: an tensor of indices\n",
    "- id_to_token: a dict of tokens: id (**/!\\ problem if 2 different tokens with the same id**)\n",
    "- all_tokens_id : a dict of id: token \n",
    "\n",
    "Adds an \"end of string\" tag: `</s>` with indice = 0.\n",
    "\n",
    "Used in `collate_fn` (`FastTextModelDataset`).\n"
   ]
  },
  {
   "cell_type": "code",
   "execution_count": 16,
   "metadata": {},
   "outputs": [
    {
     "name": "stdout",
     "output_type": "stream",
     "text": [
      "==== indices\n",
      "\n",
      "tensor([  193, 42630, 90159, 66231,  9710, 66889,  2513, 47697,  9789, 54535,\n",
      "        20968, 14873, 32516, 31087, 94755, 23517, 40112, 59256, 59513, 17770,\n",
      "        34816, 45495, 33407, 87571, 60510, 64410, 77211, 18340, 24282, 67848,\n",
      "        41702, 58179, 91374, 75687, 23993,  5477,    47, 99297, 46586, 49159,\n",
      "        72017, 60469, 62515, 22898, 94755,  9710, 92152,  8860, 53878, 49599,\n",
      "        61484, 15714, 54444, 58125, 35318, 63495,  3518,  7850, 19543, 20860,\n",
      "        49896,     0, 43966, 66836,  4676, 69640, 25167])\n",
      "\n",
      "==== indices length\n",
      "\n",
      "67\n",
      "\n",
      "==== id_to_token\n",
      "\n",
      "{193: 'fil', 42630: '<f', 90159: 'fi', 66231: 'il', 9710: 'l>', 66889: '<fi', 2513: 'il>', 47697: '<fil', 9789: 'fil>', 54535: '<c', 20968: 'ca', 14873: 'ar', 32516: 'rr', 31087: 're', 94755: 'el', 23517: 'la', 40112: 'ag', 59256: 'ge', 59513: 'e>', 17770: '<ca', 34816: 'car', 45495: 'arr', 33407: 'rre', 87571: 'rel', 60510: 'ela', 64410: 'lag', 77211: 'age', 18340: 'ge>', 24282: '<car', 67848: 'carr', 41702: 'arre', 58179: 'rrel', 91374: 'rela', 75687: 'elag', 23993: 'lage', 5477: 'age>', 47: 'materiel', 99297: '<m', 46586: 'ma', 49159: 'at', 72017: 'te', 60469: 'er', 62515: 'ri', 22898: 'ie', 92152: '<ma', 8860: 'mat', 53878: 'ate', 49599: 'ter', 61484: 'eri', 15714: 'rie', 54444: 'iel', 58125: 'el>', 35318: '<mat', 63495: 'mate', 3518: 'ater', 7850: 'teri', 19543: 'erie', 20860: 'riel', 49896: 'iel>', 0: '</s>', 43966: 'fil carrelage', 66836: 'carrelage materiel', 4676: 'materiel </s>', 69640: 'fil carrelage materiel', 25167: 'carrelage materiel </s>'}\n",
      "\n",
      "==== id_to_token length\n",
      "\n",
      "65\n",
      "\n",
      "==== all_tokens_id\n",
      "\n",
      "{'fil': 193, '<f': 42630, 'fi': 90159, 'il': 66231, 'l>': 9710, '<fi': 66889, 'il>': 2513, '<fil': 47697, 'fil>': 9789, '<c': 54535, 'ca': 20968, 'ar': 14873, 'rr': 32516, 're': 31087, 'el': 94755, 'la': 23517, 'ag': 40112, 'ge': 59256, 'e>': 59513, '<ca': 17770, 'car': 34816, 'arr': 45495, 'rre': 33407, 'rel': 87571, 'ela': 60510, 'lag': 64410, 'age': 77211, 'ge>': 18340, '<car': 24282, 'carr': 67848, 'arre': 41702, 'rrel': 58179, 'rela': 91374, 'elag': 75687, 'lage': 23993, 'age>': 5477, 'materiel': 47, '<m': 99297, 'ma': 46586, 'at': 49159, 'te': 72017, 'er': 60469, 'ri': 62515, 'ie': 22898, '<ma': 92152, 'mat': 8860, 'ate': 53878, 'ter': 49599, 'eri': 61484, 'rie': 15714, 'iel': 54444, 'el>': 58125, '<mat': 35318, 'mate': 63495, 'ater': 3518, 'teri': 7850, 'erie': 19543, 'riel': 20860, 'iel>': 49896, '</s>': 0, 'fil carrelage': 43966, 'carrelage materiel': 66836, 'materiel </s>': 4676, 'fil carrelage materiel': 69640, 'carrelage materiel </s>': 25167}\n",
      "\n",
      "==== all_tokens_id length\n",
      "\n",
      "65\n"
     ]
    }
   ],
   "source": [
    "indices, id_to_token, all_tokens_id = tokenizer.indices_matrix(\"fil carrelage materiel\")\n",
    "print(\"==== indices\\n\")\n",
    "print(indices)\n",
    "print(\"\\n==== indices length\\n\")\n",
    "print(len(indices))\n",
    "print(\"\\n==== id_to_token\\n\")\n",
    "print(id_to_token)\n",
    "print(\"\\n==== id_to_token length\\n\")\n",
    "print(len(id_to_token))\n",
    "print(\"\\n==== all_tokens_id\\n\")\n",
    "print(all_tokens_id)\n",
    "print(\"\\n==== all_tokens_id length\\n\")\n",
    "print(len(all_tokens_id))"
   ]
  },
  {
   "cell_type": "markdown",
   "metadata": {},
   "source": [
    "`tokenize` : loops indices_matrix results for a full training texte (= a list of sentences).\n",
    "\n",
    "/!\\ problem with param `text_tokens=True`: only used for explanability."
   ]
  },
  {
   "cell_type": "code",
   "execution_count": 18,
   "metadata": {},
   "outputs": [
    {
     "name": "stdout",
     "output_type": "stream",
     "text": [
      "\n",
      "tokenized_text:\n",
      "[tensor([ 9773, 15829, 43388, 82986,   193, 42630, 90159, 66231,  9710, 66889,\n",
      "         2513, 47697,  9789,     0, 24480, 15060, 58643]), tensor([32154, 27588, 27588, 47584, 81530, 38272, 98778, 95488,  9773, 15829,\n",
      "        43388, 82986,     0, 32285, 14821, 72834])]\n",
      "\n",
      "id_to_token_dicts:\n",
      "[{9773: '<a', 15829: 'a>', 43388: '<aa', 82986: 'aa>', 193: 'fil', 42630: '<f', 90159: 'fi', 66231: 'il', 9710: 'l>', 66889: '<fi', 2513: 'il>', 47697: '<fil', 9789: 'fil>', 0: '</s>', 24480: 'aa fil', 15060: 'fil </s>', 58643: 'aa fil </s>'}, {32154: '<b', 27588: 'bb', 47584: 'b>', 81530: '<bb', 38272: 'bb>', 98778: '<bbb', 95488: 'bbb>', 9773: '<a', 15829: 'a>', 43388: '<aa', 82986: 'aa>', 0: '</s>', 32285: 'bbb aa', 14821: 'aa </s>', 72834: 'bbb aa </s>'}]\n",
      "\n",
      "token_to_id_dicts:\n",
      "[{'<a': 9773, 'a>': 15829, '<aa': 43388, 'aa>': 82986, 'fil': 193, '<f': 42630, 'fi': 90159, 'il': 66231, 'l>': 9710, '<fi': 66889, 'il>': 2513, '<fil': 47697, 'fil>': 9789, '</s>': 0, 'aa fil': 24480, 'fil </s>': 15060, 'aa fil </s>': 58643}, {'<b': 32154, 'bb': 27588, 'b>': 47584, '<bb': 81530, 'bb>': 38272, '<bbb': 98778, 'bbb>': 95488, '<a': 9773, 'a>': 15829, '<aa': 43388, 'aa>': 82986, '</s>': 0, 'bbb aa': 32285, 'aa </s>': 14821, 'bbb aa </s>': 72834}]\n",
      "17\n",
      "17\n",
      "17\n"
     ]
    }
   ],
   "source": [
    "( \n",
    "    tokenized_text, \n",
    "    id_to_token_dicts, \n",
    "    token_to_id_dicts\n",
    ") = tokenizer.tokenize(\n",
    "        text=[\"aa fil\", \"bbb aa\"], \n",
    "        text_tokens=False, \n",
    "        preprocess=False\n",
    "    )\n",
    "\n",
    "print('\\ntokenized_text:')\n",
    "print(tokenized_text)\n",
    "print('\\nid_to_token_dicts:')\n",
    "print(id_to_token_dicts)\n",
    "print('\\ntoken_to_id_dicts:')\n",
    "print(token_to_id_dicts)\n",
    "\n",
    "print(len(tokenized_text[0]))\n",
    "print(len(id_to_token_dicts[0]))\n",
    "print(len(token_to_id_dicts[0]))"
   ]
  },
  {
   "cell_type": "code",
   "execution_count": null,
   "metadata": {},
   "outputs": [],
   "source": [
    "text = [\"aa\", \"bbb\"]\n",
    "text_tokens=True\n",
    "preprocess=False\n",
    "\n",
    "tokenized_text = []\n",
    "id_to_token_dicts = []\n",
    "token_to_id_dicts = []\n",
    "\n",
    "sentence = text[0]\n",
    "all_ind, id_to_token, token_to_id = tokenizer.indices_matrix(sentence)\n",
    "tokenized_text.append(all_ind)\n",
    "id_to_token_dicts.append(id_to_token)\n",
    "token_to_id_dicts.append(token_to_id)\n",
    "\n",
    "sentence = text[1]\n",
    "all_ind, id_to_token, token_to_id = tokenizer.indices_matrix(sentence)\n",
    "tokenized_text.append(all_ind)\n",
    "id_to_token_dicts.append(id_to_token)\n",
    "token_to_id_dicts.append(token_to_id)\n"
   ]
  },
  {
   "cell_type": "code",
   "execution_count": null,
   "metadata": {},
   "outputs": [],
   "source": [
    "print(tokenized_text)\n",
    "print(id_to_token_dicts)\n",
    "print(token_to_id_dicts)"
   ]
  },
  {
   "cell_type": "code",
   "execution_count": null,
   "metadata": {},
   "outputs": [],
   "source": [
    "padding_index=2009603\n",
    "end_of_string_index=0\n",
    "i=0\n",
    "tokenized_sentence = tokenized_text[0]\n",
    "print(tokenized_sentence)\n",
    "token_id = tokenized_sentence[0]\n",
    "token_id.item()\n",
    "id_to_token_dicts[i][token_id.item()]"
   ]
  },
  {
   "cell_type": "code",
   "execution_count": null,
   "metadata": {},
   "outputs": [],
   "source": [
    "\n",
    " [\n",
    "            id_to_token_dicts[i][token_id.item()]\n",
    "            for token_id in tokenized_sentence\n",
    "            if token_id.item() not in {padding_index}\n",
    "        ]\n",
    "        for i, tokenized_sentence in enumerate(tokenized_text)\n"
   ]
  },
  {
   "cell_type": "code",
   "execution_count": null,
   "metadata": {},
   "outputs": [],
   "source": [
    "\n",
    "for sentence in text:\n",
    "    all_ind, id_to_token, token_to_id = self.indices_matrix(\n",
    "        sentence\n",
    "    )  # tokenize and convert to token indices\n",
    "    tokenized_text.append(all_ind)\n",
    "    id_to_token_dicts.append(id_to_token)\n",
    "    token_to_id_dicts.append(token_to_id)\n",
    "\n",
    "if text_tokens:\n",
    "    tokenized_text_tokens = tokenized_text_in_tokens(tokenized_text, id_to_token_dicts)\n",
    "    return tokenized_text_tokens, tokenized_text, id_to_token_dicts, token_to_id_dicts\n",
    "else:\n",
    "    return tokenized_text, id_to_token_dicts, token_to_id_dicts"
   ]
  },
  {
   "cell_type": "code",
   "execution_count": null,
   "metadata": {},
   "outputs": [],
   "source": [
    "\n",
    "def tokenized_text_in_tokens(\n",
    "    tokenized_text, id_to_token_dicts, padding_index=2009603, end_of_string_index=0\n",
    "):\n",
    "    return [\n",
    "        [\n",
    "            id_to_token_dicts[i][token_id.item()]\n",
    "            for token_id in tokenized_sentence\n",
    "            if token_id.item() not in {padding_index}\n",
    "        ]\n",
    "        for i, tokenized_sentence in enumerate(tokenized_text)\n",
    "    ]"
   ]
  },
  {
   "cell_type": "code",
   "execution_count": null,
   "metadata": {},
   "outputs": [],
   "source": [
    "all_tokens_id = {'bonjour': 1, 'monde': 2, '!': 1}\n",
    "\n",
    "# Inversion du dictionnaire : IDs -> tokens\n",
    "id_to_token = {v: k for k, v in all_tokens_id.items()}\n",
    "\n",
    "print(id_to_token)"
   ]
  }
 ],
 "metadata": {
  "kernelspec": {
   "display_name": "base",
   "language": "python",
   "name": "python3"
  },
  "language_info": {
   "codemirror_mode": {
    "name": "ipython",
    "version": 3
   },
   "file_extension": ".py",
   "mimetype": "text/x-python",
   "name": "python",
   "nbconvert_exporter": "python",
   "pygments_lexer": "ipython3",
   "version": "3.12.7"
  }
 },
 "nbformat": 4,
 "nbformat_minor": 2
}
