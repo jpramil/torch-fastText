{
 "cells": [
  {
   "cell_type": "markdown",
   "metadata": {},
   "source": [
    "# Explain how it works"
   ]
  },
  {
   "cell_type": "markdown",
   "metadata": {},
   "source": [
    "- introduction to `torch` framework\n",
    "- expose `torchFasttext` specificities "
   ]
  },
  {
   "cell_type": "markdown",
   "metadata": {},
   "source": [
    "## Environment and data "
   ]
  },
  {
   "cell_type": "code",
   "execution_count": 1,
   "metadata": {},
   "outputs": [],
   "source": [
    "!pip install -r ../requirements.txt -q"
   ]
  },
  {
   "cell_type": "code",
   "execution_count": 2,
   "metadata": {},
   "outputs": [],
   "source": [
    "import os\n",
    "import sys\n",
    "import time\n",
    "import s3fs\n",
    "from typing import List, Optional, Dict\n",
    "from pathlib import Path\n",
    "from utils_describe import get_data\n",
    "\n",
    "sys.path.append(\"../\")\n",
    "from torchFastText import torchFastText\n",
    "from torchFastText.preprocess import clean_text_feature\n",
    "from torchFastText.datasets import NGramTokenizer\n",
    "sys.path.append(\"./notebooks\")\n",
    "\n",
    "import numpy as np\n",
    "# import pandas as pd\n",
    "# import pyarrow.parquet as pq\n",
    "\n",
    "# from utils import add_libelles, clean_and_tokenize_df, stratified_split_rare_labels\n",
    "\n",
    "%load_ext autoreload\n",
    "%autoreload 2"
   ]
  },
  {
   "cell_type": "code",
   "execution_count": 3,
   "metadata": {},
   "outputs": [
    {
     "name": "stderr",
     "output_type": "stream",
     "text": [
      "2025-03-13 09:50:07 - botocore.httpchecksum - Skipping checksum validation. Response did not contain one of the following algorithms: ['crc32', 'sha1', 'sha256'].\n",
      "2025-03-13 09:50:07 - botocore.httpchecksum - Skipping checksum validation. Response did not contain one of the following algorithms: ['crc32', 'sha1', 'sha256'].\n",
      "2025-03-13 09:50:07 - botocore.httpchecksum - Skipping checksum validation. Response did not contain one of the following algorithms: ['crc32', 'sha1', 'sha256'].\n",
      "2025-03-13 09:50:07 - botocore.httpchecksum - Skipping checksum validation. Response did not contain one of the following algorithms: ['crc32', 'sha1', 'sha256'].\n",
      "2025-03-13 09:50:08 - botocore.httpchecksum - Skipping checksum validation. Response did not contain one of the following algorithms: ['crc32', 'sha1', 'sha256'].\n",
      "2025-03-13 09:50:11 - botocore.httpchecksum - Skipping checksum validation. Response did not contain one of the following algorithms: ['crc32', 'sha1', 'sha256'].\n"
     ]
    },
    {
     "name": "stdout",
     "output_type": "stream",
     "text": [
      "\t*** 732 codes have been added in the database...\n",
      "\n"
     ]
    },
    {
     "name": "stderr",
     "output_type": "stream",
     "text": [
      "/home/onyxia/work/torch-fastText/notebooks/utils.py:60: FutureWarning: Setting an item of incompatible dtype is deprecated and will raise an error in a future version of pandas. Value 'nan' has dtype incompatible with float64, please explicitly cast to a compatible dtype first.\n",
      "  df.fillna(\"nan\", inplace=True)\n"
     ]
    }
   ],
   "source": [
    "X_train, X_test, y_train, y_test = get_data()"
   ]
  },
  {
   "cell_type": "code",
   "execution_count": 4,
   "metadata": {},
   "outputs": [
    {
     "name": "stdout",
     "output_type": "stream",
     "text": [
      "Features for the 3 first training obs:\n",
      "\n",
      "[['terrain camping parc caravan vehicul loisir' 22 26 7 7 0 0]\n",
      " ['fabriqu vet travail' 22 26 7 7 0 0]\n",
      " [\"commerc gros (commerc interentreprises) d'ordinateurs, d'equip informat peripher logiciel\"\n",
      "  22 26 7 7 0 0]]\n",
      "\n",
      "\n",
      "NAF codes (labels) for the 3 first training obs:\n",
      "\n",
      "[516 110 413]\n"
     ]
    }
   ],
   "source": [
    "print(\"Features for the 3 first training obs:\\n\")\n",
    "print(X_train[:3])\n",
    "print(\"\\n\")\n",
    "print(\"NAF codes (labels) for the 3 first training obs:\\n\")\n",
    "print(y_train[:3])"
   ]
  },
  {
   "cell_type": "markdown",
   "metadata": {},
   "source": [
    "Parameters : \n",
    "- example with a unique embedding dimension for categorical variables"
   ]
  },
  {
   "cell_type": "code",
   "execution_count": 5,
   "metadata": {},
   "outputs": [],
   "source": [
    "# Parameters for model building\n",
    "NUM_TOKENS= int(1e5) # Number of rows in the embedding matrix = size of the embedded vocabulary\n",
    "EMBED_DIM = 50 # Dimension of the embedding = number of columns in the embedding matrix\n",
    "SPARSE = False # Whether to use sparse Embedding layer for fast computation (see PyTorch documentation)\n",
    "CAT_EMBED_DIM = 10 # Dimension of the embedding for categorical features\n",
    "\n",
    "# Parameters for tokenizer\n",
    "MIN_COUNT = 3 # Minimum number of occurrences of a word in the corpus to be included in the vocabulary\n",
    "MIN_N = 2 # Minimum length of char n-grams\n",
    "MAX_N = 4 # Maximum length of char n-grams\n",
    "LEN_WORD_NGRAMS = 3 # Length of word n-grams\n",
    "\n",
    "# Parameters for training - not useful immediately\n",
    "LR = 4e-3 # Learning rate\n",
    "NUM_EPOCHS = 1\n",
    "BATCH_SIZE = 256\n",
    "PATIENCE = 3"
   ]
  },
  {
   "cell_type": "markdown",
   "metadata": {},
   "source": [
    "## Building the model"
   ]
  },
  {
   "cell_type": "markdown",
   "metadata": {},
   "source": [
    "Explore what's happen during the build step.\n",
    "Hypothesis:\n",
    "- we use the `torchFastText.build_from_tokenizer` method to build: the tokenizer must be created first.\n",
    "- we don't use json method to get parameters\n"
   ]
  },
  {
   "cell_type": "code",
   "execution_count": 6,
   "metadata": {},
   "outputs": [
    {
     "name": "stdout",
     "output_type": "stream",
     "text": [
      "NUM_CAT_VAR: 6\n",
      "CAT_VOCAB_SIZE: [23, 27, 8, 12, 3, 4]\n",
      "NUM_CLASSES: 732\n"
     ]
    }
   ],
   "source": [
    "training_text = X_train[:, 0].tolist()\n",
    "categorical_variables = X_train[:, 1:]\n",
    "\n",
    "NUM_CAT_VAR = categorical_variables.shape[1]\n",
    "CAT_VOCAB_SIZE = (np.max(categorical_variables, axis=0) + 1).astype(int).tolist()\n",
    "NUM_CLASSES = len(np.unique(y_train))\n",
    "\n",
    "print(f\"NUM_CAT_VAR: {NUM_CAT_VAR}\")\n",
    "print(f\"CAT_VOCAB_SIZE: {CAT_VOCAB_SIZE}\")\n",
    "print(f\"NUM_CLASSES: {NUM_CLASSES}\")"
   ]
  },
  {
   "cell_type": "markdown",
   "metadata": {},
   "source": [
    "### The tokenizer"
   ]
  },
  {
   "cell_type": "markdown",
   "metadata": {},
   "source": [
    "Lets describe the constructor of `NGramTokenizer` class"
   ]
  },
  {
   "cell_type": "markdown",
   "metadata": {},
   "source": [
    "```python\n",
    "tokenizer = NGramTokenizer(\n",
    "    min_n=MIN_N, \n",
    "    max_n=MAX_N, \n",
    "    num_tokens= NUM_TOKENS,\n",
    "    len_word_ngrams=LEN_WORD_NGRAMS, \n",
    "    min_count=MIN_COUNT, \n",
    "    training_text=training_text\n",
    "    )\n"
   ]
  },
  {
   "cell_type": "markdown",
   "metadata": {},
   "source": [
    "Constructor steps : \n",
    "- Checks params min_n and max_n\n",
    "- Counts the number of occurrences of each word in the all training text ==> `word_counts` \n",
    "- Creates a mapping of all words seen at leat `min_count` times in `training_text` ==> `word_id_mapping`\n",
    "- Counts the number of unique words among previous selected ==> `nwords`\n"
   ]
  },
  {
   "cell_type": "code",
   "execution_count": 7,
   "metadata": {},
   "outputs": [
    {
     "name": "stdout",
     "output_type": "stream",
     "text": [
      "word_counts: {'terrain': 11, 'camping': 1, 'parc': 3, 'caravan': 1, 'vehicul': 83, 'loisir': 11, 'fabriqu': 221, 'vet': 21, 'travail': 11, 'commerc': 147, 'gros': 63, '(commerc': 47, 'interentreprises)': 46, \"d'ordinateurs,\": 3, \"d'equip\": 32, 'informat': 39, 'peripher': 4, 'logiciel': 32, 'recherche-developp': 3, 'biotechnolog': 1, 'caoutchouc': 3, 'synthet': 2, \"d'autr\": 65, 'produit': 173, 'chimiqu': 6, 'n.c.a.': 19, 'fromag': 1, 'extract': 13, 'houill': 1, 'pharmaceut': 7, 'bas': 14, 'cultur': 29, 'plant': 8, 'fibr': 15, 'machin': 21, \"d'usag\": 1, 'general': 44, 'textil': 14, \"l'extraction,\": 1, 'construct': 39, 'gen': 5, 'civil': 10, 'chasse,': 1, 'piegeag': 1, 'servic': 161, 'annex': 7, 'locat': 254, 'videocasset': 1, 'disqu': 1, 'video': 11, 'enseign': 24, 'conduit': 6, 'repar': 38, \"d'articl\": 35, \"d'horloger\": 3, 'bijouter': 5, 'heberg': 20, 'medicalis': 3, 'enfant': 9, 'handicap': 7, 'locomot': 1, 'materiel': 49, 'ferroviair': 3, 'roul': 2, 'imprimer': 2, 'journal': 2, 'articl': 24, 'robinetter': 1, 'detail': 69, 'boisson': 35, 'magasin': 30, 'specialis': 43, 'gestion': 152, 'sall': 3, 'spectacl': 6, 'aquacultur': 2, 'mer': 4, 'metallurg': 6, \"l'aluminium\": 1, 'agricol': 10, 'forestier': 5, 'mineral': 4, 'non': 216, 'metall': 10, 'trait': 15, 'primair': 2, 'recolt': 3, 'location-bail': 9, 'equip': 21, \"d'appareil\": 12, 'sanitair': 4, 'decor': 22, 'product': 38, 'metal': 11, 'precieux': 1, 'papi': 9, 'carton': 4, 'fruit': 15, 'pepin': 1, 'noyau': 1, 'outillag': 3, \"d'el\": 5, 'matier': 24, 'plastiqu': 13, 'activit': 211, 'hospitalier': 1, 'carrosser': 3, 'remorqu': 1, 'promot': 11, 'immobilier': 25, 'bat': 59, 'pomp': 2, 'compresseur': 1, 'social': 26, 'toxicoman': 1, 'central': 9, \"d'achat\": 10, 'alimentair': 39, 'physiqu': 6, 'transport': 59, 'maritim': 3, 'coti': 2, 'fret': 9, 'cafeteri': 1, 'autr': 147, 'libres-servic': 1, 'difficult': 2, 'organis': 33, 'jeux': 11, 'hasard': 1, \"d'argent\": 1, 'oleagin': 3, 'tabac': 6, 'accueil': 7, 'accompagn': 28, 'san': 46, \"d'adult\": 6, 'person': 33, 'age': 3, 'fonder': 4, 'ferreux': 4, 'mental': 1, 'malad': 1, 'voi': 13, 'ferre': 1, 'surfac': 6, 'souterrain': 1, \"d'al\": 7, 'homogeneis': 1, 'dietet': 1, 'cabl': 3, 'optiqu': 13, 'margarin': 1, 'graiss': 3, 'comestibl': 2, 'similair': 8, 'meubl': 115, 'foi': 2, 'peint': 2, 'elimin': 2, 'dechet': 12, 'danger': 5, 'laitiers,': 1, 'oeufs,': 1, 'huil': 3, 'grass': 1, 'petrol': 2, 'brut': 2, 'depollu': 1, 'parquet': 2, 'assembl': 1, 'longu': 9, 'dure': 10, 'voitur': 17, 'automobil': 25, 'leger': 8, 'verr': 12, 'prepar': 25, 'industriel': 19, 'viand': 7, \"d'emballage,\": 1, 'condition': 6, 'pesag': 1, 'transform': 12, 'conserv': 13, 'pomm': 2, 'terr': 4, 'carbur': 2, 'jouet': 4, 'pain': 2, 'patisser': 8, 'fraich': 1, 'edit': 18, 'distribu': 26, 'siderurg': 1, 'elevag': 19, 'chameau': 1, 'camelid': 1, 'animal': 15, 'ferm': 1, 'support': 22, 'jurid': 13, 'programm': 15, 'compos': 4, 'electron': 17, 'telecommun': 10, 'electr': 27, 'reservoirs,': 1, 'citern': 1, 'conteneur': 1, 'patrimoin': 9, 'mobili': 18, 'forge,': 1, 'estampage,': 1, 'matricag': 1, 'poudr': 1, 'min': 6, 'fer': 1, \"d'ordin\": 2, \"d'enregistr\": 2, 'musical': 3, 'pat': 4, 'aeraul': 1, 'frigorif': 3, 'beurr': 2, 'volaill': 4, 'reproduct': 3, 'centr': 7, 'collect': 10, 'banqu': 3, \"d'organ\": 2, 'ceram': 7, 'usag': 12, 'techniqu': 28, 'cuisin': 9, 'aerien': 6, 'passager': 4, 'inorgan': 1, 'cuir': 6, 'fil': 3, 'cartonnag': 1, 'plat': 20, 'maroquiner': 5, 'voyag': 5, 'matel': 1, 'compagn': 2, 'justic': 1, 'administr': 42, 'march': 21, 'financi': 7, 'outil': 3, 'developp': 34, 'langag': 1, 'tourb': 1, 'command': 3, 'poissons,': 2, 'crustac': 3, 'mollusqu': 3, 'intermediair': 18, 'textiles,': 6, 'habillement,': 1, 'fourrures,': 1, 'chaussur': 9, 'boucher': 3, \"d'emballag\": 4, 'bois': 16, 'cidr': 1, 'vin': 5, 'piec': 11, 'oper': 22, 'indifferencie': 2, 'menag': 12, 'tant': 17, 'producteur': 25, 'propr': 8, 'gibi': 1, 'abras': 1, \"d'optiqu\": 1, 'install': 21, 'mecan': 13, 'concept': 16, \"d'ensembl\": 1, 'assemblag': 2, 'sit': 29, 'control': 8, 'processus': 4, 'machines-outil': 3, 'vaisselle,': 1, 'verrer': 1, \"d'entretien\": 3, 'foresti': 4, 'ligneux': 1, 'pouss': 1, \"l'etat\": 1, 'sauvag': 2, \"d'aid\": 4, 'navig': 1, 'four': 2, 'bruleur': 1, 'religi': 1, 'reseau': 16, 'fluid': 1, 'horloger': 1, 'motocycl': 2, 'couteller': 1, 'vach': 1, 'laitier': 1, 'bureau': 13, 'log': 17, 'project': 1, 'film': 7, 'cinematograph': 2, 'aid': 20, 'electriques,': 2, 'agenc': 19, 'recouvr': 1, 'factur': 5, 'societ': 58, \"d'inform\": 7, 'financier': 9, 'clientel': 2, 'secondair': 2, 'professionnel': 146, 'electromenager': 4, 'restaur': 59, 'sous': 15, 'contrat': 3, 'charpent': 4, 'menuiser': 13, 'laminag': 1, 'froid': 6, 'feuillard': 1, 'reliur': 1, 'connex': 6, 'syndicat': 2, 'salar': 1, 'gaz': 4, 'naturel': 7, 'grain': 3, 'auxiliair': 5, 'terrestr': 2, 'courtag': 5, 'valeur': 16, 'mobilier': 17, 'marchandis': 20, 'combustibl': 5, 'gazeux': 3, 'revenus': 1, 'magnet': 1, 'azot': 1, \"d'engr\": 2, 'dessous': 1, 'quincaillerie,': 2, 'peintur': 26, 'grand': 7, '(400': 1, 'm2': 1, 'plus)': 1, \"d'ouvrag\": 7, \"d'art\": 5, 'savons,': 1, 'detergent': 1, \"qu'employeur\": 1, 'personnel': 11, 'domest': 9, 'audio': 2, 'pech': 4, 'eau': 6, 'douc': 3, 'exploit': 44, 'gravier': 1, 'sablieres,': 1, \"d'argil\": 1, 'kaolin': 1, 'fluvial': 3, 'platr': 5, 'legum': 9, 'faconnag': 3, 'raffinag': 1, 'camion': 2, 'briques,': 1, 'tuil': 1, 'construction,': 28, 'cuit': 1, 'spatial': 3, \"d'uranium\": 1, 'thorium': 1, 'entreposag': 2, 'stockag': 3, '(a': 3, \"l'except\": 6, 'ordin': 4, 'peripheriques)': 1, 'defens': 1, \"d'assur\": 4, 'caiss': 4, 'retrait': 5, 'jus': 1, 'premier': 4, 'agricoles,': 1, 'vivants,': 1, 'semi-fin': 1, 'trefilag': 1, 'post-secondair': 1, 'superieur': 3, 'publiqu': 9, '(tutelle)': 2, 'econom': 5, 'interurbain': 3, 'voyageur': 5, 'system': 31, 'artificiel': 3, 'metalliques,': 3, 'chain': 3, 'ressort': 1, 'jardin': 5, 'botan': 1, 'zoolog': 1, 'reserv': 3, 'cacao,': 1, 'chocolat': 2, 'confiser': 5, 'fleur': 3, 'securit': 10, 'specif': 3, \"d'huil\": 4, 'raffine': 1, 'industr': 5, 'monu': 1, 'histor': 1, 'attract': 2, 'tourist': 6, \"d'animal\": 3, 'viv': 5, 'organ': 7, 'extraterritorial': 1, 'blanchisserie-teinturer': 2, \"d'agrum\": 1, 'impregn': 2, 'satellit': 1, \"d'arbr\": 1, \"d'arbust\": 1, 'coqu': 1, 'morti': 1, 'beton': 4, 'sec': 1, 'meubles,': 3, 'quincailler': 2, 'riz': 1, 'porcin': 1, 'combustibles,': 1, 'metaux,': 2, \"d'outillag\": 1, 'portat': 1, 'moteur': 3, 'incorpor': 1, 'assur': 9, 'vi': 11, 'entretien': 33, 'tunnel': 1, 'surgel': 2, \"d'isol\": 3, 'isol': 7, 'soutien': 18, \"l'extract\": 2, \"d'hydrocarbur\": 1, \"d'ordr\": 2, 'public': 17, 'laiti': 2, 'navir': 4, 'structur': 7, 'flott': 1, 'traval': 97, \"d'install\": 19, 'radiateur': 1, 'chaudier': 2, 'chauffag': 7, \"d'irradi\": 1, 'medicale,': 1, 'electromedical': 1, 'electrotherapeut': 1, \"l'industr\": 3, 'agro-alimentair': 1, 'chauffeur': 26, 'coll': 2, \"d'aci\": 1, 'themat': 1, 'poisson,': 1, 'maison': 16, 'ouvrag': 2, 'beton,': 3, 'ciment': 2, 'chaux': 1, 'menager': 6, 'peintures,': 3, 'vernis,': 1, 'encre': 1, 'mastic': 1, 'cred': 1, 'veterinair': 2, 'diffus': 7, 'radio': 1, 'captage,': 1, \"d'eau\": 3, 'fibre-c': 1, 'lunet': 1, 'serrur': 1, 'ferrur': 1, \"d'instrument\": 1, 'scientif': 4, 'turbines,': 1, \"d'avion\": 1, 'chauss': 1, 'maill': 3, 'tapis,': 2, 'moquet': 2, 'revet': 7, 'mur': 5, 'sol': 8, 'brosser': 1, 'lignit': 1, 'etirag': 1, 'barr': 1, 'debr': 1, 'sport': 12, 'rout': 2, 'autorout': 1, 'placag': 1, 'panneau': 7, 'plomb,': 1, 'zinc': 1, \"l'etain\": 1, 'rechapag': 1, 'pneumat': 3, 'essentiel': 2, 'tabl': 3, 'bibliothequ': 1, 'archiv': 1, 'enrich': 1, 'nucleair': 2, 'vapeur': 1, \"d'air\": 1, 'commun': 26, 'vinif': 1, 'gener': 4, 'vapeur,': 1, 'hydraul': 2, 'elabor': 2, 'evalu': 4, 'risqu': 1, 'dommag': 1, 'color': 1, 'pigment': 1, 'messagerie,': 1, 'express': 1, 'cokefact': 1, 'vis': 3, 'boulon': 1, 'fermente': 1, 'distille': 2, 'livr': 11, 'repertoir': 1, 'fichi': 2, \"d'adress\": 1, 'enregistr': 2, 'sonor': 1, \"l'habill\": 1, 'amylac': 1, 'pret': 6, \"l'emploi\": 1, 'affair': 21, 'etranger': 1, 'meuner': 1, 'hypermarch': 1, 'adult': 4, 'the': 3, 'caf': 3, 'medical': 8, 'orthoped': 2, 'cart': 4, 'assemble': 1, 'sieg': 9, \"d'ameubl\": 1, \"d'interieur\": 7, 'complementair': 4, 'radiodiagnostic': 1, 'radiotherap': 1, 'reg': 2, 'publicitair': 5, 'medi': 3, 'permanent': 7, 'consomm': 8, 'cour': 32, 'sciag': 1, 'rabotag': 1, 'bois,': 2, 'hor': 7, 'glac': 1, 'sorbet': 1, 'credit-bail': 1, 'carreau': 1, \"d'arm\": 1, 'munit': 1, 'fut': 2, 'emballag': 1, 'famill': 1, 'sel': 1, 'sante,': 2, 'formation,': 6, 'sociaux,': 4, 'charbon': 1, 'terrass': 7, 'mass': 1, 'cinem': 1, 'machines,': 1, 'industriels,': 2, \"d'eclairag\": 3, 'decoupage,': 1, 'emboutissag': 1, 'moteurs,': 1, 'bicyclet': 1, 'invalid': 1, 'peau': 2, 'intermedi': 4, 'monetair': 1, 'decolletag': 1, 'pre-primair': 1, 'fourrur': 2, \"d'electricit\": 16, 'mainten': 26, 'cuivr': 1, 'use': 1, 'fournitur': 13, 'plomber': 11, 'militair': 1, 'combat': 1, 'cereales,': 1, 'manufacture,': 1, 'semenc': 2, 'betail': 1, 'font': 1, 'telepher': 1, 'remonte': 1, 'tapis': 3, \"d'unit\": 1, 'appret': 1, 'tannag': 1, 'teintur': 1, 'cafe,': 2, 'the,': 4, 'cacao': 1, 'epic': 1, 'bien': 125, 'bier': 1, 'forag': 1, 'sondag': 3, \"d'aeronef\": 1, \"d'engin\": 1, 'muse': 2, 'cond': 1, 'assaison': 1, 'profilag': 1, 'formag': 1, 'pliag': 1, 'aeronaut': 1, 'tubes,': 1, 'tuyaux,': 1, 'profil': 2, 'creux': 2, 'accessoir': 25, 'correspond': 3, 'aci': 1, 'sucre,': 1, 'port': 8, 'fenetr': 1, 'levag': 1, 'manutent': 4, 'moul': 1, 'model': 2, 'polit': 2, 'effervescent': 1, 'non-tisses,': 1, 'sauf': 3, 'habill': 2, 'naval': 1, \"d'engrenag\": 1, 'transmiss': 3, 'malt': 1, 'filatur': 1, \"d'etoff\": 1, 'ondul': 1, 'photograph': 18, 'sucr': 4, 'feu': 1, 'secour': 1, 'frapp': 1, 'monnai': 1, 'rafraich': 1, 'multi-commerc': 1, \"d'imprimer\": 1, 'pesticid': 1, 'agrochim': 1, 'plaques,': 1, 'feuilles,': 1, 'tub': 1, 'explos': 1, 'refractair': 1, 'ficelles,': 1, 'cord': 1, 'filet': 1, 'tierc': 1, \"d'appliqu\": 7, \"d'instru\": 1, 'musiqu': 6, 'reassur': 2, 'portuair': 2, 'conseil': 194, 'cabinet': 4, \"d'orthophon\": 2, 'vent': 280, 'artisanal': 13, 'bijoux': 21, 'objet': 17, 'tout': 155, 'particuli': 45, 'energ': 7, 'photovolta': 15, 'meuble': 45, \"l'acquisition,\": 57, \"d'achat,\": 4, \"d'apport\": 4, 'autrement,': 8, 'detention,': 10, \"l'administration,\": 21, 'et/ou': 8, 'tous': 197, 'immeub': 2, 'mission': 4, 'entreprises,': 13, 'redact': 9, 'rapport': 3, \"d'audit\": 1, 'suiv': 8, 'rattach': 6, 'direct': 32, 'indirect': 10, 'cet': 6, 'susceptibl': 1, 'den': 1, 'fair': 6, 'traditionnel': 6, 'plac': 25, 'alcool': 6, \"d'ebenisterie,\": 1, 'fabrication,': 6, 'architectur': 7, \"d'interieure,\": 1, 'transformation,': 19, 'restauration,': 7, 'montag': 15, 'usinag': 1, '(voir': 1, 'suit': 4, 'cas': 2, 'obs)': 1, 'acquisition,': 26, 'immeubl': 52, 'renov': 13, 'ains': 20, 'plus': 12, 'repris': 1, 'second': 4, 'oeuvre.': 2, 'concepteur': 1, 'design': 15, 'web': 17, 'commercial': 46, 'local': 13, 'lou': 2, 'concierger': 4, 'loueur': 72, 'films,': 2, \"d'em\": 1, 'television;': 1, 'institutionnel': 2, 'agent': 29, 'immobili': 91, 'independ': 13, 'prothes': 13, 'ongulair': 11, 'fonction': 4, 'adhes': 3, 'volontair': 3, 'cosmet': 6, 'acte': 8, '(toilettes,': 1, 'nursing,': 2, 'lever,': 2, 'couch': 1, 'etc)': 2, 'creation': 80, 'entrepris': 80, 'particuliers.': 4, 'infirmier': 8, 'liberal': 22, 'mult': 2, '(petit': 1, 'plomberie,': 4, 'petit': 19, 'electricite,': 4, 'pet': 14, 'jardinage,': 4, 'netoyage,': 1, 'piscin': 3, 'reflexologu': 1, 'nettoyag': 39, 'depannag': 5, 'mis': 51, 'climatisation,': 2, 'achat': 44, 'raccord': 4, 'respons': 1, 'sejour': 2, 'sportif': 9, 'plans/amenag': 1, '(metr': 1, 'suivis)': 1, 'auto,': 3, 'moto': 2, 'evenement,': 1, 'decoration,': 3, 'arche': 1, 'ballons.': 1, \"d'organis\": 2, \"d'even\": 13, 'decoration.': 3, 'topage,': 1, 'production,': 7, 'conception,': 16, 'realisation,': 3, 'script': 1, 'typ': 31, \"l'evenementiel\": 1, 'television,': 2, 'photographie,': 2, 'fi': 1, 'reglementes,': 3, 'not': 22, 'bazar': 1, 'conciergerie.': 3, 'transact': 9, 'fond': 18, 'commerce.': 2, 'apporteur': 4, \"d'affaires.\": 1, 'prestat': 100, \"l'agricultur\": 1, 'contenus': 7, 'visuels.': 1, 'domicile.': 10, \"d'electricite,\": 1, 'photovoltaique,': 1, \"d'infrastructur\": 1, 'recharg': 4, '(irve)': 1, 'execu': 1, 'logo,': 1, 'chart': 2, 'graphique,': 2, 'flyer,': 1, 'affiche,': 1, 'magazine,': 1, 'visite,': 1, 'packaging,': 1, 'web,': 2, 'powerpoint': 1, 'encadr': 3, 'competit': 3, 'saut': 1, \"d'obstacl\": 1, 'blogueur': 1, '(influenceur)': 1, '(vtc)': 5, 'natur': 5, 'sacs,': 1, 'monnaie,': 1, 'clefs,': 1, 'vetements,': 9, 'crochet': 2, 'scienc': 3, 'humain': 8, 'lign': 51, 'casqu': 1, 'supra-auriculaires.': 1, 'domicil': 82, 'etat': 7, 'futur': 7, \"d'achev\": 6, 'acheves,': 6, \"l'apport,\": 7, 'propriete,': 39, 'valeur,': 18, \"l'amen\": 4, 'jouissance,': 2, 'bail,': 21, 'immobiliers,': 22, \"l'informat\": 2, 'interieur': 17, 'exterieur': 13, 'cadr': 10, \"d'un\": 51, 'club': 5, \"d'am\": 1, 'art': 9, \"l'administr\": 31, \"l'exploit\": 36, 'revente,': 3, 'recept': 2, 'comm': 9, 'apports,': 1, 'reparation,': 2, \"l'entretien,\": 2, 'gestion,': 32, 'mod': 6, 'neuf': 22, 'sophrolog': 2, 'aupr': 15, \"d'\": 1, 'enfants,': 3, \"d'adolescent\": 2, 'domain': 25, 'combin': 2, 'livreur': 24, 'velo': 53, 'pris': 58, 'particip': 38, 'cree': 4, 'creer,': 2, 'afin': 2, 'constitu': 4, 'patrimoine,': 2, 'ger': 5, 'filiales.': 1, 'ingenier': 6, 'etud': 8, 'realis': 48, 'projet': 17, 'hom': 2, 'staging': 1, 'homm': 10, 'main': 10, \"d'oeuvr\": 11, 'artist': 10, 'different': 9, 'supports.': 1, 'macrame.': 1, 'anim': 16, \"d'ateli\": 4, 'bijoux.': 1, \"l'acquisit\": 24, 'moyen': 12, \"d'apport,\": 4, 'droit': 29, 'immobiliers.': 14, 'planification,': 2, 'personnalises.': 1, 'charg': 5, 'individuel': 10, 'collective.': 1, 'cession,': 4, 'conclu': 1, 'deratis': 2, '(trait': 1, 'curatif),': 1, 'desinfect': 2, 'bacteries),': 1, 'desinsectisation.(trait': 1, 'curatifs)': 1, 'supermarch': 3, 'vente.': 2, 'kinesiologu': 1, 'livraison': 69, 'cours': 4, 'rep': 58, 'vtc)': 1, 'necessair': 1, \"d'entrepris\": 8, \"d'objet\": 19, 'part': 13, 'chen': 1, 'franc': 18, 'prive': 6, '(shooting': 1, 'culinaire,': 1, 'portrait).': 1, 'utilis': 2, 'photos': 3, 'retouch': 3, 'montage.': 1, 'recherch': 7, \"d'occas\": 11, 'meti': 4, 'secondaire,': 1, 'exerc': 5, 'dej': 1, 'conducteur': 5, 'routi': 13, 'electricit': 19, '(textil': 1, 'pret-a-porter).': 1, 'particuliers,': 2, \"d'entreprises,\": 3, 'collectivit': 1, 'priv': 7, 'graphist': 2, 'cod': 13, 'ape/naf': 2, '1813z': 1, \"l'imprimer\": 2, 'graphism': 3, '(support': 1, 'communication,': 10, 'publicite,': 1, 'ect.)': 1, 'bilan': 3, 'neuropsycholog': 1, 'revent': 26, 'aromat': 1, 'medicinal': 2, 'jour': 3, 'situat': 2, 'administration,': 20, 'amelior': 1, 'disposit': 11, 'immeuble.': 1, 'thermiqu': 6, 'climatis': 9, 'acquisit': 15, 'propriet': 18, 'situe': 1, 'drancy,': 1, 'tirag': 1, 'traduct': 6, 'interpret': 5, \"d'exercic\": 4, 'pharmacien': 2, \"d'officin\": 2, 'limit': 1, '(art.': 1, 'r.': 1, 'edif': 2, 'moyen.': 1, 'autrement.': 1, 'audiovisuel': 10, '(voiturier)accueil': 1, 'clients,': 1, 'vehicule,': 1, 'parking': 2, 'restitu': 1, 'vehicules.': 4, 'negoc': 13, 'decoup': 2, 'commercialis': 16, 'conciergerie,': 7, 'relat': 14, 'even': 8, 'publics,': 2, 'transactions,': 2, 'intermediation,': 1, 'conseil,': 11, 'achat,': 15, 'vente,': 18, 'compt': 15, 'tier': 6, 'pratiqu': 10, 'dentair': 6, 'distanc': 10, 'catalogu': 6, 'entretien,': 4, 'exploitation,': 3, 'maitr': 3, 'nageur': 1, 'diver': 19, '(matel': 1, 'gonflables,': 1, 'solut': 6, \"d'occult\": 1, 'sommeil,...)': 1, 'portefeuill': 6, 'titr': 20, 'cote': 1, 'maraichag': 1, 'generale,': 7, 'faible,': 1, 'born': 1, \"jusqu'\": 1, '7kg,': 1, 'solair': 2, '6kg': 1, 'apport,': 3, 'amenagement,': 4, 'format': 31, 'publics.': 2, 'specifique.': 1, 'btp': 1, 'batis.': 2, 'objet,': 6, 'pay': 2, 'manag': 10, 'developpeur': 4, 'lavag': 6, 'fait': 5, 'tricotin': 1, 'artistique,': 2, 'graphisme,': 1, 'webdesign,': 2, 'motion': 1, 'contenu.': 2, 'prof': 4, 'ape': 12, '6820a': 11, 'regim': 3, 'reel': 2, 'simplif': 2, 'trimestriel': 2, 'boulanger': 5, 'installation,': 3, 'chauffage,': 5, 'vitrer': 3, 'pos': 24, 'miroir': 1, 'verrier': 1, 'etv': 1, 'deposr': 1, 'intervent': 3, 'urgenc': 1, 'cass': 1, 'etc...': 1, 'detent': 12, 'industrielles,': 5, 'commerciales,': 5, 'civiles,': 1, 'finit': 5, 'bar,': 2, 'location,': 14, 'remplac': 5, 'resident': 6, '(cod': 3, 'logements)': 1, 'convoyag': 7, 'pneus': 1, 'chanti': 8, 'motocycles,': 1, 'propos': 7, 'egal': 2, 'sophrologu': 3, 'debit': 1, 'messager': 1, 'structures.': 1, 'sylvicultur': 2, 'indirecte,': 3, 'moyens,': 3, 'lignes,': 1, 'voyageurs.': 1, 'tourism': 14, \"d'objets,\": 1, 'lingerie,': 1, \"d'accessoir\": 7, 'cosmetiques.': 1, 'substitut': 1, 'compl': 4, 'marqu': 6, 'beautysan': 1, \"l'entreprise.\": 2, 'quelqu': 6, 'form': 12, 'quel': 3, \"l'exercic\": 7, 'profess': 8, 'analyses,': 2, 'diagnostics,': 1, 'essais': 2, 'inject': 1, 'saisonniere,': 2, 'plateform': 8, 'couvertur': 6, 'zinguer': 4, 'lie': 7, \"d'activite.\": 1, 'structures,': 1, 'paramedical.': 1, 'strat': 2, 'station': 2, 'vehicules,': 8, 'mast': 1, 'internet': 26, 'optimis': 3, 'seo': 3, '43.34z': 1, 'motoris': 2, 'rapid': 20, 'participation,': 10, \"d'interet\": 4, \"d'invest\": 2, \"l'etranger.\": 1, \"l'administration,l\": 1, 'valeur,l': 1, 'location,l': 1, 'cession': 4, 'personnalis': 6, 'divers.': 3, 'multiservices,': 1, 'bricolage,': 3, 'peinture,': 5, 'dechetterie,': 1, 'archives,': 1, 'platrer': 4, 'carrelag': 10, 'faienc': 3, 'interet': 2, 'societe,': 2, 'entreprise,': 2, 'participations,': 2, 'immobiliere,': 2, 'commercial.': 2, 'coutures/retouch': 1, \"l'immobili\": 1, 'bricolag': 10, 'boug': 5, 'parfume': 1, 'maconner': 19, \"qu'agent\": 1, 'iad': 1, 'denrees,': 1, 'emport': 28, 'achat-revent': 2, '(vtc),': 2, \"d'occasions.\": 1, \"d'immeubles,\": 2, \"d'immeubl\": 10, 'therapeut': 3, 'specialise': 12, 'reequilibrag': 1, 'energetique,': 1, 'allerg': 1, 'intoler': 1, 'community': 6, 'management.': 1, \"l'achat,\": 7, 'embarc': 1, 'plaisance,': 1, 'terrestres,': 1, 'gardiennag': 1, 'marques,': 2, 'branding': 1, \"d'entreprises.\": 1, 'technicien': 3, 'audiovisuel,': 1, \"j'install\": 1, 'captat': 3, 'video.': 4, 'informatique,': 9, 'internets,': 1, 'digital': 6, 'modelage/massag': 1, 'hotel,': 1, 'restaurant,': 7, 'services,': 7, 'regionaux.': 1, 'represent': 7, 'decoration.,': 1, 'accessoires.': 2, 'bateau': 3, 'evenements.': 1, 'salles.': 1, 'etou': 1, 'foncier': 1, 'embel': 1, 'agrandissement.': 1, \"d'implementation,\": 1, 'personnalisation,': 1, 'pla': 1, 'consult': 27, 'data,': 1, 'ia': 1, 'r&d': 1, 'assist': 19, 'operationnel': 5, 'technologies,': 2, 'ingenierie,': 2, 'hotel': 2, 'import': 10, 'export': 9, 'doccas': 1, 'uber': 8, 'eat': 5, 'fleurs,': 2, 'plantes,': 2, 'grains,': 1, 'engrais,': 1, 'livraison,': 4, 'produ': 1, 'construits,': 3, 'construir': 3, 'plein': 3, 'nue-propriet': 2, 'conseils/accompagn': 1, 'dont': 10, 'coaching.': 1, 'temporaire.': 1, '-le': 1, '-la': 1, 'toilettag': 2, 'domestiques,': 1, 'chien': 3, 'principalement,': 1, 'chat': 1, 'lapin': 1, 'moindr': 1, 'mesure.': 1, 'paysag': 4, 'reeducation,': 2, \"l'appareillag\": 2, 'pedicures-podologu': 2, 'et,': 2, 'echeant,': 1, 'capital': 4, \"ax'eau\": 1, '(451': 1, '836': 1, '605': 1, 'rc': 2, 'tarascon),': 1, 'toitur': 5, 'fantais': 10, '(au': 1, 'gros)': 1, 'femmes,': 3, 'institut': 1, 'beaut': 11, 'etre': 6, 'soin': 21, 'capillair': 2, 'coiffur': 9, 'lac': 1, 'wig': 1, 'ongler': 2, 'manucur': 7, 'pressotherap': 1, 'vigil': 1, \"d'aero\": 1, 'gommag': 1, 'chirurgien-dent': 3, 'esthet': 2, 'annexes,': 2, 'bimbeloter': 1, 'marchand': 8, 'medecin': 13, 'maitris': 2, 'professionnels.': 3, '(6832b)': 1, 'avocat': 2, 'types,': 1, 'preferent': 1, 'vegetale,': 1, 'degust': 2, 'associations,': 2, 'collectivites,': 3, 'chambr': 5, \"d'hot\": 3, 'corporel': 3, 'praticien': 5, 'massag': 11, 'bien-etr': 12, '96.04z': 1, 'strateg': 19, \"qu'el\": 4, \"qu'en\": 3, 'reglement': 23, 'tel': 7, 'hygien': 2, \"d'etud\": 6, \"l'e\": 1, 'mobil': 5, 'esthetiques.': 1, 'destin': 13, '\"de': 1, \"l'ide\": 1, 'projet\",': 1, 'coordination,': 1, 'accompagnement.': 1, 'entreprises.': 7, 'artisanaux,': 1, 'etancheite,': 1, 'bardage,': 1, 'couverture,': 3, 'bitume,': 1, 'membran': 1, 'pvc': 5, 'gard': 3, \"d'enf\": 3, 'cacahuet': 1, 'bar': 9, 'reguli': 2, 'relev': 5, 'artherap': 1, 'voyage,': 1, 'seller': 1, 'propre,': 2, '6499z': 1, 'acheteur': 2, 'revendeur': 1, 'vdi,': 1, 'cosmetiques,': 4, 'onikha,': 1, '4799a': 2, '(lmnp)': 4, 'chimiques,': 1, 'chlore,': 1, 'soude,': 1, \"l'acid\": 1, 'boriqu': 1, 'leur': 4, 'derives,': 1, 'loues.': 1, 'internet;': 1, 'graphiqu': 7, 'depot': 3, 'pain,': 2, 'rapide,': 9, 'salon': 10, 'hotessariat': 4, 'tatoueur': 1, 'immobilieres,': 5, 'condit': 1, 'toutefois,': 1, \"d'en\": 1, 'respect': 2, 'caracter': 3, 'civil.': 1, \"d'interieur,\": 1, 'amenag': 10, 'gravur': 3, 'personnalise': 1, 'clotur': 1, 'grillag': 1, 'consulting': 5, 'ambul': 9, 'exerce': 1, 'graphotherapie,': 1, 'reeduc': 2, \"l'ecritur\": 2, 'domotique,': 2, 'domot': 1, 'bien-etre.': 2, 'developpement,': 11, \"l'assistance,\": 1, \"d'etudes,\": 3, 'veille,': 1, \"d'audit,\": 1, \"d'analys\": 3, 'prestations,': 2, '(consomm': 1, 'deb': 4, 'boissons)': 1, 'pizz': 5, 'desenfumag': 1, 'alarm': 1, 'incend': 2, \"d'infirmier\": 1, 'crepes,': 1, 'hod-dog,': 1, 'gauffres,': 1, 'sandwichs.': 1, 'videos': 6, 'influenceur': 2, 'autre,': 1, 'pro,': 1, 'after': 1, 'effects,...': 1, 'alcoolise': 7, 'non-alcoolisees.': 1, 'adomicil': 1, 'alimentaire.': 1, 'macon': 1, 'funerair': 2, 'sort': 2, 'demarch': 3, 'import/': 1, 'ecol': 2, 'surf': 1, 'stag': 2, 'decouvert': 1, 'instrument': 1, '(ukulele,': 1, 'percussions)': 1, 'corp': 5, \"d'etat\": 2, 'energetiques,': 3, 'harmonis': 1, 'chakr': 1, 'humains,': 1, 'reharmonis': 2, 'corps,': 1, 'soulag': 1, 'maux': 1, 'li': 12, \"l'esp\": 1, 'photovoltaiques.': 1, 'mandatair': 6, 'mandat': 2, \"d'exclusivit\": 1, '6622z': 1, 'fournisseur': 3, 'materiels.': 3, 'sa': 1, 'apps.': 1, 'distances,': 1, 'donnees,': 1, 'traitements,': 1, 'cal': 1, \"d'assist\": 3, 'distribution,': 6, 'importation,': 1, 'charcuter': 3, 'derives.': 1, 'dem': 1, 'marketplac': 2, 'e-commerc': 12, \"l'echang\": 2, 'geranc': 2, \"l'amenag\": 2, 'holding,': 2, 'creation,': 9, 'confect': 4, 'pael': 1, \"d'aliment\": 2, 'visite.': 1, 'remplacante,': 1, 'deplac': 3, 'coursi': 16, 'vend': 1, \"d'interpret\": 1, 'donne': 2, 'perform': 1, 'online.': 1, 'creatives,': 1, 'artistiques,': 2, 'visuels,': 1, 'graphiques,': 3, 'illustrations,': 2, 'print,': 1, 'identit': 4, 'visuelle,': 1, 'media,': 1, 'lmnp': 17, \"l'echange,\": 1, 'batis,': 3, '(transaction,': 1, 'syndic,': 2, 'location),': 1, 'conseils,': 4, 'negoce,': 4, 'import,': 2, 'export,': 3, 'holding': 8, 'ling': 4, 'lit,': 1, 'couettes,': 1, 'oreillers,': 1, 'ustensil': 1, 'cuisine,': 2, 'telephon': 5, 'regl': 2, \"l'exploitation,\": 7, 'bail': 19, 'nus,': 1, 'droi': 1, 'sap': 1, 'tissag': 2, 'ressourc': 6, 'nature,': 2, \"l'attribu\": 1, 'gratuit': 3, 'prestige,': 1, 'informatiques.': 5, 'renovation,': 3, 'dappart': 1, 'guidag': 1, 'paris': 1, 'francophon': 1, 'etrang': 3, 'masseur': 6, 'kinesitherapeut': 7, 'principal': 9, ':traval': 1, '(creusement,': 1, 'comblement,': 1, 'nivel': 1, 'constructions)': 1, 'canalis': 2, 'epices,': 2, 'aromatiques,': 2, 'medicinales,': 1, 'oeuvr': 6, 'familial': 4, \"j'ai\": 1, 'commenc': 1, \"qu'infirmier\": 1, 'covindin': 1, 'siranin': 1, 'sabrin': 1, '21/04/2023': 1, 'cordist': 1, 'press': 6, 'object': 3, \"l'entrepris\": 2, 'chiffr': 1, \"d'affair\": 4, 'client': 11, 'dramat': 2, 'logiciels,': 4, 'manuel': 1, 'lach': 1, 'medicaux,': 2, 'exclus': 7, 'tuin': 1, 'thai,': 1, 'boutiqu': 4, 'etudes,': 1, 'metres,': 1, 'verif': 3, 'industrielle,': 2, 'commerciale,': 3, 'financiere.': 1, 'animale,': 1, 'energet': 4, 'animaux.': 1, 'ecur': 1, 'resin': 2, 'epoxy': 3, \"d'hotes,\": 1, 'epicerie,': 2, 'appart': 7, 'place,': 8, 'non,': 5, 'commerce,': 3, 'sci.': 1, \"d'origin\": 1, 'moniteur': 1, 'ski': 1, 'courti': 5, 'dat': 2, '(dat': 1, 'analytic': 2, 'engineering,': 1, 'analytics)': 1, 'energetique,alcoolise': 1, 'alcoolisee,marchandis': 1, 'divers,vent': 1, 'detail,licent': 1, 'emporter.': 5, 'modelis': 2, 'texturing': 1, 'integr': 2, '3d': 3, 'building': 1, 'scen': 1, 'fix': 1, 'dynam': 1, 'destine': 2, 'appliqu': 8, 'kit': 1, '\"loueur': 1, 'professionnels\"': 1, 'vapotag': 1, 'cigaret': 2, \"l'activit\": 17, 'industriel,': 7, 'tertiaire,': 1, 'debarrasag': 1, 'encombr': 1, 'multiservic': 3, 'facadi': 1, 'lexpertis': 1, 'patholog': 1, 'batiment,': 6, 'expertis': 5, 'qua': 1, 'cablag': 2, 'electronique,': 1, 'surveil': 2, 'infirmi': 7, \"d'interieurs,\": 1, 'batiments,': 2, 'maconnerie,': 4, 'plaquiste,': 1, 'mesur': 2, 'appartenant,': 1, \"d'int\": 1, 'et': 1, 'entre': 3, 'gel': 1, 'x,': 1, 'chablon,': 1, 'vern': 3, 'sem': 2, 'renfort': 1, 'russ': 1, 'surgeles-congel': 1, 'marketing': 12, 'strctur': 1, 'permet': 2, 'professionnels,': 3, 'artistes,': 1, 'court': 5, 'collection,': 1, 'chauffeur,': 4, 'compr': 3, '(ma': 1, 'special': 4, 'chirurg': 1, 'infantil': 1, 'talons,': 1, 'chaussures,': 5, 'financiers,': 2, 'retraite,': 2, \"d'infirmi\": 1, 'platrerie,': 3, 'murs,': 1, 'faux': 2, 'plafonds,': 1, 'interieur,': 1, 'raval': 4, 'facades,': 2, 'exterieur.': 4, 'beignet': 1, 'evenementiel': 8, 'bras': 1, 'filag': 1, 'emporter,': 11, 'livrer;': 1, 'alimentaires,': 4, 'laser,': 1, 'sublimation,': 1, 'transfert,': 1, 'sticker': 2, \"l'evenementiel.\": 1, 'cre': 5, 'espac': 6, 'ded': 1, 'recreatives.': 1, 'achats-vent': 1, 'regulier': 1, 'horair': 1, 'vol': 2, 'charter': 1, 'tourisme.': 3, 'disciplin': 6, 'sportiv': 8, \"d'activit\": 8, 'loisirs,': 3, 'aeriens.': 1, 'organisation,': 3, 'activites,': 2, 'manifest': 1, 'sportives,': 2, 'meeting': 1, 'simul': 3, 'chut': 1, 'libre.': 1, 'service.': 1, 'moyen,': 1, 'desdit': 3, 'biens,': 5, 'notamm': 1, 'traiteur': 8, 'souscription,': 2, 'societes;': 1, 'administrative,': 5, 'juridique,': 3, '(installation,': 1, 'sanitaire)': 1, 'gestions,': 1, 'banque,': 1, 'architect': 3, '6820': 1, 'vef': 1, '29/12/2011': 1, 'nus': 1, 'cann': 2, \"qu'a\": 4, \"l'etranger,\": 3, \"d'artistes,\": 2, 'lachat,': 1, 'tourisme,': 1, 'utilitaires,': 2, 'cyclomoteurs,': 1, 'motocyclet': 1, 'cbd': 1, 'bi': 5, 'continu': 3, 'taille,': 1, 'finissag': 1, 'pierr': 5, 'intellectuel': 2, 'similaires,': 1, 'soumis': 2, 'copyright': 1, 'consist': 3, 'seanc': 6, \"d'hypnos\": 1, \"d'accompagn\": 2, 'general.': 1, 'apprendr': 1, 'emotions,': 1, 'esprit.': 1, 'meublees,': 1, 'para-hotelier': 1, 'secteur': 6, 'tertiair': 1, 'graphologu': 1, 'brand': 1, 'strategy': 1, 'ux': 1, 'research': 1, 'illustr': 2, 'societes,': 6, 'controle': 1, 'conseil.': 1, \"l'acquisitio\": 1, 'rob': 1, 'marocain': 1, 'pouv': 6, 'chef': 3, 'rang,': 1, 'salle,': 1, 'culinair': 2, 'soient,': 1, 'financieres,': 3, 'financ': 3, 'regroup': 2, 'credit': 3, 'scenario,': 1, 'ecritur': 3, \"d'intent\": 1, 'synopsis,': 1, 'benchmark': 1, \"d'agent\": 3, 'usin': 1, 'manufactur': 5, 'marchandises.': 1, 'coordon': 1, 'culturels/pedagogiques,': 1, 'logist': 2, 'succes.': 1, 'lmnp-locat': 1, 'annuel': 1, 'publicit': 10, 'naf': 2, '7022z': 1, 'intelligent': 2, 'portag': 1, 'restauration.': 2, '(carbur': 1, 'mandat).': 1, 'lubrifi': 1, 'connexes,': 1, 'boutique,': 2, 'automobilistes,': 1, 'lavage,': 2, 'offre': 3, 'electrique.': 1, 'carrier': 1, 'femme/': 1, 'immobilier,': 5, 'dud': 3, \"s'y\": 3, '(dropshipping)': 1, 'dessin': 6, 'educ': 8, 'sportif.': 1, 'coach': 2, 'sport/': 1, 'sante-velo': 1, 'ordonnance.': 1, 'psychopraticien': 1, 'psychotherap': 2, 'adultes,': 1, 'adolescent': 1, 'groupes.': 1, 'divers:': 1, '4619b': 1, 'systemeset': 1, 'import-export': 2, \"d'ongl\": 1, 'extens': 3, 'cil': 2, 'livret': 1, 'confitures,': 1, 'coulis,': 1, 'pestos.': 1, 'forain': 2, 'maneg': 1, 'tir': 1, 'loter': 1, 'canard': 1, \"d'adresse/automat\": 1, 'cascad': 1, 'noel': 1, 'sapin': 1, 'abattag': 1, 'debardag': 1, 'debroussaillag': 1, 'elagag': 1, 'forestiers.': 1, 'automat': 3, 'magasin,': 2, 'eventair': 4, 'dachat,': 1, 'dimport': 1, 'lindustr': 1, 'plantat': 2, 'vegetal': 1, 'colis': 3, 'divers': 6, 'moin': 2, 'tonnes.': 3, 'vtc': 7, 'element': 1, 'proximit': 2, 'nu': 3, 'non-batis,': 1, 'contenu': 7, 'multimedi': 2, '3d,': 2, 'videos,': 3, 'visuel': 7, 'webdesign': 1, 'professeur': 3, 'step.': 1, 'debut': 1, 'intermediaires.': 1, 'marchandises,': 3, 'demenag': 5, \"l'aid\": 6, 'panin': 1, 'non-alcoolise': 1, 'thermographie.': 1, 'audit': 2, 'technique.': 1, 'graphique.': 1, 'pao.': 1, 'dossi': 2, 'moral': 3, 'exercic': 6, 'qualif': 5, 'dento-facial': 1, 'ongles,': 1, 'gel,': 1, 'mixt': 1, 'material': 5, \"d'expertis\": 3, 'mediation,': 1, \"d'evenements,\": 1, 'coworking,': 1, 'salles/bureau': 1, 'referent': 3, 'sant': 4, 'inclusif.': 1, 'information,': 1, 'sensibilis': 1, 'sein': 4, 'micro-creches.': 1, '(en': 1, 'humaines,': 1, 'organisation)': 1, 'gestion.': 1, 'matiere.': 1, \"l'utilis\": 2, \"d'internet\": 1, 'indirects,': 1, 'cybersecurit': 1, 'band': 1, 'plaqu': 3, 'tax': 7, 'banlieu': 1, '(non': 8, 'motorise)': 7, 'cak': 1, 'videaste:': 1, 'clips,': 1, 'tutoriels.': 1, 'tournag': 2, 'post': 6, 'produc': 1, 'studio': 4, \"d'outil\": 5, 'presentiel': 2, \"l'orthophon\": 1, \"d'imag\": 2, 'docu': 7, 'audiovisuels,': 1, 'ecriture,': 1, 'audivisuels,': 1, 'vinicol': 1, 'achats/vent': 1, 'conseils,installation,': 1, 'depannage,': 2, 'adobe,': 1, 'imag': 7, 'maquillage,': 2, 'photos,': 1, \"d'auto\": 1, 'maquillag': 1, 'prospect': 2, 'commerciales.': 1, 'facon': 1, 'saisonnier': 4, 'digital,': 2, 'canin': 5, 'bains,': 1, 'coupes,': 1, 'sechage,': 1, 'tont': 1, 'animali': 2, 'specialisees,': 1, 'interieur,enduit': 1, 'peintures.': 2, '(consulting)': 1, 'marketing,': 5, 'ventes,': 2, \"l'assist\": 3, 'apport': 4, 'process.': 1, 'scpi,': 1, \"l'invest\": 2, 'bours': 1, 'assimil': 1, 'sociales,': 5, 'action': 6, 'groupe,': 1, \"l'anim\": 2, 'lesquel': 1, 'influenc': 2, 'notabl': 1, 'activ': 4, \"d'amenag\": 6, 'jardins;': 1, 'paysagers;': 1, 'decis': 2, 'informatique.': 2, 'assis': 1, 'achats,': 2, 'commercialisations,': 1, 'poses,': 1, 'installations,': 1, 'reparations,': 2, 'apres-vent': 1, 'solaires,': 2, 'oblig': 2, 'universel': 1, 'mobilier,': 1, 'fet': 2, 'coil': 1, 'chaud': 2, 'financement,': 2, \"l'install\": 3, \"d'energ\": 5, 'renouvel': 2, 'redacteur': 1, 'gaz,': 1, 'cardiolog': 1, 'assistanat': 1, 'comptabl': 5, 'gluten.': 1, 'performance,': 1, 'dropshipping': 2, 'print': 2, 'demand': 2, \"d'habill\": 5, 'e-commerce.': 2, 'reglementes;': 2, \"l'import-export\": 2, 'reglementes.': 2, 'superet': 1, \"l'organisation,\": 1, 'scenograph': 1, 'coordin': 3, \"d'evenement.\": 1, 'contrat,': 1, 'devis,': 2, 'facture,': 1, 'deguis': 1, 'cadeau': 1, 'vins,': 3, 'liqueurs,': 1, 'analys': 5, 'issu': 1, 'renouvelables,': 2, 'achat-vent': 4, 'frais': 2, 'coaching': 6, 'guid': 2, 'fourn': 1, \"l'evenementiels,\": 1, 'culturel': 3, 'etc.': 2, 'pourr': 5, 'deven': 3, 'sport,': 1, \"l'equit\": 1, \"l'angl\": 1, 'dirigeants,': 2, 'communications,': 1, 'proprietair': 6, 'prestatair': 5, 'eat.': 1, 'soit;': 1, 'mobilieres,': 1, 'general,': 1, 'so': 3, 'titres,': 2, \"d'action\": 5, 'constitue': 2, 'const': 1, 'remoulag': 2, 'affutag': 2, 'psychomoteur.': 1, \"d'intervent\": 1, 'psychomotricite.': 1, 'precoc': 1, 'stimul': 1, 'psychomotrice.': 1, 'tro': 1, 'custom': 1, 'success': 1, 'etudi': 1, 'professionel': 1, 'plaquist': 2, 'assurances,': 1, 'rachat': 1, 'pret,': 1, 'banque.': 1, 'climatisation.': 2, \"l'anne\": 1, 'traiteur,': 3, '(san': 5, 'alcoolisees),': 1, 'massotherap': 1, 'joueur': 1, 'pok': 1, 'predomin': 1, 'psychologu': 1, 'clinicien': 1, 'professionnels)': 1, \"d'urgence,\": 1, 'rentr': 1, 'contact': 1, 'transporteur': 1, 'vrd': 1, '(raccord': 1, 'sous-traitance),': 1, 'preparatoir': 4, 'porter,': 1, 'linger': 1, 'monnaies,': 1, 'billets,': 1, 'medaill': 1, 'numismat': 1, 'billet': 2, 'vendeur': 6, 'location-vent': 1, 'complex': 1, 'golf,': 1, 'lenseign': 1, 'golf.': 1, 'sophrologie,': 2, 'relaxant,': 1, 'relaxologu': 1, 'peinture.': 1, \"d'echafaudag\": 1, 'referenc': 2, 'ambulanci': 1, 'aliment': 4, 'transfert': 3, 'argent': 1, 'poursuit': 1, 'universitaire.': 1, 'immeuble,': 2, \"d'architectur\": 1, \"l'entreprise;etudes,\": 1, 'mannequin': 1, '(ad': 1, 'capel': 1, 'masmolene)': 1, 'edition,': 2, 'publication,': 1, 'revu': 3, '\"le': 1, 'cahi': 1, 'litteratur': 1, 'orale\"': 1, 'souhait': 5, 'vendr': 3, 'patchwork,': 1, 'auss': 3, 'artisanaux.': 1, \"d'installation,\": 1, \"l'urbanisme,\": 1, 'recuper': 5, 'tri': 2, '70.21z': 1, 'lutt': 1, 'contr': 1, 'espec': 1, 'nuisibl': 1, 'toxiqu': 1, 'derive': 1, 'effarouchag': 1, 'accompagnement,': 2, 'zon': 1, 'rurale,': 1, 'neorural': 1, '(particuliers)': 1, 'taill': 3, 'sedentair': 2, 'ambulant.': 1, 'creatric': 1, 'bloggeux': 1, 'accessoires,': 4, 'parfumerie,': 1, 'perruques,': 1, 'mech': 1, 'maroquinerie,': 2, 'chez': 2, 'eco-tourist': 1, 'habitat': 1, 'leg': 1, \"d'espac\": 3, 'ebarbag': 1, 'fonderie.': 1, 'generalement,': 2, 'promotion,': 2, 'plusieur': 3, '(inclu': 1, 'android': 1, 'ios).': 1, 'kiosqu': 1, 'arbustes,': 1, 'pot': 1, 'cach': 1, \"l'habitat.\": 1, 'plan': 7, 'coup': 1, 'elevations,': 1, 'planch': 1, 'mobilier.': 1, 'reput': 1, 'couvreur,': 1, 'toiture,': 1, \"d'outils,\": 1, 'travaux.': 2, 'reportag': 2, 'photo': 1, 'portrait,': 1, 'mariage,': 1, 'independant.': 2, 'voitures.': 1, 'excercic': 1, 'repute': 1, 'agricole,': 2, 'apporte': 1, 'associes,': 3, 'achet': 2, 'membres.': 1, 'except': 1, \"d'appui\": 1, 'psychanalyst': 1, \"d'entretien,\": 1, 'soum': 3, '4759a': 1, 'crossf': 1, '(ap': 1, '9313z)': 1, 'btp,': 3, 'echafaudage,': 1, 'bennes,': 1, 'btp.': 2, 'fin': 7, \"d'enquet\": 2, 'portail': 3, 'design,': 2, 'interactifs.': 1, 'ophtalmologiste.': 1, 'associ': 4, 'france,': 1, 'depart': 2, \"d'outre-m\": 1, 'procedur': 2, 'papeter': 3, 'reflexologie.': 1, '-etr': 1, 'sante.': 1, 'pizzeria,': 4, 'sandwicherie,': 1, 'lait': 1, 'liquid': 2, 'brasserie,': 2, 'glacier,': 1, 'distance.': 1, 'tournages,': 1, 'post-production,': 1, 'graphisme.': 1, 'commissions,': 1, 'exportations,': 1, 'collecte,': 1, 'concern': 1, 'sol,': 2, 'grossist': 1, 'juridiques,': 2, 'turc': 1, 'francais,': 2, 'anglais.': 2, 'vulgaris': 1, 'poissonnerie,': 1, 'poisson': 1, 'mer,': 1, \"l'heberg\": 1, 'detache': 1, 'cables,': 1, 'fantaisie,': 1, \"s'ag\": 1, 'theatrales.': 1, 'vanner': 2, 'tressag': 1, \"d'osi\": 1, 'yoga,': 1, 'streetwear': 1, 'jogging': 1, 'pull': 1, 'bonnet': 1, 'casquet': 1, 'tee-shirts.': 1, 'ramassag': 1, 'papiers,': 1, 'mouchoirs,': 1, 'emballages,': 1, 'bouteil': 2, 'vdi': 1, '(societ': 1, 'onikh': 1, \"l'econom\": 1, 'quotidien.': 1, 'colis,': 1, 'coursier,': 1, 'marches,': 3, '(achat,': 1, 'etc.)': 2, 'immeubles,': 6, 'operationnelle.': 1, 'filial': 4, 'commercial,': 3, 'services.': 2, 'auteur': 1, 'kinesitherap': 1, \"d'apprentissag\": 1, 'natat': 1, 'public.': 1, 'mitoiter': 1, 'etancheit': 4, 'terrasses,': 2, 'depos': 1, 'descente,': 1, 'couvertin': 1, 'derenov': 1, 'construit': 2, 'tatouag': 2, 'equipe': 1, 'freelanc': 5, 'urbain': 1, 'suburbain': 1, 'parfum': 4, 'renouvelables.': 1, 'gest': 1, \"d'administr\": 1, \"d'immeubles;\": 1, 'ensembl': 2, 'commerce;': 2, \"l'ac\": 1, 'protecteur': 1, \"d'ecran\": 1, 'tremp': 1, 'iphon': 1, 'amazon': 1, 'vtc,': 1, 'par': 2, 'bris': 1, 'alcoolisees.': 1, 'depend': 1, 'regulier,': 1, \"l'inform\": 1, 'logiciels.': 1, \"l'architectur\": 1, '(son': 1, 'lumiere),': 1, 'administrative.': 1, 'serv': 2, 'vendeurs,': 1, 'acquereur': 1, 'appartements...': 1, 'loyer': 1, 'tva': 2, 'option': 1, 'adresse': 1, 'gestionnair': 1, 'si': 1, 'velo.': 3, 'chirurgical': 1, \"d'avocat\": 2, 'medical/para-medical/independ': 1, 'tpe': 1, 'pme': 1, \"d'enseign\": 1, 'particulier': 2, \"l'enseign\": 5, 'langu': 2, \"l'hypnos\": 1, 'ericksonien': 1, 'psycholog': 1, 'posit': 1, 'temporaire,': 1, 'recrut': 2, 'toilet': 2, 'moulin': 1, 'pure': 1, \"d'oleagineux,\": 1, 'actif': 3, 'mobiliers,': 1, 'diagnostiqueur': 1, 'conservation-restauration/': 1, 'prevent': 1, 'conservation-restaur': 1, 'vign': 3, 'pilates,': 2, 'dispens': 2, 'pilat': 1, 'dit': 2, 'reglemente': 3, 'verre,': 1, '2319z)': 1, 'savoir': 2, 'comptoir': 1, '(sal': 1, 'sucres)': 1, '(alcoolise': 1, 'alcoolisees).': 1, 'physicien': 1, 'psycho-energeticienne.': 1, 'quantiqu': 1, 'autour': 1, 'personnel.': 1, 'majeur': 2, 'ventil': 1, 'planif': 2, 'effect': 1, 'autres.': 1, \"c'est-a-dir\": 2, 'cr': 1, 'instruct': 1, 'publiques,': 2, 'canal': 1, \"d'occasion,\": 4, 'brocante,': 1, 'vide-greni': 1, 'mentionne': 1, 'premi': 1, 'alin': 1, \"l'articl\": 1, '1er': 1, 'loi': 2, 'n90-1258': 1, '31': 1, 'decembr': 1, '1990': 1, 'conformem': 1, 'interieure,': 1, '(mariage,': 1, 'bapteme,': 1, 'communion...),': 1, 'parfumes,': 1, 'bijoux,': 1, 'scrapbooking': 1, 'loeur': 1, 'employeur': 1, 'esthetienne,': 1, 'ongle': 1, 'disc': 1, 'jokey': 1, 'domin': 1, 'coutur': 2, 'telecommunication,': 2, 'don': 2, \"d'arab\": 1, 'desinsectisation,': 3, 'desinfection,': 2, 'deratisation,': 2, 'destruct': 1, 'nid': 1, 'frelons,': 1, 'guepes,': 1, \"d'abeil\": 1, '(exceptionnelle)': 2, 'chaudronne': 1, 'tuyauter': 1, 'e-commerce,': 1, 'internet.': 4, 'photovoltaique.': 1, 'logiciel,': 2, \"s'effectu\": 1, \"l'achat\": 12, 'statut': 2, 'lmnp.': 1, 'relax': 1, 'ateli': 4, 'apprentissag': 1, 'beb': 1, 'relfexolog': 1, 'palmair': 1, 'plantair': 1, 'client.': 4, 'adress': 1, 'indique': 1, 'uniqu': 2, 'typographiques,': 1, 'offset': 1, 'numer': 9, 'circuit': 1, 'excurs': 1, 'national': 2, 'international': 3, '-centr': 1, 'chauffeur-': 1, '-prestat': 1, 'interpretariat': 1, \"d'echang\": 1, 'clientele,': 1, 'ambulant,': 2, 'depot-vent': 2, 'pil': 1, \"d'accumul\": 1, \"d'espace.\": 1, 'sous-trait': 2, 'multi-servic': 1, 'manuels,': 2, 'collabor': 2, \"d'hygien\": 2, 'portr': 2, 'ni': 2, 'clientele)': 1, 'reglemente,': 1, 'regisseur': 1, 'evenementiel:': 1, \"l'evenement.\": 1, 'gar': 1, 'montage,': 2, 'demontag': 2, 'adequ': 1, 'besoin': 3, '(6201z)': 1, \"c'est\": 1, 'dir': 1, 'vu': 9, 'pr': 3, 'sages-femm': 2, 'tabac,': 2, 'valid': 1, 'loto': 2, 'francais': 4, 'jeux,': 2, 'biscuits,': 1, 'biscott': 1, \"l'enseignement,\": 1, 'conferenci': 1, 'visit': 1, 'musees,': 1, 'monuments,': 1, 'centres-vill': 1, 'groupes,': 1, 'anglaise.': 1, 'travailleur': 1, \"d'evenementiel\": 2, 'alcoolis': 1, 'lor': 2, 'robot': 1, 'primaire.': 1, 'gros.': 1, 'boulangerie-patisser': 1, 'fructifier,': 1, 'traver': 1, '(revendeurs)': 1, 'interven': 2, 'adapte': 1, 'besoins.program': 1, 'demantel': 1, \"d'epav\": 1, 'verts,': 1, \"d'expert-compt\": 1, 'inscript': 1, 'tableau': 1, \"l'ordr\": 1, 'experts-compt': 1, 'composit': 1, 'morceau': 1, 'genr': 4, 'rap': 1, 'hip-hop.': 1, 'inclu': 3, 'text': 3, 'velos': 1, '(carbon,': 1, 'acier,': 1, 'aluminium).': 1, 'communication.': 2, 'bateaux,': 1, 'nautiqu': 1, 'innov': 3, 'durabl': 1, 'videast': 1, 'achat/revent': 2, \"d'alcool\": 2, 'turque,': 1, 'digitale,': 3, 'synthes': 1, 'compte-rendus': 1, 'complet': 1, 'reunion': 3, 'entretiens.': 1, 'exemples:': 1, 'seches/': 1, '(evenements,': 1, 'foir': 1, 'salons;': 1, '(e-commerce);': 1, 'point': 4, '3,5': 2, 'ventilation,': 1, 'refriger': 1, 'cuisson': 2, 'group': 4, 'comptable,': 1, 'officin': 1, 'pharmac': 2, 'reglementee.': 1, \"l'etrang\": 7, 'operations,': 1, 'to': 3, 'cookies,': 1, 'biscuit': 2, 'pressing,': 1, 'blanchisserie.': 1, 'multipl': 2, 'piscine,': 2, \"l'appliqu\": 1, 'webflow': 1, 'createur': 4, 'pension': 3, 'kinesitherapeuth': 1, 'liverur': 1, 'domlicil': 1, 'locaux,': 1, 'facad': 4, 'maison,': 2, 'garage,': 3, 'jardin,': 1, 'import,export,achat,': 1, 'participations;': 1, 'conditionnement.': 1, 'eolien': 1, 'comptabilit': 2, 'base,': 1, 'tresorer': 2, 'vivant.': 1, 'licenc': 4, 'co-working,': 1, 'privat': 1, 'partages,': 1, 'domaines,': 2, \"l'administration...\": 1, '(assist': 1, 'informatique)': 1, 'secretariat,': 1, 'cereal': 2, 'riz),': 2, 'legumin': 2, 'legumes,': 3, 'melons,': 3, 'racin': 3, 'tuburcul': 3, 'electricien.': 1, 'logos': 1, 'chaqu': 1, 'client,': 1, 'marketing/communication.': 1, 'mobiliers.': 2, 'non-alcoolisees,': 1, 'foires,': 3, 'congr': 2, 'prospection,': 1, 'administratif.': 1, 'commercialisation,': 2, 'etude,': 2, 'cellul': 1, 'modul': 1, 'batteries.': 1, 'lui,': 1, 'pourvu': 1, 'modifient': 1, 'groupement,': 1, 'conform': 1, \"d'exploit\": 2, 'commun.': 1, 'multimedia,': 1, 'puericultur': 1, 'parentalit': 1, 'convoyeur': 5, 'mode,': 3, 'gros,': 2, 'export.': 1, 'maillot': 1, 'bain': 2, 'eft': 1, \"(l'emotional\": 1, 'freedom': 1, 'techniques)': 1, 'institu': 2, 'eventuel': 1, 'post-bac,': 1, 'bt': 1, 'ndrc,': 1, 'negoci': 3, 'reseaux.': 1, 'cfa,': 1, 'orga': 1, 'administratif,': 2, 'marketing.': 2, 'oil': 1, 'fir': 1, 'gas': 1, '(detect': 1, 'courri': 2, 'brasser': 3, \"l'accompagn\": 1, \"d'artist\": 1, 'musicien': 1, 'domicile,': 6, 'mobilite,': 1, \"l'exterieur\": 1, '...': 1, 'enlev': 1, 'emballe': 1, 'non.': 1, 'chargement,': 1, 'dechargement,': 1, 'tra': 1, 'vais': 2, 'marche.': 1, 'tiers.': 1, 'mettr': 1, 'serveur/barman': 1, 'sag': 1, 'femm': 1, 'peintr': 3, 'enduiseur': 1, 'cms,': 2, 'conventionne,': 1, 'pur,': 1, 'qualit': 5, \"d'ambulanci\": 1, 'cablage,raccord': 1, 'installaiton': 1, 'http.': 1, '(motorise)': 1, 'estheticien': 2, 'masseux': 1, 'diagnostic': 1, \"j'effectu\": 1, 'forc': 1, '(streetlifting),': 1, 'aucun': 1, 'rapatri': 1, '(convoyage)': 1, '(chiens,': 1, 'chats,': 1, 'nacs)': 1, 'traduction,': 4, 'retranscript': 1, 'sous-titr': 1, 'chiens,': 1, \"d'accessoires,\": 1, 'zoologiques.': 1, 'convoi': 1, 'utilitair': 2, 'foraines.': 1, 'maneges,': 1, 'divers,': 1, 'confiserie.': 1, 'paris.': 1, 'braderies.': 1, 'saft': 1, \"d'officine,\": 1, \"l'exclus\": 1, 'phar': 1, 'clef': 1, 'prives.': 1, 'team': 1, 'chiropracteur,': 1, 'ergotherapeute,': 1, 'osteopathe,': 1, 'psychomotricien': 1, 'lacquisit': 1, 'letat': 1, 'dachev': 1, 'achev': 1, 'dimmeubl': 1, 'indirectement,': 2, 're': 1, 'traducteur': 2, 'seniors,': 1, 'rel': 1, 'famille,': 1, 'proch': 2, 'emotionnel': 1, 'spi': 1, \"l'equid\": 1, 'mobilier/immobili': 1, 'exclusivement,': 1, 'assoc': 6, 'plate-form': 2, 'vitr': 1, 'chantiers,': 2, 'audiovisuele,': 1, 'post-product': 2, 'televises.': 1, 'artisanat': 2, 'vynil': 1, 'perfor': 1, '(le': 1, \"l'assur\": 1, 'incluent': 2, 'quotidien': 2, 'pai': 3, 'peripheriques.': 1, 'bonjour,': 1, 'guimbretier': 1, 'amel': 1, 'fondateur': 1, 'guimbess.': 1, 'comport': 1, 'domicile/': 1, 'balad': 1, 'individuelles.': 1, 'litterair': 2, 'revoit': 1, 'appel': 1, 'doit': 1, 'conclur': 1, 'medico-chirurgical': 1, 'tent': 1, 'total': 1, 'lit': 1, 'pend': 1, \"l'annee.\": 1, \"l'hebergement,\": 1, \"d'edit\": 2, 'appariel': 1, 'cameras,': 1, 'voix': 1, 'hauts,etc.': 1, 'enfin,': 1, 'accessoire,': 1, \"d'intermedi\": 1, 'assurances.': 1, 'parfumer': 3, \"d'appareillage,\": 1, \"d'expertise,\": 1, 'cablage,': 1, 'soudage,': 1, 'telecommunic': 1, 'produits.': 1, 'compren': 2, 'dejeuner': 1, 'pret-': 1, 'masculin': 1, 'feminin': 2, 'camping-car,': 1, 'fourgon': 1, 'combi-van': 1, 'amenage,': 1, 'bungalows.': 1, \"l'organis\": 4, 'food': 3, 'truck,': 3, 'alcool)': 1, 'francais/langu': 1, 'sign': 1, 'formatric': 1, 'complementaires.': 1, 'yog': 2, 'instrumentale,': 1, 'sons,': 1, 'sound': 1, \"l'objet\": 3, 'exist': 1, 'ven': 2, '(disques,': 1, 'spectacles,': 1, 'expositions,': 1, ',affiches,': 1, 'documents,': 2, 'oeuvres)': 1, '(vehicul': 1, 'utilitaires)': 1, 'fitness': 1, 'realiser,': 1, 'deten': 1, 'ced': 1, 'invest': 1, 'util': 1, '(servic': 1, 'financiere,': 1, 'nettoyage,': 5, 'repassage,': 2, 'ans,': 1, 'informatiqu': 1, 'distance,': 2, 'entretient': 2, 'dev': 1, 'snacking,': 2, 'bovin': 2, 'buffl': 2, \"d'interets,\": 1, 'quel(le)': 1, \"l'objet,\": 1, 'aptimiz': 1, '842614794': 1, \"d'agenc\": 2, 'immob': 1, \"qu'artist\": 1, 'individuel.': 1, 'recyclag': 2, \"l'amenagement,\": 4, 'perruqu': 1, 'tress': 1, 'dreadlocks.': 1, 'electroniques,': 1, 'etre,': 1, 'leasing,': 1, 'investissement,': 1, '(ongles,': 1, 'modelage,': 1, 'visag': 2, 'corps)': 1, 'placement,': 1, 'management,': 3, 'strategie,': 1, 'docteur': 1, 'electrochimique.': 1, 'jeun': 1, 'occasionnel': 1, 'dr': 1, 'automobiles,': 4, 'darticl': 1, 'bazar,': 2, 'del': 1, \"d'entreprise.\": 1, 'denerg': 2, 'immo': 1, \"l'alien\": 1, 'onereux,': 1, '4.5kwc': 1, 'esoterisme,': 1, 'guidanc': 1, 'paramedical': 2, 'psychomotricit': 1, 'mesure,': 1, '(cms)': 1, 'original': 3, '(principal': 1, 'vendu': 1, 'affich': 1, \"l'emission,\": 1, 'divertissements,': 1, 'culturelles,': 1, \"d'oper\": 3, 'disposition,': 1, 'forme,': 1, 'conducteur,': 1, 'exced': 2, 'ton': 1, 'poid': 1, 'maximal': 1, 'autoris': 1, '(entreposage,': 1, 'stockage)': 1, 'depositair': 1, 'derni': 1, 'kilometr': 1, 'plasticienne.': 1, 'technique:': 1, 'crayon': 1, 'couleur,': 1, 'encres,': 1, 'stylo.': 1, 'sculptur': 1, 'professionnelle.': 2, 'dj': 1, 'dans': 3, 'boit': 2, 'nuit': 1, 'snacking': 1, 'recreat': 2, 'main,': 1, 'personne.': 1, 'chantier,': 1, 'hai': 1, 'ca': 1, 'jutilis': 1, 'adob': 1, 'nuk': 1, 'achat-vente,': 1, \"l'apport\": 2, \"d'habitatio\": 1, 'scolair': 2, 'ligne,': 3, 'vitrines,': 2, 'logos,': 1, 'videos.': 2, 'developpement.': 1, 'bancair': 1, '(courtier),': 1, 'ornemental': 2, 'broc': 1, 'vid': 2, 'greni': 1, \"construction,l'amenag\": 1, 'alcoo': 1, 'opal': 1, 'bould': 1, \"l'importation,\": 1, 'chirurgiens-dent': 1, 'mem': 1, 'minoritaire,': 1, 'period': 1, 'guides,': 1, 'connexes.': 1, \"d'ergotherap\": 1, 'fantaisies,': 2, 'maroquineries,': 1, 'bonneteries,': 1, 'maquillages)': 1, 'carreleur.': 1, 'animatrice,': 1, 'parents-enf': 1, 'patronal': 1, 'consulair': 1, 'tiers,': 1, 'viticol': 2, 'permacol': 1, 'distributeur': 1, 'align': 1, 'marketing/vent': 1, 'automatisation.': 1, 'relocalis': 1, 'apre': 1, 'usa': 1, 'beaute.': 2, 'basket': 1, 'formation.': 2, 'coiffure,': 2, 'barbier,': 1, 'equipe.': 1, 'etrangeres,': 1, 'centralis': 1, 'electricie,intelligent': 1, 'artificielle,reseaux,': 1, ',chauffag': 1, 'climatisation,maconnerie,revet': 1, 'sol,peinture,nettoyag': 1, 'cheval': 2, 'equid': 1, 'dieteticien': 1, 'nutrititionniste:': 1, 'dietetiques,': 1, 'nutritionnelle,': 1, '(ardoise,': 1, 'zinguerie,': 2, 'tuile)': 1, 'renovation.': 1, 'ramonag': 2, 'cheminee.': 1, 'exceptionnel': 1, '(mediateur': 1, 'commerce)': 1, 'chemine': 2, 'ameublement,': 1, 'confort': 1, 'etre.': 1, 'ennobl': 1, 'recherche,': 1, 'amelioration,': 1, 'intellectuelle,': 1, \"l'int\": 1, 'holding.': 1, 'existan': 1, \"l'ateli\": 1, 'container': 1, 'amc2': 1, 'tricastin': 1, \"d'orano\": 1, \"l'objet.\": 1, 'trompet': 1, \"d'analyse,\": 1, 'pose)': 1, 'inter-entreprises)': 1, 'pharmaceutiques,': 1, 'hygiene,': 1, 'delectricit': 1, 'qi': 1, 'gong': 1, 'mand': 1, 'reno': 1, 'git': 2, 'conseiller': 2, 'partenair': 1, '(vdi)': 1, 'alcoolises,': 1, 'aperitifs,': 1, 'dillu': 1, 'present': 1, \"d'ident\": 1, 'concess': 1, 'soudur': 1, 'serrurer': 3, 'chaudronner': 1, 'luminair': 1, 'led;': 1, 'lacquisition,': 1, 'ladministr': 1, 'lexploit': 1, 'demolit': 3, 'cinematographiques,': 2, 'televis': 3, 'extent': 1, \"d'identit\": 1, 'visuelle-realis': 1, 'management-': 1, \"d'illustr\": 1, 'fermeture,': 1, 'serrurerie,': 1, 'automatisme,': 1, 'menuiserie,': 1, 'pvc,': 1, 'development': 1, 'internet,': 1, 'impressions,': 1, \"main-d'oeuvr\": 1, 'menage,': 1, 'rituels,': 1, 'esoterique,': 1, 'reik': 1, 'supports,': 1, \"l'edit\": 1, \"-l'affili\": 1, \"d'entreprise,\": 1, 'associe': 1, 'affili': 1, 'elle-mem': 1, 'licence,': 1, 'concession,': 1, 'franchise,': 1, 'cooperative,': 1, 'gi': 1, \"d'effet\": 1, 'licence.': 1, 'paysagisme,': 1, 'manutention,': 1, 'high-tech,': 2, 'alcoolisees,': 2, 'magnetiseur': 2, 'energeticien': 1, 'hypnotherap': 1, 'france.': 1, 'met': 1, 'vacanci': 2, 'exterieures,': 1, 'bord': 1, '6831z': 1, 'laboratoir': 3, 'cosmetique.': 1, 'tutorat': 2, \"d'acc\": 1, 'voix,': 1, 'son': 1, 'teleco': 1, 'plis': 1, 'lettr': 1, 'plater': 1, '(e-commerce)': 1, 'artisan': 1, 'bijouti': 1, 'joailli': 1, '(fabriqu': 1, 'or': 1, 'argent)': 1, '(mem': 1, 'immobilieres),': 1, 'bureautique/informat': 1, 'paturag': 1, 'mouton': 1, 'agricultur': 1, 'biolog': 1, 'specialit': 1, 'italien': 1, 'immeubles.': 2, 'quantit': 1, 'ecrite,': 1, 'radio,': 1, 'parquet,': 1, 'terrasse,': 1, \"l'etude,\": 1, \"l'edition,\": 1, 'mobiles...': 1, 'legisl': 1, 'reglementair': 1, \"l'embranch\": 1, 'fibres.': 1, 'context': 1, 'var': 1, 'liv': 1, \"d'agricultur\": 1, 'valoris': 3, 'terroir,': 1, 'electricien,': 1, 'modif': 1, 'neuv': 2, 'gfa': 1, 'cyneget': 1, 'piscicol': 1, 'investissements.': 1, 'recherche.': 1, 'secretariat': 3, 'velo,': 3, 'hypnotherapeut': 1, 'cheffer': 1, '(assurance,': 1, 'vie,': 2, 'prevoyance,': 1, 'lieux': 3, \"d'entre\": 1, 'auditeur': 1, \"l'humanitair\": 1, '(mission': 1, 'commiss': 1, 'friper': 1, 'geometr': 2, 'pizzas,': 2, 'pates,': 1, 'salad': 1, 'dessert': 2, 'finis.': 1, 'interpretation,': 2, 'localisation,': 1, 'relecture,': 1, 'post-edition,': 1, 'revision,': 1, 'linguist': 1, 'demoussag': 2, 'maisons.': 1, 'mains,': 1, 'bricolage.': 1, 'revetements.': 1, 'toiture.': 1, \"d'ingenier\": 1, 'technique,': 1, 'produits,': 2, 'intellectuelle.': 3, 'presse,': 2, \"l'imag\": 1, 'communicat': 1, 'acquis,': 1, 'acquisiiton,': 1, 'ii': 1, 'tropical': 2, 'subtropical': 2, 'cegebtp.': 1, 'lithotherapie,': 1, 'coupl': 1, 'transit': 2, 'conditionnement,': 1, 'dermatologique,': 1, 'capillaire,': 1, 'detail,': 1, 'demi-gros': 1, 'vl': 1, 'pl,': 1, 'orthophon': 1, 'convention': 1, 'vitres,': 1, 'bureaux.': 1, 'mobilhom': 1, 'uccup': 1, 'diffuseur': 1, '.commerc': 1, 'anime,': 1, 'entrain': 1, 'veil': 1, 'securite.': 1, 'observ': 1, 'metaller': 2, 'serrurerie.': 1, 'luxe.': 1, \"s'occup\": 1, 'propriete': 1, 'amincissement,': 1, 'finance.': 1, 'depoussierag': 1, 'civiles.': 1, '3511z': 1, 'repas,': 2, 'locations,': 1, 'placement.': 1, 'enver': 1, 'participations.': 1, 'groupe.': 1, 'direction,': 2, 'question.': 1, 'indivis': 1, 'revaloris': 1, 'entit': 3, 'maritime,': 1, 'instruction,': 1, 'manoeuvr': 1, 'parcour': 1, 'grue,': 1, 'import/export': 1, 'toler': 1, 'vitrag': 1, 'auto.': 1, 'dheberg': 1, 'tissu': 1, '-apt': 1, 'fiscale:': 1, '315650445597': 1, 'traitanc': 1, \"l'alimentair\": 1, 'chronopost.': 1, 've': 1, 'plaisanc': 1, 'articles,': 1, 'droguerie.': 1, 'proposit': 1, 'creatif': 1, 'elevage,': 1, 'dressag': 2, 'entrainement)': 1, 'cours,': 1, 'collectifs,': 1, 'sans.': 1, 'impression,': 1, 'flocage,': 1, 'broder': 1, 'objets,': 1, 'adhesifs,': 1, 'serigraphique,': 1, 'lam': 1, 'foret': 1, \"d'ingenieur\": 1, \"l'\": 2, 'depanag': 1, 'instal': 1, 'materielles.': 1, 'fossoyag': 1, 'terrassement,': 2, \"l'ouvertur\": 1, 'fermetur': 2, 'caveau': 1, 'offert': 1, '(saas).': 1, 'pizzeri': 4, '6201z': 1, 'table,': 1, 'sen': 2, 'videaste.': 1, 'ident': 1, 'mobilit': 1, 'reduit': 1, 'animation,': 1, 'ponctuel': 1, 'bureaux,': 4, 'locataires,': 1, 'remis': 3, \"d'homm\": 1, 'emprunteur': 1, '6619b)': 1, 'osteopath': 2, 'alchimi,': 1, 'shampouineuse,': 1, 'pinceau,': 1, 'karsher,aspirateur,': 1, 'micro': 2, 'orthopedagogu': 1, '(avocat)': 1, 'est,': 1, 'proprietaire.': 2, 'culturels,': 1, 'traditionnel,': 2, 'cir': 1, 'ragreag': 2, 'blog': 1, 'reglementes),': 1, 'domaines.': 1, '(%)': 1, 'piscines,': 1, \"d'habit\": 2, \"l'import-export,\": 1, 'brute.': 1, 'particuliere,': 1, 'demonstrateur.': 1, 'propres,(immeubl': 1, 'residentiel': 1, 'habitation,': 1, 'residentiels,...),': 1, 'lotissements.': 1, 'assistance,': 2, 'extern': 1, 'notamment,': 1, 'formalit': 2, 'administratives,': 1, 'relanc': 1, 'creanc': 1, '(contenu': 1, 'ugc).': 1, 'manier': 1, 'salaison': 1, 'fdj,': 1, 'pmu,': 1, 'proposon': 1, 'ages.': 1, 'individu': 1, 'bouch': 1, '-electricit': 1, 'faibl': 1, 'fort.': 1, '-immotique,': 1, 'communicant.': 1, '-domot': 1, 'stand': 2, \"d'automat\": 1, 'it': 2, \"'optimis\": 1, 'environ': 1, 'energie.': 1, '7112b': 1, 'snack': 1, 'livraison.': 2, 'publicitaires,': 3, 'term': 1, 'photo,': 2, 'psychocorporel': 1, '(aid': 1, 'toilette,': 1, 'coucher...)': 1, 'joailler': 1, 'session,': 1, 'meditation,': 1, 'nidr': 1, 'biodanz': 1, 'transction': 1, 'transcription,': 1, 'sous-titrage,': 1, 'doublage,': 1, 'relectur': 1, 'civil,': 1, 'granit,': 1, 'cils,': 1, 'ligne.': 2, \"d'assainissement,\": 1, 'chemin': 1, \"d'acces,\": 1, 'terrassements,': 1, 'dallages,': 1, 'pavages,': 1, 'enrochements,': 1, 'reseaux,': 2, 'enrobes,': 1, 'bicouches,...': 1, 'simpl': 1, 'promess': 1, 'universel.': 1, 'courses,': 1, 'ape2899b': 1, 'idcc1472': 1, 'forme.': 1, 'gadget': 1, 'certif': 1, 'qhse': 1, '(iso,': 1, \"l'amelior\": 1, 'emiss': 1, 'ser': 1, 'liege,': 1, 'sparter': 1, '(infrastructure,': 1, 'reseau).': 1, 'rh': 2, 'paie,': 1, 'necessit': 1, 'sac': 1, 'immobilieres.': 2, '(officin': 1, 'pharmacie)': 1, 'nuite': 1, 'airbnb': 1, 'booking': 1, 'trouv': 1, 'adaptees,': 1, 'prix': 1, 'etabl': 2, 'location.': 1, \"l'i\": 1, 'avance': 1, 'examen': 1, 'delf.': 1, 'html,': 1, 'css': 1, 'javascript': 1, 'crepis,': 1, 'facade,isolation,': 1, 'restaurant.': 1, 'portes,': 1, 'fenetres,': 1, 'volets,': 1, 'protect': 1, 'fermetures,': 1, 'clotures,': 1, '5629b': 1, 'polyvalent': 1, 'issus': 1, 'francais.': 1, 'architecural': 1, 'documentaire:': 1, 'pag': 2, 'lien': 2, 'competences,': 1, 'stress,': 1, 'peut': 1, 'blanchisserie,': 1, \"d'activites,\": 1, 'animations,': 1, 'voiture,': 1, 'bagager': 1, 'approch': 2, 'rse': 2, 'desherbage,': 1, 'arrosag': 1, 'sepultur': 1, 'vert': 2, 'deriv': 1, \"d'ambassadeur\": 1, 'equin.': 1, 'chevaux.': 1, 'transitaire,': 1, \"d'import\": 1, 'service,': 1, 'esthetiques,': 1, 'bagagerie,': 1, 'electro': 1, 'menager,': 1, 'textile,': 1, 'telephone,': 1, '(coursier,': 1, 'eat,': 1, 'deliveroo...)': 1, 'exterieur-': 1, 'compartiment': 1, '(de': 1, 'locatair': 2, 'co-location)': 1, '(pdf,': 1, 'images,': 1, 'templates...)': 1, 'gym,': 1, 'zumba,': 1, 'renforc': 1, 'musculaire,': 1, 'marche,': 2, 'mobilite....)': 1, 'europ': 1, 'dispos': 1, 'genres,': 1, 'etc..': 1, 'crep': 2, 'syrien': 1, 'sale': 1, 'sucre': 1, 'appartements,': 1, 'usines,': 1, 'magasins,': 1, 'flyer': 1, 'bannieres,': 1, 'campagn': 1, 'gouvern': 1, \"d'information.\": 1, 'psychogenealogie,': 1, 'therap': 1, 'liber': 1, 'schem': 1, 'repetit': 1, 'familial.': 1, 'patient': 2, 'alien': 1, \"l'ingenierie,\": 1, 'imm': 1, 'pilotag': 1, \"d'investissements,\": 1, 'confiserie,': 1, 'fete,': 1, 'confection,': 1, 'paris,': 1, 'sold': 1, 'deejay': 1, 'mariages,': 1, 'anniversaires,': 1, \"d'entreprise...\": 1, 'boucherie,': 1, '(vent': 2, 'ambulante)': 1, 'stock': 1, 'revend': 1, 'ensuit': 1, \"d'entrain\": 1, 'seminair': 1, 'perruque,': 1, 'cinema,': 1, 'theatre,': 1, 'bim,': 1, 'maquet': 1, 'architectural': 1, 'fais': 1, \"m'occup\": 1, \"d'eux\": 1, '\"babysitting\"': 1, 'visuel,': 1, 'graphic': 1, \"l'integr\": 1, 'progiciel': 1, 'crm': 1, 'salesforc': 1, 'haut': 2, \"d'informations.\": 1, 'cuisines,': 2, 'trasnportreur': 1, 'repassag': 1, 'regional': 1, 'sal': 1, 'customis': 1, 'residentiels,': 1, 'desinfection.': 1, 'non-professionnel': 1, 'tach': 1, 'meublee,': 2, 'bien,': 1, 'dejeun': 1, 'commissariat': 1, 'biens.': 1, 'facilit': 2, 'real': 2, 'ventr': 1, 'seche': 1, \"l'ameubl\": 1, 'prescript': 1, 'selon': 1, 'diettiqu': 1, 'demenagement,': 1, 'transports,': 1, 'encombrants.': 1, 'funebr': 1, 'parisien': 1, 'snack,': 1, 'details,': 1, 'plag': 1, 'prives,': 1, 'occasionnel.': 1, 'privee,': 1, 'saisonniers:': 1, 'cle,': 1, \"d'appel\": 1, 'emporterorganis': 1, 'guyan': 1, 'hexagonalegest': 1, 'commerciauxnegoc': 1, 'franchis': 1, 'culinaires,': 1, \"l'hotellerie-restaur\": 1, '(moin': 1, '400': 1, 'm2)': 1, 'fonnk': 1, 'lectur': 1, 'chant': 1, 'livrer,': 1, 'personnalit': 1, '(nettoyag': 1, 'durees...)': 1, 'entrees/sort': 1, 'rbnb': 1, 'green': 1, 'fablab': 1, 'upcycling': 1, 'alu': 1, 'consommation,': 1, 'jouets,': 2, 'concurrents,': 1, 'attent': 1, \"l'ecout\": 1, 'formalis': 1, 'charpente.': 1, 'method': 1, 'rosen': 1, 'interim': 1, 'professionnel.': 1, 'immobiliere.': 1, 'sanitaires.': 1, 'activite.': 1, 'bon': 1, 'commandes,': 1, 'recouvrement.': 1, \"d'ovin\": 1, 'caprin': 2, 'cirqu': 1, 'parkour': 1, 'dequip': 1, \"d'assain\": 1, 'charge': 1, \"d'anim\": 1, 'communaut': 1, 'exterieurs,': 1, 'palet': 1, 'occas': 2, 'epav': 2, 'glacerie,': 1, 'patisserie,': 1, 'boulangerie,': 1, 'viennoiserie,': 2, \"d'urgenc\": 1, 'graphiques:': 1, 'exemple-': 1, 'murals,': 1, 'sculptures,': 1, 'tableaux,': 1, 'digitaux.': 1, 'immobiliers;': 1, 'artiste-peintre,': 1, 'tableaux.': 1, 'toil': 2, 'formats.': 1, 'pret-a-porter,': 1, 'sur-mesure,': 1, 'chaussures.': 1, 'infograph': 1, 'clip': 1, 'audios': 1, 'documentair': 1, \"l'edif\": 1, 'lesdit': 1, \"d'habitation.\": 1, 'acquis': 1, 'societe.': 1, 'conclus': 1, 'credit-': 1, 'duree.': 1, 'signatur': 1, 'elle.': 1, 'garant': 1, 'commerciaux.': 1, 'musicales,': 1, 'soire': 1, 'disc-jockey.': 1, 'culturelle,': 1, 'theatr': 1, 'spectacle.': 1, \"d'heberg\": 1, 'hoteli': 1, 'para-hoteli': 1, 'hotelier': 2, 'microentrepris': 1, 'multiservice,': 1, ';transport': 1, 'voyageurs;': 1, 'chantier.': 1, '(cafe)': 1, 'aluminium': 1, 'oeuvre:': 1, 'fondat': 1, ',dallag': 1, ',traval': 1, 'rehabilitation,': 1, 'coffrag': 1, 'brocanteur': 1, 'ligne)': 1, 'photographe-videast': 1, 'toitures,': 1, 'chapeau': 1, \"d'handicap,\": 1, 'agees,': 1, 'quotidienne.': 1, 'perinatal': 1, 'domicile:': 1, 'bebe,': 1, 'thalasso,': 1, 'reflexolog': 1, 'maman,': 1, 'allaitement,': 1, 'sommeil': 1, 'touristique,': 1, 'duree,': 1, 'para-hotelier,': 1, 'arab': 1, '(tout': 1, 'cuisine),': 1, 'epicer': 3, 'fine.': 1, 'conferent': 1, 'etc': 1, 'vitrail': 1, '(entrepises,': 1, 'particuliers)': 1, \"d'evenementiel.\": 1, 'roulants,': 1, 'motos': 2, 'cafeteria,': 1, 'italiens,': 1, 'creperie,': 1, 'logistique,': 1, 'mecanique,': 3, 'chaudronnerie,': 1, 'amus': 1, 'ferraill': 1, 'enduit': 1, 'droit.': 1, 'titulair': 1, 'vill': 1, 'sis': 2, 'avenu': 1, 'rivalet,': 1, 'gassin': 1, '83580,': 1, 'enregistre': 1, 'cadastr': 1, 'consulting,': 1, 'techniques/manuels,': 1, '(material': 1, 'composites,': 1, 'plastiques)': 1, 'hydraulique.': 1, 'administratifs,': 1, 'affret': 1, '14-18': 1, 'ru': 1, 'berlin': 1, '77144': 1, 'montevrain,': 1, 'carrelage,': 1, 'infographie,': 1, \"d'image,\": 1, 'impress': 1, 'metropolitain': 1, 'maintenance,': 1, 'sous-traitance,': 1, 'strategiques.': 1, 'man': 1, '(suv,': 1, 'gamme,': 1, 'tourisme)': 1, ';achat': 1, 'apprentissage,': 1, 'jury': 1, 'supplementair': 1, \"qu'assist\": 1, '(e)': 1, 'dirigeant,': 1, 'ferrailleur': 1, 'spiritueux,': 1, 'alcools,': 1, 'fine,': 1, 'decorateur,': 1, 'etalagiste,': 1, 'merchandising,': 1, \"d'espaces,\": 1, ',cuisson': 1, 'droit,': 1, 'viennoiseries,': 1, 'paton': 1, 'surgeles,': 1, 'sublim': 1, '(objet': 1, 'deco,': 1, 'etc...)': 1, '(vtc).': 1, 'pains,': 1, 'sandwichs,': 1, 'quich': 1, 'parquet.': 1, 'chappe.': 1, 'joint': 1, 'organisationel': 1, 'essm': 1, 'fragil': 1, 'vulner': 1, 'inspect': 1, 'piscine.': 1, \"d'access\": 1, 'principale.': 1, 'bateaux-jouet': 1, 'luxembourg': 1, 'sandwicher': 1, 'pokemon': 1, 'comprend': 1, 'vrac': 1, 'progiciels,': 1, 'secretair': 1, 'provid': 1, 'artistic': 1, 'and': 1, 'professional': 1, 'classical': 1, 'musicians.': 1, 'pedicur': 1, 'podologu': 1, 'grac': 1, 'calcair': 1, 'gypse,': 1, 'crai': 1, \"d'ardois\": 1, 'filaires,': 1, 'balloon': 1, \"l'ensembl\": 1, 'techniques,': 1, 'chauffeur),': 1, 'automobile,': 1, 'remorquag': 1, \"l'automobil\": 1, 'automob': 1, 'operationnelle,': 1, 'rehabilit': 1, 'gestion,,': 1, '(gestion,': 1, 'administratif)': 1, 'expert': 1, 'defin': 1, 'mai': 1, '1946': 1, 'decret': 1, 'rapportant.': 1, 'but': 1, \"d'enduit\": 1, 'nautiques.': 1, 'occasions.': 1, 'carrosserie,': 1, 'dep': 1, \"d'express\": 1, 'mediat': 1, 'mobilis': 1, 'et/': 1, \"l'intelligent\": 1, 'artificielle.': 1, 'programmation,': 1, '(anthropologie,': 1, 'sociologie,': 1, 'histoire)': 1, 'publiques.': 1, 'ovin': 1, 'travaux;': 1, '-entrepris': 1, ',galet': 1, 'galet': 1, 'demar': 1, 'masseur-kinesitherapeut': 1, 'prepares,': 1, 'maisons,': 1, 'confection': 1, \"d'aud\": 1, 'administrations,': 1, 'morales,': 1, 'pub': 1, 'desserts,': 1, 'lapport,': 1, 'traditionnelle,': 1, 'salles,': 1, 'boissons,': 1, 'brasserie.': 1, 'generalem': 1, 'classe': 1, 'ailleur': 1, 'non-aimentair': 1, 'souscript': 1, 'capital,': 1, 'ci': 1, 'vocat': 1, 'esthetique,-': 1, 'pied': 1, 'vocatio': 1, 'administration.': 1, \"j'ecr\": 1, 'publ': 1, 'roman': 1, '(kdp': 1, 'kobo)': 1, 'version': 1, 'ebook': 1, 'papier.': 1, 'arriv': 1, 'electrogen': 1, \"l'humain\": 1, 'couverur': 1, 'manager.': 1, 'definit': 1, 'sociaux.': 1}\n",
      "word_id_mapping: {'terrain': 1, 'parc': 2, 'vehicul': 3, 'loisir': 4, 'fabriqu': 5, 'vet': 6, 'travail': 7, 'commerc': 8, 'gros': 9, '(commerc': 10, 'interentreprises)': 11, \"d'ordinateurs,\": 12, \"d'equip\": 13, 'informat': 14, 'peripher': 15, 'logiciel': 16, 'recherche-developp': 17, 'caoutchouc': 18, \"d'autr\": 19, 'produit': 20, 'chimiqu': 21, 'n.c.a.': 22, 'extract': 23, 'pharmaceut': 24, 'bas': 25, 'cultur': 26, 'plant': 27, 'fibr': 28, 'machin': 29, 'general': 30, 'textil': 31, 'construct': 32, 'gen': 33, 'civil': 34, 'servic': 35, 'annex': 36, 'locat': 37, 'video': 38, 'enseign': 39, 'conduit': 40, 'repar': 41, \"d'articl\": 42, \"d'horloger\": 43, 'bijouter': 44, 'heberg': 45, 'medicalis': 46, 'enfant': 47, 'handicap': 48, 'materiel': 49, 'ferroviair': 50, 'articl': 51, 'detail': 52, 'boisson': 53, 'magasin': 54, 'specialis': 55, 'gestion': 56, 'sall': 57, 'spectacl': 58, 'mer': 59, 'metallurg': 60, 'agricol': 61, 'forestier': 62, 'mineral': 63, 'non': 64, 'metall': 65, 'trait': 66, 'recolt': 67, 'location-bail': 68, 'equip': 69, \"d'appareil\": 70, 'sanitair': 71, 'decor': 72, 'product': 73, 'metal': 74, 'papi': 75, 'carton': 76, 'fruit': 77, 'outillag': 78, \"d'el\": 79, 'matier': 80, 'plastiqu': 81, 'activit': 82, 'carrosser': 83, 'promot': 84, 'immobilier': 85, 'bat': 86, 'social': 87, 'central': 88, \"d'achat\": 89, 'alimentair': 90, 'physiqu': 91, 'transport': 92, 'maritim': 93, 'fret': 94, 'autr': 95, 'organis': 96, 'jeux': 97, 'oleagin': 98, 'tabac': 99, 'accueil': 100, 'accompagn': 101, 'san': 102, \"d'adult\": 103, 'person': 104, 'age': 105, 'fonder': 106, 'ferreux': 107, 'voi': 108, 'surfac': 109, \"d'al\": 110, 'cabl': 111, 'optiqu': 112, 'graiss': 113, 'similair': 114, 'meubl': 115, 'dechet': 116, 'danger': 117, 'huil': 118, 'longu': 119, 'dure': 120, 'voitur': 121, 'automobil': 122, 'leger': 123, 'verr': 124, 'prepar': 125, 'industriel': 126, 'viand': 127, 'condition': 128, 'transform': 129, 'conserv': 130, 'terr': 131, 'jouet': 132, 'patisser': 133, 'edit': 134, 'distribu': 135, 'elevag': 136, 'animal': 137, 'support': 138, 'jurid': 139, 'programm': 140, 'compos': 141, 'electron': 142, 'telecommun': 143, 'electr': 144, 'patrimoin': 145, 'mobili': 146, 'min': 147, 'musical': 148, 'pat': 149, 'frigorif': 150, 'volaill': 151, 'reproduct': 152, 'centr': 153, 'collect': 154, 'banqu': 155, 'ceram': 156, 'usag': 157, 'techniqu': 158, 'cuisin': 159, 'aerien': 160, 'passager': 161, 'cuir': 162, 'fil': 163, 'plat': 164, 'maroquiner': 165, 'voyag': 166, 'administr': 167, 'march': 168, 'financi': 169, 'outil': 170, 'developp': 171, 'command': 172, 'crustac': 173, 'mollusqu': 174, 'intermediair': 175, 'textiles,': 176, 'chaussur': 177, 'boucher': 178, \"d'emballag\": 179, 'bois': 180, 'vin': 181, 'piec': 182, 'oper': 183, 'menag': 184, 'tant': 185, 'producteur': 186, 'propr': 187, 'install': 188, 'mecan': 189, 'concept': 190, 'sit': 191, 'control': 192, 'processus': 193, 'machines-outil': 194, \"d'entretien\": 195, 'foresti': 196, \"d'aid\": 197, 'reseau': 198, 'bureau': 199, 'log': 200, 'film': 201, 'aid': 202, 'agenc': 203, 'factur': 204, 'societ': 205, \"d'inform\": 206, 'financier': 207, 'professionnel': 208, 'electromenager': 209, 'restaur': 210, 'sous': 211, 'contrat': 212, 'charpent': 213, 'menuiser': 214, 'froid': 215, 'connex': 216, 'gaz': 217, 'naturel': 218, 'grain': 219, 'auxiliair': 220, 'courtag': 221, 'valeur': 222, 'mobilier': 223, 'marchandis': 224, 'combustibl': 225, 'gazeux': 226, 'peintur': 227, 'grand': 228, \"d'ouvrag\": 229, \"d'art\": 230, 'personnel': 231, 'domest': 232, 'pech': 233, 'eau': 234, 'douc': 235, 'exploit': 236, 'fluvial': 237, 'platr': 238, 'legum': 239, 'faconnag': 240, 'construction,': 241, 'spatial': 242, 'stockag': 243, '(a': 244, \"l'except\": 245, 'ordin': 246, \"d'assur\": 247, 'caiss': 248, 'retrait': 249, 'premier': 250, 'superieur': 251, 'publiqu': 252, 'econom': 253, 'interurbain': 254, 'voyageur': 255, 'system': 256, 'artificiel': 257, 'metalliques,': 258, 'chain': 259, 'jardin': 260, 'reserv': 261, 'confiser': 262, 'fleur': 263, 'securit': 264, 'specif': 265, \"d'huil\": 266, 'industr': 267, 'tourist': 268, \"d'animal\": 269, 'viv': 270, 'organ': 271, 'beton': 272, 'meubles,': 273, 'moteur': 274, 'assur': 275, 'vi': 276, 'entretien': 277, \"d'isol\": 278, 'isol': 279, 'soutien': 280, 'public': 281, 'navir': 282, 'structur': 283, 'traval': 284, \"d'install\": 285, 'chauffag': 286, \"l'industr\": 287, 'chauffeur': 288, 'maison': 289, 'beton,': 290, 'menager': 291, 'peintures,': 292, 'diffus': 293, \"d'eau\": 294, 'scientif': 295, 'maill': 296, 'revet': 297, 'mur': 298, 'sol': 299, 'sport': 300, 'panneau': 301, 'pneumat': 302, 'tabl': 303, 'commun': 304, 'gener': 305, 'evalu': 306, 'vis': 307, 'livr': 308, 'pret': 309, 'affair': 310, 'adult': 311, 'the': 312, 'caf': 313, 'medical': 314, 'cart': 315, 'sieg': 316, \"d'interieur\": 317, 'complementair': 318, 'publicitair': 319, 'medi': 320, 'permanent': 321, 'consomm': 322, 'cour': 323, 'hor': 324, 'formation,': 325, 'sociaux,': 326, 'terrass': 327, \"d'eclairag\": 328, 'intermedi': 329, \"d'electricit\": 330, 'mainten': 331, 'fournitur': 332, 'plomber': 333, 'tapis': 334, 'the,': 335, 'bien': 336, 'sondag': 337, 'accessoir': 338, 'correspond': 339, 'port': 340, 'manutent': 341, 'sauf': 342, 'transmiss': 343, 'photograph': 344, 'sucr': 345, \"d'appliqu\": 346, 'musiqu': 347, 'conseil': 348, 'cabinet': 349, 'vent': 350, 'artisanal': 351, 'bijoux': 352, 'objet': 353, 'tout': 354, 'particuli': 355, 'energ': 356, 'photovolta': 357, 'meuble': 358, \"l'acquisition,\": 359, \"d'achat,\": 360, \"d'apport\": 361, 'autrement,': 362, 'detention,': 363, \"l'administration,\": 364, 'et/ou': 365, 'tous': 366, 'mission': 367, 'entreprises,': 368, 'redact': 369, 'rapport': 370, 'suiv': 371, 'rattach': 372, 'direct': 373, 'indirect': 374, 'cet': 375, 'fair': 376, 'traditionnel': 377, 'plac': 378, 'alcool': 379, 'fabrication,': 380, 'architectur': 381, 'transformation,': 382, 'restauration,': 383, 'montag': 384, 'suit': 385, 'acquisition,': 386, 'immeubl': 387, 'renov': 388, 'ains': 389, 'plus': 390, 'second': 391, 'design': 392, 'web': 393, 'commercial': 394, 'local': 395, 'concierger': 396, 'loueur': 397, 'agent': 398, 'immobili': 399, 'independ': 400, 'prothes': 401, 'ongulair': 402, 'fonction': 403, 'adhes': 404, 'volontair': 405, 'cosmet': 406, 'acte': 407, 'creation': 408, 'entrepris': 409, 'particuliers.': 410, 'infirmier': 411, 'liberal': 412, 'plomberie,': 413, 'petit': 414, 'electricite,': 415, 'pet': 416, 'jardinage,': 417, 'piscin': 418, 'nettoyag': 419, 'depannag': 420, 'mis': 421, 'achat': 422, 'raccord': 423, 'sportif': 424, 'auto,': 425, 'decoration,': 426, \"d'even\": 427, 'decoration.': 428, 'production,': 429, 'conception,': 430, 'realisation,': 431, 'typ': 432, 'reglementes,': 433, 'not': 434, 'conciergerie.': 435, 'transact': 436, 'fond': 437, 'apporteur': 438, 'prestat': 439, 'contenus': 440, 'domicile.': 441, 'recharg': 442, 'encadr': 443, 'competit': 444, '(vtc)': 445, 'natur': 446, 'vetements,': 447, 'scienc': 448, 'humain': 449, 'lign': 450, 'domicil': 451, 'etat': 452, 'futur': 453, \"d'achev\": 454, 'acheves,': 455, \"l'apport,\": 456, 'propriete,': 457, 'valeur,': 458, \"l'amen\": 459, 'bail,': 460, 'immobiliers,': 461, 'interieur': 462, 'exterieur': 463, 'cadr': 464, \"d'un\": 465, 'club': 466, 'art': 467, \"l'administr\": 468, \"l'exploit\": 469, 'revente,': 470, 'comm': 471, 'gestion,': 472, 'mod': 473, 'neuf': 474, 'aupr': 475, 'enfants,': 476, 'domain': 477, 'livreur': 478, 'velo': 479, 'pris': 480, 'particip': 481, 'cree': 482, 'constitu': 483, 'ger': 484, 'ingenier': 485, 'etud': 486, 'realis': 487, 'projet': 488, 'homm': 489, 'main': 490, \"d'oeuvr\": 491, 'artist': 492, 'different': 493, 'anim': 494, \"d'ateli\": 495, \"l'acquisit\": 496, 'moyen': 497, \"d'apport,\": 498, 'droit': 499, 'immobiliers.': 500, 'charg': 501, 'individuel': 502, 'cession,': 503, 'supermarch': 504, 'livraison': 505, 'cours': 506, 'rep': 507, \"d'entrepris\": 508, \"d'objet\": 509, 'part': 510, 'franc': 511, 'prive': 512, 'photos': 513, 'retouch': 514, 'recherch': 515, \"d'occas\": 516, 'meti': 517, 'exerc': 518, 'conducteur': 519, 'routi': 520, 'electricit': 521, \"d'entreprises,\": 522, 'priv': 523, 'cod': 524, 'graphism': 525, 'communication,': 526, 'bilan': 527, 'revent': 528, 'jour': 529, 'administration,': 530, 'disposit': 531, 'thermiqu': 532, 'climatis': 533, 'acquisit': 534, 'propriet': 535, 'traduct': 536, 'interpret': 537, \"d'exercic\": 538, 'audiovisuel': 539, 'vehicules.': 540, 'negoc': 541, 'commercialis': 542, 'conciergerie,': 543, 'relat': 544, 'even': 545, 'conseil,': 546, 'achat,': 547, 'vente,': 548, 'compt': 549, 'tier': 550, 'pratiqu': 551, 'dentair': 552, 'distanc': 553, 'catalogu': 554, 'entretien,': 555, 'exploitation,': 556, 'maitr': 557, 'diver': 558, 'solut': 559, 'portefeuill': 560, 'titr': 561, 'generale,': 562, 'apport,': 563, 'amenagement,': 564, 'format': 565, 'objet,': 566, 'manag': 567, 'developpeur': 568, 'lavag': 569, 'fait': 570, 'prof': 571, 'ape': 572, '6820a': 573, 'regim': 574, 'boulanger': 575, 'installation,': 576, 'chauffage,': 577, 'vitrer': 578, 'pos': 579, 'intervent': 580, 'detent': 581, 'industrielles,': 582, 'commerciales,': 583, 'finit': 584, 'location,': 585, 'remplac': 586, 'resident': 587, '(cod': 588, 'convoyag': 589, 'chanti': 590, 'propos': 591, 'sophrologu': 592, 'indirecte,': 593, 'moyens,': 594, 'tourism': 595, \"d'accessoir\": 596, 'compl': 597, 'marqu': 598, 'quelqu': 599, 'form': 600, 'quel': 601, \"l'exercic\": 602, 'profess': 603, 'plateform': 604, 'couvertur': 605, 'zinguer': 606, 'lie': 607, 'vehicules,': 608, 'internet': 609, 'optimis': 610, 'seo': 611, 'rapid': 612, 'participation,': 613, \"d'interet\": 614, 'cession': 615, 'personnalis': 616, 'divers.': 617, 'bricolage,': 618, 'peinture,': 619, 'platrer': 620, 'carrelag': 621, 'faienc': 622, 'bricolag': 623, 'boug': 624, 'maconner': 625, 'emport': 626, \"d'immeubl\": 627, 'therapeut': 628, 'specialise': 629, 'community': 630, \"l'achat,\": 631, 'technicien': 632, 'captat': 633, 'video.': 634, 'informatique,': 635, 'digital': 636, 'restaurant,': 637, 'services,': 638, 'represent': 639, 'bateau': 640, 'consult': 641, 'assist': 642, 'operationnel': 643, 'import': 644, 'export': 645, 'uber': 646, 'eat': 647, 'livraison,': 648, 'construits,': 649, 'construir': 650, 'plein': 651, 'dont': 652, 'chien': 653, 'paysag': 654, 'capital': 655, 'toitur': 656, 'fantais': 657, 'femmes,': 658, 'beaut': 659, 'etre': 660, 'soin': 661, 'coiffur': 662, 'manucur': 663, 'chirurgien-dent': 664, 'marchand': 665, 'medecin': 666, 'professionnels.': 667, 'collectivites,': 668, 'chambr': 669, \"d'hot\": 670, 'corporel': 671, 'praticien': 672, 'massag': 673, 'bien-etr': 674, 'strateg': 675, \"qu'el\": 676, \"qu'en\": 677, 'reglement': 678, 'tel': 679, \"d'etud\": 680, 'mobil': 681, 'destin': 682, 'entreprises.': 683, 'couverture,': 684, 'pvc': 685, 'gard': 686, \"d'enf\": 687, 'bar': 688, 'relev': 689, 'cosmetiques,': 690, '(lmnp)': 691, 'leur': 692, 'graphiqu': 693, 'depot': 694, 'rapide,': 695, 'salon': 696, 'hotessariat': 697, 'immobilieres,': 698, 'caracter': 699, 'amenag': 700, 'gravur': 701, 'consulting': 702, 'ambul': 703, 'developpement,': 704, \"d'etudes,\": 705, \"d'analys\": 706, 'deb': 707, 'pizz': 708, 'videos': 709, 'alcoolise': 710, 'demarch': 711, 'corp': 712, 'energetiques,': 713, 'li': 714, 'mandatair': 715, 'fournisseur': 716, 'materiels.': 717, \"d'assist\": 718, 'distribution,': 719, 'charcuter': 720, 'e-commerc': 721, 'creation,': 722, 'confect': 723, 'deplac': 724, 'coursi': 725, 'graphiques,': 726, 'identit': 727, 'lmnp': 728, 'batis,': 729, 'conseils,': 730, 'negoce,': 731, 'export,': 732, 'holding': 733, 'ling': 734, 'telephon': 735, \"l'exploitation,\": 736, 'bail': 737, 'ressourc': 738, 'gratuit': 739, 'informatiques.': 740, 'renovation,': 741, 'etrang': 742, 'masseur': 743, 'kinesitherapeut': 744, 'principal': 745, 'oeuvr': 746, 'familial': 747, 'press': 748, 'object': 749, \"d'affair\": 750, 'client': 751, 'logiciels,': 752, 'exclus': 753, 'boutiqu': 754, 'verif': 755, 'commerciale,': 756, 'energet': 757, 'epoxy': 758, 'appart': 759, 'place,': 760, 'non,': 761, 'commerce,': 762, 'courti': 763, 'emporter.': 764, '3d': 765, 'appliqu': 766, \"l'activit\": 767, 'industriel,': 768, 'multiservic': 769, 'batiment,': 770, 'expertis': 771, 'infirmi': 772, 'maconnerie,': 773, 'entre': 774, 'vern': 775, 'marketing': 776, 'professionnels,': 777, 'court': 778, 'chauffeur,': 779, 'compr': 780, 'special': 781, 'chaussures,': 782, 'platrerie,': 783, 'raval': 784, 'exterieur.': 785, 'evenementiel': 786, 'emporter,': 787, 'alimentaires,': 788, 'cre': 789, 'espac': 790, 'tourisme.': 791, 'disciplin': 792, 'sportiv': 793, \"d'activit\": 794, 'loisirs,': 795, 'organisation,': 796, 'simul': 797, 'desdit': 798, 'biens,': 799, 'traiteur': 800, 'administrative,': 801, 'juridique,': 802, 'architect': 803, \"qu'a\": 804, \"l'etranger,\": 805, 'bi': 806, 'continu': 807, 'pierr': 808, 'consist': 809, 'seanc': 810, 'secteur': 811, 'societes,': 812, 'pouv': 813, 'chef': 814, 'financieres,': 815, 'financ': 816, 'credit': 817, 'ecritur': 818, \"d'agent\": 819, 'manufactur': 820, 'publicit': 821, 'offre': 822, 'immobilier,': 823, 'dud': 824, \"s'y\": 825, 'dessin': 826, 'educ': 827, 'extens': 828, 'automat': 829, 'eventair': 830, 'colis': 831, 'divers': 832, 'tonnes.': 833, 'vtc': 834, 'nu': 835, 'contenu': 836, 'videos,': 837, 'visuel': 838, 'professeur': 839, 'marchandises,': 840, 'demenag': 841, \"l'aid\": 842, 'moral': 843, 'exercic': 844, 'qualif': 845, 'material': 846, \"d'expertis\": 847, 'referent': 848, 'sant': 849, 'sein': 850, 'plaqu': 851, 'tax': 852, '(non': 853, 'motorise)': 854, 'post': 855, 'studio': 856, \"d'outil\": 857, 'docu': 858, 'imag': 859, 'saisonnier': 860, 'canin': 861, 'marketing,': 862, \"l'assist\": 863, 'apport': 864, 'sociales,': 865, 'action': 866, 'activ': 867, \"d'amenag\": 868, \"l'install\": 869, \"d'energ\": 870, 'comptabl': 871, \"d'habill\": 872, 'coordin': 873, 'vins,': 874, 'analys': 875, 'achat-vent': 876, 'coaching': 877, 'culturel': 878, 'pourr': 879, 'deven': 880, 'proprietair': 881, 'prestatair': 882, 'so': 883, \"d'action\": 884, 'traiteur,': 885, '(san': 886, 'preparatoir': 887, 'vendeur': 888, 'aliment': 889, 'transfert': 890, 'revu': 891, 'souhait': 892, 'vendr': 893, 'auss': 894, 'recuper': 895, 'taill': 896, 'accessoires,': 897, \"d'espac\": 898, 'plusieur': 899, 'plan': 900, 'associes,': 901, 'soum': 902, 'btp,': 903, 'fin': 904, 'portail': 905, 'associ': 906, 'papeter': 907, 'pizzeria,': 908, 'marches,': 909, 'immeubles,': 910, 'filial': 911, 'commercial,': 912, 'etancheit': 913, 'freelanc': 914, 'parfum': 915, 'velo.': 916, \"l'enseign\": 917, 'actif': 918, 'vign': 919, 'reglemente': 920, \"d'occasion,\": 921, 'desinsectisation,': 922, 'internet.': 923, \"l'achat\": 924, 'ateli': 925, 'client.': 926, 'numer': 927, 'international': 928, 'besoin': 929, 'vu': 930, 'pr': 931, 'francais': 932, 'genr': 933, 'inclu': 934, 'text': 935, 'innov': 936, 'digitale,': 937, 'reunion': 938, 'point': 939, 'group': 940, \"l'etrang\": 941, 'to': 942, 'createur': 943, 'pension': 944, 'facad': 945, 'garage,': 946, 'licenc': 947, 'legumes,': 948, 'melons,': 949, 'racin': 950, 'tuburcul': 951, 'foires,': 952, 'convoyeur': 953, 'mode,': 954, 'negoci': 955, 'brasser': 956, 'domicile,': 957, 'peintr': 958, 'qualit': 959, 'traduction,': 960, 'assoc': 961, 'pai': 962, 'parfumer': 963, \"l'organis\": 964, 'food': 965, 'truck,': 966, \"l'objet\": 967, 'nettoyage,': 968, \"l'amenagement,\": 969, 'management,': 970, 'automobiles,': 971, 'original': 972, \"d'oper\": 973, 'dans': 974, 'ligne,': 975, 'serrurer': 976, 'demolit': 977, 'televis': 978, 'laboratoir': 979, 'valoris': 980, 'secretariat': 981, 'velo,': 982, 'lieux': 983, 'intellectuelle.': 984, 'entit': 985, 'pizzeri': 986, 'bureaux,': 987, 'remis': 988, 'publicitaires,': 989, 'epicer': 990, 'mecanique,': 991}\n",
      "nwords: 991\n"
     ]
    }
   ],
   "source": [
    "min_n=MIN_N\n",
    "max_n=MAX_N\n",
    "num_tokens= NUM_TOKENS\n",
    "len_word_ngrams=LEN_WORD_NGRAMS\n",
    "min_count=MIN_COUNT\n",
    "training_text=training_text\n",
    "\n",
    "if min_n < 2:\n",
    "    raise ValueError(\"`min_n` parameter must be greater than 1.\")\n",
    "if max_n > 6:\n",
    "    raise ValueError(\"`max_n` parameter must be smaller than 7.\")\n",
    "\n",
    "word_counts = {}\n",
    "for sentence in training_text:\n",
    "    for word in sentence.split(\" \"):\n",
    "        word_counts[word] = word_counts.setdefault(word, 0) + 1\n",
    "\n",
    "\n",
    "word_id_mapping = {}\n",
    "i = 1\n",
    "for word, counts in word_counts.items():\n",
    "    if word_counts[word] >= min_count:\n",
    "        word_id_mapping[word] = i\n",
    "        i += 1\n",
    "nwords = len(word_id_mapping)\n",
    "\n",
    "print(f\"word_counts: {word_counts}\")\n",
    "print(f\"word_id_mapping: {word_id_mapping}\")\n",
    "print(f\"nwords: {nwords}\")"
   ]
  },
  {
   "cell_type": "code",
   "execution_count": 8,
   "metadata": {},
   "outputs": [
    {
     "data": {
      "text/plain": [
       "<torchFastText.datasets.tokenizer.NGramTokenizer at 0x7f684a9307d0>"
      ]
     },
     "execution_count": 8,
     "metadata": {},
     "output_type": "execute_result"
    }
   ],
   "source": [
    "tokenizer = NGramTokenizer(\n",
    "    min_n=MIN_N, \n",
    "    max_n=MAX_N, \n",
    "    num_tokens= NUM_TOKENS,\n",
    "    len_word_ngrams=LEN_WORD_NGRAMS, \n",
    "    min_count=MIN_COUNT, \n",
    "    training_text=training_text\n",
    "    )\n",
    "tokenizer"
   ]
  },
  {
   "cell_type": "markdown",
   "metadata": {},
   "source": [
    "Some internal functions : "
   ]
  },
  {
   "cell_type": "code",
   "execution_count": 9,
   "metadata": {},
   "outputs": [
    {
     "data": {
      "text/plain": [
       "['cha', 'har', 'arc', 'rcu', 'cut', 'uti', 'tie', 'ier']"
      ]
     },
     "execution_count": 9,
     "metadata": {},
     "output_type": "execute_result"
    }
   ],
   "source": [
    "tokenizer.get_ngram_list(\"charcutier\", n=3)"
   ]
  },
  {
   "cell_type": "markdown",
   "metadata": {},
   "source": [
    "`get_hash` gives a unique hash (int) to a token"
   ]
  },
  {
   "cell_type": "code",
   "execution_count": 10,
   "metadata": {},
   "outputs": [
    {
     "name": "stdout",
     "output_type": "stream",
     "text": [
      "865323743\n",
      "865323743\n",
      "3631407781\n",
      "2349978481\n"
     ]
    }
   ],
   "source": [
    "print(tokenizer.get_hash(\"uti\")) \n",
    "print(tokenizer.get_hash(\"uti\")) \n",
    "print(tokenizer.get_hash(\"data\")) \n",
    "print(tokenizer.get_hash(\"scientist\")) "
   ]
  },
  {
   "cell_type": "markdown",
   "metadata": {},
   "source": [
    "For a words ngram like \"data scientist\", `tokenizer.get_hash` give the position (=index) of this word ngram in the embedding matrix.\n",
    "\n",
    "This index is between (nwords) and (nwords + bucket - 1).\n",
    "\n",
    "This means that the indices of the embedding matrix are:\n",
    "\n",
    "- [0, nwords-1] for vocabulary words.\n",
    "- [nwords, nwords + bucket - 1] for n-grams (word or subword ngrams).\n",
    "\n",
    "**Also note that the number of rows in the embedding matrix is : nword + num_tokens** "
   ]
  },
  {
   "cell_type": "code",
   "execution_count": 11,
   "metadata": {},
   "outputs": [
    {
     "data": {
      "text/plain": [
       "51736"
      ]
     },
     "execution_count": 11,
     "metadata": {},
     "output_type": "execute_result"
    }
   ],
   "source": [
    "hashes = (tokenizer.get_hash(\"data\"), tokenizer.get_hash(\"scientist\"))\n",
    "tokenizer.get_word_ngram_id(hashes=hashes, bucket=num_tokens, nwords=4000)"
   ]
  },
  {
   "cell_type": "markdown",
   "metadata": {},
   "source": [
    "`get_subword_index` : Get the index of a subword ngram in the embedding matrix"
   ]
  },
  {
   "cell_type": "code",
   "execution_count": 12,
   "metadata": {},
   "outputs": [
    {
     "data": {
      "text/plain": [
       "91580"
      ]
     },
     "execution_count": 12,
     "metadata": {},
     "output_type": "execute_result"
    }
   ],
   "source": [
    "tokenizer.get_subword_index(subword=\"cha\")"
   ]
  },
  {
   "cell_type": "markdown",
   "metadata": {},
   "source": [
    "`get_word_index`: get the indice of a word (directly from `word_id_mapping`)"
   ]
  },
  {
   "cell_type": "code",
   "execution_count": 13,
   "metadata": {},
   "outputs": [
    {
     "data": {
      "text/plain": [
       "163"
      ]
     },
     "execution_count": 13,
     "metadata": {},
     "output_type": "execute_result"
    }
   ],
   "source": [
    "tokenizer.get_word_index(word=\"fil\")"
   ]
  },
  {
   "cell_type": "markdown",
   "metadata": {},
   "source": [
    "`get_subwords`: return all subword ngrams and indices from a word.\n",
    "\n",
    "Also returns the entire word and its indice if this word is in the selected word vocabulary.\n",
    "\n",
    "Tags \"<\" and \">\" are added to the word"
   ]
  },
  {
   "cell_type": "code",
   "execution_count": 21,
   "metadata": {},
   "outputs": [
    {
     "data": {
      "text/plain": [
       "(['<m',\n",
       "  'ma',\n",
       "  'an',\n",
       "  'nu',\n",
       "  'uf',\n",
       "  'fa',\n",
       "  'ac',\n",
       "  'ct',\n",
       "  'tu',\n",
       "  'ur',\n",
       "  'ri',\n",
       "  'ie',\n",
       "  'er',\n",
       "  'r>',\n",
       "  '<ma',\n",
       "  'man',\n",
       "  'anu',\n",
       "  'nuf',\n",
       "  'ufa',\n",
       "  'fac',\n",
       "  'act',\n",
       "  'ctu',\n",
       "  'tur',\n",
       "  'uri',\n",
       "  'rie',\n",
       "  'ier',\n",
       "  'er>',\n",
       "  '<man',\n",
       "  'manu',\n",
       "  'anuf',\n",
       "  'nufa',\n",
       "  'ufac',\n",
       "  'fact',\n",
       "  'actu',\n",
       "  'ctur',\n",
       "  'turi',\n",
       "  'urie',\n",
       "  'rier',\n",
       "  'ier>'],\n",
       " [99265,\n",
       "  46554,\n",
       "  41509,\n",
       "  17675,\n",
       "  75841,\n",
       "  11079,\n",
       "  50556,\n",
       "  11889,\n",
       "  13889,\n",
       "  23461,\n",
       "  62483,\n",
       "  22866,\n",
       "  60437,\n",
       "  75344,\n",
       "  92120,\n",
       "  74542,\n",
       "  15560,\n",
       "  75677,\n",
       "  50520,\n",
       "  12880,\n",
       "  43178,\n",
       "  29700,\n",
       "  9423,\n",
       "  41020,\n",
       "  15682,\n",
       "  25842,\n",
       "  43831,\n",
       "  11476,\n",
       "  17773,\n",
       "  29468,\n",
       "  45260,\n",
       "  64621,\n",
       "  92414,\n",
       "  16249,\n",
       "  51572,\n",
       "  78298,\n",
       "  6759,\n",
       "  76066,\n",
       "  89110])"
      ]
     },
     "execution_count": 21,
     "metadata": {},
     "output_type": "execute_result"
    }
   ],
   "source": [
    "tokenizer.get_subwords(word=\"manufacturier\")"
   ]
  },
  {
   "cell_type": "markdown",
   "metadata": {},
   "source": [
    "`indices_matrix`\n",
    "\n",
    "Tokenize a sentence and returns : \n",
    "- indices: an tensor of indices\n",
    "- id_to_token: a dict of tokens: id (**/!\\ problem if 2 different tokens with the same id**)\n",
    "- all_tokens_id : a dict of id: token \n",
    "\n",
    "Adds and \"end of string\" tag: `</s>` with indice = 0.\n",
    "\n",
    "Used in `collate_fn` (`FastTextModelDataset`).\n"
   ]
  },
  {
   "cell_type": "code",
   "execution_count": null,
   "metadata": {},
   "outputs": [],
   "source": [
    "indices, id_to_token, all_tokens_id = tokenizer.indices_matrix(\"fil carrelage materiel\")\n",
    "print(\"==== indices\\n\")\n",
    "print(indices)\n",
    "print(\"\\n==== indices length\\n\")\n",
    "print(len(indices))\n",
    "print(\"\\n==== id_to_token\\n\")\n",
    "print(id_to_token)\n",
    "print(\"\\n==== id_to_token length\\n\")\n",
    "print(len(id_to_token))\n",
    "print(\"\\n==== all_tokens_id\\n\")\n",
    "print(all_tokens_id)\n",
    "print(\"\\n==== all_tokens_id length\\n\")\n",
    "print(len(all_tokens_id))"
   ]
  },
  {
   "cell_type": "code",
   "execution_count": null,
   "metadata": {},
   "outputs": [],
   "source": [
    "tokenizer.get_word_index(\"fil\")\n",
    "tokenizer.get_subwords(\"fil\")"
   ]
  },
  {
   "cell_type": "markdown",
   "metadata": {},
   "source": [
    "`tokenize` : loops indices_matrix results for a full training texte (= a list of sentences).\n",
    "\n",
    "/!\\ problem with param `text_tokens=True`: only used for explanability."
   ]
  },
  {
   "cell_type": "code",
   "execution_count": null,
   "metadata": {},
   "outputs": [],
   "source": [
    "( \n",
    "    tokenized_text, \n",
    "    id_to_token_dicts, \n",
    "    token_to_id_dicts\n",
    ") = tokenizer.tokenize(\n",
    "        text=[\"aa fil\", \"bbb aa\"], \n",
    "        text_tokens=False, \n",
    "        preprocess=False\n",
    "    )\n",
    "\n",
    "print('\\ntokenized_text:')\n",
    "print(tokenized_text)\n",
    "print('\\nid_to_token_dicts:')\n",
    "print(id_to_token_dicts)\n",
    "print('\\ntoken_to_id_dicts:')\n",
    "print(token_to_id_dicts)\n",
    "\n",
    "print(len(tokenized_text_tokens[0]))\n",
    "print(len(tokenized_text[0]))\n",
    "print(len(id_to_token_dicts[0]))\n",
    "print(len(token_to_id_dicts[0]))"
   ]
  },
  {
   "cell_type": "code",
   "execution_count": null,
   "metadata": {},
   "outputs": [],
   "source": [
    "text = [\"aa\", \"bbb\"]\n",
    "text_tokens=True\n",
    "preprocess=False\n",
    "\n",
    "tokenized_text = []\n",
    "id_to_token_dicts = []\n",
    "token_to_id_dicts = []\n",
    "\n",
    "sentence = text[0]\n",
    "all_ind, id_to_token, token_to_id = tokenizer.indices_matrix(sentence)\n",
    "tokenized_text.append(all_ind)\n",
    "id_to_token_dicts.append(id_to_token)\n",
    "token_to_id_dicts.append(token_to_id)\n",
    "\n",
    "sentence = text[1]\n",
    "all_ind, id_to_token, token_to_id = tokenizer.indices_matrix(sentence)\n",
    "tokenized_text.append(all_ind)\n",
    "id_to_token_dicts.append(id_to_token)\n",
    "token_to_id_dicts.append(token_to_id)\n"
   ]
  },
  {
   "cell_type": "code",
   "execution_count": null,
   "metadata": {},
   "outputs": [],
   "source": [
    "print(tokenized_text)\n",
    "print(id_to_token_dicts)\n",
    "print(token_to_id_dicts)"
   ]
  },
  {
   "cell_type": "code",
   "execution_count": null,
   "metadata": {},
   "outputs": [],
   "source": [
    "padding_index=2009603\n",
    "end_of_string_index=0\n",
    "i=0\n",
    "tokenized_sentence = tokenized_text[0]\n",
    "print(tokenized_sentence)\n",
    "token_id = tokenized_sentence[0]\n",
    "token_id.item()\n",
    "id_to_token_dicts[i][token_id.item()]"
   ]
  },
  {
   "cell_type": "code",
   "execution_count": null,
   "metadata": {},
   "outputs": [],
   "source": [
    "\n",
    " [\n",
    "            id_to_token_dicts[i][token_id.item()]\n",
    "            for token_id in tokenized_sentence\n",
    "            if token_id.item() not in {padding_index}\n",
    "        ]\n",
    "        for i, tokenized_sentence in enumerate(tokenized_text)\n"
   ]
  },
  {
   "cell_type": "code",
   "execution_count": null,
   "metadata": {},
   "outputs": [],
   "source": [
    "\n",
    "for sentence in text:\n",
    "    all_ind, id_to_token, token_to_id = self.indices_matrix(\n",
    "        sentence\n",
    "    )  # tokenize and convert to token indices\n",
    "    tokenized_text.append(all_ind)\n",
    "    id_to_token_dicts.append(id_to_token)\n",
    "    token_to_id_dicts.append(token_to_id)\n",
    "\n",
    "if text_tokens:\n",
    "    tokenized_text_tokens = tokenized_text_in_tokens(tokenized_text, id_to_token_dicts)\n",
    "    return tokenized_text_tokens, tokenized_text, id_to_token_dicts, token_to_id_dicts\n",
    "else:\n",
    "    return tokenized_text, id_to_token_dicts, token_to_id_dicts"
   ]
  },
  {
   "cell_type": "code",
   "execution_count": null,
   "metadata": {},
   "outputs": [],
   "source": [
    "\n",
    "def tokenized_text_in_tokens(\n",
    "    tokenized_text, id_to_token_dicts, padding_index=2009603, end_of_string_index=0\n",
    "):\n",
    "    return [\n",
    "        [\n",
    "            id_to_token_dicts[i][token_id.item()]\n",
    "            for token_id in tokenized_sentence\n",
    "            if token_id.item() not in {padding_index}\n",
    "        ]\n",
    "        for i, tokenized_sentence in enumerate(tokenized_text)\n",
    "    ]"
   ]
  },
  {
   "cell_type": "code",
   "execution_count": null,
   "metadata": {},
   "outputs": [],
   "source": [
    "all_tokens_id = {'bonjour': 1, 'monde': 2, '!': 1}\n",
    "\n",
    "# Inversion du dictionnaire : IDs -> tokens\n",
    "id_to_token = {v: k for k, v in all_tokens_id.items()}\n",
    "\n",
    "print(id_to_token)"
   ]
  }
 ],
 "metadata": {
  "kernelspec": {
   "display_name": "base",
   "language": "python",
   "name": "python3"
  },
  "language_info": {
   "codemirror_mode": {
    "name": "ipython",
    "version": 3
   },
   "file_extension": ".py",
   "mimetype": "text/x-python",
   "name": "python",
   "nbconvert_exporter": "python",
   "pygments_lexer": "ipython3",
   "version": "3.12.7"
  }
 },
 "nbformat": 4,
 "nbformat_minor": 2
}
