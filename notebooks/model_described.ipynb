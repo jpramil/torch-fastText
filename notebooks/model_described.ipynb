{
 "cells": [
  {
   "cell_type": "markdown",
   "metadata": {},
   "source": [
    "# Explain how it works"
   ]
  },
  {
   "cell_type": "markdown",
   "metadata": {},
   "source": [
    "- introduction to `torch` framework\n",
    "- expose `torchFasttext` specificities "
   ]
  },
  {
   "cell_type": "markdown",
   "metadata": {},
   "source": [
    "## Environment and data "
   ]
  },
  {
   "cell_type": "code",
   "execution_count": null,
   "metadata": {},
   "outputs": [],
   "source": [
    "!pip install -r ../requirements.txt -q"
   ]
  },
  {
   "cell_type": "code",
   "execution_count": 7,
   "metadata": {},
   "outputs": [
    {
     "name": "stdout",
     "output_type": "stream",
     "text": [
      "The autoreload extension is already loaded. To reload it, use:\n",
      "  %reload_ext autoreload\n"
     ]
    }
   ],
   "source": [
    "import os\n",
    "import sys\n",
    "import time\n",
    "import s3fs\n",
    "from typing import List, Optional, Dict\n",
    "from pathlib import Path\n",
    "from utils_describe import get_data\n",
    "\n",
    "sys.path.append(\"../\")\n",
    "from torchFastText import torchFastText\n",
    "from torchFastText.preprocess import clean_text_feature\n",
    "from torchFastText.datasets import NGramTokenizer\n",
    "sys.path.append(\"./notebooks\")\n",
    "\n",
    "import numpy as np\n",
    "# import pandas as pd\n",
    "# import pyarrow.parquet as pq\n",
    "\n",
    "# from utils import add_libelles, clean_and_tokenize_df, stratified_split_rare_labels\n",
    "\n",
    "%load_ext autoreload\n",
    "%autoreload 2"
   ]
  },
  {
   "cell_type": "code",
   "execution_count": 3,
   "metadata": {},
   "outputs": [
    {
     "name": "stderr",
     "output_type": "stream",
     "text": [
      "2025-03-06 11:05:20 - botocore.httpchecksum - Skipping checksum validation. Response did not contain one of the following algorithms: ['crc32', 'sha1', 'sha256'].\n",
      "2025-03-06 11:05:21 - botocore.httpchecksum - Skipping checksum validation. Response did not contain one of the following algorithms: ['crc32', 'sha1', 'sha256'].\n",
      "2025-03-06 11:05:21 - botocore.httpchecksum - Skipping checksum validation. Response did not contain one of the following algorithms: ['crc32', 'sha1', 'sha256'].\n",
      "2025-03-06 11:05:21 - botocore.httpchecksum - Skipping checksum validation. Response did not contain one of the following algorithms: ['crc32', 'sha1', 'sha256'].\n",
      "2025-03-06 11:05:22 - botocore.httpchecksum - Skipping checksum validation. Response did not contain one of the following algorithms: ['crc32', 'sha1', 'sha256'].\n",
      "2025-03-06 11:05:25 - botocore.httpchecksum - Skipping checksum validation. Response did not contain one of the following algorithms: ['crc32', 'sha1', 'sha256'].\n"
     ]
    },
    {
     "name": "stdout",
     "output_type": "stream",
     "text": [
      "\t*** 732 codes have been added in the database...\n",
      "\n"
     ]
    },
    {
     "name": "stderr",
     "output_type": "stream",
     "text": [
      "/home/onyxia/work/torch-fastText/notebooks/utils.py:60: FutureWarning: Setting an item of incompatible dtype is deprecated and will raise an error in a future version of pandas. Value 'nan' has dtype incompatible with float64, please explicitly cast to a compatible dtype first.\n",
      "  df.fillna(\"nan\", inplace=True)\n"
     ]
    }
   ],
   "source": [
    "X_train, X_test, y_train, y_test = get_data()"
   ]
  },
  {
   "cell_type": "code",
   "execution_count": 4,
   "metadata": {},
   "outputs": [
    {
     "name": "stdout",
     "output_type": "stream",
     "text": [
      "Features for the 3 first training obs:\n",
      "\n",
      "[['fabriqu carton ondul' 21 23 8 7 0 0]\n",
      " ['defens' 21 23 8 7 0 0]\n",
      " ['heberg medicalis adult handicap autr' 21 23 8 7 0 0]]\n",
      "\n",
      "\n",
      "NAF codes (labels) for the 3 first training obs:\n",
      "\n",
      "[129 644 677]\n"
     ]
    }
   ],
   "source": [
    "print(\"Features for the 3 first training obs:\\n\")\n",
    "print(X_train[:3])\n",
    "print(\"\\n\")\n",
    "print(\"NAF codes (labels) for the 3 first training obs:\\n\")\n",
    "print(y_train[:3])"
   ]
  },
  {
   "cell_type": "markdown",
   "metadata": {},
   "source": [
    "Parameters : \n",
    "- example with a unique embedding dimension for categorical variables"
   ]
  },
  {
   "cell_type": "code",
   "execution_count": 16,
   "metadata": {},
   "outputs": [],
   "source": [
    "# Parameters for model building\n",
    "NUM_TOKENS= int(1e5) # Number of rows in the embedding matrix = size of the embedded vocabulary\n",
    "EMBED_DIM = 50 # Dimension of the embedding = number of columns in the embedding matrix\n",
    "SPARSE = False # Whether to use sparse Embedding layer for fast computation (see PyTorch documentation)\n",
    "CAT_EMBED_DIM = 10 # Dimension of the embedding for categorical features\n",
    "\n",
    "# Parameters for tokenizer\n",
    "MIN_COUNT = 3 # Minimum number of occurrences of a word in the corpus to be included in the vocabulary\n",
    "MIN_N = 3 # Minimum length of char n-grams\n",
    "MAX_N = 6 # Maximum length of char n-grams\n",
    "LEN_WORD_NGRAMS = 3 # Length of word n-grams\n",
    "\n",
    "# Parameters for training - not useful immediately\n",
    "LR = 4e-3 # Learning rate\n",
    "NUM_EPOCHS = 1\n",
    "BATCH_SIZE = 256\n",
    "PATIENCE = 3"
   ]
  },
  {
   "cell_type": "markdown",
   "metadata": {},
   "source": [
    "## Building the model"
   ]
  },
  {
   "cell_type": "markdown",
   "metadata": {},
   "source": [
    "Explore what's happen during the build step.\n",
    "Hypothesis:\n",
    "- we use the `torchFastText.build_from_tokenizer` method to build: the tokenizer must be created first.\n",
    "- we don't use json method to get parameters\n"
   ]
  },
  {
   "cell_type": "code",
   "execution_count": 17,
   "metadata": {},
   "outputs": [
    {
     "name": "stdout",
     "output_type": "stream",
     "text": [
      "NUM_CAT_VAR: 6\n",
      "CAT_VOCAB_SIZE: [22, 24, 9, 11, 3, 4]\n",
      "NUM_CLASSES: 732\n"
     ]
    }
   ],
   "source": [
    "training_text = X_train[:, 0].tolist()\n",
    "categorical_variables = X_train[:, 1:]\n",
    "\n",
    "NUM_CAT_VAR = categorical_variables.shape[1]\n",
    "CAT_VOCAB_SIZE = (np.max(categorical_variables, axis=0) + 1).astype(int).tolist()\n",
    "NUM_CLASSES = len(np.unique(y_train))\n",
    "\n",
    "print(f\"NUM_CAT_VAR: {NUM_CAT_VAR}\")\n",
    "print(f\"CAT_VOCAB_SIZE: {CAT_VOCAB_SIZE}\")\n",
    "print(f\"NUM_CLASSES: {NUM_CLASSES}\")"
   ]
  },
  {
   "cell_type": "markdown",
   "metadata": {},
   "source": [
    "### The tokenizer"
   ]
  },
  {
   "cell_type": "markdown",
   "metadata": {},
   "source": [
    "Lets describe the constructor of `NGramTokenizer` class"
   ]
  },
  {
   "cell_type": "markdown",
   "metadata": {},
   "source": [
    "```python\n",
    "tokenizer = NGramTokenizer(\n",
    "    min_n=MIN_N, \n",
    "    max_n=MAX_N, \n",
    "    num_tokens= NUM_TOKENS,\n",
    "    len_word_ngrams=LEN_WORD_NGRAMS, \n",
    "    min_count=MIN_COUNT, \n",
    "    training_text=training_text\n",
    "    )\n"
   ]
  },
  {
   "cell_type": "code",
   "execution_count": 20,
   "metadata": {},
   "outputs": [
    {
     "name": "stdout",
     "output_type": "stream",
     "text": [
      "word_counts: {'fabriqu': 216, 'carton': 5, 'ondul': 1, 'defens': 1, 'heberg': 24, 'medicalis': 4, 'adult': 8, 'handicap': 7, 'autr': 159, 'machin': 20, 'industr': 6, 'papi': 7, 'cultur': 31, 'riz': 1, 'repar': 44, 'meubl': 114, \"d'equip\": 30, 'foi': 2, 'commerc': 151, 'gros': 65, '(commerc': 44, 'interentreprises)': 44, 'cuir': 8, 'peau': 1, 'organis': 34, 'jeux': 9, 'hasard': 1, \"d'argent\": 1, 'commun': 28, 'construct': 52, 'reseau': 30, 'fluid': 1, 'transport': 56, 'ferroviair': 3, 'fret': 9, 'materiel': 39, 'distribu': 20, 'command': 4, 'electr': 36, 'edit': 20, 'video': 10, \"d'instrument\": 1, 'scientif': 5, 'techniqu': 28, 'activit': 202, 'professionnel': 135, 'prepar': 23, 'fibr': 12, 'textil': 18, 'filatur': 1, 'cafe,': 3, 'the,': 2, 'cacao': 1, 'epic': 3, 'tubes,': 1, 'tuyaux,': 1, 'profil': 3, 'creux': 2, 'accessoir': 31, 'correspond': 4, 'aci': 2, 'jus': 2, 'fruit': 14, 'legum': 6, 'volaill': 3, 'gibi': 1, 'pat': 2, 'produit': 130, 'chimiqu': 6, 'imprimer': 2, '(labeur)': 1, 'enfant': 7, \"d'autr\": 71, 'ceram': 7, 'usag': 12, 'religi': 1, 'carreau': 1, 'parquet': 1, 'assembl': 1, 'transform': 16, 'conserv': 7, 'viand': 6, 'support': 18, 'magnet': 3, 'optiqu': 11, 'intermedi': 2, 'monetair': 2, \"d'install\": 21, 'administr': 38, 'publiqu': 17, '(tutelle)': 2, 'sante,': 1, 'formation,': 5, 'servic': 171, 'sociaux,': 4, 'securit': 9, 'social': 37, 'entretien': 43, 'vehicul': 83, 'automobil': 31, 'accueil': 7, 'accompagn': 35, 'san': 37, \"d'enf\": 6, \"d'adolescent\": 1, 'briques,': 1, 'tuil': 1, 'construction,': 35, 'terr': 5, 'cuit': 3, 'fut': 1, 'emballag': 1, 'metall': 10, 'similair': 7, 'fournitur': 16, 'equip': 22, 'diver': 20, 'soutien': 21, 'extract': 13, 'feu': 1, 'secour': 3, 'agricol': 18, 'matel': 1, 'vet': 21, 'dessous': 1, 'central': 10, \"d'achat\": 14, 'carbur': 2, 'bas': 13, 'tabac': 7, 'alimentair': 29, 'n.c.a.': 23, 'electron': 15, 'detail': 59, 'boisson': 33, 'magasin': 28, 'specialis': 36, 'toxicoman': 1, 'pech': 2, 'mer': 2, \"d'articl\": 32, 'sport': 12, 'four': 2, 'bruleur': 1, 'oleagin': 6, 'laitiers,': 2, 'oeufs,': 1, 'huil': 2, 'matier': 32, 'grass': 1, 'comestibl': 2, 'forestier': 5, 'houill': 1, \"d'inform\": 5, 'poissons,': 2, 'crustac': 4, 'mollusqu': 4, 'fleur': 6, 'plant': 6, 'gestion': 145, 'sportiv': 3, 'quincaillerie,': 2, 'peintur': 20, 'verr': 7, 'petit': 19, 'surfac': 7, '(moin': 1, '400': 1, 'm2)': 1, 'fonder': 4, 'metal': 11, 'non': 211, 'ferreux': 3, 'journal': 3, 'cond': 1, 'assaison': 1, 'pharmaceut': 6, 'exploit': 34, 'gravier': 1, 'sablieres,': 1, \"d'argil\": 1, 'kaolin': 1, 'mineral': 3, \"d'engr\": 2, \"d'appareil\": 12, \"d'eclairag\": 2, \"l'extract\": 2, 'livr': 4, 'lait': 1, 'liquid': 1, 'frais': 2, \"d'adult\": 3, 'person': 32, 'age': 4, 'aeronaut': 1, 'spatial': 3, \"d'agrum\": 1, 'trait': 15, 'revet': 10, 'fluvial': 3, 'passager': 2, 'metallurg': 7, \"l'aluminium\": 1, 'physiqu': 6, 'diffus': 4, 'programm': 14, 'radio': 1, 'moul': 1, 'model': 2, 'combustibl': 5, 'gazeux': 3, 'conduit': 7, 'enseign': 26, 'secondair': 3, 'elevag': 28, 'chameau': 1, 'camelid': 1, \"d'emballage,\": 1, 'condition': 5, 'pesag': 1, 'ouvrag': 2, 'gen': 3, 'civil': 7, 'evalu': 3, 'risqu': 3, 'dommag': 1, 'bureau': 15, '(a': 7, \"l'except\": 12, 'ordin': 1, 'peripheriques)': 1, 'sciag': 1, 'rabotag': 1, 'bois,': 2, 'hor': 11, 'impregn': 2, 'routi': 13, 'reguli': 1, 'voyageur': 7, 'patronal': 1, 'consulair': 1, 'telecommun': 9, 'fil': 4, 'semenc': 2, 'parc': 6, \"d'attract\": 1, 'them': 1, 'profilag': 1, 'froid': 6, 'formag': 1, 'pliag': 1, 'intermediair': 16, 'meubles,': 8, 'articl': 21, 'menag': 17, 'quincailler': 3, 'jardin': 7, 'botan': 1, 'zoolog': 1, 'reserv': 3, 'naturel': 4, 'grand': 10, 'color': 1, 'pigment': 1, 'product': 40, 'rafraich': 1, 'bateau': 3, 'plaisanc': 2, 'surgel': 2, \"d'etoff\": 1, 'maill': 3, \"d'al\": 4, 'homogeneis': 1, 'dietet': 1, 'horloger': 1, 'piec': 10, 'plastiqu': 13, 'precieux': 1, 'lunet': 1, 'consomm': 7, 'cour': 41, 'boucher': 4, 'general': 41, 'reassur': 2, 'non-tisses,': 1, 'sauf': 3, 'habill': 2, \"d'ouvrag\": 11, '(400': 1, 'm2': 1, 'plus)': 1, 'inorgan': 1, 'cartonnag': 1, 'public': 22, 'reproduct': 4, \"d'enregistr\": 2, 'logiciel': 22, 'outil': 4, 'developp': 42, 'langag': 2, 'savons,': 1, 'detergent': 1, \"d'entretien\": 3, 'informat': 48, 'cann': 1, 'sucr': 2, \"d'emballag\": 5, 'maritim': 4, 'coti': 1, 'moteurs,': 1, 'gener': 3, 'aerien': 6, \"l'industr\": 5, 'agro-alimentair': 1, 'font': 1, 'cereales,': 1, 'manufacture,': 1, 'betail': 1, 'meuner': 1, 'affret': 1, 'fleurs,': 1, 'plantes,': 1, 'graines,': 1, 'engrais,': 1, 'animal': 11, 'compagn': 4, 'aliment': 6, 'vin': 4, 'effervescent': 1, \"d'ordinateurs,\": 2, \"d'unit\": 1, 'peripher': 5, 'machines-outil': 3, 'polit': 3, 'sucre,': 1, 'chocolat': 2, 'confiser': 4, 'alcool': 2, 'distille': 2, 'geometr': 1, 'cuivr': 1, 'serrur': 2, 'ferrur': 1, 'tapis': 2, 'moquet': 2, 'collect': 13, 'eau': 8, 'use': 1, 'organ': 9, 'extraterritorial': 1, 'annex': 7, 'audio': 2, 'poisson,': 1, 'abras': 1, 'fromag': 1, 'moteur': 7, 'turbines,': 1, \"d'avion\": 1, 'sanitair': 7, 'domest': 7, 'justic': 1, 'caoutchouc': 3, 'hydraul': 1, 'pneumat': 2, 'sall': 9, 'spectacl': 9, 'compos': 2, 'synthet': 2, 'promot': 9, 'immobilier': 22, 'log': 22, 'interurbain': 1, 'militair': 1, 'combat': 1, 'plat': 19, 'fermente': 1, \"d'horloger\": 3, 'bijouter': 6, 'amylac': 1, 'retrait': 4, 'complementair': 1, 'indifferencie': 2, 'tant': 9, 'producteur': 28, 'propr': 9, 'cabl': 2, 'artificiel': 1, 'charcuter': 4, 'chain': 5, 'themat': 1, 'agenc': 23, 'recouvr': 2, 'factur': 2, 'societ': 58, 'financier': 8, 'clientel': 4, 'restaur': 38, 'sous': 24, 'contrat': 5, 'auxiliair': 5, 'reservoirs,': 1, 'citern': 1, 'conteneur': 1, \"d'isol\": 5, 'isol': 4, 'glac': 1, 'sorbet': 1, 'maroquiner': 4, 'voyag': 8, \"d'arm\": 1, 'munit': 1, 'coll': 1, 'cokefact': 1, \"d'aci\": 1, 'bien': 127, 'ferm': 1, 'bois': 13, 'mis': 67, 'disposit': 16, 'ressourc': 1, 'humain': 6, 'aeraul': 1, 'frigorif': 4, 'industriel': 23, 'morti': 1, 'beton': 4, 'sec': 3, 'charpent': 7, 'menuiser': 8, 'chauss': 1, 'captage,': 1, \"d'eau\": 5, 'travail': 9, \"d'usag\": 1, 'film': 8, 'cinematograph': 2, 'traval': 96, 'montag': 20, 'structur': 5, 'sel': 1, 'peintures,': 2, 'vernis,': 2, 'encre': 1, 'mastic': 1, 'voi': 29, 'ferre': 1, 'souterrain': 1, 'pomp': 5, 'compresseur': 1, 'muse': 1, \"d'el\": 5, 'cacao,': 1, 'assur': 11, 'mobili': 23, 'tourb': 1, 'robinetter': 1, 'outillag': 1, \"d'imprimer\": 1, \"d'irradi\": 1, 'medicale,': 1, 'electromedical': 1, 'electrotherapeut': 1, \"d'huil\": 5, 'graiss': 3, 'brut': 2, 'faconnag': 3, 'locat': 240, 'oper': 25, 'affair': 24, 'etranger': 4, 'the': 1, 'caf': 3, 'telepher': 1, 'remonte': 1, 'mecan': 14, 'frapp': 1, 'monnai': 1, 'menager': 5, 'pain,': 1, 'patisser': 4, 'credit-bail': 2, 'blanchisserie-teinturer': 2, 'cart': 5, 'assemble': 1, 'appret': 1, 'tannag': 1, 'teintur': 1, 'fourrur': 2, 'mainten': 22, \"d'aeronef\": 1, \"d'engin\": 1, 'radiateur': 1, 'chaudier': 3, 'chauffag': 10, 'metalliques,': 2, 'ressort': 1, 'tunnel': 1, 'location-bail': 10, 'recherche-developp': 3, 'biotechnolog': 1, 'malt': 1, 'gaz': 3, 'trefilag': 1, 'min': 4, 'chaussur': 8, 'sieg': 6, \"d'ameubl\": 1, \"d'interieur\": 7, 'forag': 1, 'sondag': 3, 'etirag': 1, 'barr': 1, \"d'instru\": 1, 'musiqu': 4, 'navir': 2, 'flott': 1, 'messagerie,': 1, 'express': 2, \"d'electricit\": 17, 'centr': 3, 'elimin': 2, 'dechet': 9, 'danger': 4, 'premier': 3, 'agricoles,': 2, 'vivants,': 1, 'semi-fin': 1, \"d'ordr\": 1, 'depollu': 1, 'vis': 2, 'boulon': 1, 'rechapag': 1, 'post-secondair': 1, 'superieur': 4, 'porcin': 1, 'satellit': 1, 'raffine': 1, 'epices,': 1, 'aromatiques,': 1, 'medicinal': 2, 'cuisson': 1, 'boulanger': 2, 'fibre-c': 1, 'repertoir': 1, 'fichi': 1, \"d'adress\": 1, 'decolletag': 1, 'essentiel': 2, 'tapis,': 2, 'mur': 10, 'sol': 10, \"d'uranium\": 1, 'thorium': 1, 'jouet': 3, 'combustibles,': 1, 'metaux,': 1, 'cafeteri': 1, 'libres-servic': 1, \"l'extraction,\": 1, 'install': 24, 'beurr': 1, \"d'edit\": 1, 'pesticid': 1, 'agrochim': 1, 'recolt': 2, 'foresti': 1, 'ligneux': 1, 'pouss': 1, \"l'etat\": 1, 'sauvag': 1, 'port': 6, 'fenetr': 3, 'decor': 19, 'peint': 1, \"d'arbr\": 1, \"d'arbust\": 1, 'coqu': 1, 'pre-primair': 1, 'leger': 9, 'mental': 2, 'malad': 1, 'aquacultur': 2, 'revenus': 2, 'elabor': 2, 'nucleair': 2, 'lignit': 1, 'bier': 1, 'chasse,': 1, 'piegeag': 1, 'econom': 2, 'refractair': 1, 'laboratoir': 1, \"d'analys\": 3, 'medical': 8, 'camion': 2, 'pierr': 4, 'ornemental': 2, 'calcair': 1, 'industriel,': 1, 'gypse,': 1, 'crai': 1, \"d'ardois\": 1, 'azot': 1, 'banqu': 3, 'multi-commerc': 1, 'papeter': 2, 'syndicat': 1, 'salar': 1, 'chaux': 1, 'platr': 5, 'plomb,': 1, 'zinc': 1, \"l'etain\": 1, 'pret': 7, \"l'emploi\": 1, \"d'animal\": 2, 'viv': 5, 'laiti': 1, 'march': 19, 'financi': 4, 'caiss': 4, \"d'aid\": 2, 'navig': 1, \"l'habill\": 1, 'radiodiagnostic': 1, 'radiotherap': 1, 'verre,': 2, 'compr': 5, 'locomot': 1, 'roul': 1, 'joailler': 1, 'bat': 64, 'rout': 4, 'autorout': 1, 'margarin': 1, 'musical': 5, 'cred': 3, 'tissag': 1, 'petrol': 2, 'pain': 2, 'fraich': 1, 'denrees,': 1, \"d'ordin\": 3, 'terrass': 5, 'mass': 1, 'beton,': 1, 'ciment': 2, 'combine': 1, 'li': 9, \"d'organ\": 2, 'enrich': 1, 'entreposag': 2, 'stockag': 5, \"d'art\": 3, \"d'hydrocarbur\": 1, 'vaisselle,': 1, 'verrer': 1, 'specialise': 13, 'pomm': 1, 'primair': 2, 'videocasset': 1, 'disqu': 1, 'material': 11, 'couteller': 1, 'difficult': 3, 'loisir': 8, 'ficelles,': 1, 'cord': 1, 'filet': 1, \"d'engrenag\": 1, 'transmiss': 1, 'press': 4, 'scienc': 3, 'courtag': 8, 'valeur': 27, 'mobilier': 15, 'marchandis': 19, 'siderurg': 1, 'vapeur,': 1, 'hospitalier': 1, 'plaques,': 1, 'feuilles,': 1, 'tub': 1, 'electromenager': 6, \"qu'employeur\": 1, 'personnel': 13, 'placag': 1, 'panneau': 6, 'raffinag': 1, \"d'assur\": 3, 'tabl': 4, \"d'outillag\": 1, 'portat': 1, 'incorpor': 1, 'terrain': 11, 'camping': 1, 'caravan': 1, 'chauffeur': 23, 'laminag': 1, 'feuillard': 1, 'bibliothequ': 1, 'archiv': 2, 'vapeur': 1, \"d'air\": 1, 'fer': 2, 'douc': 2, 'tropical': 1, 'subtropical': 1, 'demantel': 1, \"d'epav\": 1, 'pil': 1, \"d'accumul\": 1, 'photograph': 9, 'manutent': 5, 'portuair': 3, 'grain': 6, 'cidr': 1, 'explos': 1, 'textiles,': 2, 'habillement,': 1, 'fourrures,': 1, 'brosser': 1, 'format': 30, 'theoriqu': 1, 'pratiqu': 8, 'aerospatial.': 1, 'artisanat': 2, '(prototypes)': 1, 'acquisition,': 32, 'administration,': 16, 'droit': 40, 'immobiliers,': 23, 'vent': 254, \"d'immeubl\": 9, 'immobili': 79, 'loueur': 78, 'meuble': 51, 'professionel': 3, 'hotessariat': 7, \"d'un\": 52, 'chambr': 4, 'neuilly': 1, 'sein': 8, 'tout': 164, 'prestat': 109, 'prof': 5, 'entrepris': 103, 'numerique,': 1, 'conseil': 172, 'not': 22, 'integration,': 1, 'developpemen': 1, 'famill': 4, 'difficul': 1, 'auteur': 4, 'apport,': 5, 'propriete,': 39, 'tous': 178, 'achat': 51, 'internet': 26, 'fonctionnel': 1, 'signatur': 1, 'lmnp': 20, '(caisses/rayon': 1, 'nettoyage),': 1, 'livraison': 59, 'rep': 53, 'domicile.': 2, 'local': 22, 'nus': 5, 'soum': 3, 'tva': 2, 'regim': 2, 'reel': 2, 'trimestriel': 1, 'fonci': 1, 'nettoyag': 55, 'infirmi': 8, 'sages-femm': 4, 'denoyautag': 1, 'pruneau': 1, 'typ': 36, 'photographiques,': 1, 'videographiques,': 1, 'pris': 47, 'vu': 10, 'drone.': 1, 'enregistr': 2, 'sonor': 2, 'aid': 26, 'navigation,': 1, 'bord': 1, \"l'accompagn\": 4, 'business,': 1, 'attir': 2, 'nouv': 1, 'traiteur': 10, \"l'activit\": 31, 'distanc': 17, 'reglementes;': 2, \"l'import-export\": 2, 'reglementes.': 6, 'achat-vent': 11, \"d'occas\": 21, 'lign': 40, \"d'habillement,\": 1, 'chaussures,': 5, 'secretariat': 3, 'independ': 5, 'entrepreneur': 2, 'massag': 11, 'bien-etr': 4, 'freelanc': 1, 'hotels/spa,': 1, 'institut': 1, 'utilis': 7, 'massage,': 1, 'ains': 24, 'infirmier': 7, 'liberal': 11, 'remplac': 8, 'bijoux': 9, 'argent': 1, 'fin': 6, 'distance,': 4, 'e-commerc': 13, 'acquisit': 21, 'mobilieres,': 11, 'invest': 4, 'plac': 35, 'caracter': 6, 'financier,': 3, 'conseil,': 8, 'evenementiel': 9, 'actif': 2, 'patrimonial': 2, 'natur': 8, 'immobiliere.': 1, \"l'acquisition,\": 62, 'detent': 10, 'compt': 11, 'moyen': 14, 'titr': 22, 'participations.': 1, 'administrative,': 6, 'comptable,': 4, 'commerciale,': 6, 'financiere,': 5, 'juridique,': 2, 'fiscale,': 1, 'marketing,': 7, 'filial': 5, 'societe.': 1, 'creation,': 11, 'location,': 18, 'geranc': 4, 'fond': 15, 'commerce.': 1, 'bail': 13, 'immeubles,': 12, 'bail,': 26, \"l'installation,\": 2, \"l'exploit\": 40, 'etablissements,': 1, 'commerce,': 2, 'usines,': 1, 'ateliers,': 1, 'rapport': 4, \"l'un\": 2, \"l'autr\": 1, 'vise': 1, 'ci-dessus;': 1, 'immeubl': 47, 'propriet': 16, 'intellectuelle.': 1, \"d'entretien,\": 1, 'depannag': 8, 'renov': 20, 'piscin': 4, 'lecon': 1, 'franc': 20, 'allophone.': 1, 'presentiel': 3, 'domicil': 94, 'social,': 1, 'individuel': 9, 'groupe.': 3, 'voitur': 22, 'occas': 4, 'even': 9, 'priv': 6, 'associ': 7, 'tel': 9, 'concert': 1, 'fet': 3, 'convent': 1, 'seminair': 1, 'soin': 18, 'esthet': 5, 'paramedicaux,': 1, 'modelag': 2, 'confort': 1, 'finalit': 1, 'objet': 33, 'rapide,': 5, 'place,': 6, 'alcoolisees,': 5, 'emport': 15, 'livraison,': 2, 'gestion,': 33, 'et,': 5, 'plus': 17, 'generalement,': 6, 'autrement,': 14, 'meuble,': 4, 'motocycl': 3, 'masseur': 5, 'kinesitherapeut': 4, 'vendeur': 1, 'dont': 12, 'pourr': 4, 'deven': 5, 'proprietair': 7, 'dacquisit': 1, 'dapport': 2, 'dech': 1, 'blanch': 1, 'dentair': 4, 'cosmet': 6, 'system': 24, \"l'achat,\": 12, 'vente,': 22, 'gerance,': 1, 'partic': 1, 'coursi': 20, 'velo': 54, 'detention,': 16, 'direct': 28, 'portefeuill': 4, 'cote': 2, \"l'acquisit\": 22, \"l'administr\": 35, 'desdit': 7, 'pos': 22, 'prothes': 13, 'ongulair': 11, 'extens': 5, 'cil': 2, 'vtc': 9, 'reflexolog': 4, 'epicerie,': 4, 'negoc': 10, 'alimentaires,': 5, \"d'origin\": 2, 'italienne.': 1, 'foir': 4, 'marche,': 1, 'vi': 16, 'form': 18, 'commercialisation.': 1, 'rel': 2, 'colis.': 1, 'anim': 14, 'commerciales,': 9, 'manifest': 1, 'lien': 5, 'culture,': 2, 'sport,': 3, 'etre': 8, 'loisirs.': 1, 'photographie.': 2, 'developpement,': 12, \"d'energ\": 7, 'proced': 3, 'methanisation,': 1, 'photovoltaique,': 2, 'toilettag': 1, 'canin': 2, 'felin': 2, 'rehabilit': 3, 'reglement': 16, 'court': 12, 'dure': 24, 'gites,': 1, \"d'hotes,\": 1, 'tentes,': 1, 'bungalow,': 1, 'mobil': 4, 'hom': 1, 'strategie,': 4, 'commercial': 56, \"l'attent\": 1, 'creation': 67, 'naturelles.': 1, '(vtc).': 1, 'licenc': 4, 'tax': 6, 'monteur': 2, 'audiovisuel': 4, 'pro': 4, 'after': 1, 'effect': 2, 'comptabl': 5, 'peintr': 4, 'toil': 3, 'commercialis': 14, \"d'electricite,\": 2, 'issu': 2, 'solair': 4, 'photovoltaiques.': 1, \"l'install\": 3, 'plusieur': 3, 'unit': 1, 'particuli': 49, 'exceptionnelle,': 2, 'parfums,': 1, 'hygien': 2, 'beaute,': 2, 'menagers,': 1, 'compl': 6, 'post': 11, 'energ': 8, 'photovolta': 15, 'litterair': 2, 'non.': 3, 'touriste,visit': 1, 'guider,accompagn': 1, 'shopping': 1, 'magasin,not': 1, 'comm': 7, 'galer': 1, 'lafayette,printemps,saint': 1, 'agent': 29, 'cabinet': 6, 'mott': 1, 'rapid': 13, 'tourism': 11, 'maconner': 19, 'oeuvr': 14, 'electricit': 19, 'domain': 28, 'incend': 1, 'realis': 44, \"d'analyses,\": 1, 'recherch': 9, \"d'etud\": 6, 'combus': 1, 'titres.': 1, 'particip': 41, \"d'interet\": 10, 'societes,': 7, \"l'alien\": 3, 'thermiqu': 4, 'climatis': 5, 'exploitation,': 5, 'indirect': 12, 'neuf': 19, 'dessin': 6, 'relat': 17, 'interact': 1, 'client': 9, 'potentiels.': 1, 'souscript': 8, 'part': 22, 'sociales,': 8, 'actions,': 5, 'obligations,': 1, \"d'interets,\": 1, 'cours': 6, 'manag': 13, 'transit': 2, 'plomber': 6, 'courri': 6, 'livreur': 24, '(san': 2, 'preparation)': 1, 'thermique,': 5, 'acoustique,': 1, 'nylon,': 1, 'band': 1, 'protect': 3, '(av': 1, 'coule': 1, 'chape)': 1, 'chez': 8, 'detail,': 1, \"d'outillage.\": 1, \"n'exced\": 3, '3.5': 1, 'ton': 3, 'pma': 2, 'recet': 1, 'cocktail': 1, 'barman,': 1, \"l'evenementiel;\": 1, \"l'administration,\": 19, 'restauration,': 6, 'immobiliers.': 15, 'encadr': 3, 'volley': 1, 'ball': 1, 'debut': 1, 'confirm': 1, 'impress': 3, '3d': 3, 'personnalis': 12, 'sit': 18, 'internet.': 4, 'photovoltaiques,': 1, 'charpente,': 4, 'professionnels.': 3, 'effectu': 2, 'different': 6, 'plateform': 8, 'entre': 2, 'micro': 3, 'saisonniere,': 1, 'touristique,': 2, 'residentiel': 4, 'para-hotelier': 1, 'flyer': 1, 'partenair': 1, 'anglais.': 1, 'pet': 8, 'bricolag': 9, 'batiment,': 3, 'exterieur': 8, 'concierger': 5, 'git': 4, 'lor': 3, 'saisonnier': 3, 'et/ou': 21, 'global': 2, \"j'offr\": 3, \"d'epil\": 2, 'corp': 3, 'maquillag': 6, 'ingenier': 9, 'etud': 14, 'estheticien': 2, 'entreprise,': 3, 'traduction,': 1, 'web': 10, 'marketer,': 1, 'leads,': 1, 'email': 1, 'copywriting,': 1, 'scraping,': 1, 'publicit': 3, 'payante,': 1, 'tracking': 1, 'cuisin': 13, \"d'energies.\": 1, 'courti': 2, 'letrang': 2, ':entrepris': 1, 'amenag': 10, 'dinterieur': 1, 'cycl': 2, 'rapatriements,': 1, 'inhumations,': 1, \"d'obsequ\": 1, 'secretariats.': 1, \"l'electron\": 1, 'exist': 1, '(cod': 4, 'ape': 8, '71.12.b)': 1, '-la': 2, 'civil,': 2, 'particulier': 2, 'club': 2, 'acquisition,propriete,mis': 1, 'valeur,': 23, 'transformation,': 17, 'amenagement,': 5, 'meublee,': 2, 'marchand': 14, \"d'habitation,\": 2, 'professionnel,': 1, 'industriel.': 1, 'homm': 6, 'main': 13, \"l'exclus\": 2, 'qualification.': 1, 'action': 7, 'groupements.': 1, 'eventaires,': 1, 'immobiliere,': 2, 'tach': 5, 'transaction,': 1, 'medi': 2, 'menagement.': 1, 'shampouin': 1, 'sant': 6, 'classe': 2, 'ailleur': 2, 'statut': 4, \"d'entrepris\": 9, 'adaptee,': 1, 'permettr': 2, 'situat': 2, \"d'exerc\": 1, 'con': 1, 'marketing': 10, 'digital': 10, 'inclu': 2, 'contenu': 8, 'visuel,': 1, 'campagn': 2, 'publicitair': 5, '(non': 5, 'reglementes),': 3, 'assist': 23, 'operationnel': 10, 'pension': 1, 'canine.': 1, 'solut': 2, 'cle': 2, 'presenc': 2, 'ligne.': 4, 'concevon': 1, 'mesure,': 3, 'adapt': 2, 'besoin': 3, 'budget.': 1, 'vou': 1, \"d'interets.\": 2, 'comedien': 1, 'theatr': 1, 'audiovisuel.': 1, 'touch': 1, 'jeu': 2, \"l'acteur\": 1, \"l'execu\": 1, '(tenu': 1, \"d'ateli\": 5, 'vern': 2, 'semi-permanent,': 1, 'gel,': 2, 'acrylique,': 1, 'resine,': 1, 'chablons,': 2, 'popit,': 1, 'capsules,': 1, 'nail': 1, 'art,': 2, 'manucur': 3, 'russ': 1, \"d'orthopt\": 1, 'trame.': 1, 'redact': 5, 'recreat': 4, 'financ': 5, 'insert': 1, 'pr': 2, 'associe': 2, 'types,': 2, 'fort': 3, 'faibl': 3, '62.02a': 1, 'administratif,': 1, 'photocop': 1, '(cyber)': 1, 'numer': 7, \"d'oeuvr\": 7, 'uniqu': 2, 'original.': 1, 'groupements,': 2, 'etrangers,': 2, 'cre': 3, 'creer.': 1, 'sas': 3, 'kop': 1, 'media,': 1, 'rc': 1, 'paris': 1, '851': 1, '243': 1, '352,': 1, 'situ': 5, '66': 1, 'avenu': 2, 'flandre,': 1, '75019': 1, 'restaurant,': 3, 'emporter,': 7, 'afferent': 2, 'jurid': 11, 'artist': 16, 'relev': 5, 'art': 10, 'gateau': 1, 'biens,': 4, 'fle:': 1, 'langu': 3, 'fli': 1, \"d'integration.\": 1, 'developpeur': 5, 'communication.': 2, 'si': 2, 'exerce': 1, 'boutique/': 1, 'couvertur': 8, 'zinguer': 5, 'yog': 5, 'group': 9, 'domicile,': 9, \"l'air\": 1, 'ouvert': 1, 'etabl': 3, 'hotes.': 1, 'interieur': 15, 'affermag': 1, 'cas': 1, 'eche': 1, 'rural': 3, 'urbain': 4, 'traduction.': 1, 'ordinateur;': 1, 'papier;': 1, 'imprimante;': 1, 'conception,': 14, 'fabrication,': 10, 'installation,': 3, 'debit': 1, 'mode,': 3, 'exclus': 3, 'ville,': 1, 'ded': 2, 'glisse,': 1, 'maroquinerie,': 3, 'montr': 1, 'ateli': 7, 'dans': 2, 'inclus': 1, 'danse-therapie-': 1, 'conferent': 3, 'prestatair': 5, 'oner': 1, '(chauffeur': 1, 'vtc).': 1, 'rapide.': 1, \"l'anim\": 3, 'franchis': 1, 'design': 7, 'maroquinerie:': 1, 'croquis,': 1, 'technique,': 2, 'suiv': 10, 'fabrication.': 1, 'station': 2, 'lavag': 3, 'interieur.': 1, 'platrer': 5, 'vach': 6, 'laitier': 5, 'bar': 4, 'inform': 1, 'participations,': 4, 'indirectes,': 2, 'cree': 1, 'creer,': 2, \"d'apports,\": 1, \"d'etancheif\": 1, \"d'ovin\": 2, 'caprin': 3, 'corporel': 5, 'maison': 16, \"l'organis\": 3, 'offrir': 2, 'afin': 7, 'concour': 2, 'polic': 1, 'municipale.': 1, 'exercic': 3, \"d'activit\": 7, 'repute': 1, 'sen': 2, \"l'articl\": 3, '311-1': 1, 'cod': 10, 'rural.': 2, 'domicile:': 1, 'repas,': 3, 'rendez-vous,': 1, 'recuper': 3, 'courses,': 3, \"l'entretien\": 6, 'tutorat': 2, 'aupr': 24, \"d'elev\": 1, 'minimal': 1, 'cinq': 1, 'an': 4, 'semain': 1, 'normal': 1, \"d'utilis\": 1, 'inferieur': 2, 'taxis.': 1, 'equipe': 1, 'taximetre.': 1, 'achat,': 7, 'taxi.': 1, \"d'apprentissag\": 1, 'natat': 3, 'disciplin': 2, 'aquat': 1, \"d'appel\": 1, 'eventair': 5, 'import-export': 6, 'achat/vent': 1, 'community': 3, 'abon': 2, 'mensuel': 1, \"d'objet\": 12, 'ancien': 1, 'broc': 1, 'recherche,': 3, 'formulation,': 1, 'cosmetiques.': 2, \"d'accompagn\": 5, 'compte,': 2, 'instrument': 3, 'financiers,': 3, 'titres,': 4, \"l'assist\": 10, 'digitalis': 1, 'integr': 2, 'activ': 1, 'avan': 1, 'catalogu': 4, 'peinture,': 6, 'platrerie-staff-stuc,': 1, 'soupl': 2, 'parquets,': 1, 'cuisines,': 2, '(licenc': 1, '3),': 1, \"d'even\": 10, \"d'anniversaires,\": 1, 'baptemes,': 1, 'mariag': 1, 'mobiliers,': 3, \"d'agencements,\": 1, 'scenographique.': 1, 'plaqu': 2, 'jointeur': 2, 'coaching': 12, \"l'esport\": 1, 'fif': 1, 'plate-form': 1, 'snack,': 2, 'thailand': 1, 'precite': 1, 'patrimoin': 9, 'plantair': 2, 'method': 3, 'therapeut': 2, 'processus': 3, \"d'auto-guerison\": 1, 'corps.': 1, 'marchandise,': 1, 'demenag': 2, 'moin': 3, '3,5': 2, 'motorise)': 2, 'velo.': 8, 'detabl': 1, 'dheberg': 1, 'agees-': 1, 'ehpad': 1, 'projet': 14, 'transact': 4, 'decoration,': 5, 'luminaires,': 1, 'accessoires.': 1, 'artisanaux.': 1, 'accessoire).': 1, 'patisseries,': 2, 'sandwiches,': 1, 'chaud': 2, 'alcoolise': 7, 'place.': 1, 'acoust': 1, 'anti-vibr': 1, 'couverture.': 2, '7022z,': 1, 'securis': 1, 'hospitali': 1, \"l'evenementiel\": 2, 'cinem': 3, 'reliur': 2, 'connex': 7, 'lie': 8, 'naval': 3, 'objet,': 3, \"l'etrang\": 9, 'quelqu': 9, 'soit.': 1, 'gardiennag': 1, 'cheval': 4, 'appart': 11, 'longu': 13, 'duree.': 1, 'chirurg': 1, 'don': 5, 'manier': 5, 'accessoire,': 1, 'cession': 11, 'bi': 1, 'salon': 13, 'energiticienne,': 1, 'serveur': 1, 'independant,': 1, \"d'hoteller\": 1, 'commerciales.': 2, \"d'espac\": 3, 'lmnp-': 2, 'annuel': 4, '-ap': 1, '6820a': 6, 'tourist': 11, \"d'heberg\": 2, 'conseils,': 7, 'secretariat,': 3, 'assistanat,': 1, 'pouv': 6, 'rattach': 8, 'terminal': 1, 'cuisson,': 1, 'patisserie,': 3, 'viennoiserie,': 2, 'sandwichs,': 3, 'pizza,': 1, 'kebab': 1, \"l'etabl\": 1, 'initi': 1, 'sais': 1, 'paie.': 1, 'fonction': 4, 'adhes': 3, 'volontair': 3, \"l'edition,\": 4, \"l'exploitation,\": 5, 'commercialisation,': 6, \"d'epicer\": 3, 'sucres,sal': 1, 'boissons.': 1, 'traiteur.': 1, 'sous-traitance.': 2, 'professionnels,': 5, 'renovation.': 3, 'realisat': 2, 'photographie,': 1, 'retouche.': 1, 'medico-chirurgical': 1, '(liberale)': 1, 'cadr': 8, '(ap': 1, '8121z)': 1, 'exerc': 4, 'dom': 1, 'tom': 1, 'immob': 1, 'pelous': 1, 'chanti': 6, 'commerciaux,': 3, 'habitations,invest': 1, 'createur': 4, 'entreprises,': 12, 'ventes,': 1, 'phonique,': 1, 'compren': 2, 'doublag': 2, 'isolants,': 1, 'chaleur': 3, 'professionnel.': 5, 'docu': 3, '19': 1, 'ru': 2, \"l'abreuvoir\": 1, '92100': 1, 'boulogne-billancourt': 1, 'traiteur,': 4, 'confect': 3, 'repas/': 1, 'cocktail/': 1, 'buffet': 1, 'particuliers,': 8, 'lieux': 7, 'evenemen': 1, 'deplac': 2, 'massages,': 1, 'relaxation,': 1, \"d'ingenieur\": 1, 'participation,': 4, 'civiles.': 1, 'expert': 1, 'stand': 2, 'logistique,': 1, 'produits,': 4, 'colisag': 1, \"l'expedit\": 2, 'chant': 3, 'collectifs.': 1, 'vocal': 2, 'parle': 1, 'chantee.': 1, 'choral.': 1, 'vocal.': 1, 'element': 4, 'culturel': 3, 'humanitair': 1, 'peugeot': 1, '205': 1, \"(europ'raid)\": 1, 'chirurgien-dent': 4, \"d'etap\": 1, 'permet': 4, \"l'accueil\": 2, 'randonneur': 1, 'pedestres,': 1, 'equestres,': 1, 'bazar': 5, 'photos': 2, 'videos': 3, 'dron': 1, 'immeuble,': 1, 'dud': 3, 'immeub': 5, 'canal': 2, 'lexploit': 5, 'doptiqu': 1, 'lunetter': 1, \"d'amenag\": 6, 'jardinage;': 1, 'exe': 1, 'plomberie,': 6, 'chauffage,': 4, 'thermiques,': 1, 'climatisation,': 2, 'chauffe-eau': 1, 'chirurgie-dentair': 1, 'avicol': 1, 'permanent': 8, \"l'exploitat\": 1, 'photographier,': 1, 'tri': 1, 'fait': 2, 'retouch': 3, 'superet': 1, \"l'echang\": 1, '(airbnb)': 1, 'architect': 4, \"l'habitat\": 1, 'rebois': 1, 'parcel': 1, 'convoyeur': 2, 'taxiphone,': 1, 'telephonie,': 1, 'reparation,': 2, 'telephon': 4, 'technicien': 4, 'son/': 1, 'lumier': 1, 'locaux.': 1, '(photo,': 1, 'video,': 2, 'etc)': 2, 'intellectuel': 2, \"d'apport,\": 10, \"l'amenagement,\": 6, 'constitu': 4, \"l'accessoire,\": 1, \"l'annex\": 1, 'question.': 1, 'machines,': 2, 'souscription,': 8, 'cession,': 3, \"d'alcool\": 2, 'vais': 3, 'fair': 6, 'personalis': 1, \"d'objet.\": 1, 'but': 4, 'vendr': 2, 'legalement.': 1, 'modeliste-': 1, 'stylist': 3, 'coutur': 5, 'mod': 10, 'exterieurs,': 1, 'specif': 3, '(bross': 1, 'dent,': 1, 'mouss': 1, 'correct': 2, 'couleur,': 1, 'siwak)': 1, 'colis': 4, 'dropshopping': 1, 'revent': 18, 'public,curage,': 1, 'faux': 2, 'plafond,': 1, 'carrelage,': 1, 'electricite.': 1, 'non-professionnel': 1, 'ladministr': 3, 'dessus': 2, 'import': 10, 'export': 8, 'agro': 1, 'sylvicultur': 1, 'mesure.': 1, \"d'agencement,\": 1, 'menuiserie.': 2, 'finit': 6, 'kinesiolog': 1, 'favoris': 5, 'etat': 13, \"d'equilibr\": 1, 'physique,': 1, 'emotionnel,': 1, 'test': 1, 'musculair': 1, 'holding': 9, 'interentrepris': 2, 'divers,': 6, 'ulterieurement,': 1, \"d'acquisition,\": 1, 'echange,': 1, 'apport': 6, 'excurs': 1, 'emporter.': 5, 'apporteur': 14, \"d'affair\": 10, 'conseiller': 3, 'immobilier,': 4, 'regroup': 1, 'credits,': 1, 'rachat': 2, 'emprunteur,': 1, 'etudiant.': 1, 'arme': 1, 'platrerie,': 2, 'menuiserie,': 3, 'revetement.': 1, 'coupl': 1, \"d'infertilit\": 1, 'propos': 11, 'chois': 2, 'couscous': 1, 'neuv': 3, 'guides/form': 1, '(e-book)': 1, 'trading/entrepris': 1, 'remuner': 1, 'continu': 4, 'renouvelable.': 2, 'interdisciplinair': 1, 'agronom': 1, \"l'innov\": 1, 'agricole.': 1, 'precis': 1, 'camping-car': 1, 'depart': 2, \"d'outre-m\": 1, 'neufs,': 3, 'eligibl': 1, '244': 1, 'quat': 1, 'jouiss': 1, 'formes,': 1, 'parahotelier': 1, 'futur': 9, \"d'achev\": 10, 'acheve,': 1, \"l'apport,\": 10, \"l'amenag\": 2, 'boutiqu': 8, 'interlocuteur': 1, 'clients,': 2, 'prives,': 2, 'publics,': 1, 'collectivites,': 2, 'partenaires,': 1, 'medias,': 1, 'etc.,': 2, 'analyses,': 2, 'essais': 1, 'inspect': 1, 'desencombrement,': 1, 'debarras.': 1, 'dangereux.': 1, 'remis': 3, 'apre': 2, 'propret': 1, 'esthetisme.': 1, 'control': 9, 'exclusivement,': 2, 'dit': 2, 'to': 2, 'bovin': 3, 'buffl': 2, 'psychologu': 3, 'influenc': 2, 'creatric': 3, 'contenus': 5, 'coiffur': 14, 'levain': 1, 'bio': 1, 'bois.': 1, 'itinerance.': 1, 'demarchag': 1, 'commerciale:': 1, \"d'habitation....\": 1, '(e-commerce)': 1, 'kholleur': 1, 'class': 1, 'preparatoir': 2, 'd1': 1, '(droit-economie)': 1, 'ens.': 1, 'concept': 19, 'financieres,': 7, 'imm': 1, 'restaurateurs.': 1, 'analys': 4, 'proposit': 2, \"d'offr\": 1, 'strateg': 13, \"d'amelioration,\": 1, 'prospection,': 2, 'negoci': 5, 'facad': 4, 'raval': 3, 'desamiantag': 1, 'ferronner': 3, 'espac': 11, 'vert': 6, '(basse)': 1, 'creations.': 1, 'dessin,': 1, 'broderie.': 1, 'artisanal.': 1, '(exceptionnelle)': 1, 'gratuit': 2, 'assoc': 4, 'promeneur': 1, 'telephonique,': 1, 'documents,': 1, 'mail': 1, 'convoyag': 2, 'ni': 2, 'demenagement-': 1, 'defin': 3, 'l311-1': 1, '(pension': 1, 'chevaux)': 1, 'hotel': 1, 'therap': 1, 'chaman': 2, 'simpl': 2, 'eventuel': 4, 'exceptionnel': 1, \"l'alienation.\": 1, 'suret': 2, 'beatmak': 1, 'funerair': 1, 'interieure,': 2, 'mobilier,': 2, 'escalier,': 1, 'cuisine,': 1, 'interieurs.': 1, 'medecin': 11, 'special': 5, 'sportif': 4, 'crm': 1, 'couture,': 1, 'present': 1, 'retouches,': 1, 'couture.': 2, \"d'enquet\": 2, 'snack': 2, 'traditionnel': 7, 'gestion.': 5, 'sandwicherie,': 1, 'saladerie,': 1, 'viennoiser': 1, 'epicer': 3, 'cablag': 1, \"d'armoir\": 1, 'coffret': 1, \"l'industrie,\": 2, 'tertiair': 1, 'verif': 1, 'formalit': 1, 'document': 1, 'realise': 1, 'entreprises.': 5, 'privee,': 1, 'professionnelle,': 1, 'associative.': 1, \"d'escap\": 1, 'pateform': 1, 'etsy': 1, '(tasses)': 1, 'biscuit': 3, 'alcool)': 1, 'ambul': 7, 'triporteur': 1, 'electrique.': 1, 'personnes,': 1, 'masseur-kinesitherapeut': 3, \"d'action\": 4, 'constitue': 1, 'constituer,': 1, 'coiffure,': 1, 'relooking,': 1, \"d'accessoir\": 11, 'annexes.': 1, 'educ': 5, 'sportif,': 1, 'jury': 2, 'diplom': 1, 'bpjeps,': 1, 'bpjep': 1, 'resident': 9, 'logements)': 1, 'deploi': 1, 'televis': 4, \"d'architecture,\": 1, 'coaching,': 1, 'limplant': 1, 'publicitaires,': 3, 'prive,': 1, 'pu': 1, 'marqu': 2, 'transakauto': 1, 'societes.': 1, 'commerciaux.': 1, 'administratives,': 1, 'comptables,': 1, 'informatiques,': 3, 'motoris': 7, \"l'exercic\": 11, 'profess': 11, 'veterinair': 4, \"qu'el\": 5, 'legal': 1, 'regl': 1, 'vigueur': 1, 'canin,': 1, 'seul': 2, 'porte': 1, 'moment': 1, 'intern': 1, 'dirig': 2, 'bonjour,': 2, '\"entretien': 1, 'corporel\".j': 1, 'itinerant.': 1, 'dev': 1, 'pepin': 2, 'noyau': 2, 'automobile,': 3, \"d'occasion,\": 4, 'negoce,': 4, \"d'appliqu\": 3, 'secteur': 8, 'principal': 9, 'maitris': 6, \"d'oeuvre.\": 1, \"d'affaires,\": 6, 'graphologu': 1, \"d'exploit\": 1, 'prendr': 3, 'recevoir': 1, 'recrut': 2, 'rh.': 1, 'laitieres,cultur': 1, 'cereal': 7, 'riz),': 5, 'legumin': 5, 'sage-femm': 1, 'grossesse,': 1, 'naissance,': 1, 'surveil': 2, 'grossess': 1, 'patholog': 1, 'nettoyage,': 4, 'copropriet': 4, 'industriels,': 3, 'desinfect': 1, 'consult': 17, 'chim': 1, 'biotech': 1, '(vtc)': 5, 'acoustiques.': 1, 'conducteur': 5, 'menage,': 1, 'locaux,': 1, \"d'entretien.\": 1, 'multiservic': 2, 'debroussaillag': 1, 'elagag': 2, 'energet': 2, 'numerolog': 1, 'electricien': 3, \"d'organis\": 3, 'congre': 1, 'demontag': 3, 'alcoolisees.': 5, 'grossist': 2, 'energetiques.': 1, \"l'entrepris\": 6, \"l'heberg\": 2, '(activit': 2, 'principale),': 1, 'conciergerie.': 2, 'specialit': 1, 'cet': 2, 'dis': 1, 'sous-loc': 1, 'sophrologie,': 1, 'liberale.': 1, 'seanc': 1, 'peut': 2, \"s'exerc\": 1, \"d'etablissements.\": 1, 'equilibrag': 1, 'rou': 1, 'pneus': 1, 'expertis': 4, 'comptable.': 1, 'armenien': 1, 'prefabr': 1, 'tuyauteries,': 1, 'appareil': 4, 'chaudron': 1, 'nomad': 1, 'revu': 2, 'period': 1, 'formatric': 1, 'gros,': 3, 'demi-gros': 4, 'sanitaire.': 1, 'bain': 1, 'cloison': 4, \"l'etranger,\": 3, 'mediation,': 1, 'street': 1, 'jazz': 1, 'heels,': 1, 'amapiano,': 1, 'modern': 2, 'dance,': 1, 'kakwe,dans': 1, 'urbaines,': 1, 'afro': 1, 'fit,': 1, 'choregraph': 1, 'danseur': 1, 'terrestr': 4, 'communication,': 5, \"d'influenc\": 1, 'digitale,': 1, 'audiovisuels,': 1, 'digit': 1, \"d'automat\": 1, 'domotique.': 1, 'rotisserie,': 2, \"l'achat\": 6, 'terrains,': 5, 'constructions,': 1, 'usin': 1, 'location;': 1, \"d'acquisit\": 1, \"d'echang\": 2, '3511z': 1, 'blog': 2, 'photo': 2, 'studio,': 1, 'plein': 2, 'air': 1, 'embauch': 1, 'interimair': 1, 'categor': 2, 'echelon': 1, 'autre,': 2, '(chaussur': 1, 'securites,': 1, 'gants,': 1, 'travail,': 1, 'plaisance.': 1, '(cour': 2, 'faible),': 1, 'donneur': 1, 'bar,': 1, 'brasserie,': 1, 'detache': 4, 'architectur': 3, 'erp,': 1, 'volumes,': 1, 'inter': 1, 'cargo': 1, '(pas': 1, 'btob)': 1, \"j'exerc\": 1, 'deux': 3, 'talence.': 1, 'operations,': 1, 'dachat,': 1, 'francais': 8, 'bricolage,': 3, 'main,': 1, 'interieur,': 3, 'qualit': 1, \"d'achat,\": 9, \"d'echange,\": 4, \"d'apport\": 9, '(bureaux,': 1, 'mixt': 3, '9511z': 1, 'formations,': 2, '\"commun': 1, 'relationnelle\"': 1, 'personnel,': 3, 'organisat': 1, 'buch': 1, 'pellet': 1, \"d'energie,\": 2, 'substitution.': 1, 'disposition,': 2, 'moyens,': 5, \"d'appart\": 5, 'non,': 3, 'hoteli': 2, 'pa': 1, 'societe,': 3, 'patrimoine,': 2, 'management,': 5, 're': 1, 'informatique,': 7, 'donne': 5, 'appareils,': 2, \"l'audit\": 1, \"l'acoust\": 1, 'placements,': 1, 'foret': 2, '(nettoyag': 1, 'chemins,': 1, 'plantations,': 1, 'fosses)': 1, \"l'aid\": 1, 'tracteur': 1, 'epar': 1, 'gyrobroyeur.': 1, 'nue-propriet': 1, \"d'usufruit,\": 1, 'batis,': 1, 'tier': 3, 'deb': 8, 'vdi': 3, 'beaut': 12, 'youniqu': 1, 'couverture/toitur': 1, 'preparation,': 1, 'vehicules;': 1, 'tissus': 3, \"d'interieurs.\": 1, 'prospect': 3, 'trouv': 2, 'nouveau': 2, 'mandat': 1, 'immobiliers;': 2, 'visit': 3, 'immobil': 2, 'chirurgical': 2, 'distribution,': 3, 'demonstr': 1, \"d'entretiens(\": 1, 'chiffon': 1, 'magiqu': 1, '),': 1, 'jeux-videos': 1, 'steam.': 1, 'closeux': 1, 'carrelag': 3, 'sous-traitance,': 1, 'etudes,': 3, 'dossi': 1, 'automatismes,': 1, 'exclu': 1, 'mandatair': 4, \"d'assureur\": 1, 'reassureurs.': 1, 'porfessionnel': 1, '(exceptionnel': 1, 'jardinag': 4, 'phonograph': 1, \"d'outil\": 4, 'virtuel': 1, 'technologiques.': 1, 'mercerie,': 1, 'lain': 1, 'tricoter,': 1, 'tissus,': 1, 'boug': 1, 'retraite,': 2, 'artisan': 2, 'exterieur,': 1, 'plaquiste,': 1, 'vitrerie,': 1, 'isolation,': 2, 'enduit,': 1, 'sols,': 1, 'pmr': 1, 'traduct': 3, \"d'interpretariat\": 1, 'roumain': 1, 'rom': 1, 'concern': 5, \"l'etud\": 1, 'process': 1, 'mission': 5, \"l'ensembl\": 2, 'dat': 1, 'recueil': 1, 'donnees,': 2, 'valoris': 2, 'dataviz': 1, 'divers': 6, '(stand': 1, 'ephemeres,': 1, 'foires,': 3, 'ergoni': 1, 'candidat': 1, \"d'activite.\": 1, 'missio': 1, 'echang': 1, 'monitric': 1, 'ski': 2, 'alpin': 1, 'extent': 1, 'ongle': 2, 'ponceux': 1, 'gel': 2, 'contractuel': 1, 'conclu': 1, 'client,': 1, \"l'endroit\": 1, 'voulu': 1, 'lui.': 1, \"d'ingenier\": 3, \"logiciels.d'informatiques.\": 1, 'puis': 2, 'repassag': 2, 'second': 6, \"d'occasion.\": 3, 'musicale,': 3, 'concerts,': 1, 'musicales,': 1, 'type.': 1, 'electriques.': 3, \"l'electricite.\": 1, 'onglerie.': 1, 'epilation.': 1, 'esthetiques.': 1, 'visag': 2, 'technolog': 3, 'maquillage,': 2, 'dermopigm': 1, 'leur': 5, 'adolescent': 1, 'troubl': 2, 'com': 2, 'specialise.': 1, 'minceur': 1, 'phytotherap': 1, 'demontage/demolit': 1, 'plis': 1, 'infirmiere,': 1, 'fantaisie,': 2, 'artisanaux,': 2, 'paris,': 1, 'cadeaux,': 1, 'souvenirs,': 1, 'pare-bris': 2, 'import/': 1, 'parfumerie,': 2, 'cosmetiques,': 4, 'estimation,': 1, 'visites,': 2, 'term': 1, \"l'accord,\": 1, 'juridiqu': 1, 'v.r.d(': 1, 'voir': 4, 'divers),': 1, 'canalisations,': 1, 'assainissement,': 1, 'chaussees,': 1, 'trottoirs,': 1, 'pavage,': 1, 'arrosage,': 1, 'verts,': 2, 'terrassement,': 3, 'enfou': 1, 'hivernag': 1, 'complet': 1, 'bassin': 1, \"d'habill\": 3, 'oblig': 3, 'universel': 2, 'agree.': 1, \"d'ouvrage,\": 1, 'maraichag': 1, 'milieu': 2, 'antiparasitair': 1, 'desinfection,': 1, 'desinsectisation,': 1, 'deratisation.': 1, 'mediateur,': 1, \"j'intervien\": 1, 'confl': 1, 'comprendr': 2, 'favor': 1, 'toustes.': 1, 'zon': 2, 'ocean': 1, 'indien.': 1, 'deratis': 1, ',desinsectis': 1, ',desinfect': 1, ',debarr': 1, '.destruct': 1, 'nuisibles.': 1, 'demembr': 1, 'maconnerie/': 1, 'routiere,': 1, 'remorquag': 1, 'panne,': 1, 'scolaire.': 1, 'legumes,': 2, 'melons,': 1, 'racin': 1, 'tuburcul': 1, 'acheves,': 8, \"l'amen\": 5, 'consist': 7, 'selection': 1, 'trading': 1, 'trottinet': 2, 'constitution,': 2, 'amelioration,': 1, 'equipement,': 1, 'massif': 1, 'forestiers,': 1, 'depend': 2, 'inseparables,': 1, 'boiser,': 1, \"l'inform\": 1, '(tic).': 1, 'serv': 1, 'quel': 5, 'activite,': 1, 'etrangere,': 1, 'supermarch': 2, 'vign': 4, 'agencement,': 2, 'canapes,': 1, 'literies,': 1, 'tables,': 1, 'chais': 1, \"d'expert-compt\": 1, '(tont': 1, 'taill': 5, 'soufflag': 1, 'desherbag': 1, 'voix': 1, 'interpret': 4, 'similaires,': 1, 'soumis': 1, 'copyright': 1, 'familial': 3, 'represent': 1, 'promotion.': 1, 'conduite,': 1, 'lou': 3, 'poid': 4, 'lourd': 2, 'osteopath': 1, 'demolit': 1, 'photo/video,': 1, 'principaux.': 1, 'avocat': 2, \"l'apport\": 3, 'rapportant,': 2, 'fumeurs,': 2, 'jeux,': 2, 'loterie,': 1, 'papeterie,': 1, 'bimbeloter': 1, 'entretien,': 2, 'pare-brise,': 1, 'marin': 1, 'matelot,': 1, 'capitain': 1, '200': 1, 'brevet': 1, 'patron': 2, 'mecanicien': 1, '750kw': 1, 'vivant.': 1, 'mult': 4, \"d'artist\": 2, 'proprietaire,': 1, \"d'hygien\": 1, 'specialisees,': 1, 'logiciel,': 2, \"d'extract\": 1, 'rondes,': 1, 'conferences,': 1, 'debarr': 2, 'maisons,appartements,': 1, 'hangars,': 1, 'entrepots,': 2, 'garage,': 1, 'cave,': 1, 'greni': 2, 'livraison.': 2, 'mediat': 3, \"l'importation,\": 2, \"l'exportation,\": 1, 'collection,': 1, 'maitr': 3, 'nageur': 1, 'sauveteurs,': 1, 'salarie,': 1, 'jour': 1, 'conges,': 1, \"d'audioprothesiste.\": 1, 'coiffure.': 1, 'soi': 1, 'agroalimentair': 1, \"d'hygienes.\": 1, 'nourritur': 1, 'pret-a-porter,': 1, 'sur-mesure,': 1, 'pret-a-port': 2, 'detail.': 1, 'custom': 1, 'guide': 1, 'vocat': 2, 'depot-vente,': 1, 'genr': 3, 'hybrid': 1, 'mand': 1, '(conseil': 2, 'optimis': 4, '(hot': 1, 'line)': 1, 'meti': 4, 'suivants:': 1, 'lieu': 1, 'sejour': 1, 'duree,': 1, 'ling': 3, 'maison,': 4, 'loue,': 1, 'petit-dejeuner.': 1, 'formateur': 6, '49.32z': 1, 'destin': 10, 'gestionnair': 1, \"d'erp\": 1, '(etabl': 1, 'recev': 1, 'service,': 3, \"l'arrosag\": 1, 'tre': 1, 'polyvalent': 1, 'temp': 2, 'partage': 1, 'externalise': 2, 'prive': 3, 'publiques,': 2, 'individuel,': 1, 'particuliers.': 4, 'facilit': 1, 'intelligent': 1, 'collective,': 1, 'decision,': 1, 'plan': 3, 'ingenieur': 3, 'independant.': 1, \"l'automobil\": 1, \"d'int\": 1, 'porter.': 1, 'friperie,': 1, 'porter,': 2, 'accessoires,': 1, 'graphiques.': 1, \"d'assist\": 4, 'multimedi': 1, '(imag': 1, 'son)': 1, 'pharmacien': 1, \"d'officin\": 1, '(articl': 1, '5125-14': 1, 'csp)': 1, \"l'intermediair\": 1, 'certain': 1, \"d'entr\": 1, 'coproduction,': 1, '(represent': 1, \"d'outillage)\": 1, 'mathemat': 1, 'lacquisit': 4, '(seminaires,': 1, 'salons...)': 1, 'dossiers.': 1, 'demand': 1, 'subvent': 1, 'aides.': 1, 'demarch': 1, 'administrat': 2, 'batis.': 1, 'professionnelle.': 2, 'vmc': 1, 'tableau': 1, 'vegetal': 1, 'stabilis': 1, 'menuisi': 1, 'aluminium': 3, 'pvc': 3, ',couleur,decolor': 1, ',meche,': 1, 'permanente,coupe.produit': 1, 'coloration,d': 1, 'decolor': 1, 'coiffage.': 1, 'poeles,': 1, 'chemine': 1, 'renouvel': 1, 'tui': 1, 'na,': 1, 'chinois,': 1, '(bat': 1, 'bati),': 1, 'devenu': 1, 'suit': 2, \"l'export,\": 1, 'fards,': 1, 'cadeau': 1, 'gadget': 2, 'soit,': 2, 'reglemente': 6, 'recycl': 3, 'immobilier.': 3, 'agencement.': 1, 'maconnerie,': 3, 'assain': 2, 'retouche,': 1, 'tourisme.': 1, 'retails,': 1, 'ethiqu': 1, 'durabl': 2, 'travaill': 3, 'sportifs,': 2, 'culturels,': 1, 'loisirs,': 1, 'souhait': 2, 'restaurant.': 1, 'chargeur': 1, 'juic': 1, '(recuper': 1, 'libre-servic': 1, 'ensuit': 1, 'recharger)': 1, 'packaging': 2, 'generaliste,': 1, 'software,': 1, '(lmnp)': 3, 'collecter,': 1, 'gerer,': 1, 'decis': 1, 'eclaire': 1, 'allant': 1, \"l'impl\": 1, 'bicyclet': 1, 'invalid': 1, 'vetements,': 2, 'sacs,': 1, 'entretiens,apport': 1, 'broyat,': 1, 'brassag': 1, 'composteur': 1, 'planif': 3, 'bio-menager': 1, 'brasser': 2, 'revente,': 2, 'esthetiques,': 1, 'parfumerie.': 1, 'quelconqu': 1, \"l'echange,\": 2, 'consignation,': 1, \"l'emmagasinage,\": 1, 'trans': 1, 'pay': 2, 'marchandises,': 2, 'denre': 1, 'provenance,': 1, 'articles.': 1, 'representation,': 1, 'commiss': 2, 'objets,': 2, \"l'installat\": 1, \"l'enseign\": 2, 'sportive,': 1, 'collectifs,': 1, 'scolair': 4, 'periscolaires.': 1, 'ovin': 1, 'services,': 3, 'diagnostic,': 1, 'audit': 1, 'responsabilit': 1, 'societale,': 1, 'qualite,': 1, 'environ': 1, \"s'ag\": 3, 'va': 1, \"d'externalis\": 1, 'secretariat.': 1, 'notair': 1, \"l'objet\": 4, 'precite.': 1, \"d'aide-menag\": 1, 'revetment': 1, 'culinaire,': 1, 'commercial,': 2, 'photo-reportage,': 1, 'naturopathie,': 1, 'reflexologie,': 1, 'luxopuncture,': 1, 'pressotherap': 1, 'activites.': 1, 'capital': 6, 'entit': 3, 'type,': 1, 'filiales,': 1, 'detenir;': 1, 'participation;': 1, 'promotion,': 1, 'lesquel': 2, 'detient': 1, \"d'interet;\": 1, 'traductric': 1, 'attent': 1, \"d'employeur\": 1, 'ou/et': 1, \"d'entreprises.\": 1, 'parental': 1, 'autour': 1, 'femm': 1, 'enceint': 1, 'nouveaux-n': 1, 'ondre': 1, '(40440)': 1, '1717,': 1, '11': 1, 'novembr': 1, '1918,': 1, '(v.t.c)': 1, 'sem': 2, 'permanent,': 1, 'microblading': 1, 'microshading': 1, 'manuel': 1, '(lecon,': 1, 'devoirs,': 1, 'etc.)': 2, \"d'immeuble,\": 1, 'sieges,': 1, 'vitres.': 1, 'terme,': 1, 'offre': 2, 'elarg': 1, 'apparten': 1, '(traduction,': 1, 'web,': 2, 'copywritting': 1, '...)': 1, 'sacoch': 1, 'bicyclette.': 1, 'prix': 1, \"l'econom\": 1, 'platri': 1, 'plaquist': 4, 'batiment-': 1, 'energies,': 1, 'chaleur,': 1, 'solaire,': 2, 'aerothermie,': 1, 'geothermie,': 1, 'planch': 1, 'chauffant,': 1, 'regulation,': 1, 'sanitaire,': 3, 'bains,': 1, 'electricite,': 2, 'ventilation,': 1, 'adoucisseur': 1, \"d'eau,\": 1, 'pluie,': 1, 'filtrat': 1, 'piscine;': 1, 'depannage,': 1, 'ci-': 1, 'dessus.': 1, 'veux': 1, 'uber': 5, 'deliveroo': 2, \"d'avocat\": 1, 'cinema/danse/theatre/mus': 1, '(lienc': 1, 'culturel)': 1, 'carrier': 2, 'reglementee,': 2, 'batiment.': 1, 'tuyautage,': 1, 'faconnage,': 1, 'depannages.': 1, 'guid': 4, 'tour': 3, 'degust': 1, 'bijoux,': 2, 'parfum,': 1, 'parfum': 3, \"d'ambiance,\": 1, 'closing,': 1, 'bnc': 2, '(benefic': 1, 'commerciaux)': 1, 'naf': 4, '7022z': 1, 'masques,': 1, 'culinair': 1, 'intervent': 3, 'musicien': 1, 'dachat': 2, 'lamenag': 1, 'iv.': 1, 'baddieslash': 1, '(extens': 1, 'cils)': 1, \"d'imag\": 1, 'notoriete.': 1, 'reeducation,': 4, \"l'appareillag\": 5, 'pedicur': 5, 'podologu': 4, 'capsule,': 1, 'x.': 1, 'iad': 1, \"d'immeubles.\": 2, 'sushi,': 1, 'narguile,': 1, 'chicha,': 1, 'fum': 1, \"l'am\": 1, 'a-descript': 1, 'photo,': 1, \"m'occup\": 1, 'tenu': 2, 'produ': 1, 'saisonni': 1, 'mesur': 3, \"l'etranger.\": 1, \"d'expertis\": 1, 'consulting': 5, \"l'informat\": 1, 'films,': 1, 'spectacles,': 1, 'theatre,': 1, 'automat': 3, 'meuble:': 1, 'ete': 1, 'classiqu': 1, 'anne': 1, 'fermetur': 1, \"d'enseign\": 1, \"d'ecol\": 1, 'pedagogiques.': 1, 'divers.': 1, 'evenementielle,': 2, 'dj,': 1, 'actuel': 1, 'president': 1, 'coiffeur': 1, 'gazel': 1, '83': 1, \"d'uz\": 1, 'nim': 1, '30000': 1, 'salarie': 1, 'raccord': 4, 'ftth': 1, 'consultant/': 1, 'bouch': 1, 'palmair': 1, ',energet': 1, 'consistent': 1, 'concevoir,': 2, 'produir': 1, 'kit': 1, 'enfants.': 1, 'organisation,': 4, \"d'habit\": 2, 'principale.': 2, 'automobiles.': 2, 'methodolog': 1, \"l'impact\": 1, 'connexes.': 1, 'prend': 1, 'ongles.': 1, 'protheses.': 1, 'femmes,': 1, \"s'y\": 2, 'rapportant.': 1, 'adultes,': 1, 'collectivit': 4, 'for': 1, 'redaction,': 2, \"l'ecriture,\": 1, 'composition,': 1, \"l'impression,\": 1, 'resilience,': 1, 'estim': 2, 'soi,': 1, 'eft,': 1, '(taille,': 1, 'tonte,': 1, 'debroussaillage)': 1, 'paysager': 3, 'bucheronnag': 2, 'autrui': 1, 'exced': 1, 'maximum': 1, 'autoris': 2, 'tonnage.': 1, 'generale.': 1, '1/2': 1, 'marches,': 1, 'bazar.': 2, 'sophrologu': 3, 'pai': 2, 'progiciel': 1, 'fantais': 4, 'levag': 2, 'kinesitherap': 2, 'argent,': 1, 'cuivre,': 1, 'laiton': 1, 'labour,': 1, 'semis,': 1, 'plantation,': 1, 'phytosanitaires,': 1, 'recolte,': 1, 'mois': 1, 'mat': 2, 'graphist': 3, 'temporair': 1, 'rotisser': 1, 'perinatal': 1, 'gest': 1, 'premi': 1, 'nourrisson': 1, 'celle-c': 1, 'pmu,': 2, 'dermograph': 1, 'couture/retouch': 1, 'olatrer': 1, 'artisanal': 2, 'agricole,': 2, 'attachag': 1, 'vendang': 1, 'controle,': 1, 'financiere.': 1, 'cav': 1, '-sol': 1, 'etc': 3, '......': 1, 'haut': 2, 'pression': 1, 'sitting': 1, 'gard': 5, \"d'animaux,\": 1, 'promenades,': 1, 'supports,': 1, 'upcycling': 1, \"d'engin,\": 1, 'vehicule,': 2, 'distanciel': 1, 'pizz': 1, 'gelules,': 1, 'tisan': 1, 'forge,': 1, 'estampage,': 1, 'matricag': 1, 'poudr': 1, 'bis': 1, 'gare,': 1, '62580': 1, 'vimy,': 1, \"l'\": 1, 'directric': 1, 'graphique,': 1, 'branding,': 1, \"l'edit\": 2, 'cliniqu': 2, 'psycholog': 2, \"l'enfant,\": 1, \"l'adolescent,\": 1, \"l'adult\": 1, 'agees.': 1, 'bilans.': 1, 'transport,': 1, 'colleg': 1, 'mast': 1, 'dun': 2, 'tabac,': 3, 'depot': 3, 'journaux,': 1, 'loto,': 1, 'point': 1, '(fdj)': 1, 'fumeur': 1, 'eat': 5, 'enregistrement,': 1, 'mixag': 1, 'mastering': 1, 'studio': 4, 'live.': 1, 'fixat': 1, 'services:': 1, '(ordin': 1, 'electrique)': 1, 'equid': 2, 'transf': 1, \"d'extens\": 1, 'assort': 1, 'manucure,': 1, 'roues.': 1, 'roues,': 1, 'forestieres)': 1, 'services.': 2, 'medico': 1, \"l'hospitalis\": 1, 'object': 1, 'repondr': 1, 'enjeux': 2, 'environnemental': 1, 'societal': 1, 'coach': 7, 'informatiques.': 2, 'fourniture,': 1, 'ferraill': 1, 'nettoi': 1, 'entreten': 1, 'generale,': 5, 'exot': 1, 'cosmetique,': 1, 'reglementes,': 2, 'holding;': 1, 'stylisme,': 2, 'modelisme,': 1, 'velos': 3, \"l'entretient\": 1, 'necessitent': 1, 'pre': 1, 'requ': 1, 'gommag': 1, 'dos': 1, 'certif': 1, 'rncp': 1, '62.01z': 1, ':webmast': 1, 'micro-entrepris': 3, 'rayonnag': 1, 'stockage;': 1, 'dao': 1, 'releves/metr': 1, 'site.': 1, 'hypnotherapeut': 2, 'graphism': 2, '(design': 1, 'graphique)': 1, 'graphiqu': 5, '(dessins,': 1, 'typographiques,': 1, 'photos,': 3, 'couleurs,': 1, \"l'etude,\": 3, \"l'ingenierie,\": 1, 'chantier,': 3, 'constructif,': 1, 'enlev': 1, 'ferrailles,': 1, 'epav': 1, 'metaux.': 1, 'proximit': 1, 'etre,': 1, 'detente,': 1, 'relax': 1, 'vitrer': 2, 'modulaires,': 1, 'combles,': 1, 'plomberie.': 1, 'etc...': 2, 'paysagiste,entretien': 1, 'verts,petit': 1, 'personnes.': 2, '(reflexolog': 1, 'bien-etre)': 1, 'interven': 3, \"'organ\": 1, 'istel': 1, 'sociaux.': 4, 'taille,': 1, 'finissag': 1, 'bain,': 2, 'eben': 1, 'sol,': 1, 'sign': 1, \"s'occup\": 1, 'majorit': 1, 'clien': 1, 'coordin': 3, \"d'evenements.\": 1, \"l'evenementiel.\": 1, 'industrielles,': 7, 'mecanique,': 1, '(resident': 1, 'secondaire)': 1, 'usinag': 1, '(tournage,': 1, 'fraisage),': 1, 'mecaniques,': 1, 'hydrauliques,': 1, 'pneumatiques.': 1, 'renovation,': 5, 'mobilieres.': 1, 'visio,': 1, 'decouvert': 1, 'thematiques,': 2, 'salles,': 1, 'individuels.': 1, \"d'enseignement,\": 1, 'nesium': 1, '4799a)': 1, 'issus': 1, 'ruch': 1, 'digital.': 2, \"d'evenements,\": 1, '(boit': 1, 'nuits,': 1, 'soire': 3, 'privees,': 2, 'mariages,': 3, 'anniversaires,': 2, 'etc...)': 2, 'chocolateries,': 1, 'biscuits,': 1, 'confiseries,': 1, 'glaces,': 2, 'sorbets.': 1, 'mareyeur,': 1, 'mer,': 1, 'import/export,vent': 1, 'gros/demi-gros/detail': 1, 'manufactures,non': 1, 'ambulant,': 1, 'project': 1, 'conformite,': 1, 'domotique,': 1, 'alarme,': 1, 'eaux,': 1, 'jardins.': 2, 'traditionnels,': 1, \"d'accessoires,\": 1, 'comportemental': 1, 'liberale,': 1, 'appliqu': 4, 'collabor': 1, \"d'avocats.\": 1, 'donnees:': 1, 'examin': 1, \"d'elabor\": 1, 'repons': 1, 'questions.': 1, '(gestionnair': 1, 'client).': 1, 'supervis': 2, '(factur': 1, 'magasin,': 1, '360': 1, 'rh': 1, \"l'elagag\": 1, \"l'abattag\": 1, '(logiciels,': 1, 'boucherie,': 1, \"l'activite,\": 1, 'carrosser': 4, 'pvc,': 1, 'sech': 2, \"d'agenc\": 1, 'exter': 1, 'repassage,': 1, 'menager.': 1, 'electronique,': 1, 'textile,': 1, 'logiciels,': 1, \"l'analyse,\": 1, 'programmation,': 2, 'fils.': 1, 'tricot,': 1, 'crochet,': 1, 'conclusion,': 1, \"d'agent\": 1, \"d'apporteur\": 1, 'lois': 1, 'indoor.': 1, 'public.': 1, 'snacking': 1, 'voituri': 2, 'eolien': 1, \"d'ensembl\": 1, 'assemblag': 1, 'menuisier': 1, \"d'innov\": 1, 'dinstall': 1, 'delectricit': 1, 'dorigin': 1, 'manufacturier': 1, 'informatique.': 1, 'prevention,': 1, 'charg': 5, 'oro-myo-fonctionnels.': 1, \"-l'activit\": 1, \"-l'acquisit\": 1, 'suburbain': 1, 'carreleur': 1, 'interieure.': 1, 'debosselag': 1, 'vehicules,': 4, 'rattachees.': 1, 'lachat,': 1, 'vinyl': 1, 'boulangerie-patisser': 1, 'ecolog': 2, \"d'aliment\": 6, \"d'agricultur\": 1, 'ans,': 1, '(hor': 1, 'reglementee)': 1, 'ligne,': 1, 'el': 1, 'visuel': 2, \"l'interieur.\": 1, 'visualis': 1, 'avant': 1, 'projets,': 1, 'moa,': 1, 'offic': 1, 'humorist': 1, 'scen': 2, \"d'audit\": 1, \"d'infrastructur\": 1, 'aeroportuaires,': 1, 'reamenag': 1, \"d'aerodrom\": 1, \"d'amelior\": 1, 'process.': 1, 'limit': 1, 'tonnag': 1, 'import-export,': 1, 'nautiques,': 1, 'nautiqu': 1, 'ubet': 1, 'resolu': 1, 'problemat': 1, 'supply': 1, \"l'excellent\": 1, 'viticole.': 1, 'effervescents.': 1, '(vtc),': 1, \"d'occasions.\": 1, 'dallage,': 1, 'enduits,': 1, 'marbr': 1, 'parkings,': 1, 'box': 2, 'garag': 3, 'residentiels.': 1, 'diagnostic': 2, 'prevent': 1, 'soudur': 1, 'procedes,': 1, 'corps,': 2, 'escaliers,': 1, 'pergol': 1, 'serrurerie.': 1, 'serruri': 1, 'depanneur': 1, 'depann': 1, 'tatouag': 2, 'chef': 1, 'cuisini': 1, 'post-product': 1, 'cinematographiques,': 1, 'videos,': 2, 'construit': 1, 'dechang': 1, 'dapp': 1, 'salaison': 1, '(sap)': 1, 'participation.': 1, 'animation,': 1, '(mis': 1, 'artisans),': 1, 'toitur': 1, 'hydrofug': 1, 'ventil': 1, 'combl': 1, 'aim': 1, 'contr': 2, 'vinted': 1, 'vill': 1, '(menages,': 1, 'travaux)': 1, \"main-d'oeuvr\": 1, 'artistique,': 2, 'demenagement,': 1, '\"fonciere\"': 1, 'conservation,': 1, 'immobilis': 1, \"d'actif\": 1, \"qu'en\": 2, 'ecommerc': 1, 'filair': 1, 'moniteur': 2, 'auto': 1, 'amazon': 1, '(coloriage,carnet)': 1, 'publie,': 1, 'envoi.': 1, 'percoit': 1, 'redev': 1, 'chaqu': 1, 'vente.': 1, 'dj': 1, 'evenementiel,': 1, 'anniversaire,': 1, 'mariage,': 2, 'comit': 1, \"d'entreprise,\": 3, 'statsandbet': 1, \"l'acc\": 1, \"d'abon\": 1, 'holding,': 3, 'refection,': 1, 'durees,': 1, 'fourn': 1, 'dernier': 1, 'tendanc': 1, 'mode.': 1, 'styl': 1, 'fashion': 1, 'dhabillages.': 1, 'denvoi': 1, 'lieux,': 1, \"l'amenagemen\": 1, 'immobilieres.': 1, \"d'architectur\": 3, '(exceptionnelle),': 1, 'garanties.': 1, 'multi-servic': 1, 'rehabilitation,': 1, 'immobilieres,': 1, 'hypermarch': 1, \"l'educ\": 1, 'terrains.': 1, 'pofessionnel': 1, 'coup': 2, 'coiffage,': 1, 'chignon': 1, 'imag': 1, 'naturelles,': 1, \"d'ingenierie;\": 1, 'projeteur': 1, 'metreur': 2, 'verificateur,': 1, 'batiments......etc.': 1, 'finition,': 2, 'qualif': 1, 'heur': 2, 'ponctuel': 1, \"l'outil\": 1, 'collectifs)': 1, 'particuliers)': 1, 'alienation,': 1, 'indirecte,': 1, 'assimiles.': 1, 'photocopie,': 1, 'regard': 1, 'cils,': 2, 'rehaussement,': 1, 'browlift,': 1, 'hen': 1, 'brow': 1, 'remorqu': 1, 'logisticienne/': 1, 'regiss': 1, 'congres,': 1, 'seminaires,': 2, 'lead': 1, 'decoup': 1, 'laser.': 1, \"d'objets.\": 1, 'expertise-compt': 1, 'superette.': 1, 'alim': 1, 'chass': 1, 'toit,': 1, 'stor': 1, 'volet': 1, 'roulants.': 1, 'brioch': 1, 'hongrois': 1, 'orthophon': 1, 'titulair': 1, \"l'affretement,\": 1, \"l'oper\": 1, 'bateaux.': 1, 'conclus': 1, 'cont': 1, '.net': 1, 'cor': 1, 'microservic': 1, 'backend.': 1, 'ddd.': 1, 'batiments,': 1, \"j'effectu\": 1, 'jongler': 1, 'fais': 2, 'salon.': 1, 'maison.': 1, \"d'artisanat\": 1, 'africain.': 1, 'comprend': 1, 'var': 1, 'perform': 2, 'vocale.': 1, 'collectifs.prevent': 1, 'vinif': 1, 'domin': 1, 'petroli': 1, 'logist': 1, 'personne(': 1, 'toilette,': 2, 'nursing,': 1, 'lever,': 1, 'coucher,': 1, 'repas)': 1, 'grillag': 1, 'rigid': 1, 'marechaler': 1, 'traitanc': 1, \"m'ai\": 1, 'solicit': 1, '(finition,peinture,nettoyag': 1, 'ect)': 1, 'bioethiqu': 1, 'complianc': 1, 'rgpd': 1, 'legers.': 2, 'reseaux.': 1, 'cook': 2, 'chauffeur.': 1, 'entreprise;': 1, 'entreprise.': 2, 'leger.': 1, 'commande,': 1, 'terrain,': 1, \"d'hygiene,\": 1, 'accompagnement,': 1, 'mobilit': 1, 'vulnerables.': 1, 'crochet': 1, 'compositeur,': 1, 'voyage,': 1, 'seller': 2, \"d'acquer\": 1, \"d'illustr\": 1, 'original': 1, 'evenementielle.': 1, '59.20z': 1, 'couleur': 1, 'practicien': 1, 'chromotherap': 1, 'fantaisies-vent': 1, 'expos': 1, 'quotidien': 1, '(trouss': 1, 'douche,': 1, 'eponge,': 1, 'coton,': 1, 'serviette,': 1, 'mixte,': 1, 'barbier,': 1, \"l'activite;\": 1, 'par': 4, 'hotelier': 2, 'pdf': 1, 'pochet': 1, 'demande.': 1, 'rob': 1, 'infrastructur': 1, '6622': 1, 'adress': 1, 'domicili': 1, 'habit': 1, 'individuelles,': 1, 'tont': 2, 'pelouse,': 2, 'haies,': 2, 'clotures,': 1, 'plantat': 1, 'entrain': 1, 'trot': 1, 'analytic': 1, 'engineering': 1, 'livres,': 1, 'cd,': 1, 'dvd': 1, '(debroussaillage,elagage,tonte,abbatage)': 1, 'luxe,': 1, 'relation,': 1, 'vacances.': 1, \"d'affaires.\": 1, 'consulting,': 2, 'telecommunication.': 1, 'particul': 2, 'principal,': 1, 'jeun': 1, 'acte': 1, 'semel': 1, 'orthoped': 1, 'appareillag': 1, 'patients.': 1, 'foire.': 1, 'motif': 1, 'brod': 1, 'broder,': 1, 'textiles.': 1, 'concevoir': 1, \"d'effectu\": 1, 'rendez-vous': 1, 'gourmandis': 1, '(donut': 1, 'gaufr': 1, 'festival': 1, 'tatouages,': 1, 'perinatalite.': 1, 'parental.': 1, 'posit': 1, 'bienveillante.': 1, 'innovation,': 1, 'cultures,': 2, 'viticol': 3, 'ale': 1, 'climatiques,': 1, 'eco-respons': 1, 'viticultur': 1, \"l'agricultur\": 1, \"l'industrie,commercialis\": 1, 'geosynthetiques,': 1, 'geomembran': 1, 'geocomposites,': 1, 'quais': 1, 'dechargement.': 1, \"l'economie,\": 1, \"l'immobilier,\": 1, 'business': 1, 'remorques,': 1, 'automobiles,': 1, \"d'equ\": 1, \"d'immeubles,\": 2, 'redactric': 1, '(copywriting)': 1, 'newsletters,': 1, 'storytelling,': 1, 'descript': 1, 'linkedin.': 1, 'demplac': 1, 'stockage,': 1, 'entreposage,': 1, 'archivage.': 1, 'energeticien': 1, 'economie,': 1, 'acquis': 1, 'rse,': 1, \"l'inclus\": 1, 'diversit': 1, 'chang': 2, 'bris': 2, 'optique,': 2, 'optique.': 2, 'facadier,': 1, 'fondat': 1, 'briquetag': 1, 'clinicien': 1, 'interurbain.': 1, 'electriques,': 1, \"j'ai\": 1, 'parfois': 1, 'remunere': 1, '(retribu': 1, \"d'acc\": 1, 'promotionnel': 1, 'avantag': 1, 'repertor': 1, 'chaussants,': 1, 'erot': 1, 'professeur': 4, 'vinyas': 1, 'chaussures.': 1, 'teletravail:': 1, 'planning': 1, 'sante/': 1, '/prestat': 1, 'acquisitions,': 1, 'techniques)': 1, \"l'amelior\": 2, 'rse': 1, \"d'hotellerie,\": 1, 'taxiphon': 1, 'prepaye': 1, ',port': 1, 'cle,accessoir': 1, '(utilis': 1, 'cabochon': 1, 'perl': 1, 'naturelles,support': 1, 'inoxydable,cuir,bois)': 1, 'total': 1, 'trois': 2, 'dem': 2, 'd3.': 1, 'traver': 1, 'bricolage.': 2, '(evenementiel': 1, 'nature)': 1, 'materiels,': 2, 'provenances;': 1, \"d'orthophon\": 1, \"l'hoteller\": 1, 'personne:': 1, 'scolaire,': 2, \"d'entrepreneurs.\": 1, 'maisons,': 1, 'vid': 3, \"l'habit\": 1, 'achat/revent': 1, 'connect': 1, \"d'examen\": 1, 'bimbeloterie,': 1, 'auquel': 2, 'adjoint': 1, 'combin': 1, 'enduit': 1, 'decort': 1, 'ambianc': 1, \"d'optique,\": 1, 'lunetterie,': 1, 'auditives,': 2, 'proth': 1, 'charpentier,': 1, 'emprunteur.': 1, 'conciergerie,': 1, \"l'assistance,\": 1, \"l'intend\": 1, 'teleconseil': 1, 'sculptur': 2, 'nutrit': 2, 'indirectement,': 2, \"qu'a\": 1, 'portag': 1, 'salarial.': 1, 'beignets,': 1, 'chouchous,': 1, 'popcorn': 1, 'kinesitherapeutes,': 1, 'reeduc': 1, 'vitrag': 1, 'carrosserie,': 1, 'reprogramm': 1, 'vehicules.': 2, 'capsul': 1, ',vent': 1, 'placo,': 1, \"d'etat\": 1, 'institutionnel': 1, 'sfr': 1, 'decoupage,': 1, 'emboutissag': 2, 'relecture,': 1, 'orthograph': 1, 'grammatical': 1, 'textes.': 1, \"d'alarm\": 1, 'telesurveil': 1, 'mettr': 3, 'verre,argil': 1, 'esthetique.': 1, '(il': 1, 'ambulante,': 1, 'deplacent': 1, 'domicile)': 1, 'jouet/accessoir': 1, 'chat': 1, 'e-commerce,': 1, 'nouvel': 1, 'technologies.': 1, 'escali': 1, 'hall': 1, 'vitre,': 1, 'poubel': 1, 'et.exterieur': 1, 'debr': 1, 'debarras,': 1, 'recyclage,': 1, 'trav': 1, 'interieures,': 1, 'murs,': 1, 'couvertures...': 1, 'terrassements,': 1, \"d'augment\": 1, 'metyos,': 1, 'tatoueur': 2, 'reparations,': 1, 'engin': 1, 'frites,': 1, 'hamburger,boisson': 1, 'ennobl': 1, 'macon': 1, 'aller': 1, 'rencontr': 2, 'publique,': 1, 'rue,': 1, 'sensibilis': 1, 'caus': 1, 'cooper': 1, 'pedagog': 2, 'collaboratifs.': 1, 'mobiles.': 1, 'exotiques,': 1, 'manioc,': 1, \"d'hibiscus,\": 1, 'gingembr': 1, '...': 1, 'developper,': 1, 'autonome.': 1, 'respon': 1, 'chirurgiens-dent': 1, 'internet,': 1, 'referecen': 1, 'century': 1, '21': 1, 'beaulieu': 1, 'st': 1, 'ave': 1, \"d'osteopath\": 1, 'ad': 1, 'diffusion,': 1, 'cinematographiques.': 1, 'publics.': 1, 'necessit': 1, \"l'oblig\": 1, '4619b': 1, 'conseil.': 1, 'tiers.': 1, 'ten': 2, 'location...': 1, 'cisaillage,': 1, 'pliage,': 1, 'poinconnage,': 1, 'decoupag': 1, 'siderurgiques,': 1, 'inoxydables,': 1, 'ferreux.': 1, 'nego': 1, 'visseries,': 1, 'boulonnerie,': 1, 'publicite.': 1, 'talents.': 1, 'negoce.': 1, 'nuit,': 1, 'hotess': 1, \"d'accueil\": 1, 'artiste,': 1, 'vestiaire.': 1, \"l'ursaaf\": 1, 'voul': 1, 'expliqu': 1, 'raison': 1, \"l'enorm\": 1, 'complexit': 1, 'jardins,': 2, 'debroussaillage,': 2, 'taillag': 1, 'pilot': 2, \"d'helicopter\": 1, 'captain,': 1, 'copilot': 1, 'safety': 1, 'lot': 2, 'bazar,': 3, 'ornementales,': 1, 'terroir': 1, 'merchandising': 1, \"l'import\": 3, 'afferent.': 1, \"l'assemblage,\": 1, 'distrubu': 1, 'standards,': 1, 'manutention,': 1, \"l'equilibr\": 1, 'charges,': 1, 'prehension,': 1, 'chariots,': 1, 'poutr': 1, 'roulantes,': 1, 'potences,': 1, 'rail': 1, 'monorails,': 1, 'ansi': 1, 'definit': 1, 'ergonom': 1, 'travail.': 1, 'etude,': 2, \"d'audiologie,\": 1, 'son,': 1, 'copywriting)': 1, 'forme,': 1, \"d'ex\": 1, 'placo': 1, 'clotur': 1, 'vins,': 1, 'champagn': 1, 'spiritueux,': 1, 'fins.': 1, 'ledif': 1, 'autrem': 1, 'ux/ui': 1, \"d'information.\": 1, 'fusion,': 2, 'projet,': 1, \"l'existant.\": 1, \"l'immobili\": 1, 'holdings,': 1, 'sous-trait': 2, 'administratifs,': 1, 'pre-press': 1, 'tresor': 1, 'parfumer': 1, 'bebe,': 1, 'beb': 1, 'baby': 2, 'yoga,': 1, 'paysag': 2, 'desir': 1, 'produits.': 1, 'international.': 1, 'serrurerie,': 1, 'bardag': 1, 'telephone,': 1, 'transfert': 1, \"d'argent,\": 1, 'non-medecin': 1, 'salons,': 2, 'congr': 2, 'jardinier': 1, 'vegetaux,': 1, 'verts.': 1, 'menuisier.': 1, 'entretenir,': 1, 'renover,': 1, 'sourcil': 1, '(imprim': 1, 'digitaux)': 1, 'chaudronne': 1, 'tuyauter': 1, 'tutorat.': 1, 'elev': 1, '9609z': 1, 'production.': 1, 'entr': 1, 'ingenierie,': 2, 'financement,': 1, 'parachutisme,': 1, 'parapent': 1, 'voiles,': 1, 'prototypage,': 1, 'parachut': 1, 'sports.': 1, 'remploi,': 1, 'pedagogiques,': 1, 'ecole,': 1, 'groupes,': 1, '(soire': 1, 'conferences.': 1, 'monu': 1, 'histor': 1, 'attract': 1, 'metallerie,': 1, 'serrurer': 1, ',imp': 1, 'corporat': 1, 'finance,': 1, 'bilan,': 1, 'industrielle,': 2, 'niveau': 1, 'naturopath': 1, 'reprendr': 1, 'solution': 1, 'problem': 2, \"n'arriv\": 1, \"s'en\": 1, 'agro-equip': 1, 'formation.': 1, 'support.': 1, 'abonnements,': 1, 'mem': 1, 'aucun': 1, 'voyage/typ': 1, 'portes,': 1, 'chirurgien-dentiste.': 1, 'coaching(conseils)': 1, 'amour': 1, 'sexuel': 1, 'signaletique,': 1, '/mission': 1, 'detemine': 1, 'construits,': 2, 'construir': 2, 'collectif.': 1, 'examen.': 1, 'alcoolisees)': 1, 'occations-piec': 1, 'automobiles-loc': 1, 'cles,': 1, \"d'entre\": 1, 'sortie,': 1, \"d'homm\": 1, 'faire.': 1, 'fort,': 1, 'electrique,': 1, \"l'eau\": 1, 'domestique,': 1, 'menus': 1, 'digitale.': 1, 'ceramique,': 1, 'poter': 1, 'derives,': 1, 'table,': 1, 'ar': 1, 'viande,': 1, 'auditifs.': 1, 'individus,': 1, 'territoir': 1, \"d'intelligent\": 1, 'emerg': 1, 'ecrivain': 1, 'roman': 1, 'poemes.': 1, 'ecritur': 1, 'litterature.': 1, \"d'affili\": 1, 'infopreneur': 1, 'grac': 1, 'adherent': 1, 'benefici': 1, 'reduct': 1, 'psycho-educ': 1, \"l'export\": 2, 'assurance,': 1, 'syndic': 1, 'multipropriete,': 1, '4511z': 1, 'bricolages,': 1, 'potager,': 1, 'terrasse,': 1, \"d'honorair\": 1, 'commercial.': 1, 'carrossi': 1, 'conseil/consult': 1, 'architecturales,': 1, 'territoriaux,': 1, 'plombi': 1, 'forestiere.': 1, '(grumes,': 1, 'energie)': 1, 'im': 1, 'journalistiques,': 1, 'compact': 1, '(presse,': 1, 'benne,': 1, 'broyeurs,': 1, 'compacteurs)': 1, 'habituel': 1, 'effectue': 1, \"d'administr\": 1, \"d'anim\": 1, 'groupe;': 1, 'interess': 1, \"l'intervent\": 1, 'nouvelle,': 1, 'scission': 1, 'absorption,': 1, 'association,': 1, 'alliance,': 1, 'groupement,': 1, 'commandite,': 1, 'tresorer': 1, 'brevet,': 1, 'franchise,': 1, 'mar': 1, 'jardinage.': 1, 'tontes.': 1, 'judo': 1, 'ju': 1, 'jitsu': 1, 'externalis': 1, 'glacier,': 1, 'iii,': 1, 'sujet/objet': 1, \"d'\": 1, 'exposit': 1, 'visite,': 1, 'pc.': 1, 'informaticien': 1, \"l'evenementiel,\": 1, 'lactivit': 2, 'dagenc': 1, 'tourisme,': 1, 'exportation.': 1, 'metaller': 1, 'minoritaire,': 1, 'etre.': 1, 'multipl': 1, \"d'intrieur,\": 1, 'nannybag,': 1, 'valis': 1, 'facon': 1, 'temporaire.': 1, 'carrelage-faience.': 1, 'couverture,': 2, 'portail': 1, 'veau': 1, 'batter': 1, 'breb': 1, 'orge': 1, 'fourrag': 1, 'mention': 1, 'tennis/padel/phys': 1, 'romans,': 1, 'maquettage,': 1, 'couvertures,': 1, 'autoedit': 1, '(plateform': 1, \"d'autoedit\": 1, 'voiture,poid': 1, 'sup': 1, 'contenus,': 1, 'tournag': 1, 'photos.': 1, 'soci': 1, 'destine': 1, \"l'audiovisuel\": 1, 'telecommunication,': 1, 'favoriser,': 1, 'promouvoir': 1, 'bilan': 2, 'neuropsycholog': 1, '(remedi': 1, 'cognitive)': 1, 'vocale,': 1, 'tricot': 1, 'animali': 1, \"d'occasions,\": 1, 'indiqu': 1, 'bureaux,': 2, \"l'informatique,\": 1, 'ceux': 1, 'clients.': 1, '(developpements,': 1, 'conseil)': 1, 'materiel,': 1, 'communications,': 1, 'peuvent': 1, 'concernes.': 1, 'utilisateurs,': 1, 'formul': 1, 'solutions.': 1, 'logiciels.': 1, \"l'equipement,\": 1, \"l'utilis\": 1, 'produi': 1, 'autonom': 1, 'reseau,': 1, 'renouvelable,': 1, 'proc': 1, 'ruraux,': 1, 'enti': 1, 'lo': 1, 'wedding': 1, 'planner,': 1, 'decoration.': 1, 'operationnels,': 1, 'strategiques,': 1, 'entreprises;': 1, 'outillages,': 1, 'div': 1, 'anesthes': 1, 'reanim': 1, 'musicotherapeut': 1, 'manager,': 1, 'maximis': 1, 'succes.': 1, 'fidelis': 1, 'microentrepreneur,': 1, \"d'interieur,\": 1, \"l'ingenier\": 1, 'competences.': 1, 'resin': 1, 'lacquisition,': 1, 'ladministration,': 1, 'ci-dessus,': 1, 'dinvest': 1, 'civiles,': 1, 'susceptibl': 1, 'den': 1, 'tabac-deb': 1, 'boissons-articl': 1, 'fumeurs-bibeloterie,': 1, 'rattache': 1, 'pmu': 1, 'nus,': 1, 'valeu': 1, 'oba': 1, 'technology': 1, 'it,': 1, 'offrant': 1, 'gamm': 1, 'varie': 1, 'technol': 1, 'artisanale,': 1, 'detiendr': 1, 'fiscal': 1, 'upcycling,': 1, 'recyclag': 1, 'haut,': 1, 'shower,': 1, \"d'entreprises,\": 1, 'bapteme,': 1, 'communions,': 1, 'associations,': 1, 'naf4799a)': 1, 'entreprise:': 1, 'secret': 1, 'miel': 1, \"l'espac\": 1, 'it': 1, 'praticien': 1, 'hypnos': 1, 'gouss': 1, 'vanille,': 1, 'madagascar.': 1, 'indir': 1, 'traditionnelle,': 1, 'boissons,': 1, 'dassur': 1, 'lexecu': 1, 'sy': 1, 'operatio': 1, 'charbon': 1}\n",
      "word_id_mapping: {'fabriqu': 1, 'carton': 2, 'heberg': 3, 'medicalis': 4, 'adult': 5, 'handicap': 6, 'autr': 7, 'machin': 8, 'industr': 9, 'papi': 10, 'cultur': 11, 'repar': 12, 'meubl': 13, \"d'equip\": 14, 'commerc': 15, 'gros': 16, '(commerc': 17, 'interentreprises)': 18, 'cuir': 19, 'organis': 20, 'jeux': 21, 'commun': 22, 'construct': 23, 'reseau': 24, 'transport': 25, 'ferroviair': 26, 'fret': 27, 'materiel': 28, 'distribu': 29, 'command': 30, 'electr': 31, 'edit': 32, 'video': 33, 'scientif': 34, 'techniqu': 35, 'activit': 36, 'professionnel': 37, 'prepar': 38, 'fibr': 39, 'textil': 40, 'cafe,': 41, 'epic': 42, 'profil': 43, 'accessoir': 44, 'correspond': 45, 'fruit': 46, 'legum': 47, 'volaill': 48, 'produit': 49, 'chimiqu': 50, 'enfant': 51, \"d'autr\": 52, 'ceram': 53, 'usag': 54, 'transform': 55, 'conserv': 56, 'viand': 57, 'support': 58, 'magnet': 59, 'optiqu': 60, \"d'install\": 61, 'administr': 62, 'publiqu': 63, 'formation,': 64, 'servic': 65, 'sociaux,': 66, 'securit': 67, 'social': 68, 'entretien': 69, 'vehicul': 70, 'automobil': 71, 'accueil': 72, 'accompagn': 73, 'san': 74, \"d'enf\": 75, 'construction,': 76, 'terr': 77, 'cuit': 78, 'metall': 79, 'similair': 80, 'fournitur': 81, 'equip': 82, 'diver': 83, 'soutien': 84, 'extract': 85, 'secour': 86, 'agricol': 87, 'vet': 88, 'central': 89, \"d'achat\": 90, 'bas': 91, 'tabac': 92, 'alimentair': 93, 'n.c.a.': 94, 'electron': 95, 'detail': 96, 'boisson': 97, 'magasin': 98, 'specialis': 99, \"d'articl\": 100, 'sport': 101, 'oleagin': 102, 'matier': 103, 'forestier': 104, \"d'inform\": 105, 'crustac': 106, 'mollusqu': 107, 'fleur': 108, 'plant': 109, 'gestion': 110, 'sportiv': 111, 'peintur': 112, 'verr': 113, 'petit': 114, 'surfac': 115, 'fonder': 116, 'metal': 117, 'non': 118, 'ferreux': 119, 'journal': 120, 'pharmaceut': 121, 'exploit': 122, 'mineral': 123, \"d'appareil\": 124, 'livr': 125, \"d'adult\": 126, 'person': 127, 'age': 128, 'spatial': 129, 'trait': 130, 'revet': 131, 'fluvial': 132, 'metallurg': 133, 'physiqu': 134, 'diffus': 135, 'programm': 136, 'combustibl': 137, 'gazeux': 138, 'conduit': 139, 'enseign': 140, 'secondair': 141, 'elevag': 142, 'condition': 143, 'gen': 144, 'civil': 145, 'evalu': 146, 'risqu': 147, 'bureau': 148, '(a': 149, \"l'except\": 150, 'hor': 151, 'routi': 152, 'voyageur': 153, 'telecommun': 154, 'fil': 155, 'parc': 156, 'froid': 157, 'intermediair': 158, 'meubles,': 159, 'articl': 160, 'menag': 161, 'quincailler': 162, 'jardin': 163, 'reserv': 164, 'naturel': 165, 'grand': 166, 'product': 167, 'bateau': 168, 'maill': 169, \"d'al\": 170, 'piec': 171, 'plastiqu': 172, 'consomm': 173, 'cour': 174, 'boucher': 175, 'general': 176, 'sauf': 177, \"d'ouvrag\": 178, 'public': 179, 'reproduct': 180, 'logiciel': 181, 'outil': 182, 'developp': 183, \"d'entretien\": 184, 'informat': 185, \"d'emballag\": 186, 'maritim': 187, 'gener': 188, 'aerien': 189, \"l'industr\": 190, 'animal': 191, 'compagn': 192, 'aliment': 193, 'vin': 194, 'peripher': 195, 'machines-outil': 196, 'polit': 197, 'confiser': 198, 'collect': 199, 'eau': 200, 'organ': 201, 'annex': 202, 'moteur': 203, 'sanitair': 204, 'domest': 205, 'caoutchouc': 206, 'sall': 207, 'spectacl': 208, 'promot': 209, 'immobilier': 210, 'log': 211, 'plat': 212, \"d'horloger\": 213, 'bijouter': 214, 'retrait': 215, 'tant': 216, 'producteur': 217, 'propr': 218, 'charcuter': 219, 'chain': 220, 'agenc': 221, 'societ': 222, 'financier': 223, 'clientel': 224, 'restaur': 225, 'sous': 226, 'contrat': 227, 'auxiliair': 228, \"d'isol\": 229, 'isol': 230, 'maroquiner': 231, 'voyag': 232, 'bien': 233, 'bois': 234, 'mis': 235, 'disposit': 236, 'humain': 237, 'frigorif': 238, 'industriel': 239, 'beton': 240, 'sec': 241, 'charpent': 242, 'menuiser': 243, \"d'eau\": 244, 'travail': 245, 'film': 246, 'traval': 247, 'montag': 248, 'structur': 249, 'voi': 250, 'pomp': 251, \"d'el\": 252, 'assur': 253, 'mobili': 254, \"d'huil\": 255, 'graiss': 256, 'faconnag': 257, 'locat': 258, 'oper': 259, 'affair': 260, 'etranger': 261, 'caf': 262, 'mecan': 263, 'menager': 264, 'patisser': 265, 'cart': 266, 'mainten': 267, 'chaudier': 268, 'chauffag': 269, 'location-bail': 270, 'recherche-developp': 271, 'gaz': 272, 'min': 273, 'chaussur': 274, 'sieg': 275, \"d'interieur\": 276, 'sondag': 277, 'musiqu': 278, \"d'electricit\": 279, 'centr': 280, 'dechet': 281, 'danger': 282, 'premier': 283, 'superieur': 284, 'mur': 285, 'sol': 286, 'jouet': 287, 'install': 288, 'port': 289, 'fenetr': 290, 'decor': 291, 'leger': 292, \"d'analys\": 293, 'medical': 294, 'pierr': 295, 'banqu': 296, 'platr': 297, 'pret': 298, 'viv': 299, 'march': 300, 'financi': 301, 'caiss': 302, 'compr': 303, 'bat': 304, 'rout': 305, 'musical': 306, 'cred': 307, \"d'ordin\": 308, 'terrass': 309, 'li': 310, 'stockag': 311, \"d'art\": 312, 'specialise': 313, 'material': 314, 'difficult': 315, 'loisir': 316, 'press': 317, 'scienc': 318, 'courtag': 319, 'valeur': 320, 'mobilier': 321, 'marchandis': 322, 'electromenager': 323, 'personnel': 324, 'panneau': 325, \"d'assur\": 326, 'tabl': 327, 'terrain': 328, 'chauffeur': 329, 'photograph': 330, 'manutent': 331, 'portuair': 332, 'grain': 333, 'format': 334, 'pratiqu': 335, 'acquisition,': 336, 'administration,': 337, 'droit': 338, 'immobiliers,': 339, 'vent': 340, \"d'immeubl\": 341, 'immobili': 342, 'loueur': 343, 'meuble': 344, 'professionel': 345, 'hotessariat': 346, \"d'un\": 347, 'chambr': 348, 'sein': 349, 'tout': 350, 'prestat': 351, 'prof': 352, 'entrepris': 353, 'conseil': 354, 'not': 355, 'famill': 356, 'auteur': 357, 'apport,': 358, 'propriete,': 359, 'tous': 360, 'achat': 361, 'internet': 362, 'lmnp': 363, 'livraison': 364, 'rep': 365, 'local': 366, 'nus': 367, 'soum': 368, 'nettoyag': 369, 'infirmi': 370, 'sages-femm': 371, 'typ': 372, 'pris': 373, 'vu': 374, 'aid': 375, \"l'accompagn\": 376, 'traiteur': 377, \"l'activit\": 378, 'distanc': 379, 'reglementes.': 380, 'achat-vent': 381, \"d'occas\": 382, 'lign': 383, 'chaussures,': 384, 'secretariat': 385, 'independ': 386, 'massag': 387, 'bien-etr': 388, 'utilis': 389, 'ains': 390, 'infirmier': 391, 'liberal': 392, 'remplac': 393, 'bijoux': 394, 'fin': 395, 'distance,': 396, 'e-commerc': 397, 'acquisit': 398, 'mobilieres,': 399, 'invest': 400, 'plac': 401, 'caracter': 402, 'financier,': 403, 'conseil,': 404, 'evenementiel': 405, 'natur': 406, \"l'acquisition,\": 407, 'detent': 408, 'compt': 409, 'moyen': 410, 'titr': 411, 'administrative,': 412, 'comptable,': 413, 'commerciale,': 414, 'financiere,': 415, 'marketing,': 416, 'filial': 417, 'creation,': 418, 'location,': 419, 'geranc': 420, 'fond': 421, 'bail': 422, 'immeubles,': 423, 'bail,': 424, \"l'exploit\": 425, 'rapport': 426, 'immeubl': 427, 'propriet': 428, 'depannag': 429, 'renov': 430, 'piscin': 431, 'franc': 432, 'presentiel': 433, 'domicil': 434, 'individuel': 435, 'groupe.': 436, 'voitur': 437, 'occas': 438, 'even': 439, 'priv': 440, 'associ': 441, 'tel': 442, 'fet': 443, 'soin': 444, 'esthet': 445, 'objet': 446, 'rapide,': 447, 'place,': 448, 'alcoolisees,': 449, 'emport': 450, 'gestion,': 451, 'et,': 452, 'plus': 453, 'generalement,': 454, 'autrement,': 455, 'meuble,': 456, 'motocycl': 457, 'masseur': 458, 'kinesitherapeut': 459, 'dont': 460, 'pourr': 461, 'deven': 462, 'proprietair': 463, 'dentair': 464, 'cosmet': 465, 'system': 466, \"l'achat,\": 467, 'vente,': 468, 'coursi': 469, 'velo': 470, 'detention,': 471, 'direct': 472, 'portefeuill': 473, \"l'acquisit\": 474, \"l'administr\": 475, 'desdit': 476, 'pos': 477, 'prothes': 478, 'ongulair': 479, 'extens': 480, 'vtc': 481, 'reflexolog': 482, 'epicerie,': 483, 'negoc': 484, 'alimentaires,': 485, 'foir': 486, 'vi': 487, 'form': 488, 'anim': 489, 'commerciales,': 490, 'lien': 491, 'sport,': 492, 'etre': 493, 'developpement,': 494, \"d'energ\": 495, 'proced': 496, 'rehabilit': 497, 'reglement': 498, 'court': 499, 'dure': 500, 'mobil': 501, 'strategie,': 502, 'commercial': 503, 'creation': 504, 'licenc': 505, 'tax': 506, 'audiovisuel': 507, 'pro': 508, 'comptabl': 509, 'peintr': 510, 'toil': 511, 'commercialis': 512, 'solair': 513, \"l'install\": 514, 'plusieur': 515, 'particuli': 516, 'compl': 517, 'post': 518, 'energ': 519, 'photovolta': 520, 'non.': 521, 'comm': 522, 'agent': 523, 'cabinet': 524, 'rapid': 525, 'tourism': 526, 'maconner': 527, 'oeuvr': 528, 'electricit': 529, 'domain': 530, 'realis': 531, 'recherch': 532, \"d'etud\": 533, 'particip': 534, \"d'interet\": 535, 'societes,': 536, \"l'alien\": 537, 'thermiqu': 538, 'climatis': 539, 'exploitation,': 540, 'indirect': 541, 'neuf': 542, 'dessin': 543, 'relat': 544, 'client': 545, 'souscript': 546, 'part': 547, 'sociales,': 548, 'actions,': 549, 'cours': 550, 'manag': 551, 'plomber': 552, 'courri': 553, 'livreur': 554, 'thermique,': 555, 'protect': 556, 'chez': 557, \"n'exced\": 558, 'ton': 559, \"l'administration,\": 560, 'restauration,': 561, 'immobiliers.': 562, 'encadr': 563, 'impress': 564, '3d': 565, 'personnalis': 566, 'sit': 567, 'internet.': 568, 'charpente,': 569, 'professionnels.': 570, 'different': 571, 'plateform': 572, 'micro': 573, 'residentiel': 574, 'pet': 575, 'bricolag': 576, 'batiment,': 577, 'exterieur': 578, 'concierger': 579, 'git': 580, 'lor': 581, 'saisonnier': 582, 'et/ou': 583, \"j'offr\": 584, 'corp': 585, 'maquillag': 586, 'ingenier': 587, 'etud': 588, 'entreprise,': 589, 'web': 590, 'publicit': 591, 'cuisin': 592, 'amenag': 593, '(cod': 594, 'ape': 595, 'valeur,': 596, 'transformation,': 597, 'amenagement,': 598, 'marchand': 599, 'homm': 600, 'main': 601, 'action': 602, 'tach': 603, 'sant': 604, 'statut': 605, \"d'entrepris\": 606, 'marketing': 607, 'digital': 608, 'contenu': 609, 'publicitair': 610, '(non': 611, 'reglementes),': 612, 'assist': 613, 'operationnel': 614, 'ligne.': 615, 'mesure,': 616, 'besoin': 617, \"d'ateli\": 618, 'manucur': 619, 'redact': 620, 'recreat': 621, 'financ': 622, 'fort': 623, 'faibl': 624, 'numer': 625, \"d'oeuvr\": 626, 'cre': 627, 'sas': 628, 'situ': 629, 'restaurant,': 630, 'emporter,': 631, 'jurid': 632, 'artist': 633, 'relev': 634, 'art': 635, 'biens,': 636, 'langu': 637, 'developpeur': 638, 'couvertur': 639, 'zinguer': 640, 'yog': 641, 'group': 642, 'domicile,': 643, 'etabl': 644, 'interieur': 645, 'rural': 646, 'urbain': 647, 'conception,': 648, 'fabrication,': 649, 'installation,': 650, 'mode,': 651, 'exclus': 652, 'maroquinerie,': 653, 'ateli': 654, 'conferent': 655, 'prestatair': 656, \"l'anim\": 657, 'design': 658, 'suiv': 659, 'lavag': 660, 'platrer': 661, 'vach': 662, 'laitier': 663, 'bar': 664, 'participations,': 665, 'caprin': 666, 'corporel': 667, 'maison': 668, \"l'organis\": 669, 'afin': 670, 'exercic': 671, \"d'activit\": 672, \"l'articl\": 673, 'cod': 674, 'repas,': 675, 'recuper': 676, 'courses,': 677, \"l'entretien\": 678, 'aupr': 679, 'an': 680, 'achat,': 681, 'natat': 682, 'eventair': 683, 'import-export': 684, 'community': 685, \"d'objet\": 686, 'recherche,': 687, \"d'accompagn\": 688, 'instrument': 689, 'financiers,': 690, 'titres,': 691, \"l'assist\": 692, 'catalogu': 693, 'peinture,': 694, \"d'even\": 695, 'mobiliers,': 696, 'coaching': 697, 'patrimoin': 698, 'method': 699, 'processus': 700, 'moin': 701, 'velo.': 702, 'projet': 703, 'transact': 704, 'decoration,': 705, 'alcoolise': 706, 'cinem': 707, 'connex': 708, 'lie': 709, 'naval': 710, 'objet,': 711, \"l'etrang\": 712, 'quelqu': 713, 'cheval': 714, 'appart': 715, 'longu': 716, 'don': 717, 'manier': 718, 'cession': 719, 'salon': 720, \"d'espac\": 721, 'annuel': 722, '6820a': 723, 'tourist': 724, 'conseils,': 725, 'secretariat,': 726, 'pouv': 727, 'rattach': 728, 'patisserie,': 729, 'sandwichs,': 730, 'fonction': 731, 'adhes': 732, 'volontair': 733, \"l'edition,\": 734, \"l'exploitation,\": 735, 'commercialisation,': 736, \"d'epicer\": 737, 'professionnels,': 738, 'renovation.': 739, 'cadr': 740, 'exerc': 741, 'chanti': 742, 'commerciaux,': 743, 'createur': 744, 'entreprises,': 745, 'chaleur': 746, 'professionnel.': 747, 'docu': 748, 'traiteur,': 749, 'confect': 750, 'particuliers,': 751, 'lieux': 752, 'participation,': 753, 'produits,': 754, 'chant': 755, 'element': 756, 'culturel': 757, 'chirurgien-dent': 758, 'permet': 759, 'bazar': 760, 'videos': 761, 'dud': 762, 'immeub': 763, 'lexploit': 764, \"d'amenag\": 765, 'plomberie,': 766, 'chauffage,': 767, 'permanent': 768, 'retouch': 769, 'architect': 770, 'telephon': 771, 'technicien': 772, \"d'apport,\": 773, \"l'amenagement,\": 774, 'constitu': 775, 'souscription,': 776, 'cession,': 777, 'vais': 778, 'fair': 779, 'but': 780, 'stylist': 781, 'coutur': 782, 'mod': 783, 'specif': 784, 'colis': 785, 'revent': 786, 'ladministr': 787, 'import': 788, 'export': 789, 'finit': 790, 'favoris': 791, 'etat': 792, 'holding': 793, 'divers,': 794, 'apport': 795, 'emporter.': 796, 'apporteur': 797, \"d'affair\": 798, 'conseiller': 799, 'immobilier,': 800, 'menuiserie,': 801, 'propos': 802, 'neuv': 803, 'continu': 804, 'neufs,': 805, 'futur': 806, \"d'achev\": 807, \"l'apport,\": 808, 'boutiqu': 809, 'remis': 810, 'control': 811, 'bovin': 812, 'psychologu': 813, 'creatric': 814, 'contenus': 815, 'coiffur': 816, 'concept': 817, 'financieres,': 818, 'analys': 819, 'strateg': 820, 'negoci': 821, 'facad': 822, 'raval': 823, 'ferronner': 824, 'espac': 825, 'vert': 826, 'assoc': 827, 'defin': 828, 'eventuel': 829, 'medecin': 830, 'special': 831, 'sportif': 832, 'traditionnel': 833, 'gestion.': 834, 'epicer': 835, 'entreprises.': 836, 'biscuit': 837, 'ambul': 838, 'masseur-kinesitherapeut': 839, \"d'action\": 840, \"d'accessoir\": 841, 'educ': 842, 'resident': 843, 'televis': 844, 'publicitaires,': 845, 'informatiques,': 846, 'motoris': 847, \"l'exercic\": 848, 'profess': 849, 'veterinair': 850, \"qu'el\": 851, 'automobile,': 852, \"d'occasion,\": 853, 'negoce,': 854, \"d'appliqu\": 855, 'secteur': 856, 'principal': 857, 'maitris': 858, \"d'affaires,\": 859, 'prendr': 860, 'cereal': 861, 'riz),': 862, 'legumin': 863, 'nettoyage,': 864, 'copropriet': 865, 'industriels,': 866, 'consult': 867, '(vtc)': 868, 'conducteur': 869, 'electricien': 870, \"d'organis\": 871, 'demontag': 872, 'alcoolisees.': 873, \"l'entrepris\": 874, 'expertis': 875, 'appareil': 876, 'gros,': 877, 'demi-gros': 878, 'cloison': 879, \"l'etranger,\": 880, 'terrestr': 881, 'communication,': 882, \"l'achat\": 883, 'terrains,': 884, 'detache': 885, 'architectur': 886, 'deux': 887, 'francais': 888, 'bricolage,': 889, 'interieur,': 890, \"d'achat,\": 891, \"d'echange,\": 892, \"d'apport\": 893, 'mixt': 894, 'personnel,': 895, 'moyens,': 896, \"d'appart\": 897, 'non,': 898, 'societe,': 899, 'management,': 900, 'informatique,': 901, 'donne': 902, 'tier': 903, 'deb': 904, 'vdi': 905, 'beaut': 906, 'tissus': 907, 'prospect': 908, 'visit': 909, 'distribution,': 910, 'carrelag': 911, 'etudes,': 912, 'mandatair': 913, 'jardinag': 914, \"d'outil\": 915, 'traduct': 916, 'concern': 917, 'mission': 918, 'divers': 919, 'foires,': 920, \"d'ingenier\": 921, 'second': 922, \"d'occasion.\": 923, 'musicale,': 924, 'electriques.': 925, 'technolog': 926, 'leur': 927, 'cosmetiques,': 928, 'voir': 929, 'terrassement,': 930, \"d'habill\": 931, 'oblig': 932, 'acheves,': 933, \"l'amen\": 934, 'consist': 935, 'quel': 936, 'vign': 937, 'taill': 938, 'interpret': 939, 'familial': 940, 'lou': 941, 'poid': 942, \"l'apport\": 943, 'mult': 944, 'mediat': 945, 'maitr': 946, 'genr': 947, 'optimis': 948, 'meti': 949, 'ling': 950, 'maison,': 951, 'formateur': 952, 'destin': 953, 'service,': 954, 'prive': 955, 'particuliers.': 956, 'plan': 957, 'ingenieur': 958, \"d'assist\": 959, 'lacquisit': 960, 'aluminium': 961, 'pvc': 962, 'reglemente': 963, 'recycl': 964, 'immobilier.': 965, 'maconnerie,': 966, 'travaill': 967, '(lmnp)': 968, 'planif': 969, 'scolair': 970, 'services,': 971, \"s'ag\": 972, \"l'objet\": 973, 'capital': 974, 'entit': 975, 'plaquist': 976, 'sanitaire,': 977, 'uber': 978, 'guid': 979, 'tour': 980, 'parfum': 981, 'naf': 982, 'intervent': 983, 'reeducation,': 984, \"l'appareillag\": 985, 'pedicur': 986, 'podologu': 987, 'mesur': 988, 'consulting': 989, 'automat': 990, 'raccord': 991, 'organisation,': 992, 'collectivit': 993, 'paysager': 994, 'sophrologu': 995, 'fantais': 996, 'graphist': 997, 'etc': 998, 'gard': 999, 'tabac,': 1000, 'depot': 1001, 'eat': 1002, 'studio': 1003, 'coach': 1004, 'generale,': 1005, 'velos': 1006, 'micro-entrepris': 1007, 'graphiqu': 1008, 'photos,': 1009, \"l'etude,\": 1010, 'chantier,': 1011, 'interven': 1012, 'sociaux.': 1013, 'coordin': 1014, 'industrielles,': 1015, 'renovation,': 1016, 'soire': 1017, 'mariages,': 1018, 'appliqu': 1019, 'carrosser': 1020, 'charg': 1021, 'vehicules,': 1022, \"d'aliment\": 1023, 'garag': 1024, \"d'entreprise,\": 1025, 'holding,': 1026, \"d'architectur\": 1027, 'par': 1028, 'viticol': 1029, 'professeur': 1030, 'vid': 1031, 'mettr': 1032, 'bazar,': 1033, \"l'import\": 1034}\n",
      "nwords: 1034\n"
     ]
    }
   ],
   "source": [
    "min_n=MIN_N\n",
    "max_n=MAX_N\n",
    "num_tokens= NUM_TOKENS\n",
    "len_word_ngrams=LEN_WORD_NGRAMS\n",
    "min_count=MIN_COUNT\n",
    "training_text=training_text\n",
    "\n",
    "if min_n < 2:\n",
    "    raise ValueError(\"`min_n` parameter must be greater than 1.\")\n",
    "if max_n > 6:\n",
    "    raise ValueError(\"`max_n` parameter must be smaller than 7.\")\n",
    "\n",
    "word_counts = {}\n",
    "for sentence in training_text:\n",
    "    for word in sentence.split(\" \"):\n",
    "        word_counts[word] = word_counts.setdefault(word, 0) + 1\n",
    "\n",
    "\n",
    "word_id_mapping = {}\n",
    "i = 1\n",
    "for word, counts in word_counts.items():\n",
    "    if word_counts[word] >= min_count:\n",
    "        word_id_mapping[word] = i\n",
    "        i += 1\n",
    "nwords = len(word_id_mapping)\n",
    "\n",
    "print(f\"word_counts: {word_counts}\")\n",
    "print(f\"word_id_mapping: {word_id_mapping}\")\n",
    "print(f\"nwords: {nwords}\")"
   ]
  },
  {
   "cell_type": "code",
   "execution_count": 22,
   "metadata": {},
   "outputs": [
    {
     "data": {
      "text/plain": [
       "<torchFastText.datasets.tokenizer.NGramTokenizer at 0x7fad9b0d3b90>"
      ]
     },
     "execution_count": 22,
     "metadata": {},
     "output_type": "execute_result"
    }
   ],
   "source": [
    "tokenizer = NGramTokenizer(\n",
    "    min_n=MIN_N, \n",
    "    max_n=MAX_N, \n",
    "    num_tokens= NUM_TOKENS,\n",
    "    len_word_ngrams=LEN_WORD_NGRAMS, \n",
    "    min_count=MIN_COUNT, \n",
    "    training_text=training_text\n",
    "    )\n",
    "tokenizer"
   ]
  },
  {
   "cell_type": "code",
   "execution_count": 41,
   "metadata": {},
   "outputs": [
    {
     "name": "stdout",
     "output_type": "stream",
     "text": [
      "==== indices\n",
      "\n",
      "tensor([17781, 34827, 45506, 33418, 87582, 60521, 64421, 77222, 18351, 24293,\n",
      "        67859, 41713, 58190, 91385, 75698, 24004,  5488, 86293, 38766,  6075,\n",
      "        11945, 42818, 29025,  7542, 40020, 31010, 63130, 77394, 77489, 65269,\n",
      "        17781, 34827, 45506, 67374, 27304, 24293, 67859, 65741, 74712, 86293,\n",
      "        26794, 75377, 71248, 13540,     0, 37371, 93475, 65582])\n",
      "\n",
      "==== indices length\n",
      "\n",
      "48\n",
      "\n",
      "==== id_to_token\n",
      "\n",
      "{17781: '<ca', 34827: 'car', 45506: 'arr', 33418: 'rre', 87582: 'rel', 60521: 'ela', 64421: 'lag', 77222: 'age', 18351: 'ge>', 24293: '<car', 67859: 'carr', 41713: 'arre', 58190: 'rrel', 91385: 'rela', 75698: 'elag', 24004: 'lage', 5488: 'age>', 86293: '<carr', 38766: 'carre', 6075: 'arrel', 11945: 'rrela', 42818: 'relag', 29025: 'elage', 7542: 'lage>', 40020: '<carre', 31010: 'carrel', 63130: 'arrela', 77394: 'rrelag', 77489: 'relage', 65269: 'elage>', 67374: 'rré', 27304: 'ré>', 65741: 'arré', 74712: 'rré>', 26794: 'carré', 75377: 'arré>', 71248: '<carré', 13540: 'carré>', 0: '</s>', 37371: 'carrelage carré', 93475: 'carré </s>', 65582: 'carrelage carré </s>'}\n",
      "\n",
      "==== id_to_token length\n",
      "\n",
      "42\n",
      "\n",
      "==== all_tokens_id\n",
      "\n",
      "{'<ca': 17781, 'car': 34827, 'arr': 45506, 'rre': 33418, 'rel': 87582, 'ela': 60521, 'lag': 64421, 'age': 77222, 'ge>': 18351, '<car': 24293, 'carr': 67859, 'arre': 41713, 'rrel': 58190, 'rela': 91385, 'elag': 75698, 'lage': 24004, 'age>': 5488, '<carr': 86293, 'carre': 38766, 'arrel': 6075, 'rrela': 11945, 'relag': 42818, 'elage': 29025, 'lage>': 7542, '<carre': 40020, 'carrel': 31010, 'arrela': 63130, 'rrelag': 77394, 'relage': 77489, 'elage>': 65269, 'rré': 67374, 'ré>': 27304, 'arré': 65741, 'rré>': 74712, 'carré': 26794, 'arré>': 75377, '<carré': 71248, 'carré>': 13540, '</s>': 0, 'carrelage carré': 37371, 'carré </s>': 93475, 'carrelage carré </s>': 65582}\n",
      "\n",
      "==== all_tokens_id length\n",
      "\n",
      "42\n"
     ]
    }
   ],
   "source": [
    "indices, id_to_token, all_tokens_id = tokenizer.indices_matrix(\"carrelage carré\")\n",
    "print(\"==== indices\\n\")\n",
    "print(indices)\n",
    "print(\"\\n==== indices length\\n\")\n",
    "print(len(indices))\n",
    "print(\"\\n==== id_to_token\\n\")\n",
    "print(id_to_token)\n",
    "print(\"\\n==== id_to_token length\\n\")\n",
    "print(len(id_to_token))\n",
    "print(\"\\n==== all_tokens_id\\n\")\n",
    "print(all_tokens_id)\n",
    "print(\"\\n==== all_tokens_id length\\n\")\n",
    "print(len(all_tokens_id))"
   ]
  },
  {
   "cell_type": "code",
   "execution_count": 52,
   "metadata": {},
   "outputs": [
    {
     "name": "stdout",
     "output_type": "stream",
     "text": [
      "tokenized_text_tokens:\n",
      "[['<aa', 'aa>', '<aa>', '</s>', 'aa </s>'], ['<bb', 'bbb', 'bb>', '<bbb', 'bbb>', '<bbb>', '<aa', 'aa>', '<aa>', '</s>', 'bbb aa', 'aa </s>', 'bbb aa </s>']]\n",
      "\n",
      "tokenized_text:\n",
      "[tensor([43399, 82997, 54531,     0, 14832]), tensor([81541, 53519, 38283, 98789, 95499, 46537, 43399, 82997, 54531,     0,\n",
      "        32296, 14832, 72845])]\n",
      "\n",
      "id_to_token_dicts:\n",
      "[{43399: '<aa', 82997: 'aa>', 54531: '<aa>', 0: '</s>', 14832: 'aa </s>'}, {81541: '<bb', 53519: 'bbb', 38283: 'bb>', 98789: '<bbb', 95499: 'bbb>', 46537: '<bbb>', 43399: '<aa', 82997: 'aa>', 54531: '<aa>', 0: '</s>', 32296: 'bbb aa', 14832: 'aa </s>', 72845: 'bbb aa </s>'}]\n",
      "\n",
      "token_to_id_dicts:\n",
      "[{'<aa': 43399, 'aa>': 82997, '<aa>': 54531, '</s>': 0, 'aa </s>': 14832}, {'<bb': 81541, 'bbb': 53519, 'bb>': 38283, '<bbb': 98789, 'bbb>': 95499, '<bbb>': 46537, '<aa': 43399, 'aa>': 82997, '<aa>': 54531, '</s>': 0, 'bbb aa': 32296, 'aa </s>': 14832, 'bbb aa </s>': 72845}]\n",
      "5\n",
      "5\n",
      "5\n",
      "5\n"
     ]
    }
   ],
   "source": [
    "tokenized_text_tokens, tokenized_text, id_to_token_dicts, token_to_id_dicts = tokenizer.tokenize(text=[\"aa\", \"bbb aa\"], text_tokens=True, preprocess=False)\n",
    "print('tokenized_text_tokens:')\n",
    "print(tokenized_text_tokens)\n",
    "print('\\ntokenized_text:')\n",
    "print(tokenized_text)\n",
    "print('\\nid_to_token_dicts:')\n",
    "print(id_to_token_dicts)\n",
    "print('\\ntoken_to_id_dicts:')\n",
    "print(token_to_id_dicts)\n",
    "\n",
    "print(len(tokenized_text_tokens[0]))\n",
    "print(len(tokenized_text[0]))\n",
    "print(len(id_to_token_dicts[0]))\n",
    "print(len(token_to_id_dicts[0]))"
   ]
  },
  {
   "cell_type": "code",
   "execution_count": 34,
   "metadata": {},
   "outputs": [],
   "source": [
    "text = [\"aa\", \"bbb\"]\n",
    "text_tokens=True\n",
    "preprocess=False\n",
    "\n",
    "tokenized_text = []\n",
    "id_to_token_dicts = []\n",
    "token_to_id_dicts = []\n",
    "\n",
    "sentence = text[0]\n",
    "all_ind, id_to_token, token_to_id = tokenizer.indices_matrix(sentence)\n",
    "tokenized_text.append(all_ind)\n",
    "id_to_token_dicts.append(id_to_token)\n",
    "token_to_id_dicts.append(token_to_id)\n",
    "\n",
    "sentence = text[1]\n",
    "all_ind, id_to_token, token_to_id = tokenizer.indices_matrix(sentence)\n",
    "tokenized_text.append(all_ind)\n",
    "id_to_token_dicts.append(id_to_token)\n",
    "token_to_id_dicts.append(token_to_id)\n"
   ]
  },
  {
   "cell_type": "code",
   "execution_count": 35,
   "metadata": {},
   "outputs": [
    {
     "name": "stdout",
     "output_type": "stream",
     "text": [
      "[tensor([43399, 82997, 54531,     0, 14832]), tensor([81541, 53519, 38283, 98789, 95499, 46537,     0, 33450])]\n",
      "[{43399: '<aa', 82997: 'aa>', 54531: '<aa>', 0: '</s>', 14832: 'aa </s>'}, {81541: '<bb', 53519: 'bbb', 38283: 'bb>', 98789: '<bbb', 95499: 'bbb>', 46537: '<bbb>', 0: '</s>', 33450: 'bbb </s>'}]\n",
      "[{'<aa': 43399, 'aa>': 82997, '<aa>': 54531, '</s>': 0, 'aa </s>': 14832}, {'<bb': 81541, 'bbb': 53519, 'bb>': 38283, '<bbb': 98789, 'bbb>': 95499, '<bbb>': 46537, '</s>': 0, 'bbb </s>': 33450}]\n"
     ]
    }
   ],
   "source": [
    "print(tokenized_text)\n",
    "print(id_to_token_dicts)\n",
    "print(token_to_id_dicts)"
   ]
  },
  {
   "cell_type": "code",
   "execution_count": 39,
   "metadata": {},
   "outputs": [
    {
     "name": "stdout",
     "output_type": "stream",
     "text": [
      "tensor([43399, 82997, 54531,     0, 14832])\n"
     ]
    },
    {
     "data": {
      "text/plain": [
       "'<aa'"
      ]
     },
     "execution_count": 39,
     "metadata": {},
     "output_type": "execute_result"
    }
   ],
   "source": [
    "padding_index=2009603\n",
    "end_of_string_index=0\n",
    "i=0\n",
    "tokenized_sentence = tokenized_text[0]\n",
    "print(tokenized_sentence)\n",
    "token_id = tokenized_sentence[0]\n",
    "token_id.item()\n",
    "id_to_token_dicts[i][token_id.item()]"
   ]
  },
  {
   "cell_type": "code",
   "execution_count": null,
   "metadata": {},
   "outputs": [],
   "source": [
    "\n",
    " [\n",
    "            id_to_token_dicts[i][token_id.item()]\n",
    "            for token_id in tokenized_sentence\n",
    "            if token_id.item() not in {padding_index}\n",
    "        ]\n",
    "        for i, tokenized_sentence in enumerate(tokenized_text)\n"
   ]
  },
  {
   "cell_type": "code",
   "execution_count": null,
   "metadata": {},
   "outputs": [],
   "source": [
    "\n",
    "for sentence in text:\n",
    "    all_ind, id_to_token, token_to_id = self.indices_matrix(\n",
    "        sentence\n",
    "    )  # tokenize and convert to token indices\n",
    "    tokenized_text.append(all_ind)\n",
    "    id_to_token_dicts.append(id_to_token)\n",
    "    token_to_id_dicts.append(token_to_id)\n",
    "\n",
    "if text_tokens:\n",
    "    tokenized_text_tokens = tokenized_text_in_tokens(tokenized_text, id_to_token_dicts)\n",
    "    return tokenized_text_tokens, tokenized_text, id_to_token_dicts, token_to_id_dicts\n",
    "else:\n",
    "    return tokenized_text, id_to_token_dicts, token_to_id_dicts"
   ]
  },
  {
   "cell_type": "code",
   "execution_count": null,
   "metadata": {},
   "outputs": [],
   "source": [
    "\n",
    "def tokenized_text_in_tokens(\n",
    "    tokenized_text, id_to_token_dicts, padding_index=2009603, end_of_string_index=0\n",
    "):\n",
    "    return [\n",
    "        [\n",
    "            id_to_token_dicts[i][token_id.item()]\n",
    "            for token_id in tokenized_sentence\n",
    "            if token_id.item() not in {padding_index}\n",
    "        ]\n",
    "        for i, tokenized_sentence in enumerate(tokenized_text)\n",
    "    ]"
   ]
  },
  {
   "cell_type": "code",
   "execution_count": 42,
   "metadata": {},
   "outputs": [
    {
     "name": "stdout",
     "output_type": "stream",
     "text": [
      "{1: '!', 2: 'monde'}\n"
     ]
    }
   ],
   "source": [
    "all_tokens_id = {'bonjour': 1, 'monde': 2, '!': 1}\n",
    "\n",
    "# Inversion du dictionnaire : IDs -> tokens\n",
    "id_to_token = {v: k for k, v in all_tokens_id.items()}\n",
    "\n",
    "print(id_to_token)"
   ]
  }
 ],
 "metadata": {
  "kernelspec": {
   "display_name": "base",
   "language": "python",
   "name": "python3"
  },
  "language_info": {
   "codemirror_mode": {
    "name": "ipython",
    "version": 3
   },
   "file_extension": ".py",
   "mimetype": "text/x-python",
   "name": "python",
   "nbconvert_exporter": "python",
   "pygments_lexer": "ipython3",
   "version": "3.12.7"
  }
 },
 "nbformat": 4,
 "nbformat_minor": 2
}
